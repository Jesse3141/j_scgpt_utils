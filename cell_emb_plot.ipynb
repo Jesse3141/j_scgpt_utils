{
 "cells": [
  {
   "cell_type": "code",
   "execution_count": 2,
   "metadata": {
    "is_executing": true
   },
   "outputs": [],
   "source": [
    "#create jupyter section header for navigation\n",
    "\n"
   ]
  },
  {
   "cell_type": "code",
   "execution_count": 2,
   "outputs": [],
   "source": [
    "import torch\n"
   ],
   "metadata": {
    "collapsed": false
   }
  },
  {
   "cell_type": "markdown",
   "source": [],
   "metadata": {
    "collapsed": false
   }
  },
  {
   "cell_type": "markdown",
   "metadata": {},
   "source": [
    "# import"
   ]
  },
  {
   "cell_type": "code",
   "execution_count": 3,
   "metadata": {
    "collapsed": true,
    "ExecuteTime": {
     "end_time": "2023-12-04T15:23:22.304186711Z",
     "start_time": "2023-12-04T15:23:22.273980278Z"
    }
   },
   "outputs": [],
   "source": [
    "#import\n",
    "import json\n",
    "import os\n",
    "from pathlib import Path\n",
    "from typing import Optional, Union\n",
    "from sklearn.metrics import mutual_info_score\n",
    "\n",
    "import numpy as np\n",
    "import scanpy as sc\n",
    "import pandas as pd\n",
    "import torch\n",
    "import short_utils\n",
    "\n",
    "from anndata import AnnData\n",
    "from torch.utils.data import DataLoader, SequentialSampler\n",
    "from tqdm import tqdm\n",
    "\n",
    "\n",
    "from scgpt import logger\n",
    "from scgpt.data_collator import DataCollator\n",
    "from scgpt.model import TransformerModel\n",
    "from scgpt.tokenizer import GeneVocab\n",
    "from scgpt.utils import load_pretrained\n",
    "\n",
    "\n",
    "PathLike = Union[str, os.PathLike]"
   ]
  },
  {
   "cell_type": "markdown",
   "metadata": {},
   "source": [
    "# batch embed func"
   ]
  },
  {
   "cell_type": "code",
   "execution_count": 3,
   "metadata": {
    "collapsed": false,
    "ExecuteTime": {
     "end_time": "2023-12-03T14:14:41.527010020Z",
     "start_time": "2023-12-03T14:14:41.494945479Z"
    }
   },
   "outputs": [],
   "source": [
    "\n",
    "def get_batch_cell_embeddings(\n",
    "    adata,\n",
    "    cell_embedding_mode: str = \"cls\",\n",
    "    model=None,\n",
    "    vocab=None,\n",
    "    max_length=1200,\n",
    "    batch_size=64,\n",
    "    model_configs=None,\n",
    "    gene_ids=None,\n",
    "    use_batch_labels=False,\n",
    ") -> np.ndarray:\n",
    "    \"\"\"\n",
    "    Get the cell embeddings for a batch of cells.\n",
    "\n",
    "    Args:\n",
    "        adata (AnnData): The AnnData object.\n",
    "        cell_embedding_mode (str): The mode to get the cell embeddings. Defaults to \"cls\".\n",
    "        model (TransformerModel, optional): The model. Defaults to None.\n",
    "        vocab (GeneVocab, optional): The vocabulary. Defaults to None.\n",
    "        max_length (int): The maximum length of the input sequence. Defaults to 1200.\n",
    "        batch_size (int): The batch size for inference. Defaults to 64.\n",
    "        model_configs (dict, optional): The model configurations. Defaults to None.\n",
    "        gene_ids (np.ndarray, optional): The gene vocabulary ids. Defaults to None.\n",
    "        use_batch_labels (bool): Whether to use batch labels. Defaults to False.\n",
    "\n",
    "    Returns:\n",
    "        np.ndarray: The cell embeddings.\n",
    "    \"\"\"\n",
    "\n",
    "    count_matrix = adata.X\n",
    "    count_matrix = (\n",
    "        count_matrix if isinstance(count_matrix, np.ndarray) else count_matrix.A\n",
    "    )\n",
    "    print(\"loaded count matrix\")\n",
    "\n",
    "    # gene vocabulary ids\n",
    "    if gene_ids is None:\n",
    "        gene_ids = np.array(adata.var[\"id_in_vocab\"])\n",
    "        assert np.all(gene_ids >= 0)\n",
    "\n",
    "    if use_batch_labels:\n",
    "        batch_ids = np.array(adata.obs[\"batch_id\"].tolist())\n",
    "\n",
    "    class Dataset(torch.utils.data.Dataset):\n",
    "        def __init__(self, count_matrix, gene_ids, batch_ids=None):\n",
    "            self.count_matrix = count_matrix\n",
    "            self.gene_ids = gene_ids\n",
    "            self.batch_ids = batch_ids\n",
    "\n",
    "        def __len__(self):\n",
    "            return len(self.count_matrix)\n",
    "\n",
    "        def __getitem__(self, idx):\n",
    "            row = self.count_matrix[idx]\n",
    "            nonzero_idx = np.nonzero(row)[0]\n",
    "            values = row[nonzero_idx]\n",
    "            genes = self.gene_ids[nonzero_idx]\n",
    "            # append <cls> token at the beginning\n",
    "            genes = np.insert(genes, 0, vocab[\"<cls>\"])\n",
    "            values = np.insert(values, 0, model_configs[\"pad_value\"])\n",
    "            genes = torch.from_numpy(genes).long()\n",
    "            values = torch.from_numpy(values)\n",
    "            output = {\n",
    "                \"id\": idx,\n",
    "                \"genes\": genes,\n",
    "                \"expressions\": values,\n",
    "            }\n",
    "            if self.batch_ids is not None:\n",
    "                output[\"batch_labels\"] = self.batch_ids[idx]\n",
    "            return output\n",
    "\n",
    "    if cell_embedding_mode == \"cls\":\n",
    "        dataset = Dataset(\n",
    "            count_matrix, gene_ids, batch_ids if use_batch_labels else None\n",
    "        )\n",
    "        print(\"created dataset\")\n",
    "        collator = DataCollator(\n",
    "            do_padding=True,\n",
    "            pad_token_id=vocab[model_configs[\"pad_token\"]],\n",
    "            pad_value=model_configs[\"pad_value\"],\n",
    "            do_mlm=False,\n",
    "            do_binning=True,\n",
    "            max_length=max_length,\n",
    "            sampling=True,\n",
    "            keep_first_n_tokens=1,\n",
    "        )\n",
    "        print(\"created collator\")\n",
    "\n",
    "        data_loader = DataLoader(\n",
    "            dataset,\n",
    "            batch_size=batch_size,\n",
    "            sampler=SequentialSampler(dataset),\n",
    "            collate_fn=collator,\n",
    "            drop_last=False,\n",
    "            num_workers=min(len(os.sched_getaffinity(0)), batch_size),\n",
    "            pin_memory=True,\n",
    "        )\n",
    "        print(\"created data loader\")\n",
    "\n",
    "        device = next(model.parameters()).device\n",
    "        print(\"created device\")\n",
    "        cell_embeddings = np.zeros(\n",
    "            (len(dataset), model_configs[\"embsize\"]), dtype=np.float32\n",
    "        )\n",
    "        print(\"created intial cell embeddings\")\n",
    "        with torch.no_grad(), torch.cuda.amp.autocast(enabled=True):\n",
    "            count = 0\n",
    "            for data_dict in tqdm(data_loader, desc=\"Embedding cells\"):\n",
    "                input_gene_ids = data_dict[\"gene\"].to(device)\n",
    "                src_key_padding_mask = input_gene_ids.eq(\n",
    "                    vocab[model_configs[\"pad_token\"]]\n",
    "                )\n",
    "                print(\" input gene ids to device\")\n",
    "                embeddings = model._encode(\n",
    "                    input_gene_ids,\n",
    "                    data_dict[\"expr\"].to(device),\n",
    "                    src_key_padding_mask=src_key_padding_mask,\n",
    "                    batch_labels=data_dict[\"batch_labels\"].to(device)\n",
    "                    if use_batch_labels\n",
    "                    else None,\n",
    "                )\n",
    "                print(\"encoded embeddings\")\n",
    "\n",
    "                embeddings = embeddings[:, 0, :]  # get the <cls> position embedding\n",
    "                embeddings = embeddings.cpu().numpy()\n",
    "                cell_embeddings[count : count + len(embeddings)] = embeddings\n",
    "                count += len(embeddings)\n",
    "        cell_embeddings = cell_embeddings / np.linalg.norm(\n",
    "            cell_embeddings, axis=1, keepdims=True\n",
    "        )\n",
    "    else:\n",
    "        raise ValueError(f\"Unknown cell embedding mode: {cell_embedding_mode}\")\n",
    "    return cell_embeddings\n",
    "\n"
   ]
  },
  {
   "cell_type": "code",
   "execution_count": 4,
   "metadata": {},
   "outputs": [],
   "source": []
  },
  {
   "cell_type": "markdown",
   "metadata": {},
   "source": [
    "# embedd all data func"
   ]
  },
  {
   "cell_type": "code",
   "execution_count": 5,
   "metadata": {
    "collapsed": false,
    "ExecuteTime": {
     "end_time": "2023-12-03T14:14:44.544700800Z",
     "start_time": "2023-12-03T14:14:44.501571241Z"
    }
   },
   "outputs": [],
   "source": [
    "\n",
    "def embed_data(\n",
    "    adata_or_file: Union[AnnData, PathLike],\n",
    "    model_dir: PathLike,\n",
    "    cell_type_key: str = \"cell_type\",\n",
    "    gene_col: str = \"feature_name\",\n",
    "    max_length=1200,\n",
    "    batch_size=64,\n",
    "    obs_to_save: Optional[list] = None,\n",
    "    device: Union[str, torch.device] = \"cuda\",\n",
    "    use_fast_transformer: bool = True,\n",
    "    return_new_adata: bool = False,\n",
    ") -> AnnData:\n",
    "    \"\"\"\n",
    "    Preprocess anndata and embed the data using the model.\n",
    "\n",
    "    Args:\n",
    "        adata_or_file (Union[AnnData, PathLike]): The AnnData object or the path to the\n",
    "            AnnData object.\n",
    "        model_dir (PathLike): The path to the model directory.\n",
    "        cell_type_key (str): The key in adata.obs that contains the cell type labels.\n",
    "            Defaults to \"cell_type\".\n",
    "        gene_col (str): The column in adata.var that contains the gene names.\n",
    "        max_length (int): The maximum length of the input sequence. Defaults to 1200.\n",
    "        batch_size (int): The batch size for inference. Defaults to 64.\n",
    "        obs_to_save (Optional[list]): The list of obs columns to save in the output adata.\n",
    "            If None, will only keep the column of :attr:`cell_type_key`. Defaults to None.\n",
    "        device (Union[str, torch.device]): The device to use. Defaults to \"cuda\".\n",
    "        use_fast_transformer (bool): Whether to use flash-attn. Defaults to True.\n",
    "        return_new_adata (bool): Whether to return a new AnnData object. If False, will\n",
    "            add the cell embeddings to a new :attr:`adata.obsm` with key \"X_scGPT\".\n",
    "\n",
    "    Returns:\n",
    "        AnnData: The AnnData object with the cell embeddings.\n",
    "    \"\"\"\n",
    "    if isinstance(adata_or_file, AnnData):\n",
    "        adata = adata_or_file\n",
    "    else:\n",
    "        adata = sc.read_h5ad(adata_or_file)\n",
    "\n",
    "    # verify cell type key and gene col\n",
    "    assert cell_type_key in adata.obs\n",
    "    if gene_col == \"index\":\n",
    "        adata.var[\"index\"] = adata.var.index\n",
    "    else:\n",
    "        assert gene_col in adata.var\n",
    "\n",
    "    if device == \"cuda\":\n",
    "        device = torch.device(\"cuda\" if torch.cuda.is_available() else \"cpu\")\n",
    "        if not torch.cuda.is_available():\n",
    "            print(\"WARNING: CUDA is not available. Using CPU instead.\")\n",
    "\n",
    "    # LOAD MODEL\n",
    "    model_dir = Path(model_dir)\n",
    "    vocab_file = model_dir / \"vocab.json\"\n",
    "    model_config_file = model_dir / \"args.json\"\n",
    "    model_file = model_dir / \"best_model.pt\"\n",
    "    pad_token = \"<pad>\"\n",
    "    special_tokens = [pad_token, \"<cls>\", \"<eoc>\"]\n",
    "\n",
    "    # vocabulary\n",
    "    vocab = GeneVocab.from_file(vocab_file)\n",
    "    for s in special_tokens:\n",
    "        if s not in vocab:\n",
    "            vocab.append_token(s)\n",
    "    adata.var[\"id_in_vocab\"] = [\n",
    "        vocab[gene] if gene in vocab else -1 for gene in adata.var[gene_col]\n",
    "    ]\n",
    "    gene_ids_in_vocab = np.array(adata.var[\"id_in_vocab\"])\n",
    "    logger.info(\n",
    "        f\"match {np.sum(gene_ids_in_vocab >= 0)}/{len(gene_ids_in_vocab)} genes \"\n",
    "        f\"in vocabulary of size {len(vocab)}.\"\n",
    "    )\n",
    "    adata = adata[:, adata.var[\"id_in_vocab\"] >= 0]\n",
    "\n",
    "    with open(model_config_file, \"r\") as f:\n",
    "        model_configs = json.load(f)\n",
    "\n",
    "    # Binning will be applied after tokenization. A possible way to do is to use the unified way of binning in the data collator.\n",
    "\n",
    "    vocab.set_default_index(vocab[\"<pad>\"])\n",
    "    genes = adata.var[gene_col].tolist()\n",
    "    gene_ids = np.array(vocab(genes), dtype=int)\n",
    "\n",
    "    # all_counts = adata.layers[\"counts\"]\n",
    "    # num_of_non_zero_genes = [\n",
    "    #     np.count_nonzero(all_counts[i]) for i in range(all_counts.shape[0])\n",
    "    # ]\n",
    "    # max_length = min(max_length, np.max(num_of_non_zero_genes) + 1)\n",
    "\n",
    "    model = TransformerModel(\n",
    "        ntoken=len(vocab),\n",
    "        d_model=model_configs[\"embsize\"],\n",
    "        nhead=model_configs[\"nheads\"],\n",
    "        d_hid=model_configs[\"d_hid\"],\n",
    "        nlayers=model_configs[\"nlayers\"],\n",
    "        nlayers_cls=model_configs[\"n_layers_cls\"],\n",
    "        n_cls=1,\n",
    "        vocab=vocab,\n",
    "        dropout=model_configs[\"dropout\"],\n",
    "        pad_token=model_configs[\"pad_token\"],\n",
    "        pad_value=model_configs[\"pad_value\"],\n",
    "        do_mvc=True,\n",
    "        do_dab=False,\n",
    "        use_batch_labels=False,\n",
    "        domain_spec_batchnorm=False,\n",
    "        explicit_zero_prob=False,\n",
    "        use_fast_transformer=use_fast_transformer,\n",
    "        fast_transformer_backend=\"flash\",\n",
    "        pre_norm=False,\n",
    "    )\n",
    "    load_pretrained(model, torch.load(model_file), verbose=False)\n",
    "    model.to(device)\n",
    "    model.eval()\n",
    "    print(\"loaded model\")\n",
    "\n",
    "    # get cell embeddings\n",
    "    cell_embeddings = get_batch_cell_embeddings(\n",
    "        adata,\n",
    "        cell_embedding_mode=\"cls\",\n",
    "        model=model,\n",
    "        vocab=vocab,\n",
    "        max_length=max_length,\n",
    "        batch_size=batch_size,\n",
    "        model_configs=model_configs,\n",
    "        gene_ids=gene_ids,\n",
    "        use_batch_labels=False,\n",
    "    )\n",
    "    print(\"got cell embeddings\")\n",
    "\n",
    "    if return_new_adata:\n",
    "        obs_to_save = [cell_type_key] if obs_to_save is None else obs_to_save\n",
    "        obs_df = adata.obs[obs_to_save]\n",
    "        return sc.AnnData(X=cell_embeddings, obs=obs_df, dtype=\"float32\")\n",
    "\n",
    "    adata.obsm[\"X_scGPT\"] = cell_embeddings\n",
    "    return adata"
   ]
  },
  {
   "cell_type": "markdown",
   "metadata": {},
   "source": [
    "# run embedding"
   ]
  },
  {
   "cell_type": "code",
   "execution_count": 6,
   "outputs": [
    {
     "ename": "NameError",
     "evalue": "name 'os' is not defined",
     "output_type": "error",
     "traceback": [
      "\u001B[0;31m---------------------------------------------------------------------------\u001B[0m",
      "\u001B[0;31mNameError\u001B[0m                                 Traceback (most recent call last)",
      "Cell \u001B[0;32mIn[6], line 2\u001B[0m\n\u001B[1;32m      1\u001B[0m \u001B[38;5;66;03m#print working directory:\u001B[39;00m\n\u001B[0;32m----> 2\u001B[0m \u001B[38;5;28mprint\u001B[39m(\u001B[43mos\u001B[49m\u001B[38;5;241m.\u001B[39mgetcwd())\n\u001B[1;32m      3\u001B[0m \u001B[38;5;66;03m#print working dir contents:\u001B[39;00m\n\u001B[1;32m      4\u001B[0m \u001B[38;5;28mprint\u001B[39m(os\u001B[38;5;241m.\u001B[39mlistdir(os\u001B[38;5;241m.\u001B[39mgetcwd()))\n",
      "\u001B[0;31mNameError\u001B[0m: name 'os' is not defined"
     ]
    }
   ],
   "source": [
    "#check cuda available\n",
    "torch.cuda.is_available()"
   ],
   "metadata": {
    "collapsed": false,
    "ExecuteTime": {
     "end_time": "2023-12-03T14:15:49.703380194Z",
     "start_time": "2023-12-03T14:15:49.654687313Z"
    }
   }
  },
  {
   "cell_type": "code",
   "execution_count": null,
   "metadata": {
    "ExecuteTime": {
     "end_time": "2023-12-03T14:14:47.423559835Z",
     "start_time": "2023-12-03T14:14:47.410553327Z"
    }
   },
   "outputs": [],
   "source": [
    "#print working directory:\n",
    "print(os.getcwd())\n",
    "#print working dir contents:\n",
    "print(os.listdir(os.getcwd()))\n"
   ]
  },
  {
   "cell_type": "code",
   "execution_count": null,
   "metadata": {},
   "outputs": [],
   "source": [
    "#set working directory:\n",
    "#os.chdir(\"/workspace\")"
   ]
  },
  {
   "cell_type": "code",
   "execution_count": null,
   "outputs": [],
   "source": [
    "base_dir = short_utils.get_base_dir()\n",
    "base_dir\n"
   ],
   "metadata": {
    "collapsed": false,
    "ExecuteTime": {
     "end_time": "2023-12-03T14:15:02.262319948Z",
     "start_time": "2023-12-03T14:15:02.217895617Z"
    }
   }
  },
  {
   "cell_type": "code",
   "execution_count": null,
   "outputs": [],
   "source": [],
   "metadata": {
    "collapsed": false
   }
  },
  {
   "cell_type": "code",
   "execution_count": 38,
   "metadata": {
    "collapsed": false,
    "ExecuteTime": {
     "end_time": "2023-12-04T12:30:49.485823402Z",
     "start_time": "2023-12-04T12:30:49.439347914Z"
    }
   },
   "outputs": [],
   "source": [
    "# load data\n",
    "full_adata = sc.read_h5ad(base_dir / 'training_data/cell_lines/cell_line_states/hypoxia_acidosis_PMID_19057672/hypoxia_acidosis_PMID_19057672.h5ad')\n",
    "# load and examine the data at data/brca_scrna_epithelial.h5ad\n",
    "# obs_names a list of 33K ensembl gene ids.\n",
    "# var_names is an index of 240K sample names r1...hbac...\n",
    "# need to conv obs_names to hgnc names\n"
   ]
  },
  {
   "cell_type": "code",
   "execution_count": null,
   "metadata": {},
   "outputs": [],
   "source": [
    "#check size of data\n",
    "print(full_adata.X.nnz)"
   ]
  },
  {
   "cell_type": "code",
   "execution_count": null,
   "outputs": [],
   "source": [
    "all_genes_adata = sc.read_h5ad('data/tcga_brca_erbb2_oncosig_all_genes.h5ad')"
   ],
   "metadata": {
    "collapsed": false
   }
  },
  {
   "cell_type": "code",
   "execution_count": 9,
   "outputs": [],
   "source": [
    "#truncate the data to 1000 cells\n",
    "my_adata = full_adata"
   ],
   "metadata": {
    "collapsed": false,
    "ExecuteTime": {
     "end_time": "2023-12-04T12:30:51.771216979Z",
     "start_time": "2023-12-04T12:30:51.756249888Z"
    }
   }
  },
  {
   "cell_type": "code",
   "execution_count": 20,
   "outputs": [
    {
     "data": {
      "text/plain": "gene_hgnc    0\nGene ID      0\ndtype: int64"
     },
     "execution_count": 20,
     "metadata": {},
     "output_type": "execute_result"
    }
   ],
   "source": [
    "#deal with na\n",
    "var = my_adata.var\n",
    "var.isna().sum()"
   ],
   "metadata": {
    "collapsed": false
   }
  },
  {
   "cell_type": "code",
   "execution_count": 19,
   "outputs": [],
   "source": [
    "#replace nan with 'unknwo'\n",
    "\n",
    "col_name = 'gene_hgnc'\n",
    "\n",
    "# Add 'unknown' to the categories\n",
    "if 'unknown' not in my_adata.var[col_name].cat.categories:\n",
    "    my_adata.var[col_name] = my_adata.var[col_name].cat.add_categories('unknown')\n",
    "\n",
    "# Now you can fill NaN values with 'unknown'\n",
    "my_adata.var[col_name] = my_adata.var[col_name].fillna('unknown')\n"
   ],
   "metadata": {
    "collapsed": false
   }
  },
  {
   "cell_type": "code",
   "execution_count": null,
   "outputs": [],
   "source": [],
   "metadata": {
    "collapsed": false
   }
  },
  {
   "cell_type": "code",
   "execution_count": 25,
   "outputs": [],
   "source": [
    "# prep args for embed:\n",
    "\n",
    "#if plot by label, set the cell type arg to the cool with label\n",
    "\n",
    "embed_args = {'adata_or_file': my_adata,\n",
    "              'model_dir': Path(base_dir / 'scgpt/models/scGPT_pancancer'),\n",
    "              'cell_type_key': \"cell_type\",\n",
    "                'gene_col': \"gene_hgnc\",\n",
    "              'max_length' : 20000,\n",
    "              'batch_size' : 1,\n",
    "              'obs_to_save':  None,\n",
    "              'device':  \"cuda\",\n",
    "              'use_fast_transformer': False,\n",
    "              'return_new_adata':  True,\n",
    "              }"
   ],
   "metadata": {
    "collapsed": false,
    "ExecuteTime": {
     "end_time": "2023-12-03T14:16:48.973278246Z",
     "start_time": "2023-12-03T14:16:48.928256256Z"
    }
   }
  },
  {
   "cell_type": "code",
   "execution_count": 24,
   "outputs": [],
   "source": [
    "torch.cuda.empty_cache()"
   ],
   "metadata": {
    "collapsed": false,
    "ExecuteTime": {
     "end_time": "2023-12-03T14:16:32.713298146Z",
     "start_time": "2023-12-03T14:16:32.697391556Z"
    }
   }
  },
  {
   "cell_type": "code",
   "execution_count": 26,
   "outputs": [
    {
     "name": "stdout",
     "output_type": "stream",
     "text": [
      "scGPT - INFO - match 19094/21057 genes in vocabulary of size 60697.\n",
      "loaded model\n",
      "loaded count matrix\n",
      "created dataset\n",
      "created collator\n",
      "created data loader\n",
      "created device\n",
      "created intial cell embeddings\n"
     ]
    },
    {
     "name": "stderr",
     "output_type": "stream",
     "text": [
      "Embedding cells:   0%|          | 0/26 [00:00<?, ?it/s]"
     ]
    },
    {
     "name": "stdout",
     "output_type": "stream",
     "text": [
      " input gene ids to device\n",
      "encoded embeddings\n"
     ]
    },
    {
     "name": "stderr",
     "output_type": "stream",
     "text": [
      "Embedding cells:   4%|▍         | 1/26 [00:02<00:52,  2.08s/it]"
     ]
    },
    {
     "name": "stdout",
     "output_type": "stream",
     "text": [
      " input gene ids to device\n",
      "encoded embeddings\n"
     ]
    },
    {
     "name": "stderr",
     "output_type": "stream",
     "text": [
      "Embedding cells:   8%|▊         | 2/26 [00:04<00:48,  2.02s/it]"
     ]
    },
    {
     "name": "stdout",
     "output_type": "stream",
     "text": [
      " input gene ids to device\n",
      "encoded embeddings\n"
     ]
    },
    {
     "name": "stderr",
     "output_type": "stream",
     "text": [
      "Embedding cells:  12%|█▏        | 3/26 [00:06<00:46,  2.00s/it]"
     ]
    },
    {
     "name": "stdout",
     "output_type": "stream",
     "text": [
      " input gene ids to device\n",
      "encoded embeddings\n"
     ]
    },
    {
     "name": "stderr",
     "output_type": "stream",
     "text": [
      "Embedding cells:  15%|█▌        | 4/26 [00:08<00:43,  1.99s/it]"
     ]
    },
    {
     "name": "stdout",
     "output_type": "stream",
     "text": [
      " input gene ids to device\n",
      "encoded embeddings\n"
     ]
    },
    {
     "name": "stderr",
     "output_type": "stream",
     "text": [
      "Embedding cells:  19%|█▉        | 5/26 [00:09<00:41,  1.97s/it]"
     ]
    },
    {
     "name": "stdout",
     "output_type": "stream",
     "text": [
      " input gene ids to device\n",
      "encoded embeddings\n"
     ]
    },
    {
     "name": "stderr",
     "output_type": "stream",
     "text": [
      "Embedding cells:  23%|██▎       | 6/26 [00:11<00:39,  1.97s/it]"
     ]
    },
    {
     "name": "stdout",
     "output_type": "stream",
     "text": [
      " input gene ids to device\n",
      "encoded embeddings\n"
     ]
    },
    {
     "name": "stderr",
     "output_type": "stream",
     "text": [
      "Embedding cells:  27%|██▋       | 7/26 [00:13<00:37,  1.95s/it]"
     ]
    },
    {
     "name": "stdout",
     "output_type": "stream",
     "text": [
      " input gene ids to device\n",
      "encoded embeddings\n"
     ]
    },
    {
     "name": "stderr",
     "output_type": "stream",
     "text": [
      "Embedding cells:  31%|███       | 8/26 [00:15<00:35,  1.95s/it]"
     ]
    },
    {
     "name": "stdout",
     "output_type": "stream",
     "text": [
      " input gene ids to device\n",
      "encoded embeddings\n"
     ]
    },
    {
     "name": "stderr",
     "output_type": "stream",
     "text": [
      "Embedding cells:  35%|███▍      | 9/26 [00:17<00:33,  1.95s/it]"
     ]
    },
    {
     "name": "stdout",
     "output_type": "stream",
     "text": [
      " input gene ids to device\n",
      "encoded embeddings\n"
     ]
    },
    {
     "name": "stderr",
     "output_type": "stream",
     "text": [
      "Embedding cells:  38%|███▊      | 10/26 [00:19<00:31,  2.00s/it]"
     ]
    },
    {
     "name": "stdout",
     "output_type": "stream",
     "text": [
      " input gene ids to device\n",
      "encoded embeddings\n"
     ]
    },
    {
     "name": "stderr",
     "output_type": "stream",
     "text": [
      "Embedding cells:  42%|████▏     | 11/26 [00:21<00:29,  1.99s/it]"
     ]
    },
    {
     "name": "stdout",
     "output_type": "stream",
     "text": [
      " input gene ids to device\n",
      "encoded embeddings\n"
     ]
    },
    {
     "name": "stderr",
     "output_type": "stream",
     "text": [
      "Embedding cells:  46%|████▌     | 12/26 [00:23<00:28,  2.01s/it]"
     ]
    },
    {
     "name": "stdout",
     "output_type": "stream",
     "text": [
      " input gene ids to device\n",
      "encoded embeddings\n"
     ]
    },
    {
     "name": "stderr",
     "output_type": "stream",
     "text": [
      "Embedding cells:  50%|█████     | 13/26 [00:25<00:25,  1.98s/it]"
     ]
    },
    {
     "name": "stdout",
     "output_type": "stream",
     "text": [
      " input gene ids to device\n",
      "encoded embeddings\n"
     ]
    },
    {
     "name": "stderr",
     "output_type": "stream",
     "text": [
      "Embedding cells:  54%|█████▍    | 14/26 [00:27<00:23,  1.96s/it]"
     ]
    },
    {
     "name": "stdout",
     "output_type": "stream",
     "text": [
      " input gene ids to device\n",
      "encoded embeddings\n"
     ]
    },
    {
     "name": "stderr",
     "output_type": "stream",
     "text": [
      "Embedding cells:  58%|█████▊    | 15/26 [00:29<00:21,  1.94s/it]"
     ]
    },
    {
     "name": "stdout",
     "output_type": "stream",
     "text": [
      " input gene ids to device\n",
      "encoded embeddings\n"
     ]
    },
    {
     "name": "stderr",
     "output_type": "stream",
     "text": [
      "Embedding cells:  62%|██████▏   | 16/26 [00:31<00:19,  1.94s/it]"
     ]
    },
    {
     "name": "stdout",
     "output_type": "stream",
     "text": [
      " input gene ids to device\n",
      "encoded embeddings\n"
     ]
    },
    {
     "name": "stderr",
     "output_type": "stream",
     "text": [
      "Embedding cells:  65%|██████▌   | 17/26 [00:33<00:17,  1.94s/it]"
     ]
    },
    {
     "name": "stdout",
     "output_type": "stream",
     "text": [
      " input gene ids to device\n",
      "encoded embeddings\n"
     ]
    },
    {
     "name": "stderr",
     "output_type": "stream",
     "text": [
      "Embedding cells:  69%|██████▉   | 18/26 [00:35<00:15,  1.95s/it]"
     ]
    },
    {
     "name": "stdout",
     "output_type": "stream",
     "text": [
      " input gene ids to device\n",
      "encoded embeddings\n"
     ]
    },
    {
     "name": "stderr",
     "output_type": "stream",
     "text": [
      "Embedding cells:  73%|███████▎  | 19/26 [00:37<00:13,  1.94s/it]"
     ]
    },
    {
     "name": "stdout",
     "output_type": "stream",
     "text": [
      " input gene ids to device\n",
      "encoded embeddings\n"
     ]
    },
    {
     "name": "stderr",
     "output_type": "stream",
     "text": [
      "Embedding cells:  77%|███████▋  | 20/26 [00:39<00:11,  2.00s/it]"
     ]
    },
    {
     "name": "stdout",
     "output_type": "stream",
     "text": [
      " input gene ids to device\n",
      "encoded embeddings\n"
     ]
    },
    {
     "name": "stderr",
     "output_type": "stream",
     "text": [
      "Embedding cells:  81%|████████  | 21/26 [00:41<00:09,  1.97s/it]"
     ]
    },
    {
     "name": "stdout",
     "output_type": "stream",
     "text": [
      " input gene ids to device\n",
      "encoded embeddings\n"
     ]
    },
    {
     "name": "stderr",
     "output_type": "stream",
     "text": [
      "Embedding cells:  85%|████████▍ | 22/26 [00:43<00:07,  1.93s/it]"
     ]
    },
    {
     "name": "stdout",
     "output_type": "stream",
     "text": [
      " input gene ids to device\n",
      "encoded embeddings\n"
     ]
    },
    {
     "name": "stderr",
     "output_type": "stream",
     "text": [
      "Embedding cells:  88%|████████▊ | 23/26 [00:45<00:05,  1.92s/it]"
     ]
    },
    {
     "name": "stdout",
     "output_type": "stream",
     "text": [
      " input gene ids to device\n",
      "encoded embeddings\n"
     ]
    },
    {
     "name": "stderr",
     "output_type": "stream",
     "text": [
      "Embedding cells:  92%|█████████▏| 24/26 [00:47<00:03,  1.91s/it]"
     ]
    },
    {
     "name": "stdout",
     "output_type": "stream",
     "text": [
      " input gene ids to device\n",
      "encoded embeddings\n"
     ]
    },
    {
     "name": "stderr",
     "output_type": "stream",
     "text": [
      "Embedding cells:  96%|█████████▌| 25/26 [00:48<00:01,  1.90s/it]"
     ]
    },
    {
     "name": "stdout",
     "output_type": "stream",
     "text": [
      " input gene ids to device\n",
      "encoded embeddings\n"
     ]
    },
    {
     "name": "stderr",
     "output_type": "stream",
     "text": [
      "Embedding cells: 100%|██████████| 26/26 [00:50<00:00,  1.95s/it]"
     ]
    },
    {
     "name": "stdout",
     "output_type": "stream",
     "text": [
      "got cell embeddings\n"
     ]
    },
    {
     "name": "stderr",
     "output_type": "stream",
     "text": [
      "\n",
      "/home/shair/.cache/pypoetry/virtualenvs/jess-scgpt-HqbpqFrQ-py3.9/lib/python3.9/site-packages/anndata/_core/anndata.py:522: FutureWarning: The dtype argument is deprecated and will be removed in late 2024.\n",
      "  warnings.warn(\n"
     ]
    }
   ],
   "source": [
    "cell_embbed = embed_data(**embed_args)\n",
    "\n",
    "#clean cell output"
   ],
   "metadata": {
    "collapsed": false
   }
  },
  {
   "cell_type": "markdown",
   "source": [
    "consider to avoid memory outage.\n",
    "figure out why reserving so much memory.\n",
    "https://github.com/rentruewang/koila"
   ],
   "metadata": {
    "collapsed": false
   }
  },
  {
   "cell_type": "markdown",
   "source": [
    "# add clinical data to adata"
   ],
   "metadata": {
    "collapsed": false
   }
  },
  {
   "cell_type": "code",
   "execution_count": 45,
   "outputs": [],
   "source": [
    "#load clinical data \n",
    "clin_path = Path(base_dir / 'training_data/tcga/clinical/brca_tcga_pan_can_atlas_2018_clinical_data.tsv')\n",
    "\n",
    "clin_df = pd.read_csv(clin_path, sep='\\t', index_col=0)"
   ],
   "metadata": {
    "collapsed": false,
    "ExecuteTime": {
     "end_time": "2023-12-04T12:24:48.502065583Z",
     "start_time": "2023-12-04T12:24:48.461288727Z"
    }
   }
  },
  {
   "cell_type": "code",
   "execution_count": 46,
   "outputs": [
    {
     "data": {
      "text/plain": "                                Patient ID        Sample ID  Diagnosis Age  \\\nStudy ID                                                                     \nbrca_tcga_pan_can_atlas_2018  TCGA-3C-AAAU  TCGA-3C-AAAU-01             55   \nbrca_tcga_pan_can_atlas_2018  TCGA-3C-AALI  TCGA-3C-AALI-01             50   \nbrca_tcga_pan_can_atlas_2018  TCGA-3C-AALJ  TCGA-3C-AALJ-01             62   \nbrca_tcga_pan_can_atlas_2018  TCGA-3C-AALK  TCGA-3C-AALK-01             52   \nbrca_tcga_pan_can_atlas_2018  TCGA-4H-AAAK  TCGA-4H-AAAK-01             50   \n\n                             Neoplasm Disease Stage American Joint Committee on Cancer Code  \\\nStudy ID                                                                                      \nbrca_tcga_pan_can_atlas_2018                                            STAGE X               \nbrca_tcga_pan_can_atlas_2018                                          STAGE IIB               \nbrca_tcga_pan_can_atlas_2018                                          STAGE IIB               \nbrca_tcga_pan_can_atlas_2018                                           STAGE IA               \nbrca_tcga_pan_can_atlas_2018                                         STAGE IIIA               \n\n                             American Joint Committee on Cancer Publication Version Type  \\\nStudy ID                                                                                   \nbrca_tcga_pan_can_atlas_2018                                                6TH            \nbrca_tcga_pan_can_atlas_2018                                                6TH            \nbrca_tcga_pan_can_atlas_2018                                                7TH            \nbrca_tcga_pan_can_atlas_2018                                                7TH            \nbrca_tcga_pan_can_atlas_2018                                                7TH            \n\n                              Aneuploidy Score  Buffa Hypoxia Score  \\\nStudy ID                                                              \nbrca_tcga_pan_can_atlas_2018              19.0                -21.0   \nbrca_tcga_pan_can_atlas_2018              22.0                  5.0   \nbrca_tcga_pan_can_atlas_2018              13.0                 -5.0   \nbrca_tcga_pan_can_atlas_2018               4.0                -27.0   \nbrca_tcga_pan_can_atlas_2018               7.0                -27.0   \n\n                                Cancer Type  \\\nStudy ID                                      \nbrca_tcga_pan_can_atlas_2018  Breast Cancer   \nbrca_tcga_pan_can_atlas_2018  Breast Cancer   \nbrca_tcga_pan_can_atlas_2018  Breast Cancer   \nbrca_tcga_pan_can_atlas_2018  Breast Cancer   \nbrca_tcga_pan_can_atlas_2018  Breast Cancer   \n\n                             TCGA PanCanAtlas Cancer Type Acronym  \\\nStudy ID                                                            \nbrca_tcga_pan_can_atlas_2018                                 BRCA   \nbrca_tcga_pan_can_atlas_2018                                 BRCA   \nbrca_tcga_pan_can_atlas_2018                                 BRCA   \nbrca_tcga_pan_can_atlas_2018                                 BRCA   \nbrca_tcga_pan_can_atlas_2018                                 BRCA   \n\n                                           Cancer Type Detailed  ...  \\\nStudy ID                                                         ...   \nbrca_tcga_pan_can_atlas_2018  Breast Invasive Lobular Carcinoma  ...   \nbrca_tcga_pan_can_atlas_2018   Breast Invasive Ductal Carcinoma  ...   \nbrca_tcga_pan_can_atlas_2018   Breast Invasive Ductal Carcinoma  ...   \nbrca_tcga_pan_can_atlas_2018   Breast Invasive Ductal Carcinoma  ...   \nbrca_tcga_pan_can_atlas_2018  Breast Invasive Lobular Carcinoma  ...   \n\n                                Subtype  \\\nStudy ID                                  \nbrca_tcga_pan_can_atlas_2018  BRCA_LumA   \nbrca_tcga_pan_can_atlas_2018  BRCA_Her2   \nbrca_tcga_pan_can_atlas_2018  BRCA_LumB   \nbrca_tcga_pan_can_atlas_2018  BRCA_LumA   \nbrca_tcga_pan_can_atlas_2018  BRCA_LumA   \n\n                              Tissue Prospective Collection Indicator  \\\nStudy ID                                                                \nbrca_tcga_pan_can_atlas_2018                                       No   \nbrca_tcga_pan_can_atlas_2018                                       No   \nbrca_tcga_pan_can_atlas_2018                                       No   \nbrca_tcga_pan_can_atlas_2018                                       No   \nbrca_tcga_pan_can_atlas_2018                                      Yes   \n\n                              Tissue Retrospective Collection Indicator  \\\nStudy ID                                                                  \nbrca_tcga_pan_can_atlas_2018                                        Yes   \nbrca_tcga_pan_can_atlas_2018                                        Yes   \nbrca_tcga_pan_can_atlas_2018                                        Yes   \nbrca_tcga_pan_can_atlas_2018                                        Yes   \nbrca_tcga_pan_can_atlas_2018                                         No   \n\n                               Tissue Source Site Tissue Source Site Code  \\\nStudy ID                                                                    \nbrca_tcga_pan_can_atlas_2018  Columbia University                      3C   \nbrca_tcga_pan_can_atlas_2018  Columbia University                      3C   \nbrca_tcga_pan_can_atlas_2018  Columbia University                      3C   \nbrca_tcga_pan_can_atlas_2018  Columbia University                      3C   \nbrca_tcga_pan_can_atlas_2018    Proteogenex, Inc.                      4H   \n\n                              TMB (nonsynonymous) Tumor Disease Anatomic Site  \\\nStudy ID                                                                        \nbrca_tcga_pan_can_atlas_2018             0.800000                      Breast   \nbrca_tcga_pan_can_atlas_2018            15.266667                      Breast   \nbrca_tcga_pan_can_atlas_2018             0.933333                      Breast   \nbrca_tcga_pan_can_atlas_2018             1.500000                      Breast   \nbrca_tcga_pan_can_atlas_2018             0.700000                      Breast   \n\n                                                  Tumor Type Patient Weight  \\\nStudy ID                                                                      \nbrca_tcga_pan_can_atlas_2018  Infiltrating Lobular Carcinoma            NaN   \nbrca_tcga_pan_can_atlas_2018   Infiltrating Ductal Carcinoma            NaN   \nbrca_tcga_pan_can_atlas_2018   Infiltrating Ductal Carcinoma            NaN   \nbrca_tcga_pan_can_atlas_2018   Infiltrating Ductal Carcinoma            NaN   \nbrca_tcga_pan_can_atlas_2018  Infiltrating Lobular Carcinoma            NaN   \n\n                              Winter Hypoxia Score  \nStudy ID                                            \nbrca_tcga_pan_can_atlas_2018                 -28.0  \nbrca_tcga_pan_can_atlas_2018                  20.0  \nbrca_tcga_pan_can_atlas_2018                 -10.0  \nbrca_tcga_pan_can_atlas_2018                   4.0  \nbrca_tcga_pan_can_atlas_2018                 -20.0  \n\n[5 rows x 61 columns]",
      "text/html": "<div>\n<style scoped>\n    .dataframe tbody tr th:only-of-type {\n        vertical-align: middle;\n    }\n\n    .dataframe tbody tr th {\n        vertical-align: top;\n    }\n\n    .dataframe thead th {\n        text-align: right;\n    }\n</style>\n<table border=\"1\" class=\"dataframe\">\n  <thead>\n    <tr style=\"text-align: right;\">\n      <th></th>\n      <th>Patient ID</th>\n      <th>Sample ID</th>\n      <th>Diagnosis Age</th>\n      <th>Neoplasm Disease Stage American Joint Committee on Cancer Code</th>\n      <th>American Joint Committee on Cancer Publication Version Type</th>\n      <th>Aneuploidy Score</th>\n      <th>Buffa Hypoxia Score</th>\n      <th>Cancer Type</th>\n      <th>TCGA PanCanAtlas Cancer Type Acronym</th>\n      <th>Cancer Type Detailed</th>\n      <th>...</th>\n      <th>Subtype</th>\n      <th>Tissue Prospective Collection Indicator</th>\n      <th>Tissue Retrospective Collection Indicator</th>\n      <th>Tissue Source Site</th>\n      <th>Tissue Source Site Code</th>\n      <th>TMB (nonsynonymous)</th>\n      <th>Tumor Disease Anatomic Site</th>\n      <th>Tumor Type</th>\n      <th>Patient Weight</th>\n      <th>Winter Hypoxia Score</th>\n    </tr>\n    <tr>\n      <th>Study ID</th>\n      <th></th>\n      <th></th>\n      <th></th>\n      <th></th>\n      <th></th>\n      <th></th>\n      <th></th>\n      <th></th>\n      <th></th>\n      <th></th>\n      <th></th>\n      <th></th>\n      <th></th>\n      <th></th>\n      <th></th>\n      <th></th>\n      <th></th>\n      <th></th>\n      <th></th>\n      <th></th>\n      <th></th>\n    </tr>\n  </thead>\n  <tbody>\n    <tr>\n      <th>brca_tcga_pan_can_atlas_2018</th>\n      <td>TCGA-3C-AAAU</td>\n      <td>TCGA-3C-AAAU-01</td>\n      <td>55</td>\n      <td>STAGE X</td>\n      <td>6TH</td>\n      <td>19.0</td>\n      <td>-21.0</td>\n      <td>Breast Cancer</td>\n      <td>BRCA</td>\n      <td>Breast Invasive Lobular Carcinoma</td>\n      <td>...</td>\n      <td>BRCA_LumA</td>\n      <td>No</td>\n      <td>Yes</td>\n      <td>Columbia University</td>\n      <td>3C</td>\n      <td>0.800000</td>\n      <td>Breast</td>\n      <td>Infiltrating Lobular Carcinoma</td>\n      <td>NaN</td>\n      <td>-28.0</td>\n    </tr>\n    <tr>\n      <th>brca_tcga_pan_can_atlas_2018</th>\n      <td>TCGA-3C-AALI</td>\n      <td>TCGA-3C-AALI-01</td>\n      <td>50</td>\n      <td>STAGE IIB</td>\n      <td>6TH</td>\n      <td>22.0</td>\n      <td>5.0</td>\n      <td>Breast Cancer</td>\n      <td>BRCA</td>\n      <td>Breast Invasive Ductal Carcinoma</td>\n      <td>...</td>\n      <td>BRCA_Her2</td>\n      <td>No</td>\n      <td>Yes</td>\n      <td>Columbia University</td>\n      <td>3C</td>\n      <td>15.266667</td>\n      <td>Breast</td>\n      <td>Infiltrating Ductal Carcinoma</td>\n      <td>NaN</td>\n      <td>20.0</td>\n    </tr>\n    <tr>\n      <th>brca_tcga_pan_can_atlas_2018</th>\n      <td>TCGA-3C-AALJ</td>\n      <td>TCGA-3C-AALJ-01</td>\n      <td>62</td>\n      <td>STAGE IIB</td>\n      <td>7TH</td>\n      <td>13.0</td>\n      <td>-5.0</td>\n      <td>Breast Cancer</td>\n      <td>BRCA</td>\n      <td>Breast Invasive Ductal Carcinoma</td>\n      <td>...</td>\n      <td>BRCA_LumB</td>\n      <td>No</td>\n      <td>Yes</td>\n      <td>Columbia University</td>\n      <td>3C</td>\n      <td>0.933333</td>\n      <td>Breast</td>\n      <td>Infiltrating Ductal Carcinoma</td>\n      <td>NaN</td>\n      <td>-10.0</td>\n    </tr>\n    <tr>\n      <th>brca_tcga_pan_can_atlas_2018</th>\n      <td>TCGA-3C-AALK</td>\n      <td>TCGA-3C-AALK-01</td>\n      <td>52</td>\n      <td>STAGE IA</td>\n      <td>7TH</td>\n      <td>4.0</td>\n      <td>-27.0</td>\n      <td>Breast Cancer</td>\n      <td>BRCA</td>\n      <td>Breast Invasive Ductal Carcinoma</td>\n      <td>...</td>\n      <td>BRCA_LumA</td>\n      <td>No</td>\n      <td>Yes</td>\n      <td>Columbia University</td>\n      <td>3C</td>\n      <td>1.500000</td>\n      <td>Breast</td>\n      <td>Infiltrating Ductal Carcinoma</td>\n      <td>NaN</td>\n      <td>4.0</td>\n    </tr>\n    <tr>\n      <th>brca_tcga_pan_can_atlas_2018</th>\n      <td>TCGA-4H-AAAK</td>\n      <td>TCGA-4H-AAAK-01</td>\n      <td>50</td>\n      <td>STAGE IIIA</td>\n      <td>7TH</td>\n      <td>7.0</td>\n      <td>-27.0</td>\n      <td>Breast Cancer</td>\n      <td>BRCA</td>\n      <td>Breast Invasive Lobular Carcinoma</td>\n      <td>...</td>\n      <td>BRCA_LumA</td>\n      <td>Yes</td>\n      <td>No</td>\n      <td>Proteogenex, Inc.</td>\n      <td>4H</td>\n      <td>0.700000</td>\n      <td>Breast</td>\n      <td>Infiltrating Lobular Carcinoma</td>\n      <td>NaN</td>\n      <td>-20.0</td>\n    </tr>\n  </tbody>\n</table>\n<p>5 rows × 61 columns</p>\n</div>"
     },
     "execution_count": 46,
     "metadata": {},
     "output_type": "execute_result"
    }
   ],
   "source": [
    "clin_df.iloc[0:5,:]"
   ],
   "metadata": {
    "collapsed": false,
    "ExecuteTime": {
     "end_time": "2023-12-04T12:24:50.213034191Z",
     "start_time": "2023-12-04T12:24:50.177148505Z"
    }
   }
  },
  {
   "cell_type": "code",
   "execution_count": 29,
   "outputs": [
    {
     "ename": "AttributeError",
     "evalue": "'DataFrame' object has no attribute 'Summarise'",
     "output_type": "error",
     "traceback": [
      "\u001B[0;31m---------------------------------------------------------------------------\u001B[0m",
      "\u001B[0;31mAttributeError\u001B[0m                            Traceback (most recent call last)",
      "\u001B[0;32m/tmp/ipykernel_10957/254786112.py\u001B[0m in \u001B[0;36m?\u001B[0;34m()\u001B[0m\n\u001B[0;32m----> 1\u001B[0;31m \u001B[0mclin_df\u001B[0m\u001B[0;34m.\u001B[0m\u001B[0mSummarise\u001B[0m\u001B[0;34m(\u001B[0m\u001B[0;34m)\u001B[0m\u001B[0;34m\u001B[0m\u001B[0;34m\u001B[0m\u001B[0m\n\u001B[0m",
      "\u001B[0;32m~/lab/venvs/scgpt_venv/lib/python3.9/site-packages/pandas/core/generic.py\u001B[0m in \u001B[0;36m?\u001B[0;34m(self, name)\u001B[0m\n\u001B[1;32m   5483\u001B[0m             \u001B[0;32mand\u001B[0m \u001B[0mname\u001B[0m \u001B[0;32mnot\u001B[0m \u001B[0;32min\u001B[0m \u001B[0mself\u001B[0m\u001B[0;34m.\u001B[0m\u001B[0m_accessors\u001B[0m\u001B[0;34m\u001B[0m\u001B[0;34m\u001B[0m\u001B[0m\n\u001B[1;32m   5484\u001B[0m             \u001B[0;32mand\u001B[0m \u001B[0mself\u001B[0m\u001B[0;34m.\u001B[0m\u001B[0m_info_axis\u001B[0m\u001B[0;34m.\u001B[0m\u001B[0m_can_hold_identifiers_and_holds_name\u001B[0m\u001B[0;34m(\u001B[0m\u001B[0mname\u001B[0m\u001B[0;34m)\u001B[0m\u001B[0;34m\u001B[0m\u001B[0;34m\u001B[0m\u001B[0m\n\u001B[1;32m   5485\u001B[0m         ):\n\u001B[1;32m   5486\u001B[0m             \u001B[0;32mreturn\u001B[0m \u001B[0mself\u001B[0m\u001B[0;34m[\u001B[0m\u001B[0mname\u001B[0m\u001B[0;34m]\u001B[0m\u001B[0;34m\u001B[0m\u001B[0;34m\u001B[0m\u001B[0m\n\u001B[0;32m-> 5487\u001B[0;31m         \u001B[0;32mreturn\u001B[0m \u001B[0mobject\u001B[0m\u001B[0;34m.\u001B[0m\u001B[0m__getattribute__\u001B[0m\u001B[0;34m(\u001B[0m\u001B[0mself\u001B[0m\u001B[0;34m,\u001B[0m \u001B[0mname\u001B[0m\u001B[0;34m)\u001B[0m\u001B[0;34m\u001B[0m\u001B[0;34m\u001B[0m\u001B[0m\n\u001B[0m",
      "\u001B[0;31mAttributeError\u001B[0m: 'DataFrame' object has no attribute 'Summarise'"
     ]
    }
   ],
   "source": [],
   "metadata": {
    "collapsed": false,
    "ExecuteTime": {
     "end_time": "2023-12-04T11:35:42.142351875Z",
     "start_time": "2023-12-04T11:35:42.126959574Z"
    }
   }
  },
  {
   "cell_type": "code",
   "execution_count": 47,
   "outputs": [],
   "source": [
    "cols = pd.Series(clin_df.columns)\n",
    "keep_cols = [0,1,2,3,5,6,19,21,28,29,30,33,34,36,38,40,41,46,49,50,51,56]\n",
    "#keep selected cols\n",
    "clin_df = clin_df.iloc[:,keep_cols]"
   ],
   "metadata": {
    "collapsed": false,
    "ExecuteTime": {
     "end_time": "2023-12-04T12:24:56.149997520Z",
     "start_time": "2023-12-04T12:24:56.120344906Z"
    }
   }
  },
  {
   "cell_type": "code",
   "execution_count": 48,
   "outputs": [],
   "source": [
    "clin_df = clin_df.set_index(['Sample ID'])\n",
    "clin_df.index = clin_df.index.str.replace('-','.')\n"
   ],
   "metadata": {
    "collapsed": false,
    "ExecuteTime": {
     "end_time": "2023-12-04T12:25:28.721709179Z",
     "start_time": "2023-12-04T12:25:28.679974884Z"
    }
   }
  },
  {
   "cell_type": "code",
   "execution_count": 49,
   "outputs": [],
   "source": [
    "#keep only samples in my_adata.obs['Sample_ID']\n",
    "clin_df = clin_df.loc[my_adata.obs['Sample_ID'],:]"
   ],
   "metadata": {
    "collapsed": false,
    "ExecuteTime": {
     "end_time": "2023-12-04T12:25:50.984112320Z",
     "start_time": "2023-12-04T12:25:50.931857473Z"
    }
   }
  },
  {
   "cell_type": "code",
   "execution_count": 55,
   "outputs": [],
   "source": [
    "#add clinical data to adata by joining on sample id\n",
    "new_obs = pd.merge(my_adata.obs.copy(), clin_df, left_on='Sample_ID', right_on='Sample ID', how='left')"
   ],
   "metadata": {
    "collapsed": false,
    "ExecuteTime": {
     "end_time": "2023-12-04T12:31:17.897283972Z",
     "start_time": "2023-12-04T12:31:17.874300933Z"
    }
   }
  },
  {
   "cell_type": "code",
   "execution_count": 56,
   "outputs": [
    {
     "name": "stdout",
     "output_type": "stream",
     "text": [
      "Sample_ID 0\n",
      "oncosig_label_ERBB2 0\n",
      "cell_type 0\n",
      "Patient ID 0\n",
      "Diagnosis Age 0\n",
      "Neoplasm Disease Stage American Joint Committee on Cancer Code 5\n",
      "Aneuploidy Score 24\n",
      "Buffa Hypoxia Score 0\n",
      "Fraction Genome Altered 2\n",
      "Neoplasm Histologic Grade 949\n",
      "MSI MANTIS Score 34\n",
      "MSIsensor Score 0\n",
      "Mutation Count 0\n",
      "Overall Survival (Months) 0\n",
      "Overall Survival Status 0\n",
      "American Joint Committee on Cancer Metastasis Stage Code 0\n",
      "American Joint Committee on Cancer Tumor Stage Code 0\n",
      "Progress Free Survival (Months) 1\n",
      "Progression Free Status 0\n",
      "Ragnum Hypoxia Score 0\n",
      "Sex 0\n",
      "Somatic Status 0\n",
      "Subtype 0\n",
      "TMB (nonsynonymous) 0\n"
     ]
    }
   ],
   "source": [
    "#for each col, count na:\n",
    "for col in new_obs.columns:\n",
    "    print(col, new_obs[col].isna().sum())"
   ],
   "metadata": {
    "collapsed": false,
    "ExecuteTime": {
     "end_time": "2023-12-04T12:31:47.512765520Z",
     "start_time": "2023-12-04T12:31:47.497965136Z"
    }
   }
  },
  {
   "cell_type": "code",
   "execution_count": 58,
   "outputs": [],
   "source": [
    "\n",
    "new_obs = new_obs.drop(['Neoplasm Histologic Grade'], axis=1) if 'Neoplasm Histologic Grade' in new_obs.columns else new_obs"
   ],
   "metadata": {
    "collapsed": false,
    "ExecuteTime": {
     "end_time": "2023-12-04T12:33:20.097690886Z",
     "start_time": "2023-12-04T12:33:20.079951644Z"
    }
   }
  },
  {
   "cell_type": "code",
   "execution_count": 59,
   "outputs": [
    {
     "name": "stderr",
     "output_type": "stream",
     "text": [
      "/home/jesse/lab/venvs/scgpt_venv/lib/python3.9/site-packages/anndata/_core/anndata.py:850: UserWarning: \n",
      "AnnData expects .obs.index to contain strings, but got values like:\n",
      "    [0, 1, 2, 3, 4]\n",
      "\n",
      "    Inferred to be: integer\n",
      "\n",
      "  value_idx = self._prep_dim_index(value.index, attr)\n"
     ]
    }
   ],
   "source": [
    "#add the new obs to cell em\n",
    "cell_embbed.obs = new_obs"
   ],
   "metadata": {
    "collapsed": false,
    "ExecuteTime": {
     "end_time": "2023-12-04T12:35:22.807180984Z",
     "start_time": "2023-12-04T12:35:22.762416072Z"
    }
   }
  },
  {
   "cell_type": "code",
   "execution_count": 67,
   "outputs": [],
   "source": [
    "cell_embbed.write_h5ad(base_dir / 'scgpt/data/bulk_brca_erbb2/tcga_brca_erbb2_scgpt_emb_oncosig_sub_genes_clin.h5ad')"
   ],
   "metadata": {
    "collapsed": false,
    "ExecuteTime": {
     "end_time": "2023-12-04T12:49:13.583799051Z",
     "start_time": "2023-12-04T12:49:13.523505066Z"
    }
   }
  },
  {
   "cell_type": "code",
   "execution_count": 65,
   "outputs": [],
   "source": [
    "#add new obs to my adata and make smaple id the index\n",
    "my_adata.obs = new_obs\n",
    "my_adata.obs.set_index('Sample_ID', inplace=True) \n",
    "#full_adata = sc.read_h5ad(base_dir / 'scgpt/data/bulk_brca_erbb2/tcga_brca_erbb2_oncosig_sub_genes.h5ad')\n",
    "# save my_adata as 'tcga_brca_erbb2_oncosig_sub_genes_clin.h5ad'\n"
   ],
   "metadata": {
    "collapsed": false,
    "ExecuteTime": {
     "end_time": "2023-12-04T12:41:57.365839692Z",
     "start_time": "2023-12-04T12:41:57.314976619Z"
    }
   }
  },
  {
   "cell_type": "code",
   "execution_count": 66,
   "outputs": [],
   "source": [
    "my_adata.write_h5ad(base_dir / 'scgpt/data/bulk_brca_erbb2/tcga_brca_erbb2_oncosig_sub_genes_clin.h5ad')"
   ],
   "metadata": {
    "collapsed": false,
    "ExecuteTime": {
     "end_time": "2023-12-04T12:42:17.467528244Z",
     "start_time": "2023-12-04T12:42:17.403153704Z"
    }
   }
  },
  {
   "cell_type": "markdown",
   "source": [
    "# check corr between X and obs"
   ],
   "metadata": {
    "collapsed": false
   }
  },
  {
   "cell_type": "code",
   "execution_count": 200,
   "outputs": [],
   "source": [
    "from sklearn.metrics import mutual_info_score\n",
    "from sklearn.preprocessing import LabelEncoder\n",
    "import numpy as np\n",
    "import pandas as pd"
   ],
   "metadata": {
    "collapsed": false,
    "ExecuteTime": {
     "end_time": "2023-12-04T16:12:24.848330314Z",
     "start_time": "2023-12-04T16:12:24.781541767Z"
    }
   }
  },
  {
   "cell_type": "code",
   "execution_count": 195,
   "outputs": [],
   "source": [
    "#drop some of the meta data cols\n",
    "cell_embbed.obs.columns\n",
    "cols_drop = [ 'cell_type', \n",
    "       'Neoplasm Disease Stage American Joint Committee on Cancer Code',\n",
    "             'MSI MANTIS Score', 'MSIsensor Score', 'Mutation Count',\n",
    " 'Overall Survival Status',\n",
    "       'American Joint Committee on Cancer Metastasis Stage Code',\n",
    "       'American Joint Committee on Cancer Tumor Stage Code',\n",
    "     'Progression Free Status',\n",
    "   'Sex', 'Somatic Status', ]\n",
    "cell_embbed.obs = cell_embbed.obs.drop(cols_drop, axis=1)"
   ],
   "metadata": {
    "collapsed": false,
    "ExecuteTime": {
     "end_time": "2023-12-04T15:54:07.634705567Z",
     "start_time": "2023-12-04T15:54:07.539128669Z"
    }
   }
  },
  {
   "cell_type": "code",
   "execution_count": 239,
   "outputs": [],
   "source": [
    "# get data frames and scale\n",
    "\n",
    "\n",
    "# Convert the X matrix to a DataFrame\n",
    "values_df = pd.DataFrame(cell_embbed.X, columns=[f'X_{i}' for i in range(cell_embbed.X.shape[1])])\n",
    "\n",
    "metadata = pd.DataFrame(cell_embbed.obs.copy().drop(['Patient ID'], axis=1))\n"
   ],
   "metadata": {
    "collapsed": false,
    "ExecuteTime": {
     "end_time": "2023-12-04T16:59:38.439259775Z",
     "start_time": "2023-12-04T16:59:38.390662923Z"
    }
   }
  },
  {
   "cell_type": "code",
   "execution_count": 240,
   "outputs": [],
   "source": [
    "#get numerical cols as num_metadata\n",
    "num_meta_cols = metadata.select_dtypes(include='number').columns\n",
    "\n",
    "#get cols of values\n",
    "\n",
    "#get a list of strings: Dim_0, Dim_2, until Dim_511\n",
    "val_cols = values_df.columns"
   ],
   "metadata": {
    "collapsed": false,
    "ExecuteTime": {
     "end_time": "2023-12-04T16:59:38.439542346Z",
     "start_time": "2023-12-04T16:59:38.433627035Z"
    }
   }
  },
  {
   "cell_type": "code",
   "execution_count": 241,
   "outputs": [],
   "source": [
    "#scale\n",
    "#transform the vals df to log p 1\n",
    "values_df = np.log1p(values_df)\n",
    "#scale the vals df 0 to 1\n",
    "from sklearn.preprocessing import MinMaxScaler\n",
    "scaler = MinMaxScaler()\n",
    "values_df = scaler.fit_transform(values_df)\n",
    "#scale the numerical values of the metadata\n",
    "metadata[num_meta_cols] = scaler.fit_transform(metadata[num_meta_cols])\n"
   ],
   "metadata": {
    "collapsed": false,
    "ExecuteTime": {
     "end_time": "2023-12-04T16:59:39.717769358Z",
     "start_time": "2023-12-04T16:59:39.695991157Z"
    }
   }
  },
  {
   "cell_type": "code",
   "execution_count": 246,
   "outputs": [],
   "source": [
    "# generate null MI with bootstrapping\n",
    "null_mi_distribution = []\n",
    "#take a number of bootsraps ~ TWICE NUMBER OF COLUMNS\n",
    "\n",
    "n_bootstraps = 1000\n",
    "\n",
    "# set threshold of MI \n",
    "mi_threshold = 0.95\n",
    "#choose 3 random test runs on which to check the data\n",
    "test_runs = np.random.randint(0, n_bootstraps, size=3)\n",
    "test_runs= np.append(test_runs, 0)\n",
    "test_runs\n",
    "\n",
    "# Flatten the DataFrame into a 1D NumPy array\n",
    "flattened_values = values_df.flatten()"
   ],
   "metadata": {
    "collapsed": false,
    "ExecuteTime": {
     "end_time": "2023-12-04T17:01:36.896319079Z",
     "start_time": "2023-12-04T17:01:36.773598247Z"
    }
   }
  },
  {
   "cell_type": "code",
   "execution_count": null,
   "outputs": [],
   "source": [
    "# find null mi dist using boot strap. \n",
    "for i in range(n_bootstraps):\n",
    "    # Randomly draw values from the flattened array\n",
    "    resampled_values = np.random.choice(flattened_values, size=len(values_df))\n",
    "    \n",
    "    # Randomly select a column from metadata\n",
    "    random_meta_col = np.random.choice(metadata[num_meta_cols].columns)\n",
    "    selected_metadata = metadata[random_meta_col]\n",
    "    \n",
    "    # Handle NA values - drop rows with NA in either column\n",
    "    na_mask =  selected_metadata.isna()\n",
    "    selected_values = resampled_values[~na_mask]\n",
    "    selected_metadata = selected_metadata[~na_mask]\n",
    "    \n",
    "    #sanity check\n",
    "    # if i in test_runs:\n",
    "    #     #print length of bothg cols\n",
    "    #     print('selected values len:', len(selected_values))\n",
    "    #     print('selected metadata len:', len(selected_metadata))\n",
    "    #     print('shapes: val, meta: \\n' , selected_values.shape, selected_metadata.shape)\n",
    "    #     #print the first 5 rows of both cols\n",
    "    #     print('selected values 1:5:', selected_values[:5])\n",
    "    #     print('selected metadata 1:5:', selected_metadata[:5])\n",
    "    \n",
    "    # If the metadata column is categorical, encode it\n",
    "    if selected_metadata.dtype == 'object' or selected_metadata.dtype.name == 'category':\n",
    "        encoder = LabelEncoder()\n",
    "        selected_metadata = encoder.fit_transform(selected_metadata)\n",
    "\n",
    "\n",
    "    # Calculate MI with the resampled data\n",
    "    mi = mutual_info_score(selected_values, selected_metadata)\n",
    "    null_mi_distribution.append(mi)\n",
    "\n",
    "# sort, and print the MI value at threshold percentile. do not rescale!\n",
    "null_mi_distribution = np.sort(null_mi_distribution)\n",
    "mi_threshold_val = null_mi_distribution[int(mi_threshold * len(null_mi_distribution))]\n",
    "print('MI threshold:', mi_threshold_val)\n"
   ],
   "metadata": {
    "collapsed": false,
    "ExecuteTime": {
     "end_time": "2023-12-04T17:01:44.061646046Z",
     "start_time": "2023-12-04T17:01:40.447097497Z"
    }
   }
  },
  {
   "cell_type": "code",
   "execution_count": 251,
   "outputs": [],
   "source": [
    "selected_metadata = metadata['Subtype']\n",
    "    \n",
    "# Handle NA values - drop rows with NA in either column\n",
    "na_mask =  selected_metadata.isna()\n",
    "\n",
    "selected_metadata = selected_metadata[~na_mask]\n",
    "  # If the metadata column is categorical, encode it\n",
    "if selected_metadata.dtype == 'object' or selected_metadata.dtype.name == 'category':\n",
    "    encoder = LabelEncoder()\n",
    "    selected_metadata = encoder.fit_transform(selected_metadata)"
   ],
   "metadata": {
    "collapsed": false,
    "ExecuteTime": {
     "end_time": "2023-12-04T17:01:59.043895487Z",
     "start_time": "2023-12-04T17:01:58.918583720Z"
    }
   }
  },
  {
   "cell_type": "code",
   "execution_count": 252,
   "outputs": [],
   "source": [
    "\n",
    "curr_vals = values_df[:,10]\n",
    "curr_vals = curr_vals[~na_mask]"
   ],
   "metadata": {
    "collapsed": false,
    "ExecuteTime": {
     "end_time": "2023-12-04T17:01:59.932891577Z",
     "start_time": "2023-12-04T17:01:59.853464422Z"
    }
   }
  },
  {
   "cell_type": "code",
   "execution_count": 253,
   "outputs": [
    {
     "name": "stderr",
     "output_type": "stream",
     "text": [
      "/home/jesse/lab/venvs/scgpt_venv/lib/python3.9/site-packages/sklearn/metrics/cluster/_supervised.py:66: UserWarning:\n",
      "\n",
      "Clustering metrics expects discrete values but received continuous values for label, and multiclass values for target\n",
      "\n"
     ]
    },
    {
     "data": {
      "text/plain": "1.2796347848861829"
     },
     "execution_count": 253,
     "metadata": {},
     "output_type": "execute_result"
    }
   ],
   "source": [
    "\n",
    "# Calculate MI with the resampled data\n",
    "actual_mi = mutual_info_score(selected_values, selected_metadata)\n",
    "actual_mi"
   ],
   "metadata": {
    "collapsed": false,
    "ExecuteTime": {
     "end_time": "2023-12-04T17:02:00.862934469Z",
     "start_time": "2023-12-04T17:02:00.831309837Z"
    }
   }
  },
  {
   "cell_type": "code",
   "execution_count": 257,
   "outputs": [
    {
     "data": {
      "text/plain": "False"
     },
     "execution_count": 257,
     "metadata": {},
     "output_type": "execute_result"
    }
   ],
   "source": [
    "\n",
    "#check if any na in val df numpy arr\n",
    "np.isnan(values_df).any()"
   ],
   "metadata": {
    "collapsed": false,
    "ExecuteTime": {
     "end_time": "2023-12-04T17:04:20.701683062Z",
     "start_time": "2023-12-04T17:04:20.566120932Z"
    }
   }
  },
  {
   "cell_type": "code",
   "execution_count": null,
   "outputs": [],
   "source": [
    "#init a db: val_col, mi, p_val\n",
    "mi_df = pd.DataFrame(columns=['val_col', 'mi', 'p_val'])\n",
    "\n",
    "selected_metadata = metadata['Buffa Hypoxia Score']\n",
    "\n",
    "# Handle NA values - drop rows with NA in either column\n",
    "na_mask =  selected_metadata.isna()\n",
    "\n",
    "selected_metadata = selected_metadata[~na_mask]\n",
    "  # If the metadata column is categorical, encode it\n",
    "if selected_metadata.dtype == 'object' or selected_metadata.dtype.name == 'category':\n",
    "    encoder = LabelEncoder()\n",
    "    selected_metadata = encoder.fit_transform(selected_metadata)\n",
    "\n",
    "for val_col in range(values_df.shape[1]):\n",
    "    curr_vals = values_df[:,val_col]\n",
    "    curr_vals = curr_vals[~na_mask]\n",
    "    \n",
    "    # Calculate MI with the resampled data\n",
    "    actual_mi = mutual_info_score(curr_vals, selected_metadata)\n",
    "    \n",
    "    #check mi above threshold\n",
    "    if actual_mi > mi_threshold_val:\n",
    "        #calc p val:\n",
    "        print('actual mi:', actual_mi)\n",
    "        # Calculate the percentile of the actual MI value\n",
    "        percentile = np.sum(null_mi_distribution <= actual_mi) / len(null_mi_distribution)\n",
    "        p_value = 1 - percentile\n",
    "        #add to df\n",
    "    mi_df = mi_df.append({'val_col': val_col, 'mi': actual_mi, 'p_val': p_value}, ignore_index=True)"
   ],
   "metadata": {
    "collapsed": false,
    "ExecuteTime": {
     "end_time": "2023-12-04T17:09:33.869793970Z",
     "start_time": "2023-12-04T17:09:31.498188593Z"
    }
   }
  },
  {
   "cell_type": "code",
   "execution_count": null,
   "outputs": [],
   "source": [
    "# calc MI between each col in metadata and each col in values\n",
    "# create a dict whose keys are the meta data cols, and the values are lists of tuples of (col, mi, p-val) of cols whose mi was above the threshold\n",
    "mi_dict = {}\n",
    "for meta_col in metadata.columns:\n",
    "    selected_metadata = metadata[meta_col]\n",
    "    \n",
    "    # Handle NA values - drop rows with NA in either column\n",
    "    na_mask =  selected_metadata.isna()\n",
    "    \n",
    "    selected_metadata = selected_metadata[~na_mask]\n",
    "      # If the metadata column is categorical, encode it\n",
    "    if selected_metadata.dtype == 'object' or selected_metadata.dtype.name == 'category':\n",
    "        encoder = LabelEncoder()\n",
    "        selected_metadata = encoder.fit_transform(selected_metadata)\n",
    "    \n",
    "    for val_col in range(values_df.shape[1]):\n",
    "        curr_vals = values_df[:,val_col]\n",
    "        curr_vals = curr_vals[~na_mask]\n",
    "        \n",
    "        # Calculate MI with the resampled data\n",
    "        actual_mi = mutual_info_score(curr_vals, selected_metadata)\n",
    "        \n",
    "        #check mi above threshold\n",
    "        if actual_mi > mi_threshold_val:\n",
    "            #calc p val:\n",
    "            print('actual mi:', actual_mi)\n",
    "            # Calculate the percentile of the actual MI value\n",
    "            percentile = np.sum(null_mi_distribution <= actual_mi) / len(null_mi_distribution)\n",
    "            p_value = 1 - percentile\n",
    "            #add to dict\n",
    "            if meta_col in mi_dict.keys():\n",
    "                mi_dict[meta_col].append((val_col, actual_mi, p_value))\n",
    "            else:\n",
    "                mi_dict[meta_col] = [(val_col, actual_mi, p_value)]\n",
    "    "
   ],
   "metadata": {
    "collapsed": false
   }
  },
  {
   "cell_type": "code",
   "execution_count": 226,
   "outputs": [
    {
     "name": "stdout",
     "output_type": "stream",
     "text": [
      "MI threshold: 6.707322570859226\n"
     ]
    }
   ],
   "source": [
    "# find the cols with highest MI for each col in metadata\n",
    "\n",
    "\n",
    "\n"
   ],
   "metadata": {
    "collapsed": false,
    "ExecuteTime": {
     "end_time": "2023-12-04T16:35:45.985136078Z",
     "start_time": "2023-12-04T16:35:45.897143082Z"
    }
   }
  },
  {
   "cell_type": "code",
   "execution_count": null,
   "outputs": [],
   "source": [],
   "metadata": {
    "collapsed": false
   }
  },
  {
   "cell_type": "code",
   "execution_count": 159,
   "outputs": [
    {
     "name": "stdout",
     "output_type": "stream",
     "text": [
      "float32 int64\n"
     ]
    },
    {
     "data": {
      "text/plain": "0.0831414634121193"
     },
     "execution_count": 159,
     "metadata": {},
     "output_type": "execute_result"
    }
   ],
   "source": [
    "\n"
   ],
   "metadata": {
    "collapsed": false,
    "ExecuteTime": {
     "end_time": "2023-12-04T14:57:22.610423231Z",
     "start_time": "2023-12-04T14:57:22.539879798Z"
    }
   }
  },
  {
   "cell_type": "code",
   "execution_count": null,
   "outputs": [],
   "source": [
    "# get corrs for scaled data\n",
    "\n",
    "# Identify numerical columns (excluding 'UMAP 1' and 'UMAP 2' as they were used for subsetting)\n",
    "numerical_cols = cell_embbed.obs.select_dtypes(include='number')\n",
    "# Initialize a DataFrame to store the highest correlation for each numerical column\n",
    "highest_correlations = pd.DataFrame(columns=['obs_column', 'X_column', 'correlation'])\n",
    "\n",
    "\n",
    "# Loop through each column in the obs matrix\n",
    "for obs_col in metadata.columns:\n",
    "    #print('obs col 1[1]:', cell_embbed.obs[obs_col][0])\n",
    "    # Initialize a variable to store the highest correlation for this obs column\n",
    "    highest_corr = {'obs_column': obs_col, 'X_column': None, 'correlation': 0}\n",
    "\n",
    "    \n",
    "\n",
    "      # If the metadata column is categorical, encode it\n",
    "    if selected_metadata.dtype == 'object' or selected_metadata.dtype.name == 'category':\n",
    "        #move to next col\n",
    "        continue\n",
    "    # Loop through each column in the X matrix\n",
    "    for val_col in range(values_df.shape[1]):\n",
    "        curr_vals = values_df[:,val_col]\n",
    "        #convert curr vals to pd series\n",
    "        curr_vals = pd.Series(curr_vals)\n",
    "        corr = cell_embbed.obs[obs_col].corr(curr_vals)\n",
    "        print('corr:', corr)\n",
    "        # Check if this is the highest correlation so far for this obs column\n",
    "        if abs(corr) > abs(highest_corr['correlation']):\n",
    "            highest_corr['X_column'] = val_col\n",
    "            highest_corr['correlation'] = corr\n",
    "            \n",
    "    print(highest_corr)\n",
    "    # Append the highest correlation for this obs column to the DataFrame\n",
    "    highest_correlations = highest_correlations.append(highest_corr, ignore_index=True)\n",
    "\n",
    "# Display the results\n",
    "highest_correlations\n"
   ],
   "metadata": {
    "collapsed": false,
    "ExecuteTime": {
     "end_time": "2023-12-04T17:19:49.794359377Z",
     "start_time": "2023-12-04T17:19:42.600222936Z"
    }
   }
  },
  {
   "cell_type": "code",
   "execution_count": null,
   "outputs": [],
   "source": [
    "\n",
    "\n",
    "# Identify numerical columns (excluding 'UMAP 1' and 'UMAP 2' as they were used for subsetting)\n",
    "numerical_cols = cell_embbed.obs.select_dtypes(include='number')\n",
    "# Initialize a DataFrame to store the highest correlation for each numerical column\n",
    "highest_correlations = pd.DataFrame(columns=['obs_column', 'X_column', 'correlation'])\n",
    "\n",
    "\n",
    "# Loop through each column in the obs matrix\n",
    "for obs_col in metadata.columns:\n",
    "    #print('obs col 1[1]:', cell_embbed.obs[obs_col][0])\n",
    "    # Initialize a variable to store the highest correlation for this obs column\n",
    "    highest_corr = {'obs_column': obs_col, 'X_column': None, 'correlation': 0}\n",
    "    \n",
    "    # Loop through each column in the X matrix\n",
    "    for x_col in X_df.columns:\n",
    "        #print('x col 1[1]:', X_df[x_col][0])\n",
    "        # Compute the correlation\n",
    "        corr = cell_embbed.obs[obs_col].corr(X_df[x_col])\n",
    "        #print('corr:', corr)\n",
    "        # Check if this is the highest correlation so far for this obs column\n",
    "        if abs(corr) > abs(highest_corr['correlation']):\n",
    "            highest_corr['X_column'] = x_col\n",
    "            highest_corr['correlation'] = corr\n",
    "            \n",
    "    print(highest_corr)\n",
    "    # Append the highest correlation for this obs column to the DataFrame\n",
    "    highest_correlations = highest_correlations.append(highest_corr, ignore_index=True)\n",
    "\n",
    "# Display the results\n",
    "highest_correlations\n"
   ],
   "metadata": {
    "collapsed": false,
    "ExecuteTime": {
     "end_time": "2023-12-04T15:19:12.468562458Z",
     "start_time": "2023-12-04T15:19:09.945116776Z"
    }
   }
  },
  {
   "cell_type": "code",
   "execution_count": null,
   "outputs": [],
   "source": [
    "# and now with MI:\n",
    "\n",
    "\n",
    "# Initialize a DataFrame to store the highest mutual information for each numerical column\n",
    "highest_mutual_info = pd.DataFrame(columns=['obs_column', 'X_column', 'mutual_info'])\n",
    "\n",
    "# Loop through each column in the obs matrix\n",
    "for obs_col in numerical_cols.columns:\n",
    "    # Initialize a variable to store the highest mutual information for this obs column\n",
    "    highest_mi = {'obs_column': obs_col, 'X_column': None, 'mutual_info': 0}\n",
    "    \n",
    "    # Select and process the obs column, drop NA values\n",
    "    curr_obs = cell_embbed.obs[obs_col].dropna()\n",
    "    print('curr obs:', obs_col, len(curr_obs))\n",
    "    \n",
    "    # Loop through each column in the X matrix\n",
    "    for x_col in X_df.columns:\n",
    "        # Compute the mutual information\n",
    "         # Select the x_col values, aligning with curr_obs by index\n",
    "        x_col_vals = X_df.loc[curr_obs.index, x_col]\n",
    "        \n",
    "        mi = mutual_info_score(curr_obs, x_col_vals)\n",
    "       \n",
    "\n",
    "        # Check if this is the highest mutual information so far for this obs column\n",
    "        if mi > highest_mi['mutual_info']:\n",
    "            highest_mi['X_column'] = x_col\n",
    "            highest_mi['mutual_info'] = mi\n",
    "\n",
    "    # Append the highest mutual information for this obs column to the DataFrame\n",
    "    highest_mutual_info = highest_mutual_info.append(highest_mi, ignore_index=True)\n",
    "\n",
    "# Display the results\n",
    "print(highest_mutual_info)"
   ],
   "metadata": {
    "collapsed": false
   }
  },
  {
   "cell_type": "markdown",
   "source": [
    "# plotting"
   ],
   "metadata": {
    "collapsed": false
   }
  },
  {
   "cell_type": "code",
   "execution_count": 27,
   "outputs": [
    {
     "name": "stderr",
     "output_type": "stream",
     "text": [
      "/home/shair/.cache/pypoetry/virtualenvs/jess-scgpt-HqbpqFrQ-py3.9/lib/python3.9/site-packages/umap/__init__.py:9: ImportWarning: Tensorflow not installed; ParametricUMAP will be unavailable\n",
      "  warn(\n"
     ]
    }
   ],
   "source": [
    "#plot the result cell_embbed.X which is #num cell rows of 512 collums\n",
    "import umap\n",
    "import matplotlib.pyplot as plt"
   ],
   "metadata": {
    "collapsed": false,
    "ExecuteTime": {
     "start_time": "2023-12-04T12:50:09.550523927Z"
    }
   }
  },
  {
   "cell_type": "code",
   "execution_count": null,
   "outputs": [],
   "source": [
    "full_adata.X.shape"
   ],
   "metadata": {
    "collapsed": false
   }
  },
  {
   "cell_type": "code",
   "execution_count": 28,
   "outputs": [],
   "source": [
    "projection_data = cell_embbed.X"
   ],
   "metadata": {
    "collapsed": false,
    "ExecuteTime": {
     "end_time": "2023-12-04T14:44:54.997872231Z",
     "start_time": "2023-12-04T14:44:54.940057426Z"
    }
   }
  },
  {
   "cell_type": "code",
   "execution_count": 29,
   "outputs": [
    {
     "name": "stderr",
     "output_type": "stream",
     "text": [
      "/home/shair/.cache/pypoetry/virtualenvs/jess-scgpt-HqbpqFrQ-py3.9/lib/python3.9/site-packages/umap/umap_.py:1943: UserWarning: n_jobs value -1 overridden to 1 by setting random_state. Use no seed for parallelism.\n",
      "  warn(f\"n_jobs value {self.n_jobs} overridden to 1 by setting random_state. Use no seed for parallelism.\")\n"
     ]
    }
   ],
   "source": [
    "#fit the projection\n",
    "reducer = umap.UMAP(random_state=42)\n",
    "embedding = reducer.fit_transform(projection_data)"
   ],
   "metadata": {
    "collapsed": false,
    "ExecuteTime": {
     "end_time": "2023-12-04T14:44:58.484122525Z",
     "start_time": "2023-12-04T14:44:56.388650056Z"
    }
   }
  },
  {
   "cell_type": "code",
   "execution_count": 144,
   "outputs": [],
   "source": [
    "# create a PCA\n",
    "\n",
    "from sklearn.decomposition import PCA\n",
    "import pandas as pd\n",
    "\n",
    "# Perform PCA on the embeddings\n",
    "pca = PCA(n_components=2)\n",
    "pca_result = pca.fit_transform(projection_data)\n",
    "\n",
    "# Create a DataFrame for the PCA results\n",
    "pca_df = pd.DataFrame(pca_result, columns=['PCA 1', 'PCA 2'])\n",
    "pca_df.index = my_adata.obs.index\n",
    "\n",
    "# If you have the obs data as a DataFrame named my_adata.obs, concatenate it with the PCA results\n",
    "full_df = pd.concat([my_adata.obs, pca_df], axis=1)\n"
   ],
   "metadata": {
    "collapsed": false,
    "ExecuteTime": {
     "end_time": "2023-12-04T14:45:02.261496795Z",
     "start_time": "2023-12-04T14:45:02.191706489Z"
    }
   }
  },
  {
   "cell_type": "code",
   "execution_count": null,
   "outputs": [],
   "source": [
    "import plotly.express as px\n",
    "\n",
    "# Create a PCA plot\n",
    "fig = px.scatter(pca_df, x='PCA 1', y='PCA 2',color=my_adata.obs['oncosig_label_ERBB2'], title=\"PCA Plot\")\n",
    "fig.update_layout(xaxis_title=\"PCA 1\", yaxis_title=\"PCA 2\")\n",
    "fig.show()"
   ],
   "metadata": {
    "collapsed": false,
    "ExecuteTime": {
     "end_time": "2023-12-04T14:45:05.325092904Z",
     "start_time": "2023-12-04T14:45:05.239008786Z"
    }
   }
  },
  {
   "cell_type": "code",
   "execution_count": 146,
   "outputs": [
    {
     "data": {
      "text/plain": "                                 oncosig_label_ERBB2  Diagnosis Age  \\\noncosig_label_ERBB2                         1.000000      -0.041841   \nDiagnosis Age                              -0.041841       1.000000   \nAneuploidy Score                            0.045360       0.051049   \nBuffa Hypoxia Score                         0.094829      -0.056280   \nFraction Genome Altered                    -0.003064       0.014275   \nMSI MANTIS Score                           -0.066289       0.029170   \nMSIsensor Score                            -0.038520       0.067884   \nMutation Count                              0.038359       0.060284   \nOverall Survival (Months)                  -0.028976      -0.156524   \nProgress Free Survival (Months)            -0.034780      -0.127021   \nRagnum Hypoxia Score                        0.179141      -0.135804   \nTMB (nonsynonymous)                         0.037966       0.060228   \nPCA 1                                       0.062217      -0.088046   \nPCA 2                                      -0.038200      -0.137531   \n\n                                 Aneuploidy Score  Buffa Hypoxia Score  \\\noncosig_label_ERBB2                      0.045360             0.094829   \nDiagnosis Age                            0.051049            -0.056280   \nAneuploidy Score                         1.000000             0.338573   \nBuffa Hypoxia Score                      0.338573             1.000000   \nFraction Genome Altered                  0.572522             0.510997   \nMSI MANTIS Score                        -0.003335             0.107306   \nMSIsensor Score                          0.051344             0.172723   \nMutation Count                           0.026769             0.073004   \nOverall Survival (Months)               -0.033938            -0.036369   \nProgress Free Survival (Months)         -0.033109            -0.058704   \nRagnum Hypoxia Score                     0.335994             0.742164   \nTMB (nonsynonymous)                      0.024584             0.076077   \nPCA 1                                    0.254655             0.778973   \nPCA 2                                    0.124051             0.261165   \n\n                                 Fraction Genome Altered  MSI MANTIS Score  \\\noncosig_label_ERBB2                            -0.003064         -0.066289   \nDiagnosis Age                                   0.014275          0.029170   \nAneuploidy Score                                0.572522         -0.003335   \nBuffa Hypoxia Score                             0.510997          0.107306   \nFraction Genome Altered                         1.000000          0.061065   \nMSI MANTIS Score                                0.061065          1.000000   \nMSIsensor Score                                 0.169252          0.698591   \nMutation Count                                  0.011710          0.176453   \nOverall Survival (Months)                      -0.032953         -0.107241   \nProgress Free Survival (Months)                -0.066046         -0.096528   \nRagnum Hypoxia Score                            0.478391          0.035729   \nTMB (nonsynonymous)                             0.011306          0.170774   \nPCA 1                                           0.379025          0.130782   \nPCA 2                                           0.142996          0.039574   \n\n                                 MSIsensor Score  Mutation Count  \\\noncosig_label_ERBB2                    -0.038520        0.038359   \nDiagnosis Age                           0.067884        0.060284   \nAneuploidy Score                        0.051344        0.026769   \nBuffa Hypoxia Score                     0.172723        0.073004   \nFraction Genome Altered                 0.169252        0.011710   \nMSI MANTIS Score                        0.698591        0.176453   \nMSIsensor Score                         1.000000        0.226222   \nMutation Count                          0.226222        1.000000   \nOverall Survival (Months)              -0.059285       -0.060390   \nProgress Free Survival (Months)        -0.063982       -0.058729   \nRagnum Hypoxia Score                    0.133691        0.067501   \nTMB (nonsynonymous)                     0.224036        0.997975   \nPCA 1                                   0.125476        0.039064   \nPCA 2                                   0.077771        0.050519   \n\n                                 Overall Survival (Months)  \\\noncosig_label_ERBB2                              -0.028976   \nDiagnosis Age                                    -0.156524   \nAneuploidy Score                                 -0.033938   \nBuffa Hypoxia Score                              -0.036369   \nFraction Genome Altered                          -0.032953   \nMSI MANTIS Score                                 -0.107241   \nMSIsensor Score                                  -0.059285   \nMutation Count                                   -0.060390   \nOverall Survival (Months)                         1.000000   \nProgress Free Survival (Months)                   0.914193   \nRagnum Hypoxia Score                             -0.015474   \nTMB (nonsynonymous)                              -0.062871   \nPCA 1                                            -0.004095   \nPCA 2                                             0.012997   \n\n                                 Progress Free Survival (Months)  \\\noncosig_label_ERBB2                                    -0.034780   \nDiagnosis Age                                          -0.127021   \nAneuploidy Score                                       -0.033109   \nBuffa Hypoxia Score                                    -0.058704   \nFraction Genome Altered                                -0.066046   \nMSI MANTIS Score                                       -0.096528   \nMSIsensor Score                                        -0.063982   \nMutation Count                                         -0.058729   \nOverall Survival (Months)                               0.914193   \nProgress Free Survival (Months)                         1.000000   \nRagnum Hypoxia Score                                   -0.025935   \nTMB (nonsynonymous)                                    -0.060804   \nPCA 1                                                  -0.026800   \nPCA 2                                                   0.012019   \n\n                                 Ragnum Hypoxia Score  TMB (nonsynonymous)  \\\noncosig_label_ERBB2                          0.179141             0.037966   \nDiagnosis Age                               -0.135804             0.060228   \nAneuploidy Score                             0.335994             0.024584   \nBuffa Hypoxia Score                          0.742164             0.076077   \nFraction Genome Altered                      0.478391             0.011306   \nMSI MANTIS Score                             0.035729             0.170774   \nMSIsensor Score                              0.133691             0.224036   \nMutation Count                               0.067501             0.997975   \nOverall Survival (Months)                   -0.015474            -0.062871   \nProgress Free Survival (Months)             -0.025935            -0.060804   \nRagnum Hypoxia Score                         1.000000             0.066815   \nTMB (nonsynonymous)                          0.066815             1.000000   \nPCA 1                                        0.531141             0.041696   \nPCA 2                                        0.337530             0.051322   \n\n                                        PCA 1         PCA 2  \noncosig_label_ERBB2              6.221735e-02 -3.819977e-02  \nDiagnosis Age                   -8.804612e-02 -1.375311e-01  \nAneuploidy Score                 2.546548e-01  1.240515e-01  \nBuffa Hypoxia Score              7.789725e-01  2.611648e-01  \nFraction Genome Altered          3.790246e-01  1.429963e-01  \nMSI MANTIS Score                 1.307817e-01  3.957399e-02  \nMSIsensor Score                  1.254760e-01  7.777142e-02  \nMutation Count                   3.906375e-02  5.051949e-02  \nOverall Survival (Months)       -4.094510e-03  1.299708e-02  \nProgress Free Survival (Months) -2.679977e-02  1.201868e-02  \nRagnum Hypoxia Score             5.311414e-01  3.375305e-01  \nTMB (nonsynonymous)              4.169576e-02  5.132215e-02  \nPCA 1                            1.000000e+00  1.218458e-08  \nPCA 2                            1.218458e-08  1.000000e+00  ",
      "text/html": "<div>\n<style scoped>\n    .dataframe tbody tr th:only-of-type {\n        vertical-align: middle;\n    }\n\n    .dataframe tbody tr th {\n        vertical-align: top;\n    }\n\n    .dataframe thead th {\n        text-align: right;\n    }\n</style>\n<table border=\"1\" class=\"dataframe\">\n  <thead>\n    <tr style=\"text-align: right;\">\n      <th></th>\n      <th>oncosig_label_ERBB2</th>\n      <th>Diagnosis Age</th>\n      <th>Aneuploidy Score</th>\n      <th>Buffa Hypoxia Score</th>\n      <th>Fraction Genome Altered</th>\n      <th>MSI MANTIS Score</th>\n      <th>MSIsensor Score</th>\n      <th>Mutation Count</th>\n      <th>Overall Survival (Months)</th>\n      <th>Progress Free Survival (Months)</th>\n      <th>Ragnum Hypoxia Score</th>\n      <th>TMB (nonsynonymous)</th>\n      <th>PCA 1</th>\n      <th>PCA 2</th>\n    </tr>\n  </thead>\n  <tbody>\n    <tr>\n      <th>oncosig_label_ERBB2</th>\n      <td>1.000000</td>\n      <td>-0.041841</td>\n      <td>0.045360</td>\n      <td>0.094829</td>\n      <td>-0.003064</td>\n      <td>-0.066289</td>\n      <td>-0.038520</td>\n      <td>0.038359</td>\n      <td>-0.028976</td>\n      <td>-0.034780</td>\n      <td>0.179141</td>\n      <td>0.037966</td>\n      <td>6.221735e-02</td>\n      <td>-3.819977e-02</td>\n    </tr>\n    <tr>\n      <th>Diagnosis Age</th>\n      <td>-0.041841</td>\n      <td>1.000000</td>\n      <td>0.051049</td>\n      <td>-0.056280</td>\n      <td>0.014275</td>\n      <td>0.029170</td>\n      <td>0.067884</td>\n      <td>0.060284</td>\n      <td>-0.156524</td>\n      <td>-0.127021</td>\n      <td>-0.135804</td>\n      <td>0.060228</td>\n      <td>-8.804612e-02</td>\n      <td>-1.375311e-01</td>\n    </tr>\n    <tr>\n      <th>Aneuploidy Score</th>\n      <td>0.045360</td>\n      <td>0.051049</td>\n      <td>1.000000</td>\n      <td>0.338573</td>\n      <td>0.572522</td>\n      <td>-0.003335</td>\n      <td>0.051344</td>\n      <td>0.026769</td>\n      <td>-0.033938</td>\n      <td>-0.033109</td>\n      <td>0.335994</td>\n      <td>0.024584</td>\n      <td>2.546548e-01</td>\n      <td>1.240515e-01</td>\n    </tr>\n    <tr>\n      <th>Buffa Hypoxia Score</th>\n      <td>0.094829</td>\n      <td>-0.056280</td>\n      <td>0.338573</td>\n      <td>1.000000</td>\n      <td>0.510997</td>\n      <td>0.107306</td>\n      <td>0.172723</td>\n      <td>0.073004</td>\n      <td>-0.036369</td>\n      <td>-0.058704</td>\n      <td>0.742164</td>\n      <td>0.076077</td>\n      <td>7.789725e-01</td>\n      <td>2.611648e-01</td>\n    </tr>\n    <tr>\n      <th>Fraction Genome Altered</th>\n      <td>-0.003064</td>\n      <td>0.014275</td>\n      <td>0.572522</td>\n      <td>0.510997</td>\n      <td>1.000000</td>\n      <td>0.061065</td>\n      <td>0.169252</td>\n      <td>0.011710</td>\n      <td>-0.032953</td>\n      <td>-0.066046</td>\n      <td>0.478391</td>\n      <td>0.011306</td>\n      <td>3.790246e-01</td>\n      <td>1.429963e-01</td>\n    </tr>\n    <tr>\n      <th>MSI MANTIS Score</th>\n      <td>-0.066289</td>\n      <td>0.029170</td>\n      <td>-0.003335</td>\n      <td>0.107306</td>\n      <td>0.061065</td>\n      <td>1.000000</td>\n      <td>0.698591</td>\n      <td>0.176453</td>\n      <td>-0.107241</td>\n      <td>-0.096528</td>\n      <td>0.035729</td>\n      <td>0.170774</td>\n      <td>1.307817e-01</td>\n      <td>3.957399e-02</td>\n    </tr>\n    <tr>\n      <th>MSIsensor Score</th>\n      <td>-0.038520</td>\n      <td>0.067884</td>\n      <td>0.051344</td>\n      <td>0.172723</td>\n      <td>0.169252</td>\n      <td>0.698591</td>\n      <td>1.000000</td>\n      <td>0.226222</td>\n      <td>-0.059285</td>\n      <td>-0.063982</td>\n      <td>0.133691</td>\n      <td>0.224036</td>\n      <td>1.254760e-01</td>\n      <td>7.777142e-02</td>\n    </tr>\n    <tr>\n      <th>Mutation Count</th>\n      <td>0.038359</td>\n      <td>0.060284</td>\n      <td>0.026769</td>\n      <td>0.073004</td>\n      <td>0.011710</td>\n      <td>0.176453</td>\n      <td>0.226222</td>\n      <td>1.000000</td>\n      <td>-0.060390</td>\n      <td>-0.058729</td>\n      <td>0.067501</td>\n      <td>0.997975</td>\n      <td>3.906375e-02</td>\n      <td>5.051949e-02</td>\n    </tr>\n    <tr>\n      <th>Overall Survival (Months)</th>\n      <td>-0.028976</td>\n      <td>-0.156524</td>\n      <td>-0.033938</td>\n      <td>-0.036369</td>\n      <td>-0.032953</td>\n      <td>-0.107241</td>\n      <td>-0.059285</td>\n      <td>-0.060390</td>\n      <td>1.000000</td>\n      <td>0.914193</td>\n      <td>-0.015474</td>\n      <td>-0.062871</td>\n      <td>-4.094510e-03</td>\n      <td>1.299708e-02</td>\n    </tr>\n    <tr>\n      <th>Progress Free Survival (Months)</th>\n      <td>-0.034780</td>\n      <td>-0.127021</td>\n      <td>-0.033109</td>\n      <td>-0.058704</td>\n      <td>-0.066046</td>\n      <td>-0.096528</td>\n      <td>-0.063982</td>\n      <td>-0.058729</td>\n      <td>0.914193</td>\n      <td>1.000000</td>\n      <td>-0.025935</td>\n      <td>-0.060804</td>\n      <td>-2.679977e-02</td>\n      <td>1.201868e-02</td>\n    </tr>\n    <tr>\n      <th>Ragnum Hypoxia Score</th>\n      <td>0.179141</td>\n      <td>-0.135804</td>\n      <td>0.335994</td>\n      <td>0.742164</td>\n      <td>0.478391</td>\n      <td>0.035729</td>\n      <td>0.133691</td>\n      <td>0.067501</td>\n      <td>-0.015474</td>\n      <td>-0.025935</td>\n      <td>1.000000</td>\n      <td>0.066815</td>\n      <td>5.311414e-01</td>\n      <td>3.375305e-01</td>\n    </tr>\n    <tr>\n      <th>TMB (nonsynonymous)</th>\n      <td>0.037966</td>\n      <td>0.060228</td>\n      <td>0.024584</td>\n      <td>0.076077</td>\n      <td>0.011306</td>\n      <td>0.170774</td>\n      <td>0.224036</td>\n      <td>0.997975</td>\n      <td>-0.062871</td>\n      <td>-0.060804</td>\n      <td>0.066815</td>\n      <td>1.000000</td>\n      <td>4.169576e-02</td>\n      <td>5.132215e-02</td>\n    </tr>\n    <tr>\n      <th>PCA 1</th>\n      <td>0.062217</td>\n      <td>-0.088046</td>\n      <td>0.254655</td>\n      <td>0.778973</td>\n      <td>0.379025</td>\n      <td>0.130782</td>\n      <td>0.125476</td>\n      <td>0.039064</td>\n      <td>-0.004095</td>\n      <td>-0.026800</td>\n      <td>0.531141</td>\n      <td>0.041696</td>\n      <td>1.000000e+00</td>\n      <td>1.218458e-08</td>\n    </tr>\n    <tr>\n      <th>PCA 2</th>\n      <td>-0.038200</td>\n      <td>-0.137531</td>\n      <td>0.124051</td>\n      <td>0.261165</td>\n      <td>0.142996</td>\n      <td>0.039574</td>\n      <td>0.077771</td>\n      <td>0.050519</td>\n      <td>0.012997</td>\n      <td>0.012019</td>\n      <td>0.337530</td>\n      <td>0.051322</td>\n      <td>1.218458e-08</td>\n      <td>1.000000e+00</td>\n    </tr>\n  </tbody>\n</table>\n</div>"
     },
     "execution_count": 146,
     "metadata": {},
     "output_type": "execute_result"
    }
   ],
   "source": [
    "# Assuming my_adata.obs is a DataFrame containing the original observational data\n",
    "# Calculate correlations\n",
    "correlation_matrix = full_df.corr()\n",
    "\n",
    "# Display the correlation matrix\n",
    "correlation_matrix\n"
   ],
   "metadata": {
    "collapsed": false,
    "ExecuteTime": {
     "end_time": "2023-12-04T14:45:26.241167740Z",
     "start_time": "2023-12-04T14:45:26.199245947Z"
    }
   }
  },
  {
   "cell_type": "markdown",
   "source": [
    "# select and analyze subsets based on umap"
   ],
   "metadata": {
    "collapsed": false
   }
  },
  {
   "cell_type": "code",
   "execution_count": 42,
   "outputs": [
    {
     "ename": "ModuleNotFoundError",
     "evalue": "No module named 'plotly'",
     "output_type": "error",
     "traceback": [
      "\u001B[0;31m---------------------------------------------------------------------------\u001B[0m",
      "\u001B[0;31mModuleNotFoundError\u001B[0m                       Traceback (most recent call last)",
      "Cell \u001B[0;32mIn[42], line 1\u001B[0m\n\u001B[0;32m----> 1\u001B[0m \u001B[38;5;28;01mimport\u001B[39;00m \u001B[38;5;21;01mplotly\u001B[39;00m\u001B[38;5;21;01m.\u001B[39;00m\u001B[38;5;21;01mexpress\u001B[39;00m \u001B[38;5;28;01mas\u001B[39;00m \u001B[38;5;21;01mpx\u001B[39;00m\n\u001B[1;32m      3\u001B[0m \u001B[38;5;66;03m# Prepare your data\u001B[39;00m\n\u001B[1;32m      4\u001B[0m umap_x \u001B[38;5;241m=\u001B[39m embedding[:, \u001B[38;5;241m0\u001B[39m]\n",
      "\u001B[0;31mModuleNotFoundError\u001B[0m: No module named 'plotly'"
     ]
    }
   ],
   "source": [
    "import plotly.express as px\n",
    "\n",
    "# Prepare your data\n",
    "umap_x = embedding[:, 0]\n",
    "umap_y = embedding[:, 1]\n",
    "\n"
   ],
   "metadata": {
    "collapsed": false,
    "ExecuteTime": {
     "end_time": "2023-12-04T14:46:40.413677444Z",
     "start_time": "2023-12-04T14:46:40.393425274Z"
    }
   }
  },
  {
   "cell_type": "code",
   "execution_count": 148,
   "outputs": [],
   "source": [
    "\n",
    "# Create a DataFrame for Plotly: add the UMAP cols to my_adata.obs\n",
    "umap_df = pd.DataFrame(my_adata.obs.copy())\n",
    "umap_df['UMAP 1'] = umap_x\n",
    "umap_df['UMAP 2'] = umap_y\n",
    "\n",
    "plt_title = 'UMAP tcga brca erbb2 scgpt sub genes & onc label'\n"
   ],
   "metadata": {
    "collapsed": false,
    "ExecuteTime": {
     "end_time": "2023-12-04T14:47:02.863246421Z",
     "start_time": "2023-12-04T14:47:02.773743569Z"
    }
   }
  },
  {
   "cell_type": "code",
   "execution_count": 151,
   "outputs": [
    {
     "data": {
      "application/vnd.plotly.v1+json": {
       "data": [
        {
         "hovertemplate": "UMAP 1=%{x}<br>UMAP 2=%{y}<br>oncosig_label_ERBB2=%{marker.color}<extra></extra>",
         "legendgroup": "",
         "marker": {
          "color": [
           0,
           0,
           1,
           1,
           1,
           0,
           0,
           0,
           0,
           0,
           0,
           0,
           0,
           0,
           0,
           0,
           1,
           0,
           0,
           0,
           0,
           0,
           0,
           0,
           0,
           0,
           1,
           1,
           0,
           0,
           0,
           0,
           0,
           0,
           0,
           0,
           0,
           0,
           0,
           0,
           0,
           1,
           0,
           0,
           0,
           0,
           0,
           0,
           0,
           0,
           0,
           0,
           0,
           0,
           0,
           0,
           0,
           1,
           0,
           0,
           0,
           0,
           1,
           0,
           1,
           0,
           0,
           0,
           0,
           1,
           0,
           0,
           0,
           0,
           0,
           0,
           0,
           1,
           0,
           0,
           0,
           0,
           0,
           0,
           0,
           0,
           0,
           0,
           0,
           0,
           0,
           0,
           0,
           0,
           0,
           0,
           0,
           0,
           0,
           0,
           1,
           0,
           0,
           1,
           0,
           0,
           0,
           0,
           0,
           0,
           0,
           0,
           0,
           0,
           0,
           0,
           0,
           0,
           0,
           0,
           0,
           0,
           0,
           0,
           0,
           0,
           1,
           0,
           0,
           0,
           0,
           0,
           0,
           0,
           0,
           0,
           0,
           0,
           0,
           0,
           0,
           0,
           0,
           0,
           0,
           1,
           0,
           0,
           1,
           0,
           1,
           0,
           0,
           0,
           0,
           0,
           1,
           0,
           0,
           0,
           1,
           0,
           0,
           0,
           0,
           0,
           0,
           0,
           0,
           1,
           0,
           0,
           0,
           1,
           0,
           0,
           0,
           0,
           0,
           1,
           1,
           0,
           0,
           0,
           0,
           0,
           0,
           0,
           1,
           0,
           0,
           0,
           0,
           0,
           1,
           0,
           0,
           0,
           0,
           0,
           0,
           0,
           0,
           0,
           0,
           0,
           0,
           1,
           1,
           0,
           1,
           0,
           1,
           0,
           1,
           0,
           0,
           0,
           1,
           0,
           0,
           0,
           0,
           0,
           0,
           0,
           0,
           1,
           1,
           1,
           0,
           0,
           0,
           0,
           0,
           0,
           0,
           0,
           0,
           0,
           0,
           0,
           0,
           0,
           0,
           0,
           0,
           0,
           0,
           0,
           0,
           1,
           0,
           1,
           0,
           0,
           0,
           0,
           0,
           0,
           0,
           0,
           0,
           0,
           0,
           0,
           0,
           0,
           1,
           1,
           0,
           0,
           0,
           0,
           0,
           0,
           0,
           0,
           0,
           0,
           0,
           0,
           0,
           0,
           1,
           0,
           0,
           0,
           0,
           0,
           0,
           0,
           0,
           0,
           0,
           0,
           0,
           0,
           0,
           0,
           0,
           0,
           0,
           0,
           0,
           1,
           0,
           0,
           0,
           0,
           0,
           0,
           0,
           0,
           0,
           0,
           0,
           0,
           1,
           0,
           0,
           0,
           0,
           0,
           0,
           0,
           0,
           1,
           0,
           1,
           0,
           0,
           0,
           0,
           1,
           0,
           0,
           0,
           0,
           0,
           1,
           0,
           0,
           0,
           0,
           0,
           0,
           0,
           0,
           0,
           0,
           0,
           0,
           0,
           0,
           0,
           0,
           0,
           0,
           1,
           1,
           0,
           0,
           0,
           0,
           0,
           0,
           0,
           0,
           0,
           1,
           0,
           0,
           0,
           0,
           1,
           0,
           0,
           1,
           0,
           0,
           0,
           0,
           0,
           0,
           0,
           0,
           0,
           0,
           0,
           0,
           0,
           0,
           0,
           0,
           1,
           0,
           0,
           0,
           0,
           1,
           0,
           0,
           0,
           0,
           1,
           0,
           0,
           0,
           0,
           0,
           1,
           0,
           0,
           0,
           0,
           0,
           0,
           0,
           0,
           0,
           0,
           0,
           0,
           0,
           0,
           0,
           0,
           0,
           0,
           0,
           0,
           0,
           0,
           0,
           0,
           0,
           1,
           0,
           0,
           0,
           0,
           0,
           0,
           0,
           1,
           0,
           0,
           0,
           0,
           0,
           1,
           0,
           0,
           0,
           0,
           0,
           0,
           0,
           0,
           0,
           0,
           0,
           0,
           0,
           0,
           0,
           0,
           0,
           0,
           1,
           0,
           0,
           0,
           0,
           0,
           0,
           0,
           0,
           0,
           0,
           0,
           0,
           0,
           0,
           1,
           0,
           0,
           0,
           0,
           0,
           0,
           0,
           0,
           0,
           0,
           0,
           0,
           0,
           0,
           0,
           0,
           0,
           0,
           0,
           0,
           0,
           0,
           0,
           0,
           0,
           0,
           1,
           0,
           0,
           0,
           0,
           0,
           0,
           0,
           0,
           0,
           0,
           0,
           0,
           0,
           0,
           0,
           1,
           1,
           0,
           0,
           1,
           0,
           1,
           0,
           0,
           0,
           1,
           0,
           0,
           0,
           0,
           1,
           0,
           0,
           0,
           0,
           1,
           0,
           0,
           0,
           0,
           0,
           0,
           0,
           1,
           0,
           1,
           0,
           0,
           0,
           0,
           0,
           0,
           0,
           0,
           0,
           0,
           0,
           0,
           0,
           0,
           0,
           1,
           0,
           0,
           0,
           1,
           1,
           0,
           0,
           0,
           0,
           0,
           1,
           0,
           0,
           1,
           0,
           0,
           1,
           1,
           1,
           0,
           1,
           0,
           0,
           0,
           1,
           1,
           0,
           0,
           0,
           0,
           1,
           0,
           0,
           1,
           1,
           1,
           1,
           0,
           0,
           0,
           1,
           0,
           0,
           0,
           0,
           1,
           0,
           0,
           0,
           0,
           0,
           0,
           1,
           1,
           0,
           0,
           0,
           0,
           0,
           0,
           0,
           0,
           0,
           0,
           0,
           0,
           0,
           0,
           0,
           0,
           0,
           1,
           0,
           0,
           0,
           0,
           0,
           0,
           0,
           0,
           0,
           1,
           0,
           0,
           1,
           0,
           0,
           0,
           1,
           0,
           0,
           0,
           0,
           0,
           0,
           0,
           0,
           0,
           0,
           0,
           1,
           0,
           0,
           0,
           0,
           0,
           0,
           0,
           0,
           1,
           0,
           0,
           0,
           0,
           0,
           0,
           0,
           1,
           0,
           0,
           0,
           0,
           0,
           0,
           0,
           0,
           0,
           1,
           0,
           0,
           0,
           1,
           0,
           1,
           0,
           0,
           1,
           0,
           0,
           0,
           0,
           0,
           0,
           0,
           0,
           0,
           1,
           0,
           0,
           1,
           0,
           0,
           0,
           0,
           0,
           0,
           0,
           0,
           0,
           0,
           1,
           1,
           0,
           0,
           0,
           0,
           0,
           0,
           0,
           0,
           0,
           0,
           0,
           0,
           0,
           0,
           0,
           0,
           0,
           0,
           0,
           1,
           0,
           0,
           0,
           0,
           0,
           0,
           0,
           0,
           0,
           0,
           0,
           0,
           0,
           0,
           0,
           0,
           0,
           0,
           0,
           0,
           0,
           0,
           0,
           0,
           0,
           0,
           0,
           0,
           1,
           0,
           0,
           0,
           0,
           0,
           0,
           0,
           0,
           0,
           1,
           0,
           0,
           1,
           0,
           0,
           0,
           1,
           0,
           0,
           0,
           0,
           0,
           0,
           0,
           0,
           0,
           0,
           0,
           0,
           0,
           0,
           0,
           0,
           0,
           0,
           0,
           0,
           1,
           0,
           0,
           0,
           0,
           0,
           1,
           0,
           0,
           0,
           0,
           0,
           1,
           0,
           0,
           0,
           0,
           0,
           0,
           0,
           0,
           0,
           0,
           0,
           0,
           0,
           1,
           0,
           0,
           0,
           0,
           1,
           0,
           0,
           0,
           0,
           1,
           0,
           0,
           0,
           0,
           0,
           0,
           0,
           0,
           0,
           0,
           0,
           0,
           0,
           0,
           0,
           0,
           0,
           0,
           0,
           0,
           0,
           0,
           1,
           0,
           0,
           0,
           0,
           1,
           0,
           0,
           0,
           0,
           0,
           0,
           0,
           0,
           0,
           0,
           0,
           0,
           1,
           0,
           0,
           0,
           0,
           0,
           0,
           0,
           0,
           0,
           0,
           0,
           0,
           0,
           0,
           1,
           0,
           0,
           0,
           0,
           0,
           0,
           0,
           0,
           0,
           0,
           0,
           0,
           0,
           0,
           0,
           0,
           0,
           0,
           0,
           0,
           1,
           0,
           0,
           1,
           1,
           0,
           0,
           0,
           0,
           0,
           0,
           0,
           0
          ],
          "coloraxis": "coloraxis",
          "opacity": 0.4,
          "symbol": "circle"
         },
         "mode": "markers",
         "name": "",
         "orientation": "v",
         "showlegend": false,
         "x": [
          11.665336608886719,
          8.708106994628906,
          9.023248672485352,
          9.77665901184082,
          10.036528587341309,
          10.044981956481934,
          9.3951997756958,
          11.081100463867188,
          11.651244163513184,
          11.160680770874023,
          10.920684814453125,
          10.609375,
          10.351042747497559,
          9.29906177520752,
          10.702220916748047,
          4.862010955810547,
          9.485810279846191,
          4.77506160736084,
          5.578192710876465,
          11.818866729736328,
          10.882745742797852,
          5.862996578216553,
          5.849023342132568,
          10.905473709106445,
          4.967538833618164,
          10.408173561096191,
          8.775876998901367,
          8.854500770568848,
          10.750081062316895,
          9.456109046936035,
          8.525569915771484,
          5.39807653427124,
          10.037313461303711,
          11.367419242858887,
          9.168618202209473,
          10.261348724365234,
          10.9739351272583,
          11.296031951904297,
          11.108563423156738,
          9.592368125915527,
          4.965339660644531,
          8.983907699584961,
          5.381577491760254,
          12.311723709106445,
          10.433850288391113,
          11.74583625793457,
          9.999499320983887,
          10.80398941040039,
          9.15156364440918,
          8.435240745544434,
          12.347654342651367,
          12.269620895385742,
          12.194697380065918,
          11.606045722961426,
          9.864790916442871,
          11.636360168457031,
          11.006157875061035,
          9.412749290466309,
          6.009555339813232,
          10.960257530212402,
          8.322990417480469,
          5.921046733856201,
          11.011744499206543,
          5.960414886474609,
          8.263392448425293,
          5.929356098175049,
          10.613594055175781,
          9.618611335754395,
          10.924837112426758,
          10.726578712463379,
          9.728140830993652,
          11.94411563873291,
          10.82430648803711,
          5.995828151702881,
          12.494791984558105,
          9.167502403259277,
          12.539610862731934,
          5.972591876983643,
          9.02623176574707,
          11.766557693481445,
          5.6019158363342285,
          10.10766315460205,
          12.171065330505371,
          11.60827922821045,
          11.579277992248535,
          11.742610931396484,
          12.120118141174316,
          5.991442680358887,
          12.109506607055664,
          12.320062637329102,
          12.17936897277832,
          11.43514633178711,
          12.17732048034668,
          12.020779609680176,
          8.497800827026367,
          11.070093154907227,
          6.304429054260254,
          12.158785820007324,
          4.951414585113525,
          5.2242536544799805,
          8.734304428100586,
          9.134713172912598,
          5.422637462615967,
          8.742790222167969,
          5.169998645782471,
          6.450483322143555,
          10.754636764526367,
          9.210055351257324,
          12.028096199035645,
          5.1611857414245605,
          11.712809562683105,
          12.389019012451172,
          10.612095832824707,
          11.292461395263672,
          6.385162830352783,
          11.42192268371582,
          5.85911226272583,
          5.990010738372803,
          10.656147003173828,
          12.552807807922363,
          12.299193382263184,
          6.5412116050720215,
          6.687246799468994,
          11.99571418762207,
          6.3557257652282715,
          11.974935531616211,
          9.898387908935547,
          11.48036003112793,
          9.526773452758789,
          5.942195892333984,
          6.063976287841797,
          8.783041000366211,
          6.10730504989624,
          10.734538078308105,
          10.52308464050293,
          6.178924560546875,
          5.316504001617432,
          10.192939758300781,
          5.82877254486084,
          12.111729621887207,
          10.620203971862793,
          10.551263809204102,
          10.710652351379395,
          9.435246467590332,
          11.846089363098145,
          8.927474975585938,
          8.972078323364258,
          12.352237701416016,
          11.222256660461426,
          8.968969345092773,
          9.440661430358887,
          10.30052661895752,
          11.240768432617188,
          10.14179801940918,
          12.278037071228027,
          11.078519821166992,
          9.60103702545166,
          10.530003547668457,
          10.24049186706543,
          5.160120487213135,
          11.345466613769531,
          5.790680408477783,
          9.923583030700684,
          11.108892440795898,
          10.113459587097168,
          10.45277214050293,
          12.363561630249023,
          11.206650733947754,
          10.462620735168457,
          9.228596687316895,
          9.759786605834961,
          6.428983688354492,
          8.724217414855957,
          8.999281883239746,
          8.850627899169922,
          11.320520401000977,
          8.453661918640137,
          5.878841876983643,
          11.411842346191406,
          6.545078277587891,
          10.598675727844238,
          12.04085636138916,
          12.353971481323242,
          10.104402542114258,
          10.780998229980469,
          8.200177192687988,
          11.758683204650879,
          10.958409309387207,
          9.934905052185059,
          12.577661514282227,
          11.081552505493164,
          10.990080833435059,
          11.47254467010498,
          9.640596389770508,
          9.41050910949707,
          8.664583206176758,
          9.392616271972656,
          11.336118698120117,
          11.325737953186035,
          9.869657516479492,
          11.251397132873535,
          12.211816787719727,
          8.456092834472656,
          8.326170921325684,
          11.25447940826416,
          12.014652252197266,
          11.215409278869629,
          9.776385307312012,
          8.319079399108887,
          10.255743980407715,
          11.670513153076172,
          11.390448570251465,
          11.94780445098877,
          10.807271003723145,
          9.20143985748291,
          11.11989688873291,
          4.964091777801514,
          11.741482734680176,
          8.861918449401855,
          11.432004928588867,
          12.213240623474121,
          12.313849449157715,
          9.14474868774414,
          6.26126766204834,
          10.051718711853027,
          11.25743579864502,
          9.464709281921387,
          8.806954383850098,
          9.547226905822754,
          9.698647499084473,
          11.5317964553833,
          11.430381774902344,
          9.566737174987793,
          9.492538452148438,
          9.074812889099121,
          5.376442909240723,
          10.63793659210205,
          9.587234497070312,
          4.949164867401123,
          9.911886215209961,
          11.017099380493164,
          9.992959976196289,
          6.35858154296875,
          11.209539413452148,
          5.89686393737793,
          11.531903266906738,
          10.517730712890625,
          10.418651580810547,
          10.190743446350098,
          10.919612884521484,
          9.472771644592285,
          9.518110275268555,
          9.771160125732422,
          8.606608390808105,
          8.337594032287598,
          9.33034610748291,
          6.295967102050781,
          8.72891616821289,
          5.479869842529297,
          9.535285949707031,
          5.226760387420654,
          10.007789611816406,
          11.550810813903809,
          5.803610324859619,
          11.707308769226074,
          8.787094116210938,
          10.061044692993164,
          11.84721565246582,
          9.049663543701172,
          9.013219833374023,
          10.159136772155762,
          6.13404655456543,
          10.134255409240723,
          11.090575218200684,
          11.757607460021973,
          10.090782165527344,
          11.247270584106445,
          11.81997013092041,
          10.758853912353516,
          10.724024772644043,
          12.661763191223145,
          5.310109615325928,
          11.994089126586914,
          9.454621315002441,
          9.458817481994629,
          8.665942192077637,
          10.000908851623535,
          9.945181846618652,
          10.447687149047852,
          10.04631233215332,
          8.892475128173828,
          10.354482650756836,
          11.245855331420898,
          7.327311992645264,
          10.861970901489258,
          6.060496807098389,
          10.078682899475098,
          5.444458484649658,
          10.088162422180176,
          10.93443775177002,
          9.301168441772461,
          10.141165733337402,
          8.911225318908691,
          8.478919982910156,
          10.03975772857666,
          9.211215019226074,
          11.458874702453613,
          11.83621597290039,
          11.87550163269043,
          11.648487091064453,
          9.474849700927734,
          5.20640230178833,
          12.070481300354004,
          9.871576309204102,
          5.9920854568481445,
          5.3101277351379395,
          11.388744354248047,
          12.138044357299805,
          9.225488662719727,
          11.775989532470703,
          5.575108528137207,
          10.611185073852539,
          12.098694801330566,
          12.302874565124512,
          11.846896171569824,
          12.09281063079834,
          9.780434608459473,
          11.023271560668945,
          6.22981071472168,
          9.67475700378418,
          11.868011474609375,
          12.01738452911377,
          9.314988136291504,
          6.15635347366333,
          9.43818473815918,
          12.46554946899414,
          6.060354232788086,
          8.67105770111084,
          9.942237854003906,
          9.092345237731934,
          9.051536560058594,
          10.5665283203125,
          11.684300422668457,
          5.393255233764648,
          10.644721031188965,
          6.122816562652588,
          5.080230236053467,
          5.250949382781982,
          6.198005676269531,
          9.013893127441406,
          11.95626163482666,
          11.012528419494629,
          6.6493730545043945,
          10.5825834274292,
          5.266029357910156,
          6.489092826843262,
          9.738723754882812,
          10.861808776855469,
          8.591998100280762,
          8.712052345275879,
          10.012434005737305,
          12.099757194519043,
          11.946675300598145,
          12.263083457946777,
          12.053624153137207,
          11.866189002990723,
          11.977313995361328,
          11.919534683227539,
          11.550474166870117,
          11.65750789642334,
          7.851600646972656,
          10.817814826965332,
          12.2626314163208,
          12.011275291442871,
          12.356627464294434,
          9.644966125488281,
          5.972969055175781,
          11.745401382446289,
          8.065971374511719,
          11.605570793151855,
          5.470598220825195,
          12.482446670532227,
          8.701217651367188,
          11.346625328063965,
          11.483933448791504,
          11.344145774841309,
          9.68748950958252,
          10.761962890625,
          10.722110748291016,
          10.436129570007324,
          10.650445938110352,
          5.732302665710449,
          5.0416765213012695,
          5.018259525299072,
          9.147282600402832,
          9.041379928588867,
          9.4805908203125,
          9.121368408203125,
          12.387967109680176,
          9.148994445800781,
          8.836684226989746,
          11.145163536071777,
          5.088262557983398,
          8.36638355255127,
          11.489689826965332,
          9.204277038574219,
          10.62671947479248,
          11.054313659667969,
          5.376362323760986,
          5.5979180335998535,
          10.833565711975098,
          8.906495094299316,
          11.048773765563965,
          10.671431541442871,
          11.745523452758789,
          10.82982063293457,
          11.968241691589355,
          11.294986724853516,
          12.284533500671387,
          8.419746398925781,
          5.992884635925293,
          11.77037525177002,
          11.68285083770752,
          11.441411018371582,
          11.23211669921875,
          11.383392333984375,
          6.56887149810791,
          9.358390808105469,
          10.824365615844727,
          11.499452590942383,
          5.256690502166748,
          12.165266036987305,
          10.738100051879883,
          10.957737922668457,
          11.650416374206543,
          5.443423271179199,
          12.0401611328125,
          10.632370948791504,
          11.707169532775879,
          9.630512237548828,
          5.3949875831604,
          9.438672065734863,
          9.463048934936523,
          11.464838027954102,
          6.44333553314209,
          8.476715087890625,
          9.552301406860352,
          10.122209548950195,
          9.581013679504395,
          5.620666027069092,
          10.890422821044922,
          9.085826873779297,
          5.042145729064941,
          12.432454109191895,
          9.291281700134277,
          9.847222328186035,
          9.177083015441895,
          5.973023414611816,
          11.426246643066406,
          6.3739447593688965,
          11.17231559753418,
          11.920759201049805,
          10.915201187133789,
          9.958553314208984,
          9.281132698059082,
          12.5309476852417,
          9.327606201171875,
          11.720726013183594,
          6.307989597320557,
          8.485360145568848,
          10.32353687286377,
          10.273263931274414,
          11.548906326293945,
          11.027788162231445,
          9.73949909210205,
          11.920015335083008,
          9.089019775390625,
          5.724360466003418,
          12.333459854125977,
          11.12023639678955,
          9.783109664916992,
          10.55568790435791,
          11.835103034973145,
          10.339065551757812,
          9.608108520507812,
          8.38914966583252,
          5.18798303604126,
          10.970579147338867,
          10.461030960083008,
          5.454952239990234,
          12.685850143432617,
          12.311180114746094,
          10.581100463867188,
          10.872993469238281,
          10.00837516784668,
          10.353808403015137,
          11.178801536560059,
          11.675921440124512,
          8.710856437683105,
          10.92322826385498,
          9.739313125610352,
          10.249414443969727,
          10.005518913269043,
          9.433695793151855,
          11.451494216918945,
          10.95721435546875,
          12.065400123596191,
          11.310229301452637,
          10.546738624572754,
          8.874856948852539,
          11.117755889892578,
          10.118249893188477,
          9.559843063354492,
          5.921532154083252,
          12.306797981262207,
          11.55556583404541,
          9.122871398925781,
          9.174312591552734,
          6.101362228393555,
          10.098223686218262,
          8.144281387329102,
          8.592866897583008,
          10.79633617401123,
          9.500911712646484,
          9.861099243164062,
          10.747760772705078,
          11.024455070495605,
          12.610716819763184,
          10.079708099365234,
          10.161463737487793,
          12.471779823303223,
          5.0945563316345215,
          8.033658981323242,
          5.760682106018066,
          8.927629470825195,
          11.847953796386719,
          12.607479095458984,
          12.23833179473877,
          9.461258888244629,
          11.938764572143555,
          11.310113906860352,
          10.490143775939941,
          6.342249393463135,
          12.163589477539062,
          5.618183612823486,
          12.171156883239746,
          5.045702934265137,
          9.98993968963623,
          11.657390594482422,
          12.116793632507324,
          11.581476211547852,
          12.15949821472168,
          11.904572486877441,
          12.22314739227295,
          7.331056594848633,
          12.283307075500488,
          7.73184871673584,
          11.11911392211914,
          8.030821800231934,
          8.03553581237793,
          11.93923282623291,
          10.051548957824707,
          11.90194034576416,
          8.761459350585938,
          9.598113059997559,
          10.401118278503418,
          5.7129974365234375,
          11.226547241210938,
          6.545937538146973,
          11.604286193847656,
          10.180170059204102,
          9.968652725219727,
          10.815999031066895,
          5.417592525482178,
          6.543985366821289,
          11.669952392578125,
          10.527928352355957,
          10.246415138244629,
          7.218578338623047,
          9.113059043884277,
          9.325807571411133,
          5.984001636505127,
          9.731605529785156,
          11.465641021728516,
          9.232173919677734,
          9.325125694274902,
          8.881782531738281,
          6.268550872802734,
          9.410995483398438,
          11.817256927490234,
          5.243480682373047,
          8.709155082702637,
          8.632753372192383,
          8.349214553833008,
          12.552364349365234,
          8.514363288879395,
          9.747149467468262,
          11.183466911315918,
          5.0634050369262695,
          8.943912506103516,
          8.258451461791992,
          7.859999656677246,
          10.7080659866333,
          12.094304084777832,
          10.07783031463623,
          9.53899097442627,
          11.375285148620605,
          9.767560958862305,
          11.797605514526367,
          8.309349060058594,
          7.976414203643799,
          10.807743072509766,
          5.3593244552612305,
          11.344208717346191,
          11.081351280212402,
          8.66841983795166,
          8.208218574523926,
          9.470008850097656,
          10.487854957580566,
          6.4703216552734375,
          12.178614616394043,
          9.723380088806152,
          6.411403179168701,
          4.982715606689453,
          12.18872356414795,
          5.568148612976074,
          12.1793851852417,
          9.308353424072266,
          12.092999458312988,
          9.00827407836914,
          10.191774368286133,
          10.10412311553955,
          12.079368591308594,
          12.14084243774414,
          8.065576553344727,
          11.69795036315918,
          12.435775756835938,
          10.083253860473633,
          6.569146156311035,
          6.339411735534668,
          5.022840976715088,
          12.301881790161133,
          10.377252578735352,
          11.799752235412598,
          12.440942764282227,
          11.239253044128418,
          11.392210960388184,
          11.76374340057373,
          12.423657417297363,
          12.644512176513672,
          11.402595520019531,
          11.04181957244873,
          11.085610389709473,
          12.60424518585205,
          10.826579093933105,
          12.216398239135742,
          9.165199279785156,
          5.336676120758057,
          9.035513877868652,
          11.134479522705078,
          11.769547462463379,
          6.124897003173828,
          12.390891075134277,
          7.491508960723877,
          11.411543846130371,
          12.519022941589355,
          10.49918270111084,
          11.604971885681152,
          9.578492164611816,
          11.733979225158691,
          10.06136417388916,
          9.248863220214844,
          5.291292667388916,
          12.687963485717773,
          5.897322177886963,
          9.405905723571777,
          6.436290264129639,
          11.326638221740723,
          12.207472801208496,
          11.500676155090332,
          6.4463982582092285,
          8.574640274047852,
          12.137317657470703,
          9.658506393432617,
          10.84708309173584,
          12.399578094482422,
          10.040745735168457,
          10.477490425109863,
          10.638245582580566,
          9.538775444030762,
          10.791759490966797,
          10.64748764038086,
          10.980854988098145,
          9.214021682739258,
          9.129358291625977,
          10.013250350952148,
          12.019527435302734,
          11.652205467224121,
          8.970955848693848,
          10.72193717956543,
          5.124382972717285,
          9.517659187316895,
          8.638734817504883,
          11.07701301574707,
          4.974399566650391,
          10.92520809173584,
          8.730499267578125,
          8.141417503356934,
          5.452096939086914,
          8.740897178649902,
          6.012641906738281,
          9.241455078125,
          10.261981010437012,
          11.393769264221191,
          11.233882904052734,
          12.51255989074707,
          5.809703826904297,
          6.112944602966309,
          9.664383888244629,
          12.029799461364746,
          11.531590461730957,
          11.529803276062012,
          12.407428741455078,
          12.57616138458252,
          9.81618881225586,
          12.26814079284668,
          11.604653358459473,
          9.552956581115723,
          11.479621887207031,
          11.640076637268066,
          11.658711433410645,
          11.935381889343262,
          11.948992729187012,
          11.016446113586426,
          11.654671669006348,
          7.675952911376953,
          11.55338191986084,
          8.700571060180664,
          5.02279806137085,
          11.716071128845215,
          11.088905334472656,
          11.187621116638184,
          9.53661060333252,
          10.179533958435059,
          10.421857833862305,
          5.253136157989502,
          10.134734153747559,
          11.820395469665527,
          12.085752487182617,
          10.50311279296875,
          12.588521957397461,
          12.56726360321045,
          8.65281867980957,
          11.833715438842773,
          10.38723087310791,
          10.324844360351562,
          9.340978622436523,
          5.65641450881958,
          5.052585601806641,
          5.886068344116211,
          11.207386016845703,
          9.016688346862793,
          9.925518035888672,
          5.294757843017578,
          5.327719688415527,
          8.806734085083008,
          5.304559230804443,
          12.321161270141602,
          11.650402069091797,
          10.750328063964844,
          5.747325420379639,
          11.286259651184082,
          9.62384033203125,
          5.916028022766113,
          5.755738258361816,
          8.734723091125488,
          10.086893081665039,
          10.12403392791748,
          10.534018516540527,
          10.011284828186035,
          8.826476097106934,
          11.640565872192383,
          10.026376724243164,
          10.764389991760254,
          9.03271770477295,
          11.575810432434082,
          11.105485916137695,
          12.019754409790039,
          10.832223892211914,
          8.458207130432129,
          11.59260368347168,
          12.60604190826416,
          11.696141242980957,
          8.865432739257812,
          7.187265396118164,
          11.617116928100586,
          12.056057929992676,
          11.91220474243164,
          10.58630084991455,
          11.015297889709473,
          9.285762786865234,
          9.915494918823242,
          8.452920913696289,
          10.011213302612305,
          4.794500827789307,
          12.400870323181152,
          6.614760875701904,
          5.664003372192383,
          12.02966594696045,
          10.03297233581543,
          7.869530200958252,
          11.841405868530273,
          12.073145866394043,
          10.522668838500977,
          9.268440246582031,
          8.532546043395996,
          5.146242618560791,
          8.972686767578125,
          8.778387069702148,
          9.215168952941895,
          5.277524471282959,
          11.409821510314941,
          8.89598274230957,
          11.162542343139648,
          11.024894714355469,
          12.138364791870117,
          8.355981826782227,
          12.247422218322754,
          11.501699447631836,
          11.250709533691406,
          11.95581340789795,
          10.300314903259277,
          8.485363006591797,
          12.211610794067383,
          10.05194091796875,
          8.829044342041016,
          11.441283226013184,
          10.360603332519531,
          10.348773956298828,
          5.5554890632629395,
          9.570856094360352,
          11.200697898864746,
          9.187438011169434,
          5.373096466064453,
          11.370282173156738,
          4.929081439971924,
          11.888134002685547,
          10.87364387512207,
          5.412745952606201,
          9.178078651428223,
          10.33841609954834,
          9.377283096313477,
          10.196443557739258,
          9.040634155273438,
          9.42027759552002,
          4.994774341583252,
          10.499551773071289,
          11.467207908630371,
          9.682717323303223,
          9.53548812866211,
          7.187439918518066,
          11.468806266784668,
          8.035117149353027,
          5.776102542877197,
          8.387321472167969,
          8.988802909851074,
          10.59242057800293,
          9.465622901916504,
          12.480337142944336,
          9.15003490447998,
          8.400991439819336,
          11.21613597869873,
          4.921494007110596,
          9.588212966918945,
          11.391880989074707,
          9.89396858215332,
          10.00927448272705,
          9.135737419128418,
          9.2725830078125,
          10.317607879638672,
          9.376421928405762,
          11.231768608093262,
          8.146208763122559,
          9.698974609375,
          9.257823944091797,
          8.954339981079102,
          8.734678268432617,
          8.987858772277832,
          7.862671375274658,
          6.1620659828186035,
          9.112467765808105,
          8.891378402709961,
          5.416675567626953,
          9.534049034118652,
          8.025142669677734,
          9.132857322692871,
          8.976933479309082,
          5.292636394500732,
          8.924128532409668,
          9.397204399108887,
          9.619708061218262,
          4.939776420593262,
          11.076004981994629,
          10.723592758178711,
          10.990250587463379,
          10.879509925842285,
          5.184426784515381,
          10.636268615722656,
          8.975295066833496,
          5.354421615600586,
          11.417058944702148,
          5.268503189086914,
          10.556083679199219,
          10.88211727142334,
          9.068094253540039,
          9.139141082763672,
          8.774438858032227,
          8.864068031311035,
          4.933693885803223,
          11.131560325622559,
          11.555060386657715,
          9.705605506896973,
          8.86001968383789,
          9.65162181854248,
          8.532788276672363,
          5.719246864318848,
          11.41624641418457,
          11.309844017028809,
          5.8811140060424805,
          10.538119316101074,
          11.499741554260254,
          10.096257209777832,
          5.645508766174316,
          5.113586902618408,
          11.178885459899902,
          11.108282089233398,
          10.525934219360352,
          5.880290508270264,
          8.455605506896973,
          8.60953140258789,
          8.411554336547852,
          8.874192237854004,
          10.572765350341797,
          9.04898738861084,
          9.613693237304688,
          9.611184120178223,
          9.704222679138184,
          9.50948715209961,
          8.931222915649414
         ],
         "xaxis": "x",
         "y": [
          8.057326316833496,
          7.0197954177856445,
          7.271854400634766,
          7.3671040534973145,
          7.2676777839660645,
          7.256904602050781,
          8.209320068359375,
          11.36092472076416,
          11.982007026672363,
          10.854331970214844,
          9.875442504882812,
          7.619337558746338,
          12.75782299041748,
          11.090370178222656,
          10.404470443725586,
          9.985636711120605,
          9.65526294708252,
          9.930813789367676,
          9.948732376098633,
          7.979949474334717,
          11.038653373718262,
          8.988450050354004,
          11.210637092590332,
          9.188863754272461,
          9.95213794708252,
          10.879283905029297,
          9.045402526855469,
          9.730852127075195,
          8.890104293823242,
          7.040492057800293,
          12.420000076293945,
          10.285006523132324,
          7.149808406829834,
          7.333621501922607,
          6.25288200378418,
          10.377131462097168,
          8.794780731201172,
          8.178987503051758,
          12.080412864685059,
          8.661786079406738,
          9.5248441696167,
          7.39105749130249,
          9.684748649597168,
          9.193828582763672,
          8.729108810424805,
          11.590692520141602,
          12.772032737731934,
          12.45164966583252,
          12.600314140319824,
          10.839629173278809,
          9.464808464050293,
          12.435230255126953,
          8.571992874145508,
          9.815024375915527,
          11.42029094696045,
          12.703723907470703,
          11.120601654052734,
          9.39724063873291,
          11.460814476013184,
          10.063448905944824,
          9.831665992736816,
          10.431819915771484,
          10.94700813293457,
          9.858327865600586,
          8.733251571655273,
          8.801298141479492,
          9.185704231262207,
          11.325394630432129,
          10.368368148803711,
          13.099149703979492,
          11.351125717163086,
          10.842138290405273,
          12.781193733215332,
          9.822473526000977,
          9.902539253234863,
          10.92764663696289,
          11.85838508605957,
          9.969866752624512,
          12.666450500488281,
          12.95030403137207,
          10.226279258728027,
          9.23764705657959,
          9.617621421813965,
          9.296463966369629,
          8.766977310180664,
          12.267780303955078,
          11.741194725036621,
          10.55231761932373,
          9.441779136657715,
          12.43879222869873,
          12.241349220275879,
          12.967159271240234,
          13.73011589050293,
          13.119464874267578,
          11.169142723083496,
          9.338306427001953,
          11.449477195739746,
          8.57669448852539,
          9.325878143310547,
          8.613415718078613,
          6.505372524261475,
          6.155605316162109,
          8.908102035522461,
          6.987865924835205,
          8.674589157104492,
          11.760396957397461,
          7.370954990386963,
          8.578167915344238,
          10.005315780639648,
          10.182547569274902,
          13.17453670501709,
          11.345084190368652,
          8.73863410949707,
          10.157279014587402,
          10.121660232543945,
          11.259048461914062,
          9.782588958740234,
          9.905256271362305,
          9.248435020446777,
          8.684667587280273,
          12.408658027648926,
          11.097729682922363,
          11.267500877380371,
          12.699135780334473,
          10.649709701538086,
          13.112442970275879,
          10.548941612243652,
          7.203876972198486,
          6.673455715179443,
          9.869644165039062,
          9.789521217346191,
          6.2138447761535645,
          9.292232513427734,
          12.450223922729492,
          7.155630588531494,
          9.656661033630371,
          8.616719245910645,
          10.399632453918457,
          9.463064193725586,
          8.534943580627441,
          9.149322509765625,
          11.301159858703613,
          9.105428695678711,
          11.481518745422363,
          10.163339614868164,
          9.866344451904297,
          9.384645462036133,
          8.59019660949707,
          8.93679141998291,
          10.325594902038574,
          9.77841854095459,
          8.683106422424316,
          9.903623580932617,
          11.720770835876465,
          12.078165054321289,
          12.978113174438477,
          10.635499954223633,
          12.871973037719727,
          9.33260726928711,
          10.243157386779785,
          9.588080406188965,
          10.94221019744873,
          9.841853141784668,
          7.2198100090026855,
          9.184035301208496,
          10.030218124389648,
          8.311808586120605,
          11.222511291503906,
          7.469757080078125,
          9.003243446350098,
          9.611773490905762,
          11.556021690368652,
          12.367644309997559,
          9.433670043945312,
          8.695664405822754,
          11.146988868713379,
          10.057783126831055,
          10.350750923156738,
          10.503926277160645,
          10.058658599853516,
          13.117430686950684,
          10.454014778137207,
          8.698819160461426,
          9.273246765136719,
          7.881134510040283,
          10.237549781799316,
          10.079915046691895,
          12.973614692687988,
          10.583344459533691,
          10.867947578430176,
          10.970208168029785,
          7.978910446166992,
          9.909889221191406,
          11.37647533416748,
          9.745187759399414,
          9.659944534301758,
          10.787847518920898,
          10.052299499511719,
          9.682861328125,
          11.067584037780762,
          10.469635009765625,
          12.12964916229248,
          10.317846298217773,
          9.894710540771484,
          13.09704303741455,
          11.807912826538086,
          10.8695650100708,
          12.72836971282959,
          9.915205001831055,
          10.239192962646484,
          9.775553703308105,
          11.615678787231445,
          12.613916397094727,
          13.153901100158691,
          9.857316970825195,
          12.728167533874512,
          10.023600578308105,
          8.926626205444336,
          12.557231903076172,
          12.838910102844238,
          11.515957832336426,
          12.404512405395508,
          12.62248420715332,
          11.572761535644531,
          12.546622276306152,
          11.470222473144531,
          6.438294887542725,
          6.185457706451416,
          7.448361873626709,
          12.48481559753418,
          7.14076042175293,
          7.967330455780029,
          7.611100196838379,
          7.431392669677734,
          7.29652214050293,
          9.056289672851562,
          10.794272422790527,
          12.466879844665527,
          9.15449047088623,
          11.442358016967773,
          7.442523002624512,
          8.141745567321777,
          11.67996597290039,
          7.862102031707764,
          9.497374534606934,
          7.406071662902832,
          7.295702934265137,
          12.368712425231934,
          8.8509521484375,
          11.0006103515625,
          11.042280197143555,
          10.628347396850586,
          10.891996383666992,
          8.76701545715332,
          9.892450332641602,
          8.62747859954834,
          9.58077335357666,
          9.911948204040527,
          8.906781196594238,
          11.468888282775879,
          10.17191219329834,
          10.476229667663574,
          10.180048942565918,
          10.014863967895508,
          9.529769897460938,
          7.547557353973389,
          13.411524772644043,
          11.761030197143555,
          6.894428253173828,
          9.28673267364502,
          9.329565048217773,
          9.833066940307617,
          9.798930168151855,
          8.50822639465332,
          11.9296875,
          13.44126033782959,
          10.687884330749512,
          11.060357093811035,
          7.74602746963501,
          11.203146934509277,
          8.737386703491211,
          10.349259376525879,
          12.471672058105469,
          11.815052032470703,
          9.742919921875,
          10.841117858886719,
          10.485249519348145,
          9.108283996582031,
          8.86523723602295,
          8.575946807861328,
          7.313897132873535,
          12.86187744140625,
          8.118056297302246,
          8.66706657409668,
          8.474925994873047,
          10.486664772033691,
          11.61440372467041,
          10.17093563079834,
          8.892355918884277,
          11.185452461242676,
          11.765507698059082,
          11.561403274536133,
          6.849110126495361,
          12.324179649353027,
          9.166035652160645,
          11.155431747436523,
          12.955643653869629,
          11.559501647949219,
          8.646533012390137,
          12.968708992004395,
          9.888481140136719,
          10.10316276550293,
          7.838227272033691,
          7.162539482116699,
          11.378523826599121,
          9.237523078918457,
          11.974632263183594,
          7.941994667053223,
          10.545754432678223,
          10.237743377685547,
          9.7062349319458,
          10.272939682006836,
          8.077187538146973,
          12.577008247375488,
          9.677491188049316,
          9.582043647766113,
          10.6502046585083,
          8.370631217956543,
          11.260139465332031,
          10.986300468444824,
          7.85275411605835,
          12.617831230163574,
          12.588208198547363,
          9.745736122131348,
          8.830426216125488,
          8.386146545410156,
          10.361289024353027,
          12.1198148727417,
          8.883936882019043,
          9.747474670410156,
          10.38199234008789,
          9.0814790725708,
          8.713549613952637,
          10.369122505187988,
          9.207801818847656,
          11.211186408996582,
          10.031465530395508,
          10.51492691040039,
          11.337102890014648,
          11.976522445678711,
          12.6961088180542,
          12.161093711853027,
          11.670257568359375,
          10.45395278930664,
          9.740653038024902,
          11.229347229003906,
          9.598458290100098,
          11.055130004882812,
          12.441160202026367,
          12.241809844970703,
          9.216756820678711,
          10.001303672790527,
          13.216508865356445,
          12.880308151245117,
          12.902663230895996,
          13.231199264526367,
          13.070569038391113,
          10.415846824645996,
          13.559405326843262,
          12.900436401367188,
          10.380885124206543,
          13.07143497467041,
          12.485231399536133,
          12.247440338134766,
          9.81284236907959,
          10.463347434997559,
          10.554656982421875,
          13.46010971069336,
          10.378978729248047,
          13.452580451965332,
          10.574718475341797,
          10.946097373962402,
          11.489046096801758,
          9.818380355834961,
          12.53292465209961,
          12.63687515258789,
          12.101439476013184,
          12.8139066696167,
          7.43803596496582,
          10.741955757141113,
          10.166433334350586,
          9.518948554992676,
          9.113483428955078,
          9.178905487060547,
          7.038940906524658,
          9.35649299621582,
          7.975140571594238,
          7.681180477142334,
          8.3871431350708,
          7.704098224639893,
          7.5818705558776855,
          12.415373802185059,
          9.5570650100708,
          9.418675422668457,
          10.801369667053223,
          7.372988700866699,
          9.358807563781738,
          9.822525024414062,
          9.216745376586914,
          9.902137756347656,
          8.337021827697754,
          7.785610198974609,
          10.926431655883789,
          8.333009719848633,
          8.5703125,
          11.164115905761719,
          8.29989242553711,
          12.146085739135742,
          11.54000186920166,
          9.355230331420898,
          9.675477027893066,
          9.846453666687012,
          10.577130317687988,
          11.71326732635498,
          9.289663314819336,
          10.175840377807617,
          10.085400581359863,
          11.756653785705566,
          7.844095706939697,
          7.8202409744262695,
          10.260360717773438,
          7.9423112869262695,
          9.324771881103516,
          11.039779663085938,
          8.843019485473633,
          9.873900413513184,
          11.283239364624023,
          9.660722732543945,
          8.642059326171875,
          7.068140506744385,
          8.689465522766113,
          7.102165222167969,
          7.052981376647949,
          10.584084510803223,
          10.698895454406738,
          8.519787788391113,
          11.31441593170166,
          13.307640075683594,
          11.759788513183594,
          9.716730117797852,
          10.811263084411621,
          10.546754837036133,
          9.590271949768066,
          10.831059455871582,
          11.393502235412598,
          11.082489967346191,
          12.074727058410645,
          10.796733856201172,
          11.774120330810547,
          10.80034065246582,
          11.525884628295898,
          12.4482421875,
          11.839076042175293,
          12.291207313537598,
          10.9298677444458,
          10.265573501586914,
          7.660317897796631,
          10.712078094482422,
          10.951982498168945,
          10.921279907226562,
          11.467711448669434,
          12.081389427185059,
          9.80852222442627,
          12.12333869934082,
          11.44118595123291,
          8.841156959533691,
          11.514373779296875,
          10.630393981933594,
          11.4541015625,
          12.350141525268555,
          11.417671203613281,
          10.554649353027344,
          12.15092945098877,
          12.812217712402344,
          11.37427043914795,
          10.159801483154297,
          9.577291488647461,
          9.524091720581055,
          10.858238220214844,
          8.768511772155762,
          9.208849906921387,
          11.532036781311035,
          12.297584533691406,
          12.356037139892578,
          10.322628021240234,
          10.261358261108398,
          8.918903350830078,
          12.745929718017578,
          12.366422653198242,
          10.9266357421875,
          10.832953453063965,
          9.128417015075684,
          7.2697038650512695,
          8.443292617797852,
          11.542890548706055,
          10.101530075073242,
          10.509172439575195,
          11.779690742492676,
          7.58497953414917,
          8.31847858428955,
          8.181573867797852,
          10.275649070739746,
          9.593829154968262,
          11.389357566833496,
          8.444915771484375,
          11.300890922546387,
          12.679910659790039,
          11.413958549499512,
          10.282538414001465,
          11.526216506958008,
          9.844993591308594,
          11.590010643005371,
          12.9037446975708,
          10.566926002502441,
          10.595585823059082,
          9.077969551086426,
          12.812859535217285,
          8.830265045166016,
          11.081603050231934,
          9.256087303161621,
          8.587206840515137,
          10.089906692504883,
          10.104620933532715,
          10.286613464355469,
          9.556902885437012,
          13.286402702331543,
          11.754549026489258,
          12.824667930603027,
          9.651224136352539,
          10.388534545898438,
          13.037447929382324,
          12.6683931350708,
          11.36910629272461,
          13.7095947265625,
          10.024008750915527,
          13.717562675476074,
          10.021920204162598,
          11.329886436462402,
          13.485993385314941,
          8.52534294128418,
          12.785242080688477,
          10.038674354553223,
          9.158663749694824,
          13.776095390319824,
          10.575528144836426,
          8.220783233642578,
          10.49059009552002,
          12.95606803894043,
          10.307243347167969,
          10.122568130493164,
          9.473852157592773,
          13.43089485168457,
          11.701135635375977,
          11.438471794128418,
          6.490603446960449,
          7.018661975860596,
          9.138457298278809,
          7.041201591491699,
          11.763374328613281,
          7.323110103607178,
          11.915258407592773,
          12.439706802368164,
          7.833700656890869,
          10.632200241088867,
          10.14022445678711,
          8.725534439086914,
          12.360512733459473,
          11.514397621154785,
          10.041585922241211,
          10.170293807983398,
          8.494843482971191,
          11.40473461151123,
          9.929192543029785,
          7.138713836669922,
          7.611273765563965,
          9.554177284240723,
          8.579743385314941,
          8.980010032653809,
          11.080953598022461,
          7.339206218719482,
          10.072294235229492,
          9.183959007263184,
          9.313764572143555,
          8.525888442993164,
          10.940688133239746,
          8.836385726928711,
          9.082181930541992,
          9.77637767791748,
          10.13144302368164,
          9.175189018249512,
          9.99183464050293,
          10.089597702026367,
          9.126815795898438,
          8.663026809692383,
          11.48786449432373,
          9.403980255126953,
          9.550771713256836,
          9.589037895202637,
          9.877628326416016,
          9.79646110534668,
          10.238580703735352,
          9.090768814086914,
          10.510382652282715,
          11.88504695892334,
          8.343549728393555,
          6.814230442047119,
          9.404135704040527,
          12.362363815307617,
          9.284249305725098,
          10.24275016784668,
          9.136951446533203,
          12.691313743591309,
          10.046316146850586,
          9.951990127563477,
          11.482239723205566,
          10.553114891052246,
          13.736533164978027,
          10.029290199279785,
          13.616403579711914,
          12.598193168640137,
          11.168281555175781,
          11.423048973083496,
          13.412857055664062,
          13.648277282714844,
          10.386133193969727,
          12.562773704528809,
          8.293347358703613,
          11.507475852966309,
          9.626660346984863,
          11.142499923706055,
          10.141304016113281,
          8.15687084197998,
          11.419401168823242,
          7.431670188903809,
          9.836511611938477,
          12.845728874206543,
          10.297649383544922,
          8.557235717773438,
          10.663131713867188,
          11.354941368103027,
          13.411391258239746,
          7.920668125152588,
          12.335149765014648,
          8.353988647460938,
          8.347542762756348,
          11.140009880065918,
          9.107742309570312,
          10.308511734008789,
          8.556519508361816,
          13.090456008911133,
          12.82874870300293,
          10.406302452087402,
          10.5043363571167,
          10.399681091308594,
          12.778494834899902,
          9.875378608703613,
          13.228137016296387,
          12.51602554321289,
          10.230587005615234,
          13.431680679321289,
          11.283730506896973,
          11.868451118469238,
          8.531349182128906,
          8.597983360290527,
          10.314516067504883,
          10.961755752563477,
          10.520971298217773,
          12.636256217956543,
          12.122993469238281,
          12.44250774383545,
          11.033917427062988,
          9.86413860321045,
          11.292045593261719,
          8.781707763671875,
          12.623597145080566,
          11.773599624633789,
          8.923290252685547,
          7.337390899658203,
          7.202213287353516,
          12.532283782958984,
          11.357778549194336,
          7.713590145111084,
          8.299613952636719,
          7.761503219604492,
          12.689888954162598,
          8.682230949401855,
          10.464750289916992,
          10.851819038391113,
          7.560873985290527,
          12.573486328125,
          10.226956367492676,
          7.89813756942749,
          8.746131896972656,
          9.93026351928711,
          9.571623802185059,
          8.611245155334473,
          9.338801383972168,
          9.998687744140625,
          10.027474403381348,
          11.297131538391113,
          10.468036651611328,
          10.64745044708252,
          12.576294898986816,
          10.475950241088867,
          9.003670692443848,
          8.504140853881836,
          9.821935653686523,
          10.39261531829834,
          10.04946231842041,
          11.732906341552734,
          11.013315200805664,
          10.895477294921875,
          8.969491958618164,
          8.6054105758667,
          9.50275707244873,
          11.750059127807617,
          9.641127586364746,
          9.594386100769043,
          11.893880844116211,
          13.61581039428711,
          8.666267395019531,
          11.339670181274414,
          8.673324584960938,
          8.744009971618652,
          8.73276424407959,
          10.327568054199219,
          13.404144287109375,
          12.306905746459961,
          9.17520523071289,
          12.715887069702148,
          7.630739688873291,
          8.550792694091797,
          7.107182502746582,
          10.703042030334473,
          13.231520652770996,
          10.648148536682129,
          12.585515022277832,
          7.476546287536621,
          11.220613479614258,
          12.406706809997559,
          8.778971672058105,
          11.45872688293457,
          9.665754318237305,
          12.635126113891602,
          12.916057586669922,
          8.341681480407715,
          9.560161590576172,
          9.140081405639648,
          10.13179874420166,
          9.493050575256348,
          7.345307350158691,
          7.545929431915283,
          7.199872970581055,
          9.36441707611084,
          8.52384090423584,
          6.241121768951416,
          8.543094635009766,
          8.358053207397461,
          13.262062072753906,
          11.484925270080566,
          9.926324844360352,
          9.589781761169434,
          10.797419548034668,
          9.229231834411621,
          10.896556854248047,
          12.44520092010498,
          13.340660095214844,
          13.411873817443848,
          12.606303215026855,
          10.374101638793945,
          12.427762985229492,
          11.235605239868164,
          9.833040237426758,
          13.178162574768066,
          11.067915916442871,
          12.108213424682617,
          7.887710094451904,
          9.862110137939453,
          10.482796669006348,
          10.346467971801758,
          10.464211463928223,
          11.105184555053711,
          8.770467758178711,
          6.59608793258667,
          10.40503978729248,
          12.928720474243164,
          13.377777099609375,
          10.68931770324707,
          8.943896293640137,
          13.014840126037598,
          11.78921890258789,
          10.310181617736816,
          11.054946899414062,
          13.481130599975586,
          9.964983940124512,
          9.911198616027832,
          11.410852432250977,
          10.043251037597656,
          7.862544059753418,
          8.970870971679688,
          10.220282554626465,
          9.848475456237793,
          13.232999801635742,
          9.962522506713867,
          8.821736335754395,
          12.383785247802734,
          9.327073097229004,
          6.1675519943237305,
          6.264081001281738,
          6.286636829376221,
          8.591262817382812,
          8.042726516723633,
          6.573025226593018,
          9.722811698913574,
          12.406319618225098,
          13.720455169677734,
          11.273789405822754,
          8.927433013916016,
          12.71274471282959,
          9.478499412536621,
          10.425586700439453,
          8.794110298156738,
          11.351703643798828,
          8.49819564819336,
          8.841278076171875,
          7.573215007781982,
          10.179655075073242,
          13.156553268432617,
          8.193613052368164,
          10.170665740966797,
          10.870450019836426,
          10.324300765991211,
          12.574195861816406,
          9.489194869995117,
          8.607932090759277,
          9.263579368591309,
          11.12781810760498,
          12.935826301574707,
          10.351388931274414,
          10.643915176391602,
          8.196767807006836,
          10.151529312133789,
          8.634571075439453,
          6.305447578430176,
          10.140366554260254,
          9.07579231262207,
          11.040124893188477,
          12.468720436096191,
          7.186573505401611,
          7.185334205627441,
          8.64544677734375,
          7.153122425079346,
          8.778558731079102,
          9.147051811218262,
          9.830180168151855,
          12.605633735656738,
          7.853397369384766,
          11.665771484375,
          8.576055526733398,
          11.358591079711914,
          11.441883087158203,
          7.556924343109131,
          9.167367935180664,
          12.52490234375,
          7.524729251861572,
          7.108832359313965,
          12.301548957824707,
          7.20210075378418,
          6.289312839508057,
          7.383349895477295,
          6.654117107391357,
          7.8394856452941895,
          8.751747131347656,
          12.485761642456055,
          6.384781837463379,
          6.729712963104248,
          6.339898586273193,
          6.306535243988037,
          8.725614547729492,
          9.561495780944824,
          6.306150436401367,
          6.216078281402588,
          8.609630584716797,
          12.421117782592773,
          9.069992065429688,
          10.529765129089355,
          7.324496269226074,
          8.578523635864258,
          6.276366710662842,
          7.029766082763672,
          7.478034496307373,
          9.121076583862305,
          7.249848365783691,
          7.225015163421631,
          7.289330959320068,
          7.426389217376709,
          8.62777042388916,
          7.0874223709106445,
          7.349585056304932,
          8.597092628479004,
          7.114199161529541,
          9.415995597839355,
          7.083311557769775,
          7.307002067565918,
          6.105710983276367,
          6.184772491455078,
          6.252434253692627,
          6.5195393562316895,
          9.458918571472168,
          11.979338645935059,
          7.61755895614624,
          12.423578262329102,
          7.394012928009033,
          6.949007034301758,
          11.455765724182129,
          9.159470558166504,
          7.082407474517822,
          7.523468971252441,
          11.31767749786377,
          10.29687786102295,
          9.456714630126953,
          8.961254119873047,
          9.952640533447266,
          9.462477684020996,
          7.938483238220215,
          7.703076362609863,
          7.55994987487793,
          11.35276985168457,
          11.337536811828613,
          7.014345169067383,
          7.307156085968018,
          6.109530925750732,
          7.123358249664307,
          6.145909309387207,
          6.88232946395874,
          12.451417922973633,
          12.605530738830566,
          6.437849998474121,
          7.296813488006592
         ],
         "yaxis": "y",
         "type": "scatter"
        }
       ],
       "layout": {
        "template": {
         "data": {
          "histogram2dcontour": [
           {
            "type": "histogram2dcontour",
            "colorbar": {
             "outlinewidth": 0,
             "ticks": ""
            },
            "colorscale": [
             [
              0.0,
              "#0d0887"
             ],
             [
              0.1111111111111111,
              "#46039f"
             ],
             [
              0.2222222222222222,
              "#7201a8"
             ],
             [
              0.3333333333333333,
              "#9c179e"
             ],
             [
              0.4444444444444444,
              "#bd3786"
             ],
             [
              0.5555555555555556,
              "#d8576b"
             ],
             [
              0.6666666666666666,
              "#ed7953"
             ],
             [
              0.7777777777777778,
              "#fb9f3a"
             ],
             [
              0.8888888888888888,
              "#fdca26"
             ],
             [
              1.0,
              "#f0f921"
             ]
            ]
           }
          ],
          "choropleth": [
           {
            "type": "choropleth",
            "colorbar": {
             "outlinewidth": 0,
             "ticks": ""
            }
           }
          ],
          "histogram2d": [
           {
            "type": "histogram2d",
            "colorbar": {
             "outlinewidth": 0,
             "ticks": ""
            },
            "colorscale": [
             [
              0.0,
              "#0d0887"
             ],
             [
              0.1111111111111111,
              "#46039f"
             ],
             [
              0.2222222222222222,
              "#7201a8"
             ],
             [
              0.3333333333333333,
              "#9c179e"
             ],
             [
              0.4444444444444444,
              "#bd3786"
             ],
             [
              0.5555555555555556,
              "#d8576b"
             ],
             [
              0.6666666666666666,
              "#ed7953"
             ],
             [
              0.7777777777777778,
              "#fb9f3a"
             ],
             [
              0.8888888888888888,
              "#fdca26"
             ],
             [
              1.0,
              "#f0f921"
             ]
            ]
           }
          ],
          "heatmap": [
           {
            "type": "heatmap",
            "colorbar": {
             "outlinewidth": 0,
             "ticks": ""
            },
            "colorscale": [
             [
              0.0,
              "#0d0887"
             ],
             [
              0.1111111111111111,
              "#46039f"
             ],
             [
              0.2222222222222222,
              "#7201a8"
             ],
             [
              0.3333333333333333,
              "#9c179e"
             ],
             [
              0.4444444444444444,
              "#bd3786"
             ],
             [
              0.5555555555555556,
              "#d8576b"
             ],
             [
              0.6666666666666666,
              "#ed7953"
             ],
             [
              0.7777777777777778,
              "#fb9f3a"
             ],
             [
              0.8888888888888888,
              "#fdca26"
             ],
             [
              1.0,
              "#f0f921"
             ]
            ]
           }
          ],
          "heatmapgl": [
           {
            "type": "heatmapgl",
            "colorbar": {
             "outlinewidth": 0,
             "ticks": ""
            },
            "colorscale": [
             [
              0.0,
              "#0d0887"
             ],
             [
              0.1111111111111111,
              "#46039f"
             ],
             [
              0.2222222222222222,
              "#7201a8"
             ],
             [
              0.3333333333333333,
              "#9c179e"
             ],
             [
              0.4444444444444444,
              "#bd3786"
             ],
             [
              0.5555555555555556,
              "#d8576b"
             ],
             [
              0.6666666666666666,
              "#ed7953"
             ],
             [
              0.7777777777777778,
              "#fb9f3a"
             ],
             [
              0.8888888888888888,
              "#fdca26"
             ],
             [
              1.0,
              "#f0f921"
             ]
            ]
           }
          ],
          "contourcarpet": [
           {
            "type": "contourcarpet",
            "colorbar": {
             "outlinewidth": 0,
             "ticks": ""
            }
           }
          ],
          "contour": [
           {
            "type": "contour",
            "colorbar": {
             "outlinewidth": 0,
             "ticks": ""
            },
            "colorscale": [
             [
              0.0,
              "#0d0887"
             ],
             [
              0.1111111111111111,
              "#46039f"
             ],
             [
              0.2222222222222222,
              "#7201a8"
             ],
             [
              0.3333333333333333,
              "#9c179e"
             ],
             [
              0.4444444444444444,
              "#bd3786"
             ],
             [
              0.5555555555555556,
              "#d8576b"
             ],
             [
              0.6666666666666666,
              "#ed7953"
             ],
             [
              0.7777777777777778,
              "#fb9f3a"
             ],
             [
              0.8888888888888888,
              "#fdca26"
             ],
             [
              1.0,
              "#f0f921"
             ]
            ]
           }
          ],
          "surface": [
           {
            "type": "surface",
            "colorbar": {
             "outlinewidth": 0,
             "ticks": ""
            },
            "colorscale": [
             [
              0.0,
              "#0d0887"
             ],
             [
              0.1111111111111111,
              "#46039f"
             ],
             [
              0.2222222222222222,
              "#7201a8"
             ],
             [
              0.3333333333333333,
              "#9c179e"
             ],
             [
              0.4444444444444444,
              "#bd3786"
             ],
             [
              0.5555555555555556,
              "#d8576b"
             ],
             [
              0.6666666666666666,
              "#ed7953"
             ],
             [
              0.7777777777777778,
              "#fb9f3a"
             ],
             [
              0.8888888888888888,
              "#fdca26"
             ],
             [
              1.0,
              "#f0f921"
             ]
            ]
           }
          ],
          "mesh3d": [
           {
            "type": "mesh3d",
            "colorbar": {
             "outlinewidth": 0,
             "ticks": ""
            }
           }
          ],
          "scatter": [
           {
            "fillpattern": {
             "fillmode": "overlay",
             "size": 10,
             "solidity": 0.2
            },
            "type": "scatter"
           }
          ],
          "parcoords": [
           {
            "type": "parcoords",
            "line": {
             "colorbar": {
              "outlinewidth": 0,
              "ticks": ""
             }
            }
           }
          ],
          "scatterpolargl": [
           {
            "type": "scatterpolargl",
            "marker": {
             "colorbar": {
              "outlinewidth": 0,
              "ticks": ""
             }
            }
           }
          ],
          "bar": [
           {
            "error_x": {
             "color": "#2a3f5f"
            },
            "error_y": {
             "color": "#2a3f5f"
            },
            "marker": {
             "line": {
              "color": "#E5ECF6",
              "width": 0.5
             },
             "pattern": {
              "fillmode": "overlay",
              "size": 10,
              "solidity": 0.2
             }
            },
            "type": "bar"
           }
          ],
          "scattergeo": [
           {
            "type": "scattergeo",
            "marker": {
             "colorbar": {
              "outlinewidth": 0,
              "ticks": ""
             }
            }
           }
          ],
          "scatterpolar": [
           {
            "type": "scatterpolar",
            "marker": {
             "colorbar": {
              "outlinewidth": 0,
              "ticks": ""
             }
            }
           }
          ],
          "histogram": [
           {
            "marker": {
             "pattern": {
              "fillmode": "overlay",
              "size": 10,
              "solidity": 0.2
             }
            },
            "type": "histogram"
           }
          ],
          "scattergl": [
           {
            "type": "scattergl",
            "marker": {
             "colorbar": {
              "outlinewidth": 0,
              "ticks": ""
             }
            }
           }
          ],
          "scatter3d": [
           {
            "type": "scatter3d",
            "line": {
             "colorbar": {
              "outlinewidth": 0,
              "ticks": ""
             }
            },
            "marker": {
             "colorbar": {
              "outlinewidth": 0,
              "ticks": ""
             }
            }
           }
          ],
          "scattermapbox": [
           {
            "type": "scattermapbox",
            "marker": {
             "colorbar": {
              "outlinewidth": 0,
              "ticks": ""
             }
            }
           }
          ],
          "scatterternary": [
           {
            "type": "scatterternary",
            "marker": {
             "colorbar": {
              "outlinewidth": 0,
              "ticks": ""
             }
            }
           }
          ],
          "scattercarpet": [
           {
            "type": "scattercarpet",
            "marker": {
             "colorbar": {
              "outlinewidth": 0,
              "ticks": ""
             }
            }
           }
          ],
          "carpet": [
           {
            "aaxis": {
             "endlinecolor": "#2a3f5f",
             "gridcolor": "white",
             "linecolor": "white",
             "minorgridcolor": "white",
             "startlinecolor": "#2a3f5f"
            },
            "baxis": {
             "endlinecolor": "#2a3f5f",
             "gridcolor": "white",
             "linecolor": "white",
             "minorgridcolor": "white",
             "startlinecolor": "#2a3f5f"
            },
            "type": "carpet"
           }
          ],
          "table": [
           {
            "cells": {
             "fill": {
              "color": "#EBF0F8"
             },
             "line": {
              "color": "white"
             }
            },
            "header": {
             "fill": {
              "color": "#C8D4E3"
             },
             "line": {
              "color": "white"
             }
            },
            "type": "table"
           }
          ],
          "barpolar": [
           {
            "marker": {
             "line": {
              "color": "#E5ECF6",
              "width": 0.5
             },
             "pattern": {
              "fillmode": "overlay",
              "size": 10,
              "solidity": 0.2
             }
            },
            "type": "barpolar"
           }
          ],
          "pie": [
           {
            "automargin": true,
            "type": "pie"
           }
          ]
         },
         "layout": {
          "autotypenumbers": "strict",
          "colorway": [
           "#636efa",
           "#EF553B",
           "#00cc96",
           "#ab63fa",
           "#FFA15A",
           "#19d3f3",
           "#FF6692",
           "#B6E880",
           "#FF97FF",
           "#FECB52"
          ],
          "font": {
           "color": "#2a3f5f"
          },
          "hovermode": "closest",
          "hoverlabel": {
           "align": "left"
          },
          "paper_bgcolor": "white",
          "plot_bgcolor": "#E5ECF6",
          "polar": {
           "bgcolor": "#E5ECF6",
           "angularaxis": {
            "gridcolor": "white",
            "linecolor": "white",
            "ticks": ""
           },
           "radialaxis": {
            "gridcolor": "white",
            "linecolor": "white",
            "ticks": ""
           }
          },
          "ternary": {
           "bgcolor": "#E5ECF6",
           "aaxis": {
            "gridcolor": "white",
            "linecolor": "white",
            "ticks": ""
           },
           "baxis": {
            "gridcolor": "white",
            "linecolor": "white",
            "ticks": ""
           },
           "caxis": {
            "gridcolor": "white",
            "linecolor": "white",
            "ticks": ""
           }
          },
          "coloraxis": {
           "colorbar": {
            "outlinewidth": 0,
            "ticks": ""
           }
          },
          "colorscale": {
           "sequential": [
            [
             0.0,
             "#0d0887"
            ],
            [
             0.1111111111111111,
             "#46039f"
            ],
            [
             0.2222222222222222,
             "#7201a8"
            ],
            [
             0.3333333333333333,
             "#9c179e"
            ],
            [
             0.4444444444444444,
             "#bd3786"
            ],
            [
             0.5555555555555556,
             "#d8576b"
            ],
            [
             0.6666666666666666,
             "#ed7953"
            ],
            [
             0.7777777777777778,
             "#fb9f3a"
            ],
            [
             0.8888888888888888,
             "#fdca26"
            ],
            [
             1.0,
             "#f0f921"
            ]
           ],
           "sequentialminus": [
            [
             0.0,
             "#0d0887"
            ],
            [
             0.1111111111111111,
             "#46039f"
            ],
            [
             0.2222222222222222,
             "#7201a8"
            ],
            [
             0.3333333333333333,
             "#9c179e"
            ],
            [
             0.4444444444444444,
             "#bd3786"
            ],
            [
             0.5555555555555556,
             "#d8576b"
            ],
            [
             0.6666666666666666,
             "#ed7953"
            ],
            [
             0.7777777777777778,
             "#fb9f3a"
            ],
            [
             0.8888888888888888,
             "#fdca26"
            ],
            [
             1.0,
             "#f0f921"
            ]
           ],
           "diverging": [
            [
             0,
             "#8e0152"
            ],
            [
             0.1,
             "#c51b7d"
            ],
            [
             0.2,
             "#de77ae"
            ],
            [
             0.3,
             "#f1b6da"
            ],
            [
             0.4,
             "#fde0ef"
            ],
            [
             0.5,
             "#f7f7f7"
            ],
            [
             0.6,
             "#e6f5d0"
            ],
            [
             0.7,
             "#b8e186"
            ],
            [
             0.8,
             "#7fbc41"
            ],
            [
             0.9,
             "#4d9221"
            ],
            [
             1,
             "#276419"
            ]
           ]
          },
          "xaxis": {
           "gridcolor": "white",
           "linecolor": "white",
           "ticks": "",
           "title": {
            "standoff": 15
           },
           "zerolinecolor": "white",
           "automargin": true,
           "zerolinewidth": 2
          },
          "yaxis": {
           "gridcolor": "white",
           "linecolor": "white",
           "ticks": "",
           "title": {
            "standoff": 15
           },
           "zerolinecolor": "white",
           "automargin": true,
           "zerolinewidth": 2
          },
          "scene": {
           "xaxis": {
            "backgroundcolor": "#E5ECF6",
            "gridcolor": "white",
            "linecolor": "white",
            "showbackground": true,
            "ticks": "",
            "zerolinecolor": "white",
            "gridwidth": 2
           },
           "yaxis": {
            "backgroundcolor": "#E5ECF6",
            "gridcolor": "white",
            "linecolor": "white",
            "showbackground": true,
            "ticks": "",
            "zerolinecolor": "white",
            "gridwidth": 2
           },
           "zaxis": {
            "backgroundcolor": "#E5ECF6",
            "gridcolor": "white",
            "linecolor": "white",
            "showbackground": true,
            "ticks": "",
            "zerolinecolor": "white",
            "gridwidth": 2
           }
          },
          "shapedefaults": {
           "line": {
            "color": "#2a3f5f"
           }
          },
          "annotationdefaults": {
           "arrowcolor": "#2a3f5f",
           "arrowhead": 0,
           "arrowwidth": 1
          },
          "geo": {
           "bgcolor": "white",
           "landcolor": "#E5ECF6",
           "subunitcolor": "white",
           "showland": true,
           "showlakes": true,
           "lakecolor": "white"
          },
          "title": {
           "x": 0.05
          },
          "mapbox": {
           "style": "light"
          }
         }
        },
        "xaxis": {
         "anchor": "y",
         "domain": [
          0.0,
          1.0
         ],
         "title": {
          "text": "UMAP 1"
         }
        },
        "yaxis": {
         "anchor": "x",
         "domain": [
          0.0,
          1.0
         ],
         "title": {
          "text": "UMAP 2"
         }
        },
        "coloraxis": {
         "colorbar": {
          "title": {
           "text": "oncosig_label_ERBB2"
          }
         },
         "colorscale": [
          [
           0.0,
           "darkblue"
          ],
          [
           1.0,
           "red"
          ]
         ]
        },
        "legend": {
         "tracegroupgap": 0,
         "title": {
          "text": "Oncosig Labels"
         }
        },
        "title": {
         "text": "UMAP tcga brca erbb2 scgpt sub genes & onc label"
        }
       },
       "config": {
        "plotlyServerURL": "https://plot.ly"
       }
      },
      "text/html": "<div>                            <div id=\"ffba18c6-b793-4aaa-97c4-d1233ad41ff3\" class=\"plotly-graph-div\" style=\"height:525px; width:100%;\"></div>            <script type=\"text/javascript\">                require([\"plotly\"], function(Plotly) {                    window.PLOTLYENV=window.PLOTLYENV || {};                                    if (document.getElementById(\"ffba18c6-b793-4aaa-97c4-d1233ad41ff3\")) {                    Plotly.newPlot(                        \"ffba18c6-b793-4aaa-97c4-d1233ad41ff3\",                        [{\"hovertemplate\":\"UMAP 1=%{x}\\u003cbr\\u003eUMAP 2=%{y}\\u003cbr\\u003eoncosig_label_ERBB2=%{marker.color}\\u003cextra\\u003e\\u003c\\u002fextra\\u003e\",\"legendgroup\":\"\",\"marker\":{\"color\":[0,0,1,1,1,0,0,0,0,0,0,0,0,0,0,0,1,0,0,0,0,0,0,0,0,0,1,1,0,0,0,0,0,0,0,0,0,0,0,0,0,1,0,0,0,0,0,0,0,0,0,0,0,0,0,0,0,1,0,0,0,0,1,0,1,0,0,0,0,1,0,0,0,0,0,0,0,1,0,0,0,0,0,0,0,0,0,0,0,0,0,0,0,0,0,0,0,0,0,0,1,0,0,1,0,0,0,0,0,0,0,0,0,0,0,0,0,0,0,0,0,0,0,0,0,0,1,0,0,0,0,0,0,0,0,0,0,0,0,0,0,0,0,0,0,1,0,0,1,0,1,0,0,0,0,0,1,0,0,0,1,0,0,0,0,0,0,0,0,1,0,0,0,1,0,0,0,0,0,1,1,0,0,0,0,0,0,0,1,0,0,0,0,0,1,0,0,0,0,0,0,0,0,0,0,0,0,1,1,0,1,0,1,0,1,0,0,0,1,0,0,0,0,0,0,0,0,1,1,1,0,0,0,0,0,0,0,0,0,0,0,0,0,0,0,0,0,0,0,0,0,1,0,1,0,0,0,0,0,0,0,0,0,0,0,0,0,0,1,1,0,0,0,0,0,0,0,0,0,0,0,0,0,0,1,0,0,0,0,0,0,0,0,0,0,0,0,0,0,0,0,0,0,0,0,1,0,0,0,0,0,0,0,0,0,0,0,0,1,0,0,0,0,0,0,0,0,1,0,1,0,0,0,0,1,0,0,0,0,0,1,0,0,0,0,0,0,0,0,0,0,0,0,0,0,0,0,0,0,1,1,0,0,0,0,0,0,0,0,0,1,0,0,0,0,1,0,0,1,0,0,0,0,0,0,0,0,0,0,0,0,0,0,0,0,1,0,0,0,0,1,0,0,0,0,1,0,0,0,0,0,1,0,0,0,0,0,0,0,0,0,0,0,0,0,0,0,0,0,0,0,0,0,0,0,0,0,1,0,0,0,0,0,0,0,1,0,0,0,0,0,1,0,0,0,0,0,0,0,0,0,0,0,0,0,0,0,0,0,0,1,0,0,0,0,0,0,0,0,0,0,0,0,0,0,1,0,0,0,0,0,0,0,0,0,0,0,0,0,0,0,0,0,0,0,0,0,0,0,0,0,0,1,0,0,0,0,0,0,0,0,0,0,0,0,0,0,0,1,1,0,0,1,0,1,0,0,0,1,0,0,0,0,1,0,0,0,0,1,0,0,0,0,0,0,0,1,0,1,0,0,0,0,0,0,0,0,0,0,0,0,0,0,0,1,0,0,0,1,1,0,0,0,0,0,1,0,0,1,0,0,1,1,1,0,1,0,0,0,1,1,0,0,0,0,1,0,0,1,1,1,1,0,0,0,1,0,0,0,0,1,0,0,0,0,0,0,1,1,0,0,0,0,0,0,0,0,0,0,0,0,0,0,0,0,0,1,0,0,0,0,0,0,0,0,0,1,0,0,1,0,0,0,1,0,0,0,0,0,0,0,0,0,0,0,1,0,0,0,0,0,0,0,0,1,0,0,0,0,0,0,0,1,0,0,0,0,0,0,0,0,0,1,0,0,0,1,0,1,0,0,1,0,0,0,0,0,0,0,0,0,1,0,0,1,0,0,0,0,0,0,0,0,0,0,1,1,0,0,0,0,0,0,0,0,0,0,0,0,0,0,0,0,0,0,0,1,0,0,0,0,0,0,0,0,0,0,0,0,0,0,0,0,0,0,0,0,0,0,0,0,0,0,0,0,1,0,0,0,0,0,0,0,0,0,1,0,0,1,0,0,0,1,0,0,0,0,0,0,0,0,0,0,0,0,0,0,0,0,0,0,0,0,1,0,0,0,0,0,1,0,0,0,0,0,1,0,0,0,0,0,0,0,0,0,0,0,0,0,1,0,0,0,0,1,0,0,0,0,1,0,0,0,0,0,0,0,0,0,0,0,0,0,0,0,0,0,0,0,0,0,0,1,0,0,0,0,1,0,0,0,0,0,0,0,0,0,0,0,0,1,0,0,0,0,0,0,0,0,0,0,0,0,0,0,1,0,0,0,0,0,0,0,0,0,0,0,0,0,0,0,0,0,0,0,0,1,0,0,1,1,0,0,0,0,0,0,0,0],\"coloraxis\":\"coloraxis\",\"opacity\":0.4,\"symbol\":\"circle\"},\"mode\":\"markers\",\"name\":\"\",\"orientation\":\"v\",\"showlegend\":false,\"x\":[11.665336608886719,8.708106994628906,9.023248672485352,9.77665901184082,10.036528587341309,10.044981956481934,9.3951997756958,11.081100463867188,11.651244163513184,11.160680770874023,10.920684814453125,10.609375,10.351042747497559,9.29906177520752,10.702220916748047,4.862010955810547,9.485810279846191,4.77506160736084,5.578192710876465,11.818866729736328,10.882745742797852,5.862996578216553,5.849023342132568,10.905473709106445,4.967538833618164,10.408173561096191,8.775876998901367,8.854500770568848,10.750081062316895,9.456109046936035,8.525569915771484,5.39807653427124,10.037313461303711,11.367419242858887,9.168618202209473,10.261348724365234,10.9739351272583,11.296031951904297,11.108563423156738,9.592368125915527,4.965339660644531,8.983907699584961,5.381577491760254,12.311723709106445,10.433850288391113,11.74583625793457,9.999499320983887,10.80398941040039,9.15156364440918,8.435240745544434,12.347654342651367,12.269620895385742,12.194697380065918,11.606045722961426,9.864790916442871,11.636360168457031,11.006157875061035,9.412749290466309,6.009555339813232,10.960257530212402,8.322990417480469,5.921046733856201,11.011744499206543,5.960414886474609,8.263392448425293,5.929356098175049,10.613594055175781,9.618611335754395,10.924837112426758,10.726578712463379,9.728140830993652,11.94411563873291,10.82430648803711,5.995828151702881,12.494791984558105,9.167502403259277,12.539610862731934,5.972591876983643,9.02623176574707,11.766557693481445,5.6019158363342285,10.10766315460205,12.171065330505371,11.60827922821045,11.579277992248535,11.742610931396484,12.120118141174316,5.991442680358887,12.109506607055664,12.320062637329102,12.17936897277832,11.43514633178711,12.17732048034668,12.020779609680176,8.497800827026367,11.070093154907227,6.304429054260254,12.158785820007324,4.951414585113525,5.2242536544799805,8.734304428100586,9.134713172912598,5.422637462615967,8.742790222167969,5.169998645782471,6.450483322143555,10.754636764526367,9.210055351257324,12.028096199035645,5.1611857414245605,11.712809562683105,12.389019012451172,10.612095832824707,11.292461395263672,6.385162830352783,11.42192268371582,5.85911226272583,5.990010738372803,10.656147003173828,12.552807807922363,12.299193382263184,6.5412116050720215,6.687246799468994,11.99571418762207,6.3557257652282715,11.974935531616211,9.898387908935547,11.48036003112793,9.526773452758789,5.942195892333984,6.063976287841797,8.783041000366211,6.10730504989624,10.734538078308105,10.52308464050293,6.178924560546875,5.316504001617432,10.192939758300781,5.82877254486084,12.111729621887207,10.620203971862793,10.551263809204102,10.710652351379395,9.435246467590332,11.846089363098145,8.927474975585938,8.972078323364258,12.352237701416016,11.222256660461426,8.968969345092773,9.440661430358887,10.30052661895752,11.240768432617188,10.14179801940918,12.278037071228027,11.078519821166992,9.60103702545166,10.530003547668457,10.24049186706543,5.160120487213135,11.345466613769531,5.790680408477783,9.923583030700684,11.108892440795898,10.113459587097168,10.45277214050293,12.363561630249023,11.206650733947754,10.462620735168457,9.228596687316895,9.759786605834961,6.428983688354492,8.724217414855957,8.999281883239746,8.850627899169922,11.320520401000977,8.453661918640137,5.878841876983643,11.411842346191406,6.545078277587891,10.598675727844238,12.04085636138916,12.353971481323242,10.104402542114258,10.780998229980469,8.200177192687988,11.758683204650879,10.958409309387207,9.934905052185059,12.577661514282227,11.081552505493164,10.990080833435059,11.47254467010498,9.640596389770508,9.41050910949707,8.664583206176758,9.392616271972656,11.336118698120117,11.325737953186035,9.869657516479492,11.251397132873535,12.211816787719727,8.456092834472656,8.326170921325684,11.25447940826416,12.014652252197266,11.215409278869629,9.776385307312012,8.319079399108887,10.255743980407715,11.670513153076172,11.390448570251465,11.94780445098877,10.807271003723145,9.20143985748291,11.11989688873291,4.964091777801514,11.741482734680176,8.861918449401855,11.432004928588867,12.213240623474121,12.313849449157715,9.14474868774414,6.26126766204834,10.051718711853027,11.25743579864502,9.464709281921387,8.806954383850098,9.547226905822754,9.698647499084473,11.5317964553833,11.430381774902344,9.566737174987793,9.492538452148438,9.074812889099121,5.376442909240723,10.63793659210205,9.587234497070312,4.949164867401123,9.911886215209961,11.017099380493164,9.992959976196289,6.35858154296875,11.209539413452148,5.89686393737793,11.531903266906738,10.517730712890625,10.418651580810547,10.190743446350098,10.919612884521484,9.472771644592285,9.518110275268555,9.771160125732422,8.606608390808105,8.337594032287598,9.33034610748291,6.295967102050781,8.72891616821289,5.479869842529297,9.535285949707031,5.226760387420654,10.007789611816406,11.550810813903809,5.803610324859619,11.707308769226074,8.787094116210938,10.061044692993164,11.84721565246582,9.049663543701172,9.013219833374023,10.159136772155762,6.13404655456543,10.134255409240723,11.090575218200684,11.757607460021973,10.090782165527344,11.247270584106445,11.81997013092041,10.758853912353516,10.724024772644043,12.661763191223145,5.310109615325928,11.994089126586914,9.454621315002441,9.458817481994629,8.665942192077637,10.000908851623535,9.945181846618652,10.447687149047852,10.04631233215332,8.892475128173828,10.354482650756836,11.245855331420898,7.327311992645264,10.861970901489258,6.060496807098389,10.078682899475098,5.444458484649658,10.088162422180176,10.93443775177002,9.301168441772461,10.141165733337402,8.911225318908691,8.478919982910156,10.03975772857666,9.211215019226074,11.458874702453613,11.83621597290039,11.87550163269043,11.648487091064453,9.474849700927734,5.20640230178833,12.070481300354004,9.871576309204102,5.9920854568481445,5.3101277351379395,11.388744354248047,12.138044357299805,9.225488662719727,11.775989532470703,5.575108528137207,10.611185073852539,12.098694801330566,12.302874565124512,11.846896171569824,12.09281063079834,9.780434608459473,11.023271560668945,6.22981071472168,9.67475700378418,11.868011474609375,12.01738452911377,9.314988136291504,6.15635347366333,9.43818473815918,12.46554946899414,6.060354232788086,8.67105770111084,9.942237854003906,9.092345237731934,9.051536560058594,10.5665283203125,11.684300422668457,5.393255233764648,10.644721031188965,6.122816562652588,5.080230236053467,5.250949382781982,6.198005676269531,9.013893127441406,11.95626163482666,11.012528419494629,6.6493730545043945,10.5825834274292,5.266029357910156,6.489092826843262,9.738723754882812,10.861808776855469,8.591998100280762,8.712052345275879,10.012434005737305,12.099757194519043,11.946675300598145,12.263083457946777,12.053624153137207,11.866189002990723,11.977313995361328,11.919534683227539,11.550474166870117,11.65750789642334,7.851600646972656,10.817814826965332,12.2626314163208,12.011275291442871,12.356627464294434,9.644966125488281,5.972969055175781,11.745401382446289,8.065971374511719,11.605570793151855,5.470598220825195,12.482446670532227,8.701217651367188,11.346625328063965,11.483933448791504,11.344145774841309,9.68748950958252,10.761962890625,10.722110748291016,10.436129570007324,10.650445938110352,5.732302665710449,5.0416765213012695,5.018259525299072,9.147282600402832,9.041379928588867,9.4805908203125,9.121368408203125,12.387967109680176,9.148994445800781,8.836684226989746,11.145163536071777,5.088262557983398,8.36638355255127,11.489689826965332,9.204277038574219,10.62671947479248,11.054313659667969,5.376362323760986,5.5979180335998535,10.833565711975098,8.906495094299316,11.048773765563965,10.671431541442871,11.745523452758789,10.82982063293457,11.968241691589355,11.294986724853516,12.284533500671387,8.419746398925781,5.992884635925293,11.77037525177002,11.68285083770752,11.441411018371582,11.23211669921875,11.383392333984375,6.56887149810791,9.358390808105469,10.824365615844727,11.499452590942383,5.256690502166748,12.165266036987305,10.738100051879883,10.957737922668457,11.650416374206543,5.443423271179199,12.0401611328125,10.632370948791504,11.707169532775879,9.630512237548828,5.3949875831604,9.438672065734863,9.463048934936523,11.464838027954102,6.44333553314209,8.476715087890625,9.552301406860352,10.122209548950195,9.581013679504395,5.620666027069092,10.890422821044922,9.085826873779297,5.042145729064941,12.432454109191895,9.291281700134277,9.847222328186035,9.177083015441895,5.973023414611816,11.426246643066406,6.3739447593688965,11.17231559753418,11.920759201049805,10.915201187133789,9.958553314208984,9.281132698059082,12.5309476852417,9.327606201171875,11.720726013183594,6.307989597320557,8.485360145568848,10.32353687286377,10.273263931274414,11.548906326293945,11.027788162231445,9.73949909210205,11.920015335083008,9.089019775390625,5.724360466003418,12.333459854125977,11.12023639678955,9.783109664916992,10.55568790435791,11.835103034973145,10.339065551757812,9.608108520507812,8.38914966583252,5.18798303604126,10.970579147338867,10.461030960083008,5.454952239990234,12.685850143432617,12.311180114746094,10.581100463867188,10.872993469238281,10.00837516784668,10.353808403015137,11.178801536560059,11.675921440124512,8.710856437683105,10.92322826385498,9.739313125610352,10.249414443969727,10.005518913269043,9.433695793151855,11.451494216918945,10.95721435546875,12.065400123596191,11.310229301452637,10.546738624572754,8.874856948852539,11.117755889892578,10.118249893188477,9.559843063354492,5.921532154083252,12.306797981262207,11.55556583404541,9.122871398925781,9.174312591552734,6.101362228393555,10.098223686218262,8.144281387329102,8.592866897583008,10.79633617401123,9.500911712646484,9.861099243164062,10.747760772705078,11.024455070495605,12.610716819763184,10.079708099365234,10.161463737487793,12.471779823303223,5.0945563316345215,8.033658981323242,5.760682106018066,8.927629470825195,11.847953796386719,12.607479095458984,12.23833179473877,9.461258888244629,11.938764572143555,11.310113906860352,10.490143775939941,6.342249393463135,12.163589477539062,5.618183612823486,12.171156883239746,5.045702934265137,9.98993968963623,11.657390594482422,12.116793632507324,11.581476211547852,12.15949821472168,11.904572486877441,12.22314739227295,7.331056594848633,12.283307075500488,7.73184871673584,11.11911392211914,8.030821800231934,8.03553581237793,11.93923282623291,10.051548957824707,11.90194034576416,8.761459350585938,9.598113059997559,10.401118278503418,5.7129974365234375,11.226547241210938,6.545937538146973,11.604286193847656,10.180170059204102,9.968652725219727,10.815999031066895,5.417592525482178,6.543985366821289,11.669952392578125,10.527928352355957,10.246415138244629,7.218578338623047,9.113059043884277,9.325807571411133,5.984001636505127,9.731605529785156,11.465641021728516,9.232173919677734,9.325125694274902,8.881782531738281,6.268550872802734,9.410995483398438,11.817256927490234,5.243480682373047,8.709155082702637,8.632753372192383,8.349214553833008,12.552364349365234,8.514363288879395,9.747149467468262,11.183466911315918,5.0634050369262695,8.943912506103516,8.258451461791992,7.859999656677246,10.7080659866333,12.094304084777832,10.07783031463623,9.53899097442627,11.375285148620605,9.767560958862305,11.797605514526367,8.309349060058594,7.976414203643799,10.807743072509766,5.3593244552612305,11.344208717346191,11.081351280212402,8.66841983795166,8.208218574523926,9.470008850097656,10.487854957580566,6.4703216552734375,12.178614616394043,9.723380088806152,6.411403179168701,4.982715606689453,12.18872356414795,5.568148612976074,12.1793851852417,9.308353424072266,12.092999458312988,9.00827407836914,10.191774368286133,10.10412311553955,12.079368591308594,12.14084243774414,8.065576553344727,11.69795036315918,12.435775756835938,10.083253860473633,6.569146156311035,6.339411735534668,5.022840976715088,12.301881790161133,10.377252578735352,11.799752235412598,12.440942764282227,11.239253044128418,11.392210960388184,11.76374340057373,12.423657417297363,12.644512176513672,11.402595520019531,11.04181957244873,11.085610389709473,12.60424518585205,10.826579093933105,12.216398239135742,9.165199279785156,5.336676120758057,9.035513877868652,11.134479522705078,11.769547462463379,6.124897003173828,12.390891075134277,7.491508960723877,11.411543846130371,12.519022941589355,10.49918270111084,11.604971885681152,9.578492164611816,11.733979225158691,10.06136417388916,9.248863220214844,5.291292667388916,12.687963485717773,5.897322177886963,9.405905723571777,6.436290264129639,11.326638221740723,12.207472801208496,11.500676155090332,6.4463982582092285,8.574640274047852,12.137317657470703,9.658506393432617,10.84708309173584,12.399578094482422,10.040745735168457,10.477490425109863,10.638245582580566,9.538775444030762,10.791759490966797,10.64748764038086,10.980854988098145,9.214021682739258,9.129358291625977,10.013250350952148,12.019527435302734,11.652205467224121,8.970955848693848,10.72193717956543,5.124382972717285,9.517659187316895,8.638734817504883,11.07701301574707,4.974399566650391,10.92520809173584,8.730499267578125,8.141417503356934,5.452096939086914,8.740897178649902,6.012641906738281,9.241455078125,10.261981010437012,11.393769264221191,11.233882904052734,12.51255989074707,5.809703826904297,6.112944602966309,9.664383888244629,12.029799461364746,11.531590461730957,11.529803276062012,12.407428741455078,12.57616138458252,9.81618881225586,12.26814079284668,11.604653358459473,9.552956581115723,11.479621887207031,11.640076637268066,11.658711433410645,11.935381889343262,11.948992729187012,11.016446113586426,11.654671669006348,7.675952911376953,11.55338191986084,8.700571060180664,5.02279806137085,11.716071128845215,11.088905334472656,11.187621116638184,9.53661060333252,10.179533958435059,10.421857833862305,5.253136157989502,10.134734153747559,11.820395469665527,12.085752487182617,10.50311279296875,12.588521957397461,12.56726360321045,8.65281867980957,11.833715438842773,10.38723087310791,10.324844360351562,9.340978622436523,5.65641450881958,5.052585601806641,5.886068344116211,11.207386016845703,9.016688346862793,9.925518035888672,5.294757843017578,5.327719688415527,8.806734085083008,5.304559230804443,12.321161270141602,11.650402069091797,10.750328063964844,5.747325420379639,11.286259651184082,9.62384033203125,5.916028022766113,5.755738258361816,8.734723091125488,10.086893081665039,10.12403392791748,10.534018516540527,10.011284828186035,8.826476097106934,11.640565872192383,10.026376724243164,10.764389991760254,9.03271770477295,11.575810432434082,11.105485916137695,12.019754409790039,10.832223892211914,8.458207130432129,11.59260368347168,12.60604190826416,11.696141242980957,8.865432739257812,7.187265396118164,11.617116928100586,12.056057929992676,11.91220474243164,10.58630084991455,11.015297889709473,9.285762786865234,9.915494918823242,8.452920913696289,10.011213302612305,4.794500827789307,12.400870323181152,6.614760875701904,5.664003372192383,12.02966594696045,10.03297233581543,7.869530200958252,11.841405868530273,12.073145866394043,10.522668838500977,9.268440246582031,8.532546043395996,5.146242618560791,8.972686767578125,8.778387069702148,9.215168952941895,5.277524471282959,11.409821510314941,8.89598274230957,11.162542343139648,11.024894714355469,12.138364791870117,8.355981826782227,12.247422218322754,11.501699447631836,11.250709533691406,11.95581340789795,10.300314903259277,8.485363006591797,12.211610794067383,10.05194091796875,8.829044342041016,11.441283226013184,10.360603332519531,10.348773956298828,5.5554890632629395,9.570856094360352,11.200697898864746,9.187438011169434,5.373096466064453,11.370282173156738,4.929081439971924,11.888134002685547,10.87364387512207,5.412745952606201,9.178078651428223,10.33841609954834,9.377283096313477,10.196443557739258,9.040634155273438,9.42027759552002,4.994774341583252,10.499551773071289,11.467207908630371,9.682717323303223,9.53548812866211,7.187439918518066,11.468806266784668,8.035117149353027,5.776102542877197,8.387321472167969,8.988802909851074,10.59242057800293,9.465622901916504,12.480337142944336,9.15003490447998,8.400991439819336,11.21613597869873,4.921494007110596,9.588212966918945,11.391880989074707,9.89396858215332,10.00927448272705,9.135737419128418,9.2725830078125,10.317607879638672,9.376421928405762,11.231768608093262,8.146208763122559,9.698974609375,9.257823944091797,8.954339981079102,8.734678268432617,8.987858772277832,7.862671375274658,6.1620659828186035,9.112467765808105,8.891378402709961,5.416675567626953,9.534049034118652,8.025142669677734,9.132857322692871,8.976933479309082,5.292636394500732,8.924128532409668,9.397204399108887,9.619708061218262,4.939776420593262,11.076004981994629,10.723592758178711,10.990250587463379,10.879509925842285,5.184426784515381,10.636268615722656,8.975295066833496,5.354421615600586,11.417058944702148,5.268503189086914,10.556083679199219,10.88211727142334,9.068094253540039,9.139141082763672,8.774438858032227,8.864068031311035,4.933693885803223,11.131560325622559,11.555060386657715,9.705605506896973,8.86001968383789,9.65162181854248,8.532788276672363,5.719246864318848,11.41624641418457,11.309844017028809,5.8811140060424805,10.538119316101074,11.499741554260254,10.096257209777832,5.645508766174316,5.113586902618408,11.178885459899902,11.108282089233398,10.525934219360352,5.880290508270264,8.455605506896973,8.60953140258789,8.411554336547852,8.874192237854004,10.572765350341797,9.04898738861084,9.613693237304688,9.611184120178223,9.704222679138184,9.50948715209961,8.931222915649414],\"xaxis\":\"x\",\"y\":[8.057326316833496,7.0197954177856445,7.271854400634766,7.3671040534973145,7.2676777839660645,7.256904602050781,8.209320068359375,11.36092472076416,11.982007026672363,10.854331970214844,9.875442504882812,7.619337558746338,12.75782299041748,11.090370178222656,10.404470443725586,9.985636711120605,9.65526294708252,9.930813789367676,9.948732376098633,7.979949474334717,11.038653373718262,8.988450050354004,11.210637092590332,9.188863754272461,9.95213794708252,10.879283905029297,9.045402526855469,9.730852127075195,8.890104293823242,7.040492057800293,12.420000076293945,10.285006523132324,7.149808406829834,7.333621501922607,6.25288200378418,10.377131462097168,8.794780731201172,8.178987503051758,12.080412864685059,8.661786079406738,9.5248441696167,7.39105749130249,9.684748649597168,9.193828582763672,8.729108810424805,11.590692520141602,12.772032737731934,12.45164966583252,12.600314140319824,10.839629173278809,9.464808464050293,12.435230255126953,8.571992874145508,9.815024375915527,11.42029094696045,12.703723907470703,11.120601654052734,9.39724063873291,11.460814476013184,10.063448905944824,9.831665992736816,10.431819915771484,10.94700813293457,9.858327865600586,8.733251571655273,8.801298141479492,9.185704231262207,11.325394630432129,10.368368148803711,13.099149703979492,11.351125717163086,10.842138290405273,12.781193733215332,9.822473526000977,9.902539253234863,10.92764663696289,11.85838508605957,9.969866752624512,12.666450500488281,12.95030403137207,10.226279258728027,9.23764705657959,9.617621421813965,9.296463966369629,8.766977310180664,12.267780303955078,11.741194725036621,10.55231761932373,9.441779136657715,12.43879222869873,12.241349220275879,12.967159271240234,13.73011589050293,13.119464874267578,11.169142723083496,9.338306427001953,11.449477195739746,8.57669448852539,9.325878143310547,8.613415718078613,6.505372524261475,6.155605316162109,8.908102035522461,6.987865924835205,8.674589157104492,11.760396957397461,7.370954990386963,8.578167915344238,10.005315780639648,10.182547569274902,13.17453670501709,11.345084190368652,8.73863410949707,10.157279014587402,10.121660232543945,11.259048461914062,9.782588958740234,9.905256271362305,9.248435020446777,8.684667587280273,12.408658027648926,11.097729682922363,11.267500877380371,12.699135780334473,10.649709701538086,13.112442970275879,10.548941612243652,7.203876972198486,6.673455715179443,9.869644165039062,9.789521217346191,6.2138447761535645,9.292232513427734,12.450223922729492,7.155630588531494,9.656661033630371,8.616719245910645,10.399632453918457,9.463064193725586,8.534943580627441,9.149322509765625,11.301159858703613,9.105428695678711,11.481518745422363,10.163339614868164,9.866344451904297,9.384645462036133,8.59019660949707,8.93679141998291,10.325594902038574,9.77841854095459,8.683106422424316,9.903623580932617,11.720770835876465,12.078165054321289,12.978113174438477,10.635499954223633,12.871973037719727,9.33260726928711,10.243157386779785,9.588080406188965,10.94221019744873,9.841853141784668,7.2198100090026855,9.184035301208496,10.030218124389648,8.311808586120605,11.222511291503906,7.469757080078125,9.003243446350098,9.611773490905762,11.556021690368652,12.367644309997559,9.433670043945312,8.695664405822754,11.146988868713379,10.057783126831055,10.350750923156738,10.503926277160645,10.058658599853516,13.117430686950684,10.454014778137207,8.698819160461426,9.273246765136719,7.881134510040283,10.237549781799316,10.079915046691895,12.973614692687988,10.583344459533691,10.867947578430176,10.970208168029785,7.978910446166992,9.909889221191406,11.37647533416748,9.745187759399414,9.659944534301758,10.787847518920898,10.052299499511719,9.682861328125,11.067584037780762,10.469635009765625,12.12964916229248,10.317846298217773,9.894710540771484,13.09704303741455,11.807912826538086,10.8695650100708,12.72836971282959,9.915205001831055,10.239192962646484,9.775553703308105,11.615678787231445,12.613916397094727,13.153901100158691,9.857316970825195,12.728167533874512,10.023600578308105,8.926626205444336,12.557231903076172,12.838910102844238,11.515957832336426,12.404512405395508,12.62248420715332,11.572761535644531,12.546622276306152,11.470222473144531,6.438294887542725,6.185457706451416,7.448361873626709,12.48481559753418,7.14076042175293,7.967330455780029,7.611100196838379,7.431392669677734,7.29652214050293,9.056289672851562,10.794272422790527,12.466879844665527,9.15449047088623,11.442358016967773,7.442523002624512,8.141745567321777,11.67996597290039,7.862102031707764,9.497374534606934,7.406071662902832,7.295702934265137,12.368712425231934,8.8509521484375,11.0006103515625,11.042280197143555,10.628347396850586,10.891996383666992,8.76701545715332,9.892450332641602,8.62747859954834,9.58077335357666,9.911948204040527,8.906781196594238,11.468888282775879,10.17191219329834,10.476229667663574,10.180048942565918,10.014863967895508,9.529769897460938,7.547557353973389,13.411524772644043,11.761030197143555,6.894428253173828,9.28673267364502,9.329565048217773,9.833066940307617,9.798930168151855,8.50822639465332,11.9296875,13.44126033782959,10.687884330749512,11.060357093811035,7.74602746963501,11.203146934509277,8.737386703491211,10.349259376525879,12.471672058105469,11.815052032470703,9.742919921875,10.841117858886719,10.485249519348145,9.108283996582031,8.86523723602295,8.575946807861328,7.313897132873535,12.86187744140625,8.118056297302246,8.66706657409668,8.474925994873047,10.486664772033691,11.61440372467041,10.17093563079834,8.892355918884277,11.185452461242676,11.765507698059082,11.561403274536133,6.849110126495361,12.324179649353027,9.166035652160645,11.155431747436523,12.955643653869629,11.559501647949219,8.646533012390137,12.968708992004395,9.888481140136719,10.10316276550293,7.838227272033691,7.162539482116699,11.378523826599121,9.237523078918457,11.974632263183594,7.941994667053223,10.545754432678223,10.237743377685547,9.7062349319458,10.272939682006836,8.077187538146973,12.577008247375488,9.677491188049316,9.582043647766113,10.6502046585083,8.370631217956543,11.260139465332031,10.986300468444824,7.85275411605835,12.617831230163574,12.588208198547363,9.745736122131348,8.830426216125488,8.386146545410156,10.361289024353027,12.1198148727417,8.883936882019043,9.747474670410156,10.38199234008789,9.0814790725708,8.713549613952637,10.369122505187988,9.207801818847656,11.211186408996582,10.031465530395508,10.51492691040039,11.337102890014648,11.976522445678711,12.6961088180542,12.161093711853027,11.670257568359375,10.45395278930664,9.740653038024902,11.229347229003906,9.598458290100098,11.055130004882812,12.441160202026367,12.241809844970703,9.216756820678711,10.001303672790527,13.216508865356445,12.880308151245117,12.902663230895996,13.231199264526367,13.070569038391113,10.415846824645996,13.559405326843262,12.900436401367188,10.380885124206543,13.07143497467041,12.485231399536133,12.247440338134766,9.81284236907959,10.463347434997559,10.554656982421875,13.46010971069336,10.378978729248047,13.452580451965332,10.574718475341797,10.946097373962402,11.489046096801758,9.818380355834961,12.53292465209961,12.63687515258789,12.101439476013184,12.8139066696167,7.43803596496582,10.741955757141113,10.166433334350586,9.518948554992676,9.113483428955078,9.178905487060547,7.038940906524658,9.35649299621582,7.975140571594238,7.681180477142334,8.3871431350708,7.704098224639893,7.5818705558776855,12.415373802185059,9.5570650100708,9.418675422668457,10.801369667053223,7.372988700866699,9.358807563781738,9.822525024414062,9.216745376586914,9.902137756347656,8.337021827697754,7.785610198974609,10.926431655883789,8.333009719848633,8.5703125,11.164115905761719,8.29989242553711,12.146085739135742,11.54000186920166,9.355230331420898,9.675477027893066,9.846453666687012,10.577130317687988,11.71326732635498,9.289663314819336,10.175840377807617,10.085400581359863,11.756653785705566,7.844095706939697,7.8202409744262695,10.260360717773438,7.9423112869262695,9.324771881103516,11.039779663085938,8.843019485473633,9.873900413513184,11.283239364624023,9.660722732543945,8.642059326171875,7.068140506744385,8.689465522766113,7.102165222167969,7.052981376647949,10.584084510803223,10.698895454406738,8.519787788391113,11.31441593170166,13.307640075683594,11.759788513183594,9.716730117797852,10.811263084411621,10.546754837036133,9.590271949768066,10.831059455871582,11.393502235412598,11.082489967346191,12.074727058410645,10.796733856201172,11.774120330810547,10.80034065246582,11.525884628295898,12.4482421875,11.839076042175293,12.291207313537598,10.9298677444458,10.265573501586914,7.660317897796631,10.712078094482422,10.951982498168945,10.921279907226562,11.467711448669434,12.081389427185059,9.80852222442627,12.12333869934082,11.44118595123291,8.841156959533691,11.514373779296875,10.630393981933594,11.4541015625,12.350141525268555,11.417671203613281,10.554649353027344,12.15092945098877,12.812217712402344,11.37427043914795,10.159801483154297,9.577291488647461,9.524091720581055,10.858238220214844,8.768511772155762,9.208849906921387,11.532036781311035,12.297584533691406,12.356037139892578,10.322628021240234,10.261358261108398,8.918903350830078,12.745929718017578,12.366422653198242,10.9266357421875,10.832953453063965,9.128417015075684,7.2697038650512695,8.443292617797852,11.542890548706055,10.101530075073242,10.509172439575195,11.779690742492676,7.58497953414917,8.31847858428955,8.181573867797852,10.275649070739746,9.593829154968262,11.389357566833496,8.444915771484375,11.300890922546387,12.679910659790039,11.413958549499512,10.282538414001465,11.526216506958008,9.844993591308594,11.590010643005371,12.9037446975708,10.566926002502441,10.595585823059082,9.077969551086426,12.812859535217285,8.830265045166016,11.081603050231934,9.256087303161621,8.587206840515137,10.089906692504883,10.104620933532715,10.286613464355469,9.556902885437012,13.286402702331543,11.754549026489258,12.824667930603027,9.651224136352539,10.388534545898438,13.037447929382324,12.6683931350708,11.36910629272461,13.7095947265625,10.024008750915527,13.717562675476074,10.021920204162598,11.329886436462402,13.485993385314941,8.52534294128418,12.785242080688477,10.038674354553223,9.158663749694824,13.776095390319824,10.575528144836426,8.220783233642578,10.49059009552002,12.95606803894043,10.307243347167969,10.122568130493164,9.473852157592773,13.43089485168457,11.701135635375977,11.438471794128418,6.490603446960449,7.018661975860596,9.138457298278809,7.041201591491699,11.763374328613281,7.323110103607178,11.915258407592773,12.439706802368164,7.833700656890869,10.632200241088867,10.14022445678711,8.725534439086914,12.360512733459473,11.514397621154785,10.041585922241211,10.170293807983398,8.494843482971191,11.40473461151123,9.929192543029785,7.138713836669922,7.611273765563965,9.554177284240723,8.579743385314941,8.980010032653809,11.080953598022461,7.339206218719482,10.072294235229492,9.183959007263184,9.313764572143555,8.525888442993164,10.940688133239746,8.836385726928711,9.082181930541992,9.77637767791748,10.13144302368164,9.175189018249512,9.99183464050293,10.089597702026367,9.126815795898438,8.663026809692383,11.48786449432373,9.403980255126953,9.550771713256836,9.589037895202637,9.877628326416016,9.79646110534668,10.238580703735352,9.090768814086914,10.510382652282715,11.88504695892334,8.343549728393555,6.814230442047119,9.404135704040527,12.362363815307617,9.284249305725098,10.24275016784668,9.136951446533203,12.691313743591309,10.046316146850586,9.951990127563477,11.482239723205566,10.553114891052246,13.736533164978027,10.029290199279785,13.616403579711914,12.598193168640137,11.168281555175781,11.423048973083496,13.412857055664062,13.648277282714844,10.386133193969727,12.562773704528809,8.293347358703613,11.507475852966309,9.626660346984863,11.142499923706055,10.141304016113281,8.15687084197998,11.419401168823242,7.431670188903809,9.836511611938477,12.845728874206543,10.297649383544922,8.557235717773438,10.663131713867188,11.354941368103027,13.411391258239746,7.920668125152588,12.335149765014648,8.353988647460938,8.347542762756348,11.140009880065918,9.107742309570312,10.308511734008789,8.556519508361816,13.090456008911133,12.82874870300293,10.406302452087402,10.5043363571167,10.399681091308594,12.778494834899902,9.875378608703613,13.228137016296387,12.51602554321289,10.230587005615234,13.431680679321289,11.283730506896973,11.868451118469238,8.531349182128906,8.597983360290527,10.314516067504883,10.961755752563477,10.520971298217773,12.636256217956543,12.122993469238281,12.44250774383545,11.033917427062988,9.86413860321045,11.292045593261719,8.781707763671875,12.623597145080566,11.773599624633789,8.923290252685547,7.337390899658203,7.202213287353516,12.532283782958984,11.357778549194336,7.713590145111084,8.299613952636719,7.761503219604492,12.689888954162598,8.682230949401855,10.464750289916992,10.851819038391113,7.560873985290527,12.573486328125,10.226956367492676,7.89813756942749,8.746131896972656,9.93026351928711,9.571623802185059,8.611245155334473,9.338801383972168,9.998687744140625,10.027474403381348,11.297131538391113,10.468036651611328,10.64745044708252,12.576294898986816,10.475950241088867,9.003670692443848,8.504140853881836,9.821935653686523,10.39261531829834,10.04946231842041,11.732906341552734,11.013315200805664,10.895477294921875,8.969491958618164,8.6054105758667,9.50275707244873,11.750059127807617,9.641127586364746,9.594386100769043,11.893880844116211,13.61581039428711,8.666267395019531,11.339670181274414,8.673324584960938,8.744009971618652,8.73276424407959,10.327568054199219,13.404144287109375,12.306905746459961,9.17520523071289,12.715887069702148,7.630739688873291,8.550792694091797,7.107182502746582,10.703042030334473,13.231520652770996,10.648148536682129,12.585515022277832,7.476546287536621,11.220613479614258,12.406706809997559,8.778971672058105,11.45872688293457,9.665754318237305,12.635126113891602,12.916057586669922,8.341681480407715,9.560161590576172,9.140081405639648,10.13179874420166,9.493050575256348,7.345307350158691,7.545929431915283,7.199872970581055,9.36441707611084,8.52384090423584,6.241121768951416,8.543094635009766,8.358053207397461,13.262062072753906,11.484925270080566,9.926324844360352,9.589781761169434,10.797419548034668,9.229231834411621,10.896556854248047,12.44520092010498,13.340660095214844,13.411873817443848,12.606303215026855,10.374101638793945,12.427762985229492,11.235605239868164,9.833040237426758,13.178162574768066,11.067915916442871,12.108213424682617,7.887710094451904,9.862110137939453,10.482796669006348,10.346467971801758,10.464211463928223,11.105184555053711,8.770467758178711,6.59608793258667,10.40503978729248,12.928720474243164,13.377777099609375,10.68931770324707,8.943896293640137,13.014840126037598,11.78921890258789,10.310181617736816,11.054946899414062,13.481130599975586,9.964983940124512,9.911198616027832,11.410852432250977,10.043251037597656,7.862544059753418,8.970870971679688,10.220282554626465,9.848475456237793,13.232999801635742,9.962522506713867,8.821736335754395,12.383785247802734,9.327073097229004,6.1675519943237305,6.264081001281738,6.286636829376221,8.591262817382812,8.042726516723633,6.573025226593018,9.722811698913574,12.406319618225098,13.720455169677734,11.273789405822754,8.927433013916016,12.71274471282959,9.478499412536621,10.425586700439453,8.794110298156738,11.351703643798828,8.49819564819336,8.841278076171875,7.573215007781982,10.179655075073242,13.156553268432617,8.193613052368164,10.170665740966797,10.870450019836426,10.324300765991211,12.574195861816406,9.489194869995117,8.607932090759277,9.263579368591309,11.12781810760498,12.935826301574707,10.351388931274414,10.643915176391602,8.196767807006836,10.151529312133789,8.634571075439453,6.305447578430176,10.140366554260254,9.07579231262207,11.040124893188477,12.468720436096191,7.186573505401611,7.185334205627441,8.64544677734375,7.153122425079346,8.778558731079102,9.147051811218262,9.830180168151855,12.605633735656738,7.853397369384766,11.665771484375,8.576055526733398,11.358591079711914,11.441883087158203,7.556924343109131,9.167367935180664,12.52490234375,7.524729251861572,7.108832359313965,12.301548957824707,7.20210075378418,6.289312839508057,7.383349895477295,6.654117107391357,7.8394856452941895,8.751747131347656,12.485761642456055,6.384781837463379,6.729712963104248,6.339898586273193,6.306535243988037,8.725614547729492,9.561495780944824,6.306150436401367,6.216078281402588,8.609630584716797,12.421117782592773,9.069992065429688,10.529765129089355,7.324496269226074,8.578523635864258,6.276366710662842,7.029766082763672,7.478034496307373,9.121076583862305,7.249848365783691,7.225015163421631,7.289330959320068,7.426389217376709,8.62777042388916,7.0874223709106445,7.349585056304932,8.597092628479004,7.114199161529541,9.415995597839355,7.083311557769775,7.307002067565918,6.105710983276367,6.184772491455078,6.252434253692627,6.5195393562316895,9.458918571472168,11.979338645935059,7.61755895614624,12.423578262329102,7.394012928009033,6.949007034301758,11.455765724182129,9.159470558166504,7.082407474517822,7.523468971252441,11.31767749786377,10.29687786102295,9.456714630126953,8.961254119873047,9.952640533447266,9.462477684020996,7.938483238220215,7.703076362609863,7.55994987487793,11.35276985168457,11.337536811828613,7.014345169067383,7.307156085968018,6.109530925750732,7.123358249664307,6.145909309387207,6.88232946395874,12.451417922973633,12.605530738830566,6.437849998474121,7.296813488006592],\"yaxis\":\"y\",\"type\":\"scatter\"}],                        {\"template\":{\"data\":{\"histogram2dcontour\":[{\"type\":\"histogram2dcontour\",\"colorbar\":{\"outlinewidth\":0,\"ticks\":\"\"},\"colorscale\":[[0.0,\"#0d0887\"],[0.1111111111111111,\"#46039f\"],[0.2222222222222222,\"#7201a8\"],[0.3333333333333333,\"#9c179e\"],[0.4444444444444444,\"#bd3786\"],[0.5555555555555556,\"#d8576b\"],[0.6666666666666666,\"#ed7953\"],[0.7777777777777778,\"#fb9f3a\"],[0.8888888888888888,\"#fdca26\"],[1.0,\"#f0f921\"]]}],\"choropleth\":[{\"type\":\"choropleth\",\"colorbar\":{\"outlinewidth\":0,\"ticks\":\"\"}}],\"histogram2d\":[{\"type\":\"histogram2d\",\"colorbar\":{\"outlinewidth\":0,\"ticks\":\"\"},\"colorscale\":[[0.0,\"#0d0887\"],[0.1111111111111111,\"#46039f\"],[0.2222222222222222,\"#7201a8\"],[0.3333333333333333,\"#9c179e\"],[0.4444444444444444,\"#bd3786\"],[0.5555555555555556,\"#d8576b\"],[0.6666666666666666,\"#ed7953\"],[0.7777777777777778,\"#fb9f3a\"],[0.8888888888888888,\"#fdca26\"],[1.0,\"#f0f921\"]]}],\"heatmap\":[{\"type\":\"heatmap\",\"colorbar\":{\"outlinewidth\":0,\"ticks\":\"\"},\"colorscale\":[[0.0,\"#0d0887\"],[0.1111111111111111,\"#46039f\"],[0.2222222222222222,\"#7201a8\"],[0.3333333333333333,\"#9c179e\"],[0.4444444444444444,\"#bd3786\"],[0.5555555555555556,\"#d8576b\"],[0.6666666666666666,\"#ed7953\"],[0.7777777777777778,\"#fb9f3a\"],[0.8888888888888888,\"#fdca26\"],[1.0,\"#f0f921\"]]}],\"heatmapgl\":[{\"type\":\"heatmapgl\",\"colorbar\":{\"outlinewidth\":0,\"ticks\":\"\"},\"colorscale\":[[0.0,\"#0d0887\"],[0.1111111111111111,\"#46039f\"],[0.2222222222222222,\"#7201a8\"],[0.3333333333333333,\"#9c179e\"],[0.4444444444444444,\"#bd3786\"],[0.5555555555555556,\"#d8576b\"],[0.6666666666666666,\"#ed7953\"],[0.7777777777777778,\"#fb9f3a\"],[0.8888888888888888,\"#fdca26\"],[1.0,\"#f0f921\"]]}],\"contourcarpet\":[{\"type\":\"contourcarpet\",\"colorbar\":{\"outlinewidth\":0,\"ticks\":\"\"}}],\"contour\":[{\"type\":\"contour\",\"colorbar\":{\"outlinewidth\":0,\"ticks\":\"\"},\"colorscale\":[[0.0,\"#0d0887\"],[0.1111111111111111,\"#46039f\"],[0.2222222222222222,\"#7201a8\"],[0.3333333333333333,\"#9c179e\"],[0.4444444444444444,\"#bd3786\"],[0.5555555555555556,\"#d8576b\"],[0.6666666666666666,\"#ed7953\"],[0.7777777777777778,\"#fb9f3a\"],[0.8888888888888888,\"#fdca26\"],[1.0,\"#f0f921\"]]}],\"surface\":[{\"type\":\"surface\",\"colorbar\":{\"outlinewidth\":0,\"ticks\":\"\"},\"colorscale\":[[0.0,\"#0d0887\"],[0.1111111111111111,\"#46039f\"],[0.2222222222222222,\"#7201a8\"],[0.3333333333333333,\"#9c179e\"],[0.4444444444444444,\"#bd3786\"],[0.5555555555555556,\"#d8576b\"],[0.6666666666666666,\"#ed7953\"],[0.7777777777777778,\"#fb9f3a\"],[0.8888888888888888,\"#fdca26\"],[1.0,\"#f0f921\"]]}],\"mesh3d\":[{\"type\":\"mesh3d\",\"colorbar\":{\"outlinewidth\":0,\"ticks\":\"\"}}],\"scatter\":[{\"fillpattern\":{\"fillmode\":\"overlay\",\"size\":10,\"solidity\":0.2},\"type\":\"scatter\"}],\"parcoords\":[{\"type\":\"parcoords\",\"line\":{\"colorbar\":{\"outlinewidth\":0,\"ticks\":\"\"}}}],\"scatterpolargl\":[{\"type\":\"scatterpolargl\",\"marker\":{\"colorbar\":{\"outlinewidth\":0,\"ticks\":\"\"}}}],\"bar\":[{\"error_x\":{\"color\":\"#2a3f5f\"},\"error_y\":{\"color\":\"#2a3f5f\"},\"marker\":{\"line\":{\"color\":\"#E5ECF6\",\"width\":0.5},\"pattern\":{\"fillmode\":\"overlay\",\"size\":10,\"solidity\":0.2}},\"type\":\"bar\"}],\"scattergeo\":[{\"type\":\"scattergeo\",\"marker\":{\"colorbar\":{\"outlinewidth\":0,\"ticks\":\"\"}}}],\"scatterpolar\":[{\"type\":\"scatterpolar\",\"marker\":{\"colorbar\":{\"outlinewidth\":0,\"ticks\":\"\"}}}],\"histogram\":[{\"marker\":{\"pattern\":{\"fillmode\":\"overlay\",\"size\":10,\"solidity\":0.2}},\"type\":\"histogram\"}],\"scattergl\":[{\"type\":\"scattergl\",\"marker\":{\"colorbar\":{\"outlinewidth\":0,\"ticks\":\"\"}}}],\"scatter3d\":[{\"type\":\"scatter3d\",\"line\":{\"colorbar\":{\"outlinewidth\":0,\"ticks\":\"\"}},\"marker\":{\"colorbar\":{\"outlinewidth\":0,\"ticks\":\"\"}}}],\"scattermapbox\":[{\"type\":\"scattermapbox\",\"marker\":{\"colorbar\":{\"outlinewidth\":0,\"ticks\":\"\"}}}],\"scatterternary\":[{\"type\":\"scatterternary\",\"marker\":{\"colorbar\":{\"outlinewidth\":0,\"ticks\":\"\"}}}],\"scattercarpet\":[{\"type\":\"scattercarpet\",\"marker\":{\"colorbar\":{\"outlinewidth\":0,\"ticks\":\"\"}}}],\"carpet\":[{\"aaxis\":{\"endlinecolor\":\"#2a3f5f\",\"gridcolor\":\"white\",\"linecolor\":\"white\",\"minorgridcolor\":\"white\",\"startlinecolor\":\"#2a3f5f\"},\"baxis\":{\"endlinecolor\":\"#2a3f5f\",\"gridcolor\":\"white\",\"linecolor\":\"white\",\"minorgridcolor\":\"white\",\"startlinecolor\":\"#2a3f5f\"},\"type\":\"carpet\"}],\"table\":[{\"cells\":{\"fill\":{\"color\":\"#EBF0F8\"},\"line\":{\"color\":\"white\"}},\"header\":{\"fill\":{\"color\":\"#C8D4E3\"},\"line\":{\"color\":\"white\"}},\"type\":\"table\"}],\"barpolar\":[{\"marker\":{\"line\":{\"color\":\"#E5ECF6\",\"width\":0.5},\"pattern\":{\"fillmode\":\"overlay\",\"size\":10,\"solidity\":0.2}},\"type\":\"barpolar\"}],\"pie\":[{\"automargin\":true,\"type\":\"pie\"}]},\"layout\":{\"autotypenumbers\":\"strict\",\"colorway\":[\"#636efa\",\"#EF553B\",\"#00cc96\",\"#ab63fa\",\"#FFA15A\",\"#19d3f3\",\"#FF6692\",\"#B6E880\",\"#FF97FF\",\"#FECB52\"],\"font\":{\"color\":\"#2a3f5f\"},\"hovermode\":\"closest\",\"hoverlabel\":{\"align\":\"left\"},\"paper_bgcolor\":\"white\",\"plot_bgcolor\":\"#E5ECF6\",\"polar\":{\"bgcolor\":\"#E5ECF6\",\"angularaxis\":{\"gridcolor\":\"white\",\"linecolor\":\"white\",\"ticks\":\"\"},\"radialaxis\":{\"gridcolor\":\"white\",\"linecolor\":\"white\",\"ticks\":\"\"}},\"ternary\":{\"bgcolor\":\"#E5ECF6\",\"aaxis\":{\"gridcolor\":\"white\",\"linecolor\":\"white\",\"ticks\":\"\"},\"baxis\":{\"gridcolor\":\"white\",\"linecolor\":\"white\",\"ticks\":\"\"},\"caxis\":{\"gridcolor\":\"white\",\"linecolor\":\"white\",\"ticks\":\"\"}},\"coloraxis\":{\"colorbar\":{\"outlinewidth\":0,\"ticks\":\"\"}},\"colorscale\":{\"sequential\":[[0.0,\"#0d0887\"],[0.1111111111111111,\"#46039f\"],[0.2222222222222222,\"#7201a8\"],[0.3333333333333333,\"#9c179e\"],[0.4444444444444444,\"#bd3786\"],[0.5555555555555556,\"#d8576b\"],[0.6666666666666666,\"#ed7953\"],[0.7777777777777778,\"#fb9f3a\"],[0.8888888888888888,\"#fdca26\"],[1.0,\"#f0f921\"]],\"sequentialminus\":[[0.0,\"#0d0887\"],[0.1111111111111111,\"#46039f\"],[0.2222222222222222,\"#7201a8\"],[0.3333333333333333,\"#9c179e\"],[0.4444444444444444,\"#bd3786\"],[0.5555555555555556,\"#d8576b\"],[0.6666666666666666,\"#ed7953\"],[0.7777777777777778,\"#fb9f3a\"],[0.8888888888888888,\"#fdca26\"],[1.0,\"#f0f921\"]],\"diverging\":[[0,\"#8e0152\"],[0.1,\"#c51b7d\"],[0.2,\"#de77ae\"],[0.3,\"#f1b6da\"],[0.4,\"#fde0ef\"],[0.5,\"#f7f7f7\"],[0.6,\"#e6f5d0\"],[0.7,\"#b8e186\"],[0.8,\"#7fbc41\"],[0.9,\"#4d9221\"],[1,\"#276419\"]]},\"xaxis\":{\"gridcolor\":\"white\",\"linecolor\":\"white\",\"ticks\":\"\",\"title\":{\"standoff\":15},\"zerolinecolor\":\"white\",\"automargin\":true,\"zerolinewidth\":2},\"yaxis\":{\"gridcolor\":\"white\",\"linecolor\":\"white\",\"ticks\":\"\",\"title\":{\"standoff\":15},\"zerolinecolor\":\"white\",\"automargin\":true,\"zerolinewidth\":2},\"scene\":{\"xaxis\":{\"backgroundcolor\":\"#E5ECF6\",\"gridcolor\":\"white\",\"linecolor\":\"white\",\"showbackground\":true,\"ticks\":\"\",\"zerolinecolor\":\"white\",\"gridwidth\":2},\"yaxis\":{\"backgroundcolor\":\"#E5ECF6\",\"gridcolor\":\"white\",\"linecolor\":\"white\",\"showbackground\":true,\"ticks\":\"\",\"zerolinecolor\":\"white\",\"gridwidth\":2},\"zaxis\":{\"backgroundcolor\":\"#E5ECF6\",\"gridcolor\":\"white\",\"linecolor\":\"white\",\"showbackground\":true,\"ticks\":\"\",\"zerolinecolor\":\"white\",\"gridwidth\":2}},\"shapedefaults\":{\"line\":{\"color\":\"#2a3f5f\"}},\"annotationdefaults\":{\"arrowcolor\":\"#2a3f5f\",\"arrowhead\":0,\"arrowwidth\":1},\"geo\":{\"bgcolor\":\"white\",\"landcolor\":\"#E5ECF6\",\"subunitcolor\":\"white\",\"showland\":true,\"showlakes\":true,\"lakecolor\":\"white\"},\"title\":{\"x\":0.05},\"mapbox\":{\"style\":\"light\"}}},\"xaxis\":{\"anchor\":\"y\",\"domain\":[0.0,1.0],\"title\":{\"text\":\"UMAP 1\"}},\"yaxis\":{\"anchor\":\"x\",\"domain\":[0.0,1.0],\"title\":{\"text\":\"UMAP 2\"}},\"coloraxis\":{\"colorbar\":{\"title\":{\"text\":\"oncosig_label_ERBB2\"}},\"colorscale\":[[0.0,\"darkblue\"],[1.0,\"red\"]]},\"legend\":{\"tracegroupgap\":0,\"title\":{\"text\":\"Oncosig Labels\"}},\"title\":{\"text\":\"UMAP tcga brca erbb2 scgpt sub genes & onc label\"}},                        {\"responsive\": true}                    ).then(function(){\n                            \nvar gd = document.getElementById('ffba18c6-b793-4aaa-97c4-d1233ad41ff3');\nvar x = new MutationObserver(function (mutations, observer) {{\n        var display = window.getComputedStyle(gd).display;\n        if (!display || display === 'none') {{\n            console.log([gd, 'removed!']);\n            Plotly.purge(gd);\n            observer.disconnect();\n        }}\n}});\n\n// Listen for the removal of the full notebook cells\nvar notebookContainer = gd.closest('#notebook-container');\nif (notebookContainer) {{\n    x.observe(notebookContainer, {childList: true});\n}}\n\n// Listen for the clearing of the current output cell\nvar outputEl = gd.closest('.output');\nif (outputEl) {{\n    x.observe(outputEl, {childList: true});\n}}\n\n                        })                };                });            </script>        </div>"
     },
     "metadata": {},
     "output_type": "display_data"
    }
   ],
   "source": [
    "# Create a Plotly figure\n",
    "fig = px.scatter(umap_df, x='UMAP 1', y='UMAP 2', color='oncosig_label_ERBB2',\n",
    "                 color_continuous_scale=['darkblue', 'red'],\n",
    "                 title=plt_title,\n",
    "                 labels={'Label': 'Oncosig Labels'},\n",
    "                 opacity=0.4)\n",
    "\n",
    "# Update layout\n",
    "fig.update_layout(legend_title_text='Oncosig Labels',\n",
    "                  xaxis_title='UMAP 1',\n",
    "                  yaxis_title='UMAP 2')\n",
    "\n",
    "# Show the plot\n",
    "fig.show()"
   ],
   "metadata": {
    "collapsed": false,
    "ExecuteTime": {
     "end_time": "2023-12-04T14:47:34.023188278Z",
     "start_time": "2023-12-04T14:47:33.890019402Z"
    }
   }
  },
  {
   "cell_type": "code",
   "execution_count": 152,
   "outputs": [
    {
     "data": {
      "text/plain": "                                 oncosig_label_ERBB2  Diagnosis Age  \\\noncosig_label_ERBB2                         1.000000      -0.041841   \nDiagnosis Age                              -0.041841       1.000000   \nAneuploidy Score                            0.045360       0.051049   \nBuffa Hypoxia Score                         0.094829      -0.056280   \nFraction Genome Altered                    -0.003064       0.014275   \nMSI MANTIS Score                           -0.066289       0.029170   \nMSIsensor Score                            -0.038520       0.067884   \nMutation Count                              0.038359       0.060284   \nOverall Survival (Months)                  -0.028976      -0.156524   \nProgress Free Survival (Months)            -0.034780      -0.127021   \nRagnum Hypoxia Score                        0.179141      -0.135804   \nTMB (nonsynonymous)                         0.037966       0.060228   \nUMAP 1                                     -0.040236       0.121570   \nUMAP 2                                     -0.071903      -0.074331   \n\n                                 Aneuploidy Score  Buffa Hypoxia Score  \\\noncosig_label_ERBB2                      0.045360             0.094829   \nDiagnosis Age                            0.051049            -0.056280   \nAneuploidy Score                         1.000000             0.338573   \nBuffa Hypoxia Score                      0.338573             1.000000   \nFraction Genome Altered                  0.572522             0.510997   \nMSI MANTIS Score                        -0.003335             0.107306   \nMSIsensor Score                          0.051344             0.172723   \nMutation Count                           0.026769             0.073004   \nOverall Survival (Months)               -0.033938            -0.036369   \nProgress Free Survival (Months)         -0.033109            -0.058704   \nRagnum Hypoxia Score                     0.335994             0.742164   \nTMB (nonsynonymous)                      0.024584             0.076077   \nUMAP 1                                  -0.256623            -0.753224   \nUMAP 2                                  -0.072141            -0.266112   \n\n                                 Fraction Genome Altered  MSI MANTIS Score  \\\noncosig_label_ERBB2                            -0.003064         -0.066289   \nDiagnosis Age                                   0.014275          0.029170   \nAneuploidy Score                                0.572522         -0.003335   \nBuffa Hypoxia Score                             0.510997          0.107306   \nFraction Genome Altered                         1.000000          0.061065   \nMSI MANTIS Score                                0.061065          1.000000   \nMSIsensor Score                                 0.169252          0.698591   \nMutation Count                                  0.011710          0.176453   \nOverall Survival (Months)                      -0.032953         -0.107241   \nProgress Free Survival (Months)                -0.066046         -0.096528   \nRagnum Hypoxia Score                            0.478391          0.035729   \nTMB (nonsynonymous)                             0.011306          0.170774   \nUMAP 1                                         -0.365822         -0.112037   \nUMAP 2                                         -0.155833         -0.034119   \n\n                                 MSIsensor Score  Mutation Count  \\\noncosig_label_ERBB2                    -0.038520        0.038359   \nDiagnosis Age                           0.067884        0.060284   \nAneuploidy Score                        0.051344        0.026769   \nBuffa Hypoxia Score                     0.172723        0.073004   \nFraction Genome Altered                 0.169252        0.011710   \nMSI MANTIS Score                        0.698591        0.176453   \nMSIsensor Score                         1.000000        0.226222   \nMutation Count                          0.226222        1.000000   \nOverall Survival (Months)              -0.059285       -0.060390   \nProgress Free Survival (Months)        -0.063982       -0.058729   \nRagnum Hypoxia Score                    0.133691        0.067501   \nTMB (nonsynonymous)                     0.224036        0.997975   \nUMAP 1                                 -0.127525       -0.060614   \nUMAP 2                                 -0.030202        0.024009   \n\n                                 Overall Survival (Months)  \\\noncosig_label_ERBB2                              -0.028976   \nDiagnosis Age                                    -0.156524   \nAneuploidy Score                                 -0.033938   \nBuffa Hypoxia Score                              -0.036369   \nFraction Genome Altered                          -0.032953   \nMSI MANTIS Score                                 -0.107241   \nMSIsensor Score                                  -0.059285   \nMutation Count                                   -0.060390   \nOverall Survival (Months)                         1.000000   \nProgress Free Survival (Months)                   0.914193   \nRagnum Hypoxia Score                             -0.015474   \nTMB (nonsynonymous)                              -0.062871   \nUMAP 1                                           -0.010372   \nUMAP 2                                           -0.002570   \n\n                                 Progress Free Survival (Months)  \\\noncosig_label_ERBB2                                    -0.034780   \nDiagnosis Age                                          -0.127021   \nAneuploidy Score                                       -0.033109   \nBuffa Hypoxia Score                                    -0.058704   \nFraction Genome Altered                                -0.066046   \nMSI MANTIS Score                                       -0.096528   \nMSIsensor Score                                        -0.063982   \nMutation Count                                         -0.058729   \nOverall Survival (Months)                               0.914193   \nProgress Free Survival (Months)                         1.000000   \nRagnum Hypoxia Score                                   -0.025935   \nTMB (nonsynonymous)                                    -0.060804   \nUMAP 1                                                  0.012493   \nUMAP 2                                                  0.022562   \n\n                                 Ragnum Hypoxia Score  TMB (nonsynonymous)  \\\noncosig_label_ERBB2                          0.179141             0.037966   \nDiagnosis Age                               -0.135804             0.060228   \nAneuploidy Score                             0.335994             0.024584   \nBuffa Hypoxia Score                          0.742164             0.076077   \nFraction Genome Altered                      0.478391             0.011306   \nMSI MANTIS Score                             0.035729             0.170774   \nMSIsensor Score                              0.133691             0.224036   \nMutation Count                               0.067501             0.997975   \nOverall Survival (Months)                   -0.015474            -0.062871   \nProgress Free Survival (Months)             -0.025935            -0.060804   \nRagnum Hypoxia Score                         1.000000             0.066815   \nTMB (nonsynonymous)                          0.066815             1.000000   \nUMAP 1                                      -0.548010            -0.063779   \nUMAP 2                                      -0.113161             0.023514   \n\n                                   UMAP 1    UMAP 2  \noncosig_label_ERBB2             -0.040236 -0.071903  \nDiagnosis Age                    0.121570 -0.074331  \nAneuploidy Score                -0.256623 -0.072141  \nBuffa Hypoxia Score             -0.753224 -0.266112  \nFraction Genome Altered         -0.365822 -0.155833  \nMSI MANTIS Score                -0.112037 -0.034119  \nMSIsensor Score                 -0.127525 -0.030202  \nMutation Count                  -0.060614  0.024009  \nOverall Survival (Months)       -0.010372 -0.002570  \nProgress Free Survival (Months)  0.012493  0.022562  \nRagnum Hypoxia Score            -0.548010 -0.113161  \nTMB (nonsynonymous)             -0.063779  0.023514  \nUMAP 1                           1.000000  0.130369  \nUMAP 2                           0.130369  1.000000  ",
      "text/html": "<div>\n<style scoped>\n    .dataframe tbody tr th:only-of-type {\n        vertical-align: middle;\n    }\n\n    .dataframe tbody tr th {\n        vertical-align: top;\n    }\n\n    .dataframe thead th {\n        text-align: right;\n    }\n</style>\n<table border=\"1\" class=\"dataframe\">\n  <thead>\n    <tr style=\"text-align: right;\">\n      <th></th>\n      <th>oncosig_label_ERBB2</th>\n      <th>Diagnosis Age</th>\n      <th>Aneuploidy Score</th>\n      <th>Buffa Hypoxia Score</th>\n      <th>Fraction Genome Altered</th>\n      <th>MSI MANTIS Score</th>\n      <th>MSIsensor Score</th>\n      <th>Mutation Count</th>\n      <th>Overall Survival (Months)</th>\n      <th>Progress Free Survival (Months)</th>\n      <th>Ragnum Hypoxia Score</th>\n      <th>TMB (nonsynonymous)</th>\n      <th>UMAP 1</th>\n      <th>UMAP 2</th>\n    </tr>\n  </thead>\n  <tbody>\n    <tr>\n      <th>oncosig_label_ERBB2</th>\n      <td>1.000000</td>\n      <td>-0.041841</td>\n      <td>0.045360</td>\n      <td>0.094829</td>\n      <td>-0.003064</td>\n      <td>-0.066289</td>\n      <td>-0.038520</td>\n      <td>0.038359</td>\n      <td>-0.028976</td>\n      <td>-0.034780</td>\n      <td>0.179141</td>\n      <td>0.037966</td>\n      <td>-0.040236</td>\n      <td>-0.071903</td>\n    </tr>\n    <tr>\n      <th>Diagnosis Age</th>\n      <td>-0.041841</td>\n      <td>1.000000</td>\n      <td>0.051049</td>\n      <td>-0.056280</td>\n      <td>0.014275</td>\n      <td>0.029170</td>\n      <td>0.067884</td>\n      <td>0.060284</td>\n      <td>-0.156524</td>\n      <td>-0.127021</td>\n      <td>-0.135804</td>\n      <td>0.060228</td>\n      <td>0.121570</td>\n      <td>-0.074331</td>\n    </tr>\n    <tr>\n      <th>Aneuploidy Score</th>\n      <td>0.045360</td>\n      <td>0.051049</td>\n      <td>1.000000</td>\n      <td>0.338573</td>\n      <td>0.572522</td>\n      <td>-0.003335</td>\n      <td>0.051344</td>\n      <td>0.026769</td>\n      <td>-0.033938</td>\n      <td>-0.033109</td>\n      <td>0.335994</td>\n      <td>0.024584</td>\n      <td>-0.256623</td>\n      <td>-0.072141</td>\n    </tr>\n    <tr>\n      <th>Buffa Hypoxia Score</th>\n      <td>0.094829</td>\n      <td>-0.056280</td>\n      <td>0.338573</td>\n      <td>1.000000</td>\n      <td>0.510997</td>\n      <td>0.107306</td>\n      <td>0.172723</td>\n      <td>0.073004</td>\n      <td>-0.036369</td>\n      <td>-0.058704</td>\n      <td>0.742164</td>\n      <td>0.076077</td>\n      <td>-0.753224</td>\n      <td>-0.266112</td>\n    </tr>\n    <tr>\n      <th>Fraction Genome Altered</th>\n      <td>-0.003064</td>\n      <td>0.014275</td>\n      <td>0.572522</td>\n      <td>0.510997</td>\n      <td>1.000000</td>\n      <td>0.061065</td>\n      <td>0.169252</td>\n      <td>0.011710</td>\n      <td>-0.032953</td>\n      <td>-0.066046</td>\n      <td>0.478391</td>\n      <td>0.011306</td>\n      <td>-0.365822</td>\n      <td>-0.155833</td>\n    </tr>\n    <tr>\n      <th>MSI MANTIS Score</th>\n      <td>-0.066289</td>\n      <td>0.029170</td>\n      <td>-0.003335</td>\n      <td>0.107306</td>\n      <td>0.061065</td>\n      <td>1.000000</td>\n      <td>0.698591</td>\n      <td>0.176453</td>\n      <td>-0.107241</td>\n      <td>-0.096528</td>\n      <td>0.035729</td>\n      <td>0.170774</td>\n      <td>-0.112037</td>\n      <td>-0.034119</td>\n    </tr>\n    <tr>\n      <th>MSIsensor Score</th>\n      <td>-0.038520</td>\n      <td>0.067884</td>\n      <td>0.051344</td>\n      <td>0.172723</td>\n      <td>0.169252</td>\n      <td>0.698591</td>\n      <td>1.000000</td>\n      <td>0.226222</td>\n      <td>-0.059285</td>\n      <td>-0.063982</td>\n      <td>0.133691</td>\n      <td>0.224036</td>\n      <td>-0.127525</td>\n      <td>-0.030202</td>\n    </tr>\n    <tr>\n      <th>Mutation Count</th>\n      <td>0.038359</td>\n      <td>0.060284</td>\n      <td>0.026769</td>\n      <td>0.073004</td>\n      <td>0.011710</td>\n      <td>0.176453</td>\n      <td>0.226222</td>\n      <td>1.000000</td>\n      <td>-0.060390</td>\n      <td>-0.058729</td>\n      <td>0.067501</td>\n      <td>0.997975</td>\n      <td>-0.060614</td>\n      <td>0.024009</td>\n    </tr>\n    <tr>\n      <th>Overall Survival (Months)</th>\n      <td>-0.028976</td>\n      <td>-0.156524</td>\n      <td>-0.033938</td>\n      <td>-0.036369</td>\n      <td>-0.032953</td>\n      <td>-0.107241</td>\n      <td>-0.059285</td>\n      <td>-0.060390</td>\n      <td>1.000000</td>\n      <td>0.914193</td>\n      <td>-0.015474</td>\n      <td>-0.062871</td>\n      <td>-0.010372</td>\n      <td>-0.002570</td>\n    </tr>\n    <tr>\n      <th>Progress Free Survival (Months)</th>\n      <td>-0.034780</td>\n      <td>-0.127021</td>\n      <td>-0.033109</td>\n      <td>-0.058704</td>\n      <td>-0.066046</td>\n      <td>-0.096528</td>\n      <td>-0.063982</td>\n      <td>-0.058729</td>\n      <td>0.914193</td>\n      <td>1.000000</td>\n      <td>-0.025935</td>\n      <td>-0.060804</td>\n      <td>0.012493</td>\n      <td>0.022562</td>\n    </tr>\n    <tr>\n      <th>Ragnum Hypoxia Score</th>\n      <td>0.179141</td>\n      <td>-0.135804</td>\n      <td>0.335994</td>\n      <td>0.742164</td>\n      <td>0.478391</td>\n      <td>0.035729</td>\n      <td>0.133691</td>\n      <td>0.067501</td>\n      <td>-0.015474</td>\n      <td>-0.025935</td>\n      <td>1.000000</td>\n      <td>0.066815</td>\n      <td>-0.548010</td>\n      <td>-0.113161</td>\n    </tr>\n    <tr>\n      <th>TMB (nonsynonymous)</th>\n      <td>0.037966</td>\n      <td>0.060228</td>\n      <td>0.024584</td>\n      <td>0.076077</td>\n      <td>0.011306</td>\n      <td>0.170774</td>\n      <td>0.224036</td>\n      <td>0.997975</td>\n      <td>-0.062871</td>\n      <td>-0.060804</td>\n      <td>0.066815</td>\n      <td>1.000000</td>\n      <td>-0.063779</td>\n      <td>0.023514</td>\n    </tr>\n    <tr>\n      <th>UMAP 1</th>\n      <td>-0.040236</td>\n      <td>0.121570</td>\n      <td>-0.256623</td>\n      <td>-0.753224</td>\n      <td>-0.365822</td>\n      <td>-0.112037</td>\n      <td>-0.127525</td>\n      <td>-0.060614</td>\n      <td>-0.010372</td>\n      <td>0.012493</td>\n      <td>-0.548010</td>\n      <td>-0.063779</td>\n      <td>1.000000</td>\n      <td>0.130369</td>\n    </tr>\n    <tr>\n      <th>UMAP 2</th>\n      <td>-0.071903</td>\n      <td>-0.074331</td>\n      <td>-0.072141</td>\n      <td>-0.266112</td>\n      <td>-0.155833</td>\n      <td>-0.034119</td>\n      <td>-0.030202</td>\n      <td>0.024009</td>\n      <td>-0.002570</td>\n      <td>0.022562</td>\n      <td>-0.113161</td>\n      <td>0.023514</td>\n      <td>0.130369</td>\n      <td>1.000000</td>\n    </tr>\n  </tbody>\n</table>\n</div>"
     },
     "execution_count": 152,
     "metadata": {},
     "output_type": "execute_result"
    }
   ],
   "source": [
    "\n",
    "# Compute the correlation matrix\n",
    "correlation_matrix = umap_df.corr()\n",
    "correlation_matrix"
   ],
   "metadata": {
    "collapsed": false,
    "ExecuteTime": {
     "end_time": "2023-12-04T14:48:02.291005710Z",
     "start_time": "2023-12-04T14:48:02.209868981Z"
    }
   }
  },
  {
   "cell_type": "code",
   "execution_count": 113,
   "outputs": [],
   "source": [
    "#define grid subset: umap 1 min, max; umap 2 min, max:\n",
    "box_select = {'UMAP 1': [0, 12], 'UMAP 2': [5, 9]}\n",
    "# select from umap df:\n",
    "umap_subset = umap_df.loc[(umap_df['UMAP 1'] > box_select['UMAP 1'][0]) & (umap_df['UMAP 1'] <= box_select['UMAP 1'][1]) & (umap_df['UMAP 2'] > box_select['UMAP 2'][0]) & (umap_df['UMAP 2'] <= box_select['UMAP 2'][1]), :]\n",
    "#select the opposite as well\n",
    "umap_subset_opp = umap_df.loc[(umap_df['UMAP 1'] <= box_select['UMAP 1'][0]) | (umap_df['UMAP 1'] > box_select['UMAP 1'][1]) | (umap_df['UMAP 2'] <= box_select['UMAP 2'][0]) | (umap_df['UMAP 2'] > box_select['UMAP 2'][1]), :]"
   ],
   "metadata": {
    "collapsed": false,
    "ExecuteTime": {
     "end_time": "2023-12-04T14:06:20.177779552Z",
     "start_time": "2023-12-04T14:06:19.778309644Z"
    }
   }
  },
  {
   "cell_type": "code",
   "execution_count": 83,
   "outputs": [
    {
     "name": "stdout",
     "output_type": "stream",
     "text": [
      "oncosig_label_ERBB2 int64\n",
      "cell_type category\n",
      "Patient ID object\n",
      "Diagnosis Age int64\n",
      "Neoplasm Disease Stage American Joint Committee on Cancer Code category\n",
      "Aneuploidy Score float64\n",
      "Buffa Hypoxia Score float64\n",
      "Fraction Genome Altered float64\n",
      "MSI MANTIS Score float64\n",
      "MSIsensor Score float64\n",
      "Mutation Count float64\n",
      "Overall Survival (Months) float64\n",
      "Overall Survival Status category\n",
      "American Joint Committee on Cancer Metastasis Stage Code category\n",
      "American Joint Committee on Cancer Tumor Stage Code category\n",
      "Progress Free Survival (Months) float64\n",
      "Progression Free Status category\n",
      "Ragnum Hypoxia Score float64\n",
      "Sex category\n",
      "Somatic Status category\n",
      "Subtype category\n",
      "TMB (nonsynonymous) float64\n",
      "UMAP 1 float32\n",
      "UMAP 2 float32\n"
     ]
    }
   ],
   "source": [
    "#print data type for each collumn\n",
    "for col in umap_subset.columns:\n",
    "    print(col, umap_subset[col].dtype)\n"
   ],
   "metadata": {
    "collapsed": false,
    "ExecuteTime": {
     "end_time": "2023-12-04T13:11:52.926767061Z",
     "start_time": "2023-12-04T13:11:52.512184089Z"
    }
   }
  },
  {
   "cell_type": "code",
   "execution_count": 114,
   "outputs": [
    {
     "data": {
      "text/plain": "                             Column  Mean Subset  Mean Opposite Subset  \\\n0               oncosig_label_ERBB2     0.047386              0.278932   \n1                     Diagnosis Age    58.689542             57.540059   \n2                  Aneuploidy Score    10.962775             14.389222   \n3               Buffa Hypoxia Score   -13.650327             -3.403561   \n4           Fraction Genome Altered     0.258496              0.361149   \n5                  MSI MANTIS Score     0.304848              0.299343   \n6                   MSIsensor Score     0.443480              0.628338   \n7                    Mutation Count    71.294118            101.735905   \n8         Overall Survival (Months)    43.757278             36.785711   \n9   Progress Free Survival (Months)    40.260671             34.264378   \n10             Ragnum Hypoxia Score    -1.794118             10.955490   \n11              TMB (nonsynonymous)     2.494553              3.480712   \n\n    T-test P-value  \n0     1.572582e-25  \n1     2.010629e-01  \n2     1.271300e-10  \n3     8.710190e-13  \n4     1.362730e-13  \n5     7.024700e-02  \n6     1.002101e-01  \n7     1.196262e-01  \n8     1.080943e-02  \n9     1.457105e-02  \n10    1.402250e-60  \n11    1.338189e-01  ",
      "text/html": "<div>\n<style scoped>\n    .dataframe tbody tr th:only-of-type {\n        vertical-align: middle;\n    }\n\n    .dataframe tbody tr th {\n        vertical-align: top;\n    }\n\n    .dataframe thead th {\n        text-align: right;\n    }\n</style>\n<table border=\"1\" class=\"dataframe\">\n  <thead>\n    <tr style=\"text-align: right;\">\n      <th></th>\n      <th>Column</th>\n      <th>Mean Subset</th>\n      <th>Mean Opposite Subset</th>\n      <th>T-test P-value</th>\n    </tr>\n  </thead>\n  <tbody>\n    <tr>\n      <th>0</th>\n      <td>oncosig_label_ERBB2</td>\n      <td>0.047386</td>\n      <td>0.278932</td>\n      <td>1.572582e-25</td>\n    </tr>\n    <tr>\n      <th>1</th>\n      <td>Diagnosis Age</td>\n      <td>58.689542</td>\n      <td>57.540059</td>\n      <td>2.010629e-01</td>\n    </tr>\n    <tr>\n      <th>2</th>\n      <td>Aneuploidy Score</td>\n      <td>10.962775</td>\n      <td>14.389222</td>\n      <td>1.271300e-10</td>\n    </tr>\n    <tr>\n      <th>3</th>\n      <td>Buffa Hypoxia Score</td>\n      <td>-13.650327</td>\n      <td>-3.403561</td>\n      <td>8.710190e-13</td>\n    </tr>\n    <tr>\n      <th>4</th>\n      <td>Fraction Genome Altered</td>\n      <td>0.258496</td>\n      <td>0.361149</td>\n      <td>1.362730e-13</td>\n    </tr>\n    <tr>\n      <th>5</th>\n      <td>MSI MANTIS Score</td>\n      <td>0.304848</td>\n      <td>0.299343</td>\n      <td>7.024700e-02</td>\n    </tr>\n    <tr>\n      <th>6</th>\n      <td>MSIsensor Score</td>\n      <td>0.443480</td>\n      <td>0.628338</td>\n      <td>1.002101e-01</td>\n    </tr>\n    <tr>\n      <th>7</th>\n      <td>Mutation Count</td>\n      <td>71.294118</td>\n      <td>101.735905</td>\n      <td>1.196262e-01</td>\n    </tr>\n    <tr>\n      <th>8</th>\n      <td>Overall Survival (Months)</td>\n      <td>43.757278</td>\n      <td>36.785711</td>\n      <td>1.080943e-02</td>\n    </tr>\n    <tr>\n      <th>9</th>\n      <td>Progress Free Survival (Months)</td>\n      <td>40.260671</td>\n      <td>34.264378</td>\n      <td>1.457105e-02</td>\n    </tr>\n    <tr>\n      <th>10</th>\n      <td>Ragnum Hypoxia Score</td>\n      <td>-1.794118</td>\n      <td>10.955490</td>\n      <td>1.402250e-60</td>\n    </tr>\n    <tr>\n      <th>11</th>\n      <td>TMB (nonsynonymous)</td>\n      <td>2.494553</td>\n      <td>3.480712</td>\n      <td>1.338189e-01</td>\n    </tr>\n  </tbody>\n</table>\n</div>"
     },
     "execution_count": 114,
     "metadata": {},
     "output_type": "execute_result"
    }
   ],
   "source": [
    "from scipy.stats import ttest_ind\n",
    "#create a table of the mean of the numerical cols in each df as well as the result of a \n",
    "# two tailed t test\n",
    "\n",
    "# Identify numerical columns (excluding 'UMAP 1' and 'UMAP 2' as they were used for subsetting)\n",
    "numerical_cols = umap_df.select_dtypes(include='number').columns.drop(['UMAP 1', 'UMAP 2'])\n",
    "\n",
    "# Initialize a DataFrame to store the results\n",
    "results_df = pd.DataFrame(columns=['Column', 'Mean Subset', 'Mean Opposite Subset', 'T-test P-value'])\n",
    "\n",
    "# Loop through each numerical column to compute means and perform t-tests\n",
    "for col in numerical_cols:\n",
    "    mean_subset = umap_subset[col].mean()\n",
    "    mean_subset_opp = umap_subset_opp[col].mean()\n",
    "\n",
    "    # Perform two-tailed t-test\n",
    "    t_test_result = ttest_ind(umap_subset[col], umap_subset_opp[col], nan_policy='omit')\n",
    "\n",
    "    # Append results to the DataFrame\n",
    "    results_df = results_df.append({\n",
    "        'Column': col,\n",
    "        'Mean Subset': mean_subset,\n",
    "        'Mean Opposite Subset': mean_subset_opp,\n",
    "        'T-test P-value': t_test_result.pvalue\n",
    "    }, ignore_index=True)\n",
    "\n",
    "# Display the results\n",
    "results_df"
   ],
   "metadata": {
    "collapsed": false,
    "ExecuteTime": {
     "end_time": "2023-12-04T14:06:23.434123865Z",
     "start_time": "2023-12-04T14:06:23.354645534Z"
    }
   }
  },
  {
   "cell_type": "code",
   "execution_count": 89,
   "outputs": [
    {
     "data": {
      "text/plain": "Index(['cell_type',\n       'Neoplasm Disease Stage American Joint Committee on Cancer Code',\n       'Overall Survival Status',\n       'American Joint Committee on Cancer Metastasis Stage Code',\n       'American Joint Committee on Cancer Tumor Stage Code',\n       'Progression Free Status', 'Sex', 'Somatic Status', 'Subtype'],\n      dtype='object')"
     },
     "execution_count": 89,
     "metadata": {},
     "output_type": "execute_result"
    }
   ],
   "source": [
    "# Identify categorical columns\n",
    "categorical_cols = umap_df.select_dtypes(include='category').columns\n",
    "categorical_cols"
   ],
   "metadata": {
    "collapsed": false,
    "ExecuteTime": {
     "end_time": "2023-12-04T13:21:26.220766382Z",
     "start_time": "2023-12-04T13:21:25.882220691Z"
    }
   }
  },
  {
   "cell_type": "code",
   "execution_count": 115,
   "outputs": [
    {
     "data": {
      "text/plain": "                                              Column  \\\n0  Neoplasm Disease Stage American Joint Committe...   \n1                            Overall Survival Status   \n2  American Joint Committee on Cancer Metastasis ...   \n3  American Joint Committee on Cancer Tumor Stage...   \n4                            Progression Free Status   \n5                                     Somatic Status   \n6                                            Subtype   \n\n                                    Counts in Subset  \\\n0  {'STAGE IIA': 214, 'STAGE IIB': 137, 'STAGE II...   \n1                {'0:LIVING': 539, '1:DECEASED': 73}   \n2    {'M0': 495, 'MX': 100, 'M1': 11, 'CM0 (I+)': 6}   \n3  {'T2': 343, 'T1C': 139, 'T3': 73, 'T1': 24, 'T...   \n4           {'0:CENSORED': 534, '1:PROGRESSION': 78}   \n5                                   {'Matched': 612}   \n6  {'BRCA_LumA': 393, 'BRCA_Basal': 155, 'BRCA_No...   \n\n                           Counts in Opposite Subset  Chi-Squared P-value  \n0  {'STAGE IIA': 105, 'STAGE IIB': 83, 'STAGE III...         6.730802e-01  \n1                {'0:LIVING': 282, '1:DECEASED': 55}         7.244549e-02  \n2      {'M0': 294, 'MX': 36, 'M1': 7, 'CM0 (I+)': 0}         2.551072e-02  \n3  {'T2': 212, 'T1C': 55, 'T3': 34, 'T4B': 13, 'T...         2.451361e-01  \n4           {'0:CENSORED': 289, '1:PROGRESSION': 48}         5.816681e-01  \n5                                   {'Matched': 337}         1.000000e+00  \n6  {'BRCA_LumB': 160, 'BRCA_LumA': 98, 'BRCA_Her2...         2.611642e-97  ",
      "text/html": "<div>\n<style scoped>\n    .dataframe tbody tr th:only-of-type {\n        vertical-align: middle;\n    }\n\n    .dataframe tbody tr th {\n        vertical-align: top;\n    }\n\n    .dataframe thead th {\n        text-align: right;\n    }\n</style>\n<table border=\"1\" class=\"dataframe\">\n  <thead>\n    <tr style=\"text-align: right;\">\n      <th></th>\n      <th>Column</th>\n      <th>Counts in Subset</th>\n      <th>Counts in Opposite Subset</th>\n      <th>Chi-Squared P-value</th>\n    </tr>\n  </thead>\n  <tbody>\n    <tr>\n      <th>0</th>\n      <td>Neoplasm Disease Stage American Joint Committe...</td>\n      <td>{'STAGE IIA': 214, 'STAGE IIB': 137, 'STAGE II...</td>\n      <td>{'STAGE IIA': 105, 'STAGE IIB': 83, 'STAGE III...</td>\n      <td>6.730802e-01</td>\n    </tr>\n    <tr>\n      <th>1</th>\n      <td>Overall Survival Status</td>\n      <td>{'0:LIVING': 539, '1:DECEASED': 73}</td>\n      <td>{'0:LIVING': 282, '1:DECEASED': 55}</td>\n      <td>7.244549e-02</td>\n    </tr>\n    <tr>\n      <th>2</th>\n      <td>American Joint Committee on Cancer Metastasis ...</td>\n      <td>{'M0': 495, 'MX': 100, 'M1': 11, 'CM0 (I+)': 6}</td>\n      <td>{'M0': 294, 'MX': 36, 'M1': 7, 'CM0 (I+)': 0}</td>\n      <td>2.551072e-02</td>\n    </tr>\n    <tr>\n      <th>3</th>\n      <td>American Joint Committee on Cancer Tumor Stage...</td>\n      <td>{'T2': 343, 'T1C': 139, 'T3': 73, 'T1': 24, 'T...</td>\n      <td>{'T2': 212, 'T1C': 55, 'T3': 34, 'T4B': 13, 'T...</td>\n      <td>2.451361e-01</td>\n    </tr>\n    <tr>\n      <th>4</th>\n      <td>Progression Free Status</td>\n      <td>{'0:CENSORED': 534, '1:PROGRESSION': 78}</td>\n      <td>{'0:CENSORED': 289, '1:PROGRESSION': 48}</td>\n      <td>5.816681e-01</td>\n    </tr>\n    <tr>\n      <th>5</th>\n      <td>Somatic Status</td>\n      <td>{'Matched': 612}</td>\n      <td>{'Matched': 337}</td>\n      <td>1.000000e+00</td>\n    </tr>\n    <tr>\n      <th>6</th>\n      <td>Subtype</td>\n      <td>{'BRCA_LumA': 393, 'BRCA_Basal': 155, 'BRCA_No...</td>\n      <td>{'BRCA_LumB': 160, 'BRCA_LumA': 98, 'BRCA_Her2...</td>\n      <td>2.611642e-97</td>\n    </tr>\n  </tbody>\n</table>\n</div>"
     },
     "execution_count": 115,
     "metadata": {},
     "output_type": "execute_result"
    }
   ],
   "source": [
    "from scipy.stats import chi2_contingency\n",
    "# First, create a DataFrame without the columns you want to exclude\n",
    "reduced_df = umap_df.drop(['UMAP 1', 'UMAP 2', 'cell_type', 'Sex'], axis=1)\n",
    "\n",
    "# Now, select only the categorical columns from this reduced DataFrame\n",
    "categorical_cols = reduced_df.select_dtypes(include='category').columns\n",
    "\n",
    "# Initialize a DataFrame to store the results\n",
    "results_df = pd.DataFrame(columns=['Column', 'Counts in Subset', 'Counts in Opposite Subset', 'Chi-Squared P-value'])\n",
    "\n",
    "# Loop through each categorical column to count levels and perform chi-squared tests\n",
    "for col in categorical_cols:\n",
    "    # Count the levels in each subset\n",
    "    counts_subset = umap_subset[col].value_counts()\n",
    "    counts_subset_opp = umap_subset_opp[col].value_counts()\n",
    "\n",
    "    # Create a contingency table\n",
    "    contingency_table = pd.DataFrame({\n",
    "        'Subset': counts_subset,\n",
    "        'Opposite Subset': counts_subset_opp\n",
    "    }).fillna(0)\n",
    "\n",
    "    # Perform chi-squared test\n",
    "    chi2, p, _, _ = chi2_contingency(contingency_table)\n",
    "\n",
    "    # Append results to the DataFrame\n",
    "    results_df = results_df.append({\n",
    "        'Column': col,\n",
    "        'Counts in Subset': dict(counts_subset),\n",
    "        'Counts in Opposite Subset': dict(counts_subset_opp),\n",
    "        'Chi-Squared P-value': p\n",
    "    }, ignore_index=True)\n",
    "\n",
    "# Display the results\n",
    "results_df"
   ],
   "metadata": {
    "collapsed": false,
    "ExecuteTime": {
     "end_time": "2023-12-04T14:07:41.460099255Z",
     "start_time": "2023-12-04T14:07:41.384184746Z"
    }
   }
  },
  {
   "cell_type": "code",
   "execution_count": 116,
   "outputs": [
    {
     "data": {
      "text/plain": "            Subset Opposite Subset  Chi-Squared P-value  \\\nBRCA_Her2        1              71         2.611642e-97   \nBRCA_Normal     32               3         2.611642e-97   \nBRCA_LumB       31             160         2.611642e-97   \nBRCA_Basal     155               5         2.611642e-97   \nBRCA_LumA      393              98         2.611642e-97   \n\n             Random Selection Probability  \nBRCA_Her2                    3.092878e-33  \nBRCA_Normal                  1.923660e-04  \nBRCA_LumB                    3.713985e-54  \nBRCA_Basal                   1.028707e-26  \nBRCA_LumA                    8.646484e-26  ",
      "text/html": "<div>\n<style scoped>\n    .dataframe tbody tr th:only-of-type {\n        vertical-align: middle;\n    }\n\n    .dataframe tbody tr th {\n        vertical-align: top;\n    }\n\n    .dataframe thead th {\n        text-align: right;\n    }\n</style>\n<table border=\"1\" class=\"dataframe\">\n  <thead>\n    <tr style=\"text-align: right;\">\n      <th></th>\n      <th>Subset</th>\n      <th>Opposite Subset</th>\n      <th>Chi-Squared P-value</th>\n      <th>Random Selection Probability</th>\n    </tr>\n  </thead>\n  <tbody>\n    <tr>\n      <th>BRCA_Her2</th>\n      <td>1</td>\n      <td>71</td>\n      <td>2.611642e-97</td>\n      <td>3.092878e-33</td>\n    </tr>\n    <tr>\n      <th>BRCA_Normal</th>\n      <td>32</td>\n      <td>3</td>\n      <td>2.611642e-97</td>\n      <td>1.923660e-04</td>\n    </tr>\n    <tr>\n      <th>BRCA_LumB</th>\n      <td>31</td>\n      <td>160</td>\n      <td>2.611642e-97</td>\n      <td>3.713985e-54</td>\n    </tr>\n    <tr>\n      <th>BRCA_Basal</th>\n      <td>155</td>\n      <td>5</td>\n      <td>2.611642e-97</td>\n      <td>1.028707e-26</td>\n    </tr>\n    <tr>\n      <th>BRCA_LumA</th>\n      <td>393</td>\n      <td>98</td>\n      <td>2.611642e-97</td>\n      <td>8.646484e-26</td>\n    </tr>\n  </tbody>\n</table>\n</div>"
     },
     "execution_count": 116,
     "metadata": {},
     "output_type": "execute_result"
    }
   ],
   "source": [
    "from scipy.stats import hypergeom\n",
    "\n",
    "\n",
    "# Extracting the relevant data from results_df\n",
    "subtype_data = results_df.loc[results_df['Column'] == 'Subtype'].iloc[0]\n",
    "counts_subset = subtype_data['Counts in Subset']\n",
    "counts_subset_opp = subtype_data['Counts in Opposite Subset']\n",
    "chi_squared_p_value = subtype_data['Chi-Squared P-value']\n",
    "\n",
    "# Getting the union of keys from both count dictionaries\n",
    "all_subtypes = set(counts_subset.keys()).union(set(counts_subset_opp.keys()))\n",
    "\n",
    "# Creating a new DataFrame\n",
    "subtype_counts_df = pd.DataFrame(index=all_subtypes, columns=['Subset', 'Opposite Subset'])\n",
    "\n",
    "# Populating the DataFrame\n",
    "for subtype in all_subtypes:\n",
    "    subtype_counts_df.loc[subtype, 'Subset'] = counts_subset.get(subtype, 0)\n",
    "    subtype_counts_df.loc[subtype, 'Opposite Subset'] = counts_subset_opp.get(subtype, 0)\n",
    "\n",
    "# Adding the chi-squared p-value as a new column\n",
    "subtype_counts_df['Chi-Squared P-value'] = chi_squared_p_value\n",
    "\n",
    "# Total number of samples in each subset\n",
    "n_subset = umap_subset.shape[0]\n",
    "n_subset_opp = umap_subset_opp.shape[0]\n",
    "total_samples = n_subset + n_subset_opp\n",
    "\n",
    "# Add a new column for the probability calculation\n",
    "subtype_counts_df['Random Selection Probability'] = 0\n",
    "\n",
    "for subtype in all_subtypes:\n",
    "    # Total number of samples of this subtype in the entire dataset\n",
    "    total_subtype_samples = counts_subset.get(subtype, 0) + counts_subset_opp.get(subtype, 0)\n",
    "\n",
    "    # Number of samples of this subtype in the umap_subset\n",
    "    subtype_samples_in_subset = counts_subset.get(subtype, 0)\n",
    "\n",
    "    # Calculate the probability using the hypergeometric distribution\n",
    "    p_value = hypergeom(total_samples, total_subtype_samples, n_subset).pmf(subtype_samples_in_subset)\n",
    "    subtype_counts_df.loc[subtype, 'Random Selection Probability'] = p_value\n",
    "\n",
    "# Display the new DataFrame\n",
    "subtype_counts_df\n"
   ],
   "metadata": {
    "collapsed": false,
    "ExecuteTime": {
     "end_time": "2023-12-04T14:07:48.642965875Z",
     "start_time": "2023-12-04T14:07:48.597754045Z"
    }
   }
  },
  {
   "cell_type": "code",
   "execution_count": null,
   "outputs": [],
   "source": [
    "cell_embbed.obs.head()"
   ],
   "metadata": {
    "collapsed": false
   }
  },
  {
   "cell_type": "code",
   "execution_count": null,
   "outputs": [],
   "source": [
    "\n",
    "# Set style for a light background\n",
    "plt.style.use('seaborn-v0_8-pastel')  # or 'classic'\n",
    "\n",
    "#create plot\n",
    "plt.figure(figsize=(12, 10))\n",
    "\n",
    "# Use the 'oncosig_label' values for coloring the points\n",
    "# 'cmap' can be adjusted to your preferred color map\n",
    "\n",
    "# Manually set colors based on 'oncosig_label_ERBB2'\n",
    "colors = ['darkblue' if label == 0 else 'red' for label in my_adata.obs['oncosig_label_ERBB2']]\n",
    "\n",
    "\n",
    "scatter = plt.scatter(embedding[:, 0], embedding[:, 1], c=colors, s=8)\n",
    "plt_title = 'UMAP tcga brca scgpt emb sub genes & onc label'\n",
    "plt.title(plt_title, fontsize=18)\n",
    "plt.xlabel('UMAP 1', fontsize=12)\n",
    "plt.ylabel('UMAP 2', fontsize=12)\n",
    "\n",
    "\n",
    "# Create a legend\n",
    "legend_labels = ['Label 0', 'Label 1']\n",
    "legend_elements = [plt.Line2D([0], [0], marker='o', color='w', label=legend_labels[i],\n",
    "                              markerfacecolor=scatter.cmap(scatter.norm(i)), markersize=10)\n",
    "                   for i in range(2)]\n",
    "plt.legend(handles=legend_elements, title='Oncosig Labels')\n",
    "\n",
    "# Save the plot to a file\n",
    "\n",
    "#plt.savefig(f'plots/{plt_title}.png', dpi=300, bbox_inches='tight')\n",
    "\n",
    "# Display the plot in the notebook\n",
    "plt.show()"
   ],
   "metadata": {
    "collapsed": false
   }
  },
  {
   "cell_type": "markdown",
   "source": [
    "! compare to raw all genes"
   ],
   "metadata": {
    "collapsed": false
   }
  },
  {
   "cell_type": "code",
   "execution_count": null,
   "outputs": [],
   "source": [
    "#create plot\n",
    "raw_all_genes_embedding = reducer.fit_transform(all_genes_adata.X)"
   ],
   "metadata": {
    "collapsed": false
   }
  },
  {
   "cell_type": "code",
   "execution_count": null,
   "outputs": [],
   "source": [
    "\n",
    "\n",
    "plt.figure(figsize=(12, 10))\n",
    "\n",
    "# 'cmap' can be adjusted to your preferred color map\n",
    "\n",
    "\n",
    "# Manually set colors based on 'oncosig_label_ERBB2'\n",
    "colors = ['darkblue' if label == 0 else 'red' for label in cell_embbed.obs['oncosig_label_ERBB2']]\n",
    "\n",
    "\n",
    "\n",
    "scatter = plt.scatter(raw_all_genes_embedding[:, 0], raw_all_genes_embedding[:, 1], c=colors, s=7)\n",
    "plt_title = 'UMAP tcga brca raw all genes emb + onc label'\n",
    "\n",
    "plt.title(plt_title, fontsize=18)\n",
    "plt.xlabel('UMAP 1', fontsize=12)\n",
    "plt.ylabel('UMAP 2', fontsize=12)\n",
    "\n",
    "# Create a legend\n",
    "legend_labels = ['Label 0', 'Label 1']\n",
    "legend_elements = [plt.Line2D([0], [0], marker='o', color='w', label=legend_labels[i],\n",
    "                              markerfacecolor=scatter.cmap(scatter.norm(i)), markersize=10)\n",
    "                   for i in range(2)]\n",
    "plt.legend(handles=legend_elements, title='Oncosig Labels')\n",
    "# Save the plot to a file\n",
    "\n",
    "plt.savefig(f'plots/{plt_title}.png', dpi=300, bbox_inches='tight')\n",
    "# Display the plot\n",
    "plt.show()\n",
    "\n"
   ],
   "metadata": {
    "collapsed": false
   }
  },
  {
   "cell_type": "markdown",
   "source": [
    "! compare to umap of maually selected genes"
   ],
   "metadata": {
    "collapsed": false
   }
  },
  {
   "cell_type": "code",
   "execution_count": null,
   "outputs": [],
   "source": [
    "#create plot\n",
    "raw_selected_embedding = reducer.fit_transform(my_adata.X)"
   ],
   "metadata": {
    "collapsed": false
   }
  },
  {
   "cell_type": "code",
   "execution_count": null,
   "outputs": [],
   "source": [
    "\n",
    "\n",
    "plt.figure(figsize=(12, 10))\n",
    "\n",
    "\n",
    "\n",
    "# Manually set colors based on 'oncosig_label_ERBB2'\n",
    "colors = ['darkblue' if label == 0 else 'red' for label in cell_embbed.obs['oncosig_label_ERBB2']]\n",
    "\n",
    "\n",
    "\n",
    "scatter = plt.scatter(raw_selected_embedding[:, 0], raw_selected_embedding[:, 1], c=colors, s=7)\n",
    "plt_title = 'UMAP tcga brca raw selected genes emb + onc label'\n",
    "\n",
    "plt.title(plt_title, fontsize=18)\n",
    "plt.xlabel('UMAP 1', fontsize=12)\n",
    "plt.ylabel('UMAP 2', fontsize=12)\n",
    "\n",
    "# Create a legend\n",
    "legend_labels = ['Label 0', 'Label 1']\n",
    "legend_elements = [plt.Line2D([0], [0], marker='o', color='w', label=legend_labels[i],\n",
    "                              markerfacecolor=scatter.cmap(scatter.norm(i)), markersize=10)\n",
    "                   for i in range(2)]\n",
    "plt.legend(handles=legend_elements, title='Oncosig Labels')\n",
    "\n",
    "\n",
    "# Save the plot to a file\n",
    "\n",
    "plt.savefig(f'plots/{plt_title}.png', dpi=300, bbox_inches='tight')\n",
    "\n",
    "# Display the plot\n",
    "plt.show()\n"
   ],
   "metadata": {
    "collapsed": false
   }
  },
  {
   "cell_type": "code",
   "execution_count": null,
   "outputs": [],
   "source": [
    "plt.style.available"
   ],
   "metadata": {
    "collapsed": false
   }
  },
  {
   "cell_type": "code",
   "execution_count": null,
   "outputs": [],
   "source": [
    "cell_embbed.write_h5ad('data/brca_scrna_epithelial_scGPT.h5ad')"
   ],
   "metadata": {
    "collapsed": false
   }
  }
 ],
 "metadata": {
  "kernelspec": {
   "display_name": "Python 3",
   "language": "python",
   "name": "python3"
  },
  "language_info": {
   "codemirror_mode": {
    "name": "ipython",
    "version": 3
   },
   "file_extension": ".py",
   "mimetype": "text/x-python",
   "name": "python",
   "nbconvert_exporter": "python",
   "pygments_lexer": "ipython3",
   "version": "3.9.12"
  }
 },
 "nbformat": 4,
 "nbformat_minor": 0
}
