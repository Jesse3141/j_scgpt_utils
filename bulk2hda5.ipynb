{
 "cells": [
  {
   "cell_type": "markdown",
   "source": [
    "! description\n"
   ],
   "metadata": {
    "collapsed": false
   }
  },
  {
   "cell_type": "code",
   "execution_count": null,
   "outputs": [],
   "source": [],
   "metadata": {
    "collapsed": false,
    "ExecuteTime": {
     "end_time": "2023-12-05T12:57:33.082873156Z",
     "start_time": "2023-12-05T12:57:32.861745262Z"
    }
   }
  },
  {
   "cell_type": "markdown",
   "source": [
    "given a csv or such table, where rows are samples and columuns are genes.\n",
    "create a h5ad file where the count values are the .X matrix, the gene are in .var as \"gene_hgnc\" and the sample are in .obs as \"sample_id\""
   ],
   "metadata": {
    "collapsed": false
   }
  },
  {
   "cell_type": "code",
   "execution_count": 1,
   "outputs": [],
   "source": [
    "# import\n",
    "import anndata\n",
    "import pandas as pd\n",
    "import os\n",
    "import short_utils\n",
    "from pathlib import Path"
   ],
   "metadata": {
    "collapsed": false,
    "ExecuteTime": {
     "end_time": "2023-12-05T12:57:34.185462118Z",
     "start_time": "2023-12-05T12:57:32.862017493Z"
    }
   }
  },
  {
   "cell_type": "code",
   "execution_count": 2,
   "outputs": [
    {
     "data": {
      "text/plain": "PosixPath('/home/shair/Desktop/STAMP_2023/jesse/trans_stamp_curr')"
     },
     "execution_count": 2,
     "metadata": {},
     "output_type": "execute_result"
    }
   ],
   "source": [
    "# globals\n",
    "base_dir = short_utils.get_base_dir()\n",
    "base_dir"
   ],
   "metadata": {
    "collapsed": false,
    "ExecuteTime": {
     "end_time": "2023-12-05T12:57:34.201732257Z",
     "start_time": "2023-12-05T12:57:34.194694443Z"
    }
   }
  },
  {
   "cell_type": "code",
   "execution_count": 3,
   "outputs": [
    {
     "name": "stdout",
     "output_type": "stream",
     "text": [
      "/home/shair/Desktop/STAMP_2023/jesse/trans_stamp_curr/scgpt/j_scgpt_utils\n"
     ]
    }
   ],
   "source": [
    "#print working dir\n",
    "print(os.getcwd())"
   ],
   "metadata": {
    "collapsed": false,
    "ExecuteTime": {
     "end_time": "2023-12-05T12:57:34.225833916Z",
     "start_time": "2023-12-05T12:57:34.202751364Z"
    }
   }
  },
  {
   "cell_type": "code",
   "execution_count": 3,
   "outputs": [],
   "source": [],
   "metadata": {
    "collapsed": false,
    "ExecuteTime": {
     "end_time": "2023-12-05T12:57:34.257323569Z",
     "start_time": "2023-12-05T12:57:34.253625077Z"
    }
   }
  },
  {
   "cell_type": "code",
   "execution_count": 4,
   "outputs": [],
   "source": [
    "def preview_file(bulk_genexp, num_rows = 3):\n",
    "\n",
    "    #print first few elements of index, first column, colnames, and first 4x4\n",
    "    print(f\"first {num_rows}x{num_rows}: \\n\", bulk_genexp.iloc[0:num_rows, 0:num_rows])\n",
    "    #print first 4 elements of index\n",
    "    print(\"start of idx: \\n\", bulk_genexp.index[:(num_rows+1)])\n",
    "    #print start of colnames\n",
    "    print(\"start of colnames: \\n\", bulk_genexp.columns[:(num_rows+1)])"
   ],
   "metadata": {
    "collapsed": false,
    "ExecuteTime": {
     "end_time": "2023-12-05T12:57:34.257491009Z",
     "start_time": "2023-12-05T12:57:34.253821819Z"
    }
   }
  },
  {
   "cell_type": "code",
   "execution_count": 5,
   "outputs": [],
   "source": [
    "def get_obs(bulk_genexp,meta_cols):\n",
    "    '''\n",
    "    create the obs df containng the meta data about the samples\n",
    "    :param bulk_genexp: the genexp data as a df\n",
    "    :param meta_cols: a list of colnames with sample metadata\n",
    "    :return: a df of the meta data\n",
    "    '''\n",
    "    obs_df = bulk_genexp[meta_cols]\n",
    "    return obs_df"
   ],
   "metadata": {
    "collapsed": false,
    "ExecuteTime": {
     "end_time": "2023-12-05T12:57:34.257560177Z",
     "start_time": "2023-12-05T12:57:34.253931354Z"
    }
   }
  },
  {
   "cell_type": "code",
   "execution_count": 6,
   "outputs": [],
   "source": [
    "def add_cell_type(metadata_df,tcga_cancer):\n",
    "    '''\n",
    "\n",
    "    :param metadata: a df of sample meta data\n",
    "    :param tcga_cancer: the cancer type of the bulk genexp data\n",
    "    :return: add a 'cell_type\" col with the cancer type\n",
    "    '''\n",
    "    metadata_df[\"cell_type\"] = tcga_cancer\n",
    "    return metadata_df"
   ],
   "metadata": {
    "collapsed": false,
    "ExecuteTime": {
     "end_time": "2023-12-05T12:57:34.257612709Z",
     "start_time": "2023-12-05T12:57:34.254019255Z"
    }
   }
  },
  {
   "cell_type": "code",
   "execution_count": 7,
   "outputs": [],
   "source": [
    "def add_metadata(file_path, metadata_df):\n",
    "    '''\n",
    "\n",
    "    :param file_path: path to table with additional metadata\n",
    "    :param metadata_df: the metadata df\n",
    "    :return: metadata_df with additional metadata\n",
    "    '''\n",
    "    pass"
   ],
   "metadata": {
    "collapsed": false,
    "ExecuteTime": {
     "end_time": "2023-12-05T12:57:34.301958191Z",
     "start_time": "2023-12-05T12:57:34.254102440Z"
    }
   }
  },
  {
   "cell_type": "code",
   "execution_count": 8,
   "outputs": [],
   "source": [
    "def get_var(genexp,gene_cols,hgnc_col):\n",
    "    '''\n",
    "    create the var df containing data about the variables, usually genes\n",
    "    :param genexp: a df of genexp data\n",
    "    :param gene_cols: a list of colnames with gene names\n",
    "    :param hgnc_col: the colname with the hgnc gene names\n",
    "    :return: a df of genes with col 'gene_hgnc'\n",
    "    '''\n",
    "    #subset the df to only the gene cols\n",
    "    var_df = genexp[gene_cols]\n",
    "    #rename hgnc_col gene_hgnc\n",
    "    var_df = var_df.rename(columns={hgnc_col: \"gene_hgnc\"})\n",
    "    #reorder cols and make hgnc the first col\n",
    "    \n",
    "    # Reorder columns to make 'gene_hgnc' the first column\n",
    "    reordered_cols = ['gene_hgnc'] + [col for col in gene_cols if col != hgnc_col]\n",
    "    var_df = var_df[reordered_cols]\n",
    "\n",
    "    return var_df"
   ],
   "metadata": {
    "collapsed": false,
    "ExecuteTime": {
     "end_time": "2023-12-05T13:01:11.025728671Z",
     "start_time": "2023-12-05T13:01:10.985020918Z"
    }
   }
  },
  {
   "cell_type": "markdown",
   "source": [
    "# create an anndata object: .X is the counts, .var \"gene_hgnc\" is the genes, .obs \"sample_id\" is the sample_id and .obs \"oncosig_label_ERBB2\" is the oncosig_labels\n",
    "adata = anndata.AnnData(X=counts, var=pd.DataFrame(index=genes, data=genes, columns=[\"gene_hgnc\"]), obs=obs_df)\n"
   ],
   "metadata": {
    "collapsed": false
   }
  },
  {
   "cell_type": "code",
   "execution_count": 9,
   "outputs": [],
   "source": [
    "def create_anndata(counts_df, var_df,obs_df):\n",
    "    '''\n",
    "    :param counts_df: a df of counts with no names\n",
    "    :param var_df: a df of genes with col 'gene_hgnc' as index\n",
    "    :param obs_df: a df of sample meta data\n",
    "    :return: an anndata object\n",
    "    '''\n",
    "    return anndata.AnnData(X=counts_df, var=var_df, obs=obs_df)\n"
   ],
   "metadata": {
    "collapsed": false,
    "ExecuteTime": {
     "end_time": "2023-12-05T12:57:34.302467131Z",
     "start_time": "2023-12-05T12:57:34.301890719Z"
    }
   }
  },
  {
   "cell_type": "code",
   "execution_count": 10,
   "outputs": [],
   "source": [
    "# def bulk_2_h5ad(bulk_genexp,tcga_cancer ='brca',metadata_cols = [],samples_metadata_path = '',\\\n",
    "#         genes_meta_path = '', save_name = ''):\n",
    "#     #create the obs df: sample_id and oncosig_label_ERBB2 where the smaple id's are the idx\n",
    "#     obs_df = get_sample_meta(bulk_genexp,metadata_cols)\n",
    "#     #add a \"cell_type\" column to the obs_df with the value \"brca\"\n",
    "#     obs_df = add_cell_type(obs_df,\"brca\")\n",
    "#     #create the var and X df: gene_hgnc and the counts\n",
    "#     #take subset, excluding the meta_data_cols\n",
    "#     #drop meta_data_cols\n",
    "#     bulk_genexp.drop(metadata_cols, axis=1, inplace=True)\n",
    "# \n",
    "#     #save colnames to genes list\n",
    "#     genes_var = get_genes(bulk_genexp)\n",
    "#     #SAVE genexp counts to a counts df\n",
    "#     counts = bulk_genexp.values\n",
    "#     adata = create_anndata(counts, genes_var, obs_df)\n",
    "# \n",
    "#     #save the anndata object\n",
    "#     # raise err if no save name provided\n",
    "#     if not save_name:\n",
    "#         raise ValueError(\"no save name provided\")\n",
    "#     adata.write(base_dir + '/data/' +  save_name)\n",
    "\n"
   ],
   "metadata": {
    "collapsed": false,
    "ExecuteTime": {
     "end_time": "2023-12-05T12:57:34.304396391Z",
     "start_time": "2023-12-05T12:57:34.302118306Z"
    }
   }
  },
  {
   "cell_type": "markdown",
   "source": [],
   "metadata": {
    "collapsed": false
   }
  },
  {
   "cell_type": "markdown",
   "source": [
    "! run the script:\n",
    "read the data, identify metadate cols, then create the anndata object"
   ],
   "metadata": {
    "collapsed": false
   }
  },
  {
   "cell_type": "code",
   "execution_count": 11,
   "outputs": [
    {
     "data": {
      "text/plain": "PosixPath('/home/shair/Desktop/STAMP_2023/jesse/trans_stamp_curr/training_data/cell_lines/broad_CCLE/genexp/exp_protein_genes_tpml_logp1.csv')"
     },
     "execution_count": 11,
     "metadata": {},
     "output_type": "execute_result"
    }
   ],
   "source": [
    "#set path to file\n",
    "data_path = Path(base_dir / 'training_data/cell_lines/broad_CCLE/genexp/exp_protein_genes_tpml_logp1.csv')\n",
    "data_path"
   ],
   "metadata": {
    "collapsed": false,
    "ExecuteTime": {
     "end_time": "2023-12-05T12:57:34.304849671Z",
     "start_time": "2023-12-05T12:57:34.302226442Z"
    }
   }
  },
  {
   "cell_type": "code",
   "execution_count": 12,
   "outputs": [],
   "source": [
    "#read file: tab sepereated\n",
    "bulk_genexp = pd.read_csv(data_path, sep=',')"
   ],
   "metadata": {
    "collapsed": false,
    "ExecuteTime": {
     "end_time": "2023-12-05T12:57:34.442889309Z",
     "start_time": "2023-12-05T12:57:34.345501671Z"
    }
   }
  },
  {
   "cell_type": "markdown",
   "source": [],
   "metadata": {
    "collapsed": false
   }
  },
  {
   "cell_type": "code",
   "execution_count": 14,
   "outputs": [
    {
     "name": "stdout",
     "output_type": "stream",
     "text": [
      "first 3x3: \n",
      "   cell_line_id  TSPAN6 (7105)  TNMD (64102)\n",
      "0   ACH-001113       4.331992      0.000000\n",
      "1   ACH-001289       4.567424      0.584963\n",
      "2   ACH-001339       3.150560      0.000000\n",
      "start of idx: \n",
      " RangeIndex(start=0, stop=4, step=1)\n",
      "start of colnames: \n",
      " Index(['cell_line_id', 'TSPAN6 (7105)', 'TNMD (64102)', 'DPM1 (8813)'], dtype='object')\n",
      "Index(['cell_line_id', 'TSPAN6 (7105)', 'TNMD (64102)', 'DPM1 (8813)',\n",
      "       'SCYL3 (57147)', 'C1orf112 (55732)', 'FGR (2268)', 'CFH (3075)',\n",
      "       'FUCA2 (2519)', 'GCLC (2729)',\n",
      "       ...\n",
      "       'H3C2 (8358)', 'H3C3 (8352)', 'AC098582.1 (8916)',\n",
      "       'DUS4L-BCAP29 (115253422)', 'C8orf44-SGK3 (100533105)',\n",
      "       'ELOA3B (728929)', 'NPBWR1 (2831)', 'ELOA3D (100506888)',\n",
      "       'ELOA3 (162699)', 'CDR1 (1038)'],\n",
      "      dtype='object', length=19194)\n"
     ]
    }
   ],
   "source": [
    "preview_file(bulk_genexp, 3)\n",
    "#pritn colnames\n",
    "print(bulk_genexp.columns)"
   ],
   "metadata": {
    "collapsed": false
   }
  },
  {
   "cell_type": "code",
   "execution_count": 39,
   "outputs": [],
   "source": [
    "#drop any chosen cols\n",
    "bulk_genexp = bulk_genexp.drop(['DesignElementAccession'], axis=1)"
   ],
   "metadata": {
    "collapsed": false,
    "ExecuteTime": {
     "end_time": "2023-12-05T12:57:34.494289522Z",
     "start_time": "2023-12-05T12:57:34.493757788Z"
    }
   }
  },
  {
   "cell_type": "markdown",
   "source": [
    "create the obs df - containing sample names and any other metadata"
   ],
   "metadata": {
    "collapsed": false
   }
  },
  {
   "cell_type": "code",
   "execution_count": 16,
   "outputs": [],
   "source": [
    "#rename first column as 'cell_line_id'\n",
    "bulk_genexp = bulk_genexp.rename(columns={'Unnamed: 0': \"cell_line_id\"})\n",
    "\n",
    "#save the cell line id col as the obs df\n",
    "obs_df = pd.DataFrame(bulk_genexp['cell_line_id'])"
   ],
   "metadata": {
    "collapsed": false
   }
  },
  {
   "cell_type": "markdown",
   "source": [
    "create the var df - containing gene names and aliases"
   ],
   "metadata": {
    "collapsed": false
   }
  },
  {
   "cell_type": "code",
   "execution_count": 19,
   "outputs": [],
   "source": [
    "#in this case the genes names are the colnames, starting from the second col\n",
    "gene_names = list(bulk_genexp.columns[1:])"
   ],
   "metadata": {
    "collapsed": false
   }
  },
  {
   "cell_type": "code",
   "execution_count": 23,
   "outputs": [],
   "source": [
    "#process the egens into tuples of hgnc and ncbi_id\n",
    "\n",
    "# Using list comprehension to process each element\n",
    "split_gene_names = [(gene.split(' (')[0], gene.split(' (')[1].replace(')', '')) for gene in gene_names]\n",
    "\n",
    "# Create a DataFrame from the list of tuples\n",
    "var_df = pd.DataFrame(split_gene_names, columns=['hgnc_gene', 'ncbi_id'])\n"
   ],
   "metadata": {
    "collapsed": false
   }
  },
  {
   "cell_type": "markdown",
   "source": [
    "create the counts df - containing the counts. ensure samples are rows and cols are features (genes)"
   ],
   "metadata": {
    "collapsed": false
   }
  },
  {
   "cell_type": "code",
   "execution_count": null,
   "outputs": [],
   "source": [],
   "metadata": {
    "collapsed": false
   }
  },
  {
   "cell_type": "code",
   "execution_count": 22,
   "outputs": [],
   "source": [
    "#create counts df by removing the var cols and no colnames\n",
    "counts_df = bulk_genexp.drop(['cell_line_id'], axis=1).values"
   ],
   "metadata": {
    "collapsed": false,
    "ExecuteTime": {
     "end_time": "2023-12-05T13:13:22.974785677Z",
     "start_time": "2023-12-05T13:13:22.933395682Z"
    }
   }
  },
  {
   "cell_type": "code",
   "execution_count": 24,
   "outputs": [
    {
     "name": "stderr",
     "output_type": "stream",
     "text": [
      "/home/shair/Desktop/STAMP_2023/jesse/jesses_venvs/j_scgpt_2/lib/python3.9/site-packages/anndata/_core/anndata.py:183: ImplicitModificationWarning: Transforming to str index.\n",
      "  warnings.warn(\"Transforming to str index.\", ImplicitModificationWarning)\n"
     ]
    }
   ],
   "source": [
    "#create anndata object\n",
    "adata = create_anndata(counts_df, var_df, obs_df)"
   ],
   "metadata": {
    "collapsed": false,
    "ExecuteTime": {
     "end_time": "2023-12-05T13:13:26.034633235Z",
     "start_time": "2023-12-05T13:13:25.987754526Z"
    }
   }
  },
  {
   "cell_type": "code",
   "execution_count": 126,
   "outputs": [
    {
     "data": {
      "text/plain": "PosixPath('/home/shair/Desktop/STAMP_2023/jesse/trans_stamp_curr/training_data/cell_lines/broad_CCLE/genexp/exp_protein_genes_tpml_logp1_erbb2_drug_rnai_crisp.h5ad')"
     },
     "execution_count": 126,
     "metadata": {},
     "output_type": "execute_result"
    }
   ],
   "source": [
    "#save the anndata object\n",
    "save_folder = Path(base_dir / 'training_data/cell_lines/broad_CCLE/genexp/')\n",
    "save_name = 'exp_protein_genes_tpml_logp1_erbb2_drug_rnai_crisp.h5ad'\n",
    "save_path = Path(save_folder / save_name)\n",
    "save_path"
   ],
   "metadata": {
    "collapsed": false,
    "ExecuteTime": {
     "end_time": "2023-12-05T13:16:58.906342877Z",
     "start_time": "2023-12-05T13:16:58.890397147Z"
    }
   }
  },
  {
   "cell_type": "markdown",
   "source": [
    "#incoporate metadate from other files"
   ],
   "metadata": {
    "collapsed": false
   }
  },
  {
   "cell_type": "markdown",
   "source": [
    "# add clinical data to adata"
   ],
   "metadata": {
    "collapsed": false
   }
  },
  {
   "cell_type": "code",
   "execution_count": 119,
   "outputs": [],
   "source": [
    "#load clinical data\n",
    "clin_path = Path(base_dir / 'training_data/cell_lines/broad_CCLE/pertubation/CRISPR + RNA/CRISPR_(DepMap_Public_23Q4+Score,_Chronos).csv')\n",
    "\n",
    "clin_df = pd.read_csv(clin_path, sep=',', index_col=0)"
   ],
   "metadata": {
    "collapsed": false
   }
  },
  {
   "cell_type": "code",
   "execution_count": 120,
   "outputs": [
    {
     "name": "stdout",
     "output_type": "stream",
     "text": [
      "(1100, 18424)\n"
     ]
    },
    {
     "data": {
      "text/plain": "                A1BG      A1CF       A2M     A2ML1   A3GALT2    A4GALT  \\\nACH-000001 -0.122637  0.025881  0.034217 -0.128082 -0.031285  0.338046   \nACH-000004  0.019756 -0.083640 -0.060118 -0.027417 -0.036116 -0.001056   \nACH-000005 -0.107208 -0.023211  0.200204  0.116039 -0.172227 -0.071294   \nACH-000007 -0.031027 -0.137850  0.067704  0.107988  0.007992  0.124945   \nACH-000009  0.008888 -0.146566  0.084471  0.089419  0.065109  0.027841   \n\n               A4GNT      AAAS      AACS     AADAC  ...    ZWILCH     ZWINT  \\\nACH-000001 -0.006439 -0.093642  0.189186  0.042783  ... -0.131727 -0.039829   \nACH-000004  0.312876 -0.086897  0.204434  0.188715  ... -0.170329 -0.454263   \nACH-000005  0.203270 -0.127806 -0.090981  0.073349  ... -0.301695 -0.454969   \nACH-000007  0.049548 -0.220824 -0.165669  0.230047  ... -0.303390 -0.507272   \nACH-000009  0.087943 -0.161369  0.041121  0.136621  ... -0.255466 -0.288739   \n\n                ZXDA      ZXDB      ZXDC    ZYG11A    ZYG11B       ZYX  \\\nACH-000001  0.179405  0.283552  0.204513 -0.289724 -0.062972  0.074180   \nACH-000004  0.194583  0.098989  0.126948  0.032983 -0.410392  0.113156   \nACH-000005 -0.061959 -0.036427  0.016602 -0.201273 -0.178877 -0.055349   \nACH-000007 -0.025400  0.236659  0.072010 -0.100344 -0.462160 -0.001555   \nACH-000009 -0.037132  0.261444 -0.062391 -0.112703 -0.598698  0.095877   \n\n               ZZEF1      ZZZ3  \nACH-000001  0.111244 -0.467908  \nACH-000004  0.234388 -0.088306  \nACH-000005 -0.002161 -0.186842  \nACH-000007 -0.325964 -0.486660  \nACH-000009 -0.026742 -0.320759  \n\n[5 rows x 18424 columns]",
      "text/html": "<div>\n<style scoped>\n    .dataframe tbody tr th:only-of-type {\n        vertical-align: middle;\n    }\n\n    .dataframe tbody tr th {\n        vertical-align: top;\n    }\n\n    .dataframe thead th {\n        text-align: right;\n    }\n</style>\n<table border=\"1\" class=\"dataframe\">\n  <thead>\n    <tr style=\"text-align: right;\">\n      <th></th>\n      <th>A1BG</th>\n      <th>A1CF</th>\n      <th>A2M</th>\n      <th>A2ML1</th>\n      <th>A3GALT2</th>\n      <th>A4GALT</th>\n      <th>A4GNT</th>\n      <th>AAAS</th>\n      <th>AACS</th>\n      <th>AADAC</th>\n      <th>...</th>\n      <th>ZWILCH</th>\n      <th>ZWINT</th>\n      <th>ZXDA</th>\n      <th>ZXDB</th>\n      <th>ZXDC</th>\n      <th>ZYG11A</th>\n      <th>ZYG11B</th>\n      <th>ZYX</th>\n      <th>ZZEF1</th>\n      <th>ZZZ3</th>\n    </tr>\n  </thead>\n  <tbody>\n    <tr>\n      <th>ACH-000001</th>\n      <td>-0.122637</td>\n      <td>0.025881</td>\n      <td>0.034217</td>\n      <td>-0.128082</td>\n      <td>-0.031285</td>\n      <td>0.338046</td>\n      <td>-0.006439</td>\n      <td>-0.093642</td>\n      <td>0.189186</td>\n      <td>0.042783</td>\n      <td>...</td>\n      <td>-0.131727</td>\n      <td>-0.039829</td>\n      <td>0.179405</td>\n      <td>0.283552</td>\n      <td>0.204513</td>\n      <td>-0.289724</td>\n      <td>-0.062972</td>\n      <td>0.074180</td>\n      <td>0.111244</td>\n      <td>-0.467908</td>\n    </tr>\n    <tr>\n      <th>ACH-000004</th>\n      <td>0.019756</td>\n      <td>-0.083640</td>\n      <td>-0.060118</td>\n      <td>-0.027417</td>\n      <td>-0.036116</td>\n      <td>-0.001056</td>\n      <td>0.312876</td>\n      <td>-0.086897</td>\n      <td>0.204434</td>\n      <td>0.188715</td>\n      <td>...</td>\n      <td>-0.170329</td>\n      <td>-0.454263</td>\n      <td>0.194583</td>\n      <td>0.098989</td>\n      <td>0.126948</td>\n      <td>0.032983</td>\n      <td>-0.410392</td>\n      <td>0.113156</td>\n      <td>0.234388</td>\n      <td>-0.088306</td>\n    </tr>\n    <tr>\n      <th>ACH-000005</th>\n      <td>-0.107208</td>\n      <td>-0.023211</td>\n      <td>0.200204</td>\n      <td>0.116039</td>\n      <td>-0.172227</td>\n      <td>-0.071294</td>\n      <td>0.203270</td>\n      <td>-0.127806</td>\n      <td>-0.090981</td>\n      <td>0.073349</td>\n      <td>...</td>\n      <td>-0.301695</td>\n      <td>-0.454969</td>\n      <td>-0.061959</td>\n      <td>-0.036427</td>\n      <td>0.016602</td>\n      <td>-0.201273</td>\n      <td>-0.178877</td>\n      <td>-0.055349</td>\n      <td>-0.002161</td>\n      <td>-0.186842</td>\n    </tr>\n    <tr>\n      <th>ACH-000007</th>\n      <td>-0.031027</td>\n      <td>-0.137850</td>\n      <td>0.067704</td>\n      <td>0.107988</td>\n      <td>0.007992</td>\n      <td>0.124945</td>\n      <td>0.049548</td>\n      <td>-0.220824</td>\n      <td>-0.165669</td>\n      <td>0.230047</td>\n      <td>...</td>\n      <td>-0.303390</td>\n      <td>-0.507272</td>\n      <td>-0.025400</td>\n      <td>0.236659</td>\n      <td>0.072010</td>\n      <td>-0.100344</td>\n      <td>-0.462160</td>\n      <td>-0.001555</td>\n      <td>-0.325964</td>\n      <td>-0.486660</td>\n    </tr>\n    <tr>\n      <th>ACH-000009</th>\n      <td>0.008888</td>\n      <td>-0.146566</td>\n      <td>0.084471</td>\n      <td>0.089419</td>\n      <td>0.065109</td>\n      <td>0.027841</td>\n      <td>0.087943</td>\n      <td>-0.161369</td>\n      <td>0.041121</td>\n      <td>0.136621</td>\n      <td>...</td>\n      <td>-0.255466</td>\n      <td>-0.288739</td>\n      <td>-0.037132</td>\n      <td>0.261444</td>\n      <td>-0.062391</td>\n      <td>-0.112703</td>\n      <td>-0.598698</td>\n      <td>0.095877</td>\n      <td>-0.026742</td>\n      <td>-0.320759</td>\n    </tr>\n  </tbody>\n</table>\n<p>5 rows × 18424 columns</p>\n</div>"
     },
     "execution_count": 120,
     "metadata": {},
     "output_type": "execute_result"
    }
   ],
   "source": [
    "print(clin_df.shape)\n",
    "clin_df.iloc[0:5,:]"
   ],
   "metadata": {
    "collapsed": false
   }
  },
  {
   "cell_type": "markdown",
   "source": [
    "examine a data frame"
   ],
   "metadata": {
    "collapsed": false
   }
  },
  {
   "cell_type": "code",
   "execution_count": 106,
   "outputs": [
    {
     "name": "stdout",
     "output_type": "stream",
     "text": [
      "<class 'pandas.core.frame.DataFrame'>\n",
      "Index: 710 entries, ACH-001270 to ACH-002331\n",
      "Columns: 16810 entries, A1BG to SCO2\n",
      "dtypes: float64(16810)\n",
      "memory usage: 91.1+ MB\n"
     ]
    },
    {
     "data": {
      "text/plain": "             A1BG        NAT2         ADA        CDH2        AKT3        MED6  \\\ncount  545.000000  545.000000  545.000000  708.000000  708.000000  708.000000   \nmean    -0.037563   -0.064273    0.004964    0.015570    0.037530   -0.330078   \nstd      0.184556    0.217855    0.192259    0.163059    0.157416    0.237158   \nmin     -0.691310   -1.268613   -0.794780   -0.830639   -0.791714   -1.051937   \n25%     -0.142142   -0.162662   -0.128375   -0.078536   -0.039442   -0.469610   \n50%     -0.042158   -0.056757    0.021688    0.017762    0.050559   -0.325631   \n75%      0.069985    0.049407    0.128444    0.112600    0.124822   -0.175591   \nmax      0.907063    0.744008    0.611368    0.705452    0.517325    0.410725   \n\n            NR2E3     NAALAD2        DUXB     PDZK1P1  ...        RCE1  \\\ncount  708.000000  545.000000  500.000000  545.000000  ...  708.000000   \nmean    -0.122684    0.097244    0.151758    0.034675  ...   -0.079499   \nstd      0.201381    0.128367    0.124254    0.138083  ...    0.145781   \nmin     -1.166444   -0.380075   -0.234508   -0.431979  ...   -0.606379   \n25%     -0.238956    0.025468    0.076820   -0.043908  ...   -0.170429   \n50%     -0.125637    0.096659    0.155945    0.031970  ...   -0.077126   \n75%     -0.006659    0.173484    0.231217    0.111672  ...    0.010693   \nmax      0.616330    0.497967    0.693237    0.519837  ...    0.534168   \n\n          HNRNPDL       DMTF1      PPP4R1        CDH1     SLC12A6       KCNE2  \\\ncount  706.000000  708.000000  708.000000  669.000000  545.000000  708.000000   \nmean    -0.096593   -0.017149   -0.009336   -0.051000    0.102559   -0.019330   \nstd      0.179288    0.182053    0.142044    0.154082    0.116829    0.151618   \nmin     -1.037848   -0.593413   -0.699956   -0.718029   -0.228656   -0.744133   \n25%     -0.191932   -0.129356   -0.090074   -0.141393    0.035554   -0.104217   \n50%     -0.088621   -0.018945   -0.007832   -0.048601    0.099928   -0.012896   \n75%      0.009735    0.096201    0.079343    0.036093    0.169073    0.068114   \nmax      0.723699    0.609256    0.479402    0.661053    0.487694    0.599642   \n\n            DGCR2    CASP8AP2        SCO2  \ncount  545.000000  708.000000  545.000000  \nmean     0.050729   -0.542230   -0.002759  \nstd      0.181749    0.381612    0.192940  \nmin     -0.684951   -2.873168   -0.634959  \n25%     -0.057165   -0.754426   -0.120638  \n50%      0.050646   -0.454698    0.001383  \n75%      0.161217   -0.264533    0.122669  \nmax      0.680716    0.304642    0.724764  \n\n[8 rows x 16810 columns]",
      "text/html": "<div>\n<style scoped>\n    .dataframe tbody tr th:only-of-type {\n        vertical-align: middle;\n    }\n\n    .dataframe tbody tr th {\n        vertical-align: top;\n    }\n\n    .dataframe thead th {\n        text-align: right;\n    }\n</style>\n<table border=\"1\" class=\"dataframe\">\n  <thead>\n    <tr style=\"text-align: right;\">\n      <th></th>\n      <th>A1BG</th>\n      <th>NAT2</th>\n      <th>ADA</th>\n      <th>CDH2</th>\n      <th>AKT3</th>\n      <th>MED6</th>\n      <th>NR2E3</th>\n      <th>NAALAD2</th>\n      <th>DUXB</th>\n      <th>PDZK1P1</th>\n      <th>...</th>\n      <th>RCE1</th>\n      <th>HNRNPDL</th>\n      <th>DMTF1</th>\n      <th>PPP4R1</th>\n      <th>CDH1</th>\n      <th>SLC12A6</th>\n      <th>KCNE2</th>\n      <th>DGCR2</th>\n      <th>CASP8AP2</th>\n      <th>SCO2</th>\n    </tr>\n  </thead>\n  <tbody>\n    <tr>\n      <th>count</th>\n      <td>545.000000</td>\n      <td>545.000000</td>\n      <td>545.000000</td>\n      <td>708.000000</td>\n      <td>708.000000</td>\n      <td>708.000000</td>\n      <td>708.000000</td>\n      <td>545.000000</td>\n      <td>500.000000</td>\n      <td>545.000000</td>\n      <td>...</td>\n      <td>708.000000</td>\n      <td>706.000000</td>\n      <td>708.000000</td>\n      <td>708.000000</td>\n      <td>669.000000</td>\n      <td>545.000000</td>\n      <td>708.000000</td>\n      <td>545.000000</td>\n      <td>708.000000</td>\n      <td>545.000000</td>\n    </tr>\n    <tr>\n      <th>mean</th>\n      <td>-0.037563</td>\n      <td>-0.064273</td>\n      <td>0.004964</td>\n      <td>0.015570</td>\n      <td>0.037530</td>\n      <td>-0.330078</td>\n      <td>-0.122684</td>\n      <td>0.097244</td>\n      <td>0.151758</td>\n      <td>0.034675</td>\n      <td>...</td>\n      <td>-0.079499</td>\n      <td>-0.096593</td>\n      <td>-0.017149</td>\n      <td>-0.009336</td>\n      <td>-0.051000</td>\n      <td>0.102559</td>\n      <td>-0.019330</td>\n      <td>0.050729</td>\n      <td>-0.542230</td>\n      <td>-0.002759</td>\n    </tr>\n    <tr>\n      <th>std</th>\n      <td>0.184556</td>\n      <td>0.217855</td>\n      <td>0.192259</td>\n      <td>0.163059</td>\n      <td>0.157416</td>\n      <td>0.237158</td>\n      <td>0.201381</td>\n      <td>0.128367</td>\n      <td>0.124254</td>\n      <td>0.138083</td>\n      <td>...</td>\n      <td>0.145781</td>\n      <td>0.179288</td>\n      <td>0.182053</td>\n      <td>0.142044</td>\n      <td>0.154082</td>\n      <td>0.116829</td>\n      <td>0.151618</td>\n      <td>0.181749</td>\n      <td>0.381612</td>\n      <td>0.192940</td>\n    </tr>\n    <tr>\n      <th>min</th>\n      <td>-0.691310</td>\n      <td>-1.268613</td>\n      <td>-0.794780</td>\n      <td>-0.830639</td>\n      <td>-0.791714</td>\n      <td>-1.051937</td>\n      <td>-1.166444</td>\n      <td>-0.380075</td>\n      <td>-0.234508</td>\n      <td>-0.431979</td>\n      <td>...</td>\n      <td>-0.606379</td>\n      <td>-1.037848</td>\n      <td>-0.593413</td>\n      <td>-0.699956</td>\n      <td>-0.718029</td>\n      <td>-0.228656</td>\n      <td>-0.744133</td>\n      <td>-0.684951</td>\n      <td>-2.873168</td>\n      <td>-0.634959</td>\n    </tr>\n    <tr>\n      <th>25%</th>\n      <td>-0.142142</td>\n      <td>-0.162662</td>\n      <td>-0.128375</td>\n      <td>-0.078536</td>\n      <td>-0.039442</td>\n      <td>-0.469610</td>\n      <td>-0.238956</td>\n      <td>0.025468</td>\n      <td>0.076820</td>\n      <td>-0.043908</td>\n      <td>...</td>\n      <td>-0.170429</td>\n      <td>-0.191932</td>\n      <td>-0.129356</td>\n      <td>-0.090074</td>\n      <td>-0.141393</td>\n      <td>0.035554</td>\n      <td>-0.104217</td>\n      <td>-0.057165</td>\n      <td>-0.754426</td>\n      <td>-0.120638</td>\n    </tr>\n    <tr>\n      <th>50%</th>\n      <td>-0.042158</td>\n      <td>-0.056757</td>\n      <td>0.021688</td>\n      <td>0.017762</td>\n      <td>0.050559</td>\n      <td>-0.325631</td>\n      <td>-0.125637</td>\n      <td>0.096659</td>\n      <td>0.155945</td>\n      <td>0.031970</td>\n      <td>...</td>\n      <td>-0.077126</td>\n      <td>-0.088621</td>\n      <td>-0.018945</td>\n      <td>-0.007832</td>\n      <td>-0.048601</td>\n      <td>0.099928</td>\n      <td>-0.012896</td>\n      <td>0.050646</td>\n      <td>-0.454698</td>\n      <td>0.001383</td>\n    </tr>\n    <tr>\n      <th>75%</th>\n      <td>0.069985</td>\n      <td>0.049407</td>\n      <td>0.128444</td>\n      <td>0.112600</td>\n      <td>0.124822</td>\n      <td>-0.175591</td>\n      <td>-0.006659</td>\n      <td>0.173484</td>\n      <td>0.231217</td>\n      <td>0.111672</td>\n      <td>...</td>\n      <td>0.010693</td>\n      <td>0.009735</td>\n      <td>0.096201</td>\n      <td>0.079343</td>\n      <td>0.036093</td>\n      <td>0.169073</td>\n      <td>0.068114</td>\n      <td>0.161217</td>\n      <td>-0.264533</td>\n      <td>0.122669</td>\n    </tr>\n    <tr>\n      <th>max</th>\n      <td>0.907063</td>\n      <td>0.744008</td>\n      <td>0.611368</td>\n      <td>0.705452</td>\n      <td>0.517325</td>\n      <td>0.410725</td>\n      <td>0.616330</td>\n      <td>0.497967</td>\n      <td>0.693237</td>\n      <td>0.519837</td>\n      <td>...</td>\n      <td>0.534168</td>\n      <td>0.723699</td>\n      <td>0.609256</td>\n      <td>0.479402</td>\n      <td>0.661053</td>\n      <td>0.487694</td>\n      <td>0.599642</td>\n      <td>0.680716</td>\n      <td>0.304642</td>\n      <td>0.724764</td>\n    </tr>\n  </tbody>\n</table>\n<p>8 rows × 16810 columns</p>\n</div>"
     },
     "execution_count": 106,
     "metadata": {},
     "output_type": "execute_result"
    }
   ],
   "source": [
    "#get the dtype, na count and unique values for each col in gdsc\n",
    "clin_df.info()\n",
    "clin_df.describe()"
   ],
   "metadata": {
    "collapsed": false
   }
  },
  {
   "cell_type": "markdown",
   "source": [
    "possibly relevant drugs with their gdsc id:\n",
    "1032\tAfatinib\n",
    "1032\tAfatinib\n",
    "119\tLapatinib\n",
    "1377\tAfatinib\n",
    "1416\tAZD8931\n",
    "1549\tSapitinib\n",
    "1558\tLapatinib\n",
    "255\tCP724714\n",
    "273\tCUDC-101\n"
   ],
   "metadata": {
    "collapsed": false
   }
  },
  {
   "cell_type": "markdown",
   "source": [
    "drug_ids = [1032, 119, 1377, 1416, 1549, 1558, 255, 273]\n",
    "#filter gdsc to only these drugs\n",
    "gdsc_cell_drug = gdsc_cell_drug[gdsc_cell_drug['DRUG_ID'].isin(drug_ids)]\n",
    "gdsc_selcted = gdsc_cell_drug.loc[:,['COSMIC_ID','DRUG_ID','DRUG_NAME','ARXSPAN_ID','IC50_PUBLISHED','Z_SCORE_PUBLISHED','AUC_PUBLISHED']]\n",
    "\n"
   ],
   "metadata": {
    "collapsed": false
   }
  },
  {
   "cell_type": "markdown",
   "source": [
    "#find the cell lines that are in obs_df that are in gdsc selected\n",
    "cell_lines_both = list(set(obs_df.cell_line_id).intersection(set(gdsc_selcted['ARXSPAN_ID'])))\n",
    "cell_lines_both.__len__()"
   ],
   "metadata": {
    "collapsed": false
   }
  },
  {
   "cell_type": "code",
   "execution_count": 121,
   "outputs": [
    {
     "name": "stdout",
     "output_type": "stream",
     "text": [
      "(1100, 1)\n",
      "<class 'pandas.core.frame.DataFrame'>\n",
      "Index: 1100 entries, ACH-000001 to ACH-002926\n",
      "Data columns (total 1 columns):\n",
      " #   Column  Non-Null Count  Dtype  \n",
      "---  ------  --------------  -----  \n",
      " 0   ERBB2   1100 non-null   float64\n",
      "dtypes: float64(1)\n",
      "memory usage: 17.2+ KB\n"
     ]
    }
   ],
   "source": [
    "#filter clin df\n",
    "clin_df_filtered = pd.DataFrame(clin_df.loc[:,'ERBB2'])\n",
    "print(clin_df_filtered.shape)\n",
    "clin_df_filtered.info()"
   ],
   "metadata": {
    "collapsed": false
   }
  },
  {
   "cell_type": "code",
   "execution_count": null,
   "outputs": [],
   "source": [
    "#for each unique drug in selected, add to the obs a col with the ic50_pulished using the drug as colname\n"
   ],
   "metadata": {
    "collapsed": false
   }
  },
  {
   "cell_type": "code",
   "execution_count": 122,
   "outputs": [
    {
     "data": {
      "text/plain": "  cell_line_id  AFATINIB_ic50  AZD8931_ic50  CP-724714_ic50  CUDC-101_ic50  \\\n0   ACH-001113            NaN           NaN             NaN            NaN   \n1   ACH-001289            NaN           NaN             NaN            NaN   \n2   ACH-001339            NaN           NaN             NaN            NaN   \n3   ACH-001538            NaN           NaN             NaN            NaN   \n4   ACH-000242       8.304031     35.649353       40.658585       0.225703   \n\n   LAPATINIB_ic50  AFATINIB_Z  AFATINIB_AUC  ERBB2_RNAi  ERBB2_CRISPR  \n0             NaN         NaN           NaN   -0.323286           NaN  \n1             NaN         NaN           NaN         NaN     -0.021037  \n2             NaN         NaN           NaN         NaN           NaN  \n3             NaN         NaN           NaN         NaN     -0.264159  \n4       46.706017    0.889121      0.985634         NaN           NaN  ",
      "text/html": "<div>\n<style scoped>\n    .dataframe tbody tr th:only-of-type {\n        vertical-align: middle;\n    }\n\n    .dataframe tbody tr th {\n        vertical-align: top;\n    }\n\n    .dataframe thead th {\n        text-align: right;\n    }\n</style>\n<table border=\"1\" class=\"dataframe\">\n  <thead>\n    <tr style=\"text-align: right;\">\n      <th></th>\n      <th>cell_line_id</th>\n      <th>AFATINIB_ic50</th>\n      <th>AZD8931_ic50</th>\n      <th>CP-724714_ic50</th>\n      <th>CUDC-101_ic50</th>\n      <th>LAPATINIB_ic50</th>\n      <th>AFATINIB_Z</th>\n      <th>AFATINIB_AUC</th>\n      <th>ERBB2_RNAi</th>\n      <th>ERBB2_CRISPR</th>\n    </tr>\n  </thead>\n  <tbody>\n    <tr>\n      <th>0</th>\n      <td>ACH-001113</td>\n      <td>NaN</td>\n      <td>NaN</td>\n      <td>NaN</td>\n      <td>NaN</td>\n      <td>NaN</td>\n      <td>NaN</td>\n      <td>NaN</td>\n      <td>-0.323286</td>\n      <td>NaN</td>\n    </tr>\n    <tr>\n      <th>1</th>\n      <td>ACH-001289</td>\n      <td>NaN</td>\n      <td>NaN</td>\n      <td>NaN</td>\n      <td>NaN</td>\n      <td>NaN</td>\n      <td>NaN</td>\n      <td>NaN</td>\n      <td>NaN</td>\n      <td>-0.021037</td>\n    </tr>\n    <tr>\n      <th>2</th>\n      <td>ACH-001339</td>\n      <td>NaN</td>\n      <td>NaN</td>\n      <td>NaN</td>\n      <td>NaN</td>\n      <td>NaN</td>\n      <td>NaN</td>\n      <td>NaN</td>\n      <td>NaN</td>\n      <td>NaN</td>\n    </tr>\n    <tr>\n      <th>3</th>\n      <td>ACH-001538</td>\n      <td>NaN</td>\n      <td>NaN</td>\n      <td>NaN</td>\n      <td>NaN</td>\n      <td>NaN</td>\n      <td>NaN</td>\n      <td>NaN</td>\n      <td>NaN</td>\n      <td>-0.264159</td>\n    </tr>\n    <tr>\n      <th>4</th>\n      <td>ACH-000242</td>\n      <td>8.304031</td>\n      <td>35.649353</td>\n      <td>40.658585</td>\n      <td>0.225703</td>\n      <td>46.706017</td>\n      <td>0.889121</td>\n      <td>0.985634</td>\n      <td>NaN</td>\n      <td>NaN</td>\n    </tr>\n  </tbody>\n</table>\n</div>"
     },
     "execution_count": 122,
     "metadata": {},
     "output_type": "execute_result"
    }
   ],
   "source": [
    "#set the index column to have the right name\n",
    "clin_df_filtered.index.name = 'cell_line_id'\n",
    "#rename col ERBB2 as ERBB2_CRISPR\n",
    "clin_df_filtered = clin_df_filtered.rename(columns={'ERBB2': \"ERBB2_CRISPR\"})\n",
    "# First, merge the DataFrames on ARXSPAN_ID and cell_line_id\n",
    "merged_df = pd.merge(obs_df, clin_df_filtered, on='cell_line_id', how='left')\n",
    "merged_df.head()"
   ],
   "metadata": {
    "collapsed": false
   }
  },
  {
   "cell_type": "code",
   "execution_count": 123,
   "outputs": [
    {
     "data": {
      "text/plain": "  cell_line_id  AFATINIB_ic50  AZD8931_ic50  CP-724714_ic50  CUDC-101_ic50  \\\n0   ACH-001113            NaN           NaN             NaN            NaN   \n1   ACH-001289            NaN           NaN             NaN            NaN   \n2   ACH-001339            NaN           NaN             NaN            NaN   \n3   ACH-001538            NaN           NaN             NaN            NaN   \n4   ACH-000242       8.304031     35.649353       40.658585       0.225703   \n\n   LAPATINIB_ic50  AFATINIB_Z  AFATINIB_AUC  ERBB2_RNAi  ERBB2_CRISPR  \n0             NaN         NaN           NaN   -0.323286           NaN  \n1             NaN         NaN           NaN         NaN     -0.021037  \n2             NaN         NaN           NaN         NaN           NaN  \n3             NaN         NaN           NaN         NaN     -0.264159  \n4       46.706017    0.889121      0.985634         NaN           NaN  ",
      "text/html": "<div>\n<style scoped>\n    .dataframe tbody tr th:only-of-type {\n        vertical-align: middle;\n    }\n\n    .dataframe tbody tr th {\n        vertical-align: top;\n    }\n\n    .dataframe thead th {\n        text-align: right;\n    }\n</style>\n<table border=\"1\" class=\"dataframe\">\n  <thead>\n    <tr style=\"text-align: right;\">\n      <th></th>\n      <th>cell_line_id</th>\n      <th>AFATINIB_ic50</th>\n      <th>AZD8931_ic50</th>\n      <th>CP-724714_ic50</th>\n      <th>CUDC-101_ic50</th>\n      <th>LAPATINIB_ic50</th>\n      <th>AFATINIB_Z</th>\n      <th>AFATINIB_AUC</th>\n      <th>ERBB2_RNAi</th>\n      <th>ERBB2_CRISPR</th>\n    </tr>\n  </thead>\n  <tbody>\n    <tr>\n      <th>0</th>\n      <td>ACH-001113</td>\n      <td>NaN</td>\n      <td>NaN</td>\n      <td>NaN</td>\n      <td>NaN</td>\n      <td>NaN</td>\n      <td>NaN</td>\n      <td>NaN</td>\n      <td>-0.323286</td>\n      <td>NaN</td>\n    </tr>\n    <tr>\n      <th>1</th>\n      <td>ACH-001289</td>\n      <td>NaN</td>\n      <td>NaN</td>\n      <td>NaN</td>\n      <td>NaN</td>\n      <td>NaN</td>\n      <td>NaN</td>\n      <td>NaN</td>\n      <td>NaN</td>\n      <td>-0.021037</td>\n    </tr>\n    <tr>\n      <th>2</th>\n      <td>ACH-001339</td>\n      <td>NaN</td>\n      <td>NaN</td>\n      <td>NaN</td>\n      <td>NaN</td>\n      <td>NaN</td>\n      <td>NaN</td>\n      <td>NaN</td>\n      <td>NaN</td>\n      <td>NaN</td>\n    </tr>\n    <tr>\n      <th>3</th>\n      <td>ACH-001538</td>\n      <td>NaN</td>\n      <td>NaN</td>\n      <td>NaN</td>\n      <td>NaN</td>\n      <td>NaN</td>\n      <td>NaN</td>\n      <td>NaN</td>\n      <td>NaN</td>\n      <td>-0.264159</td>\n    </tr>\n    <tr>\n      <th>4</th>\n      <td>ACH-000242</td>\n      <td>8.304031</td>\n      <td>35.649353</td>\n      <td>40.658585</td>\n      <td>0.225703</td>\n      <td>46.706017</td>\n      <td>0.889121</td>\n      <td>0.985634</td>\n      <td>NaN</td>\n      <td>NaN</td>\n    </tr>\n  </tbody>\n</table>\n</div>"
     },
     "execution_count": 123,
     "metadata": {},
     "output_type": "execute_result"
    }
   ],
   "source": [
    "#if no prcosseing required, join\n",
    "obs_df=obs_df.join(clin_df_filtered, on='cell_line_id', how='left')\n",
    "obs_df.head()"
   ],
   "metadata": {
    "collapsed": false
   }
  },
  {
   "cell_type": "code",
   "execution_count": 118,
   "outputs": [
    {
     "data": {
      "text/plain": "  cell_line_id  AFATINIB_ic50  AZD8931_ic50  CP-724714_ic50  CUDC-101_ic50  \\\n0   ACH-001113            NaN           NaN             NaN            NaN   \n1   ACH-001289            NaN           NaN             NaN            NaN   \n2   ACH-001339            NaN           NaN             NaN            NaN   \n3   ACH-001538            NaN           NaN             NaN            NaN   \n4   ACH-000242       8.304031     35.649353       40.658585       0.225703   \n\n   LAPATINIB_ic50  AFATINIB_Z  AFATINIB_AUC  ERBB2_RNAi  \n0             NaN         NaN           NaN   -0.323286  \n1             NaN         NaN           NaN         NaN  \n2             NaN         NaN           NaN         NaN  \n3             NaN         NaN           NaN         NaN  \n4       46.706017    0.889121      0.985634         NaN  ",
      "text/html": "<div>\n<style scoped>\n    .dataframe tbody tr th:only-of-type {\n        vertical-align: middle;\n    }\n\n    .dataframe tbody tr th {\n        vertical-align: top;\n    }\n\n    .dataframe thead th {\n        text-align: right;\n    }\n</style>\n<table border=\"1\" class=\"dataframe\">\n  <thead>\n    <tr style=\"text-align: right;\">\n      <th></th>\n      <th>cell_line_id</th>\n      <th>AFATINIB_ic50</th>\n      <th>AZD8931_ic50</th>\n      <th>CP-724714_ic50</th>\n      <th>CUDC-101_ic50</th>\n      <th>LAPATINIB_ic50</th>\n      <th>AFATINIB_Z</th>\n      <th>AFATINIB_AUC</th>\n      <th>ERBB2_RNAi</th>\n    </tr>\n  </thead>\n  <tbody>\n    <tr>\n      <th>0</th>\n      <td>ACH-001113</td>\n      <td>NaN</td>\n      <td>NaN</td>\n      <td>NaN</td>\n      <td>NaN</td>\n      <td>NaN</td>\n      <td>NaN</td>\n      <td>NaN</td>\n      <td>-0.323286</td>\n    </tr>\n    <tr>\n      <th>1</th>\n      <td>ACH-001289</td>\n      <td>NaN</td>\n      <td>NaN</td>\n      <td>NaN</td>\n      <td>NaN</td>\n      <td>NaN</td>\n      <td>NaN</td>\n      <td>NaN</td>\n      <td>NaN</td>\n    </tr>\n    <tr>\n      <th>2</th>\n      <td>ACH-001339</td>\n      <td>NaN</td>\n      <td>NaN</td>\n      <td>NaN</td>\n      <td>NaN</td>\n      <td>NaN</td>\n      <td>NaN</td>\n      <td>NaN</td>\n      <td>NaN</td>\n    </tr>\n    <tr>\n      <th>3</th>\n      <td>ACH-001538</td>\n      <td>NaN</td>\n      <td>NaN</td>\n      <td>NaN</td>\n      <td>NaN</td>\n      <td>NaN</td>\n      <td>NaN</td>\n      <td>NaN</td>\n      <td>NaN</td>\n    </tr>\n    <tr>\n      <th>4</th>\n      <td>ACH-000242</td>\n      <td>8.304031</td>\n      <td>35.649353</td>\n      <td>40.658585</td>\n      <td>0.225703</td>\n      <td>46.706017</td>\n      <td>0.889121</td>\n      <td>0.985634</td>\n      <td>NaN</td>\n    </tr>\n  </tbody>\n</table>\n</div>"
     },
     "execution_count": 118,
     "metadata": {},
     "output_type": "execute_result"
    }
   ],
   "source": [
    "\n",
    "#rename col ERBB2 as ERBB2_RNAi\n",
    "obs_df = obs_df.rename(columns={'ERBB2': \"ERBB2_RNAi\"})\n",
    "obs_df.head()"
   ],
   "metadata": {
    "collapsed": false
   }
  },
  {
   "cell_type": "code",
   "execution_count": 82,
   "outputs": [],
   "source": [
    "\n",
    "#remove dupliactes of cell_line_id and drug name, by keeping the first appearence\n",
    "merged_df = merged_df.drop_duplicates(subset=['cell_line_id', 'DRUG_NAME'], keep='first')\n"
   ],
   "metadata": {
    "collapsed": false
   }
  },
  {
   "cell_type": "code",
   "execution_count": 87,
   "outputs": [
    {
     "ename": "KeyError",
     "evalue": "\"['AFATINIB'] not found in axis\"",
     "output_type": "error",
     "traceback": [
      "\u001B[0;31m---------------------------------------------------------------------------\u001B[0m",
      "\u001B[0;31mKeyError\u001B[0m                                  Traceback (most recent call last)",
      "Cell \u001B[0;32mIn[87], line 1\u001B[0m\n\u001B[0;32m----> 1\u001B[0m \u001B[43mmerged_df\u001B[49m\u001B[38;5;241;43m.\u001B[39;49m\u001B[43mdrop\u001B[49m\u001B[43m(\u001B[49m\u001B[38;5;124;43m'\u001B[39;49m\u001B[38;5;124;43mAFATINIB\u001B[39;49m\u001B[38;5;124;43m'\u001B[39;49m\u001B[43m,\u001B[49m\u001B[43m \u001B[49m\u001B[43maxis\u001B[49m\u001B[38;5;241;43m=\u001B[39;49m\u001B[38;5;241;43m1\u001B[39;49m\u001B[43m,\u001B[49m\u001B[43m \u001B[49m\u001B[43minplace\u001B[49m\u001B[38;5;241;43m=\u001B[39;49m\u001B[38;5;28;43;01mTrue\u001B[39;49;00m\u001B[43m)\u001B[49m\n",
      "File \u001B[0;32m~/Desktop/STAMP_2023/jesse/jesses_venvs/j_scgpt_2/lib/python3.9/site-packages/pandas/util/_decorators.py:311\u001B[0m, in \u001B[0;36mdeprecate_nonkeyword_arguments.<locals>.decorate.<locals>.wrapper\u001B[0;34m(*args, **kwargs)\u001B[0m\n\u001B[1;32m    305\u001B[0m \u001B[38;5;28;01mif\u001B[39;00m \u001B[38;5;28mlen\u001B[39m(args) \u001B[38;5;241m>\u001B[39m num_allow_args:\n\u001B[1;32m    306\u001B[0m     warnings\u001B[38;5;241m.\u001B[39mwarn(\n\u001B[1;32m    307\u001B[0m         msg\u001B[38;5;241m.\u001B[39mformat(arguments\u001B[38;5;241m=\u001B[39marguments),\n\u001B[1;32m    308\u001B[0m         \u001B[38;5;167;01mFutureWarning\u001B[39;00m,\n\u001B[1;32m    309\u001B[0m         stacklevel\u001B[38;5;241m=\u001B[39mstacklevel,\n\u001B[1;32m    310\u001B[0m     )\n\u001B[0;32m--> 311\u001B[0m \u001B[38;5;28;01mreturn\u001B[39;00m \u001B[43mfunc\u001B[49m\u001B[43m(\u001B[49m\u001B[38;5;241;43m*\u001B[39;49m\u001B[43margs\u001B[49m\u001B[43m,\u001B[49m\u001B[43m \u001B[49m\u001B[38;5;241;43m*\u001B[39;49m\u001B[38;5;241;43m*\u001B[39;49m\u001B[43mkwargs\u001B[49m\u001B[43m)\u001B[49m\n",
      "File \u001B[0;32m~/Desktop/STAMP_2023/jesse/jesses_venvs/j_scgpt_2/lib/python3.9/site-packages/pandas/core/frame.py:4906\u001B[0m, in \u001B[0;36mDataFrame.drop\u001B[0;34m(self, labels, axis, index, columns, level, inplace, errors)\u001B[0m\n\u001B[1;32m   4774\u001B[0m \u001B[38;5;129m@deprecate_nonkeyword_arguments\u001B[39m(version\u001B[38;5;241m=\u001B[39m\u001B[38;5;28;01mNone\u001B[39;00m, allowed_args\u001B[38;5;241m=\u001B[39m[\u001B[38;5;124m\"\u001B[39m\u001B[38;5;124mself\u001B[39m\u001B[38;5;124m\"\u001B[39m, \u001B[38;5;124m\"\u001B[39m\u001B[38;5;124mlabels\u001B[39m\u001B[38;5;124m\"\u001B[39m])\n\u001B[1;32m   4775\u001B[0m \u001B[38;5;28;01mdef\u001B[39;00m \u001B[38;5;21mdrop\u001B[39m(\n\u001B[1;32m   4776\u001B[0m     \u001B[38;5;28mself\u001B[39m,\n\u001B[0;32m   (...)\u001B[0m\n\u001B[1;32m   4783\u001B[0m     errors: \u001B[38;5;28mstr\u001B[39m \u001B[38;5;241m=\u001B[39m \u001B[38;5;124m\"\u001B[39m\u001B[38;5;124mraise\u001B[39m\u001B[38;5;124m\"\u001B[39m,\n\u001B[1;32m   4784\u001B[0m ):\n\u001B[1;32m   4785\u001B[0m \u001B[38;5;250m    \u001B[39m\u001B[38;5;124;03m\"\"\"\u001B[39;00m\n\u001B[1;32m   4786\u001B[0m \u001B[38;5;124;03m    Drop specified labels from rows or columns.\u001B[39;00m\n\u001B[1;32m   4787\u001B[0m \n\u001B[0;32m   (...)\u001B[0m\n\u001B[1;32m   4904\u001B[0m \u001B[38;5;124;03m            weight  1.0     0.8\u001B[39;00m\n\u001B[1;32m   4905\u001B[0m \u001B[38;5;124;03m    \"\"\"\u001B[39;00m\n\u001B[0;32m-> 4906\u001B[0m     \u001B[38;5;28;01mreturn\u001B[39;00m \u001B[38;5;28;43msuper\u001B[39;49m\u001B[43m(\u001B[49m\u001B[43m)\u001B[49m\u001B[38;5;241;43m.\u001B[39;49m\u001B[43mdrop\u001B[49m\u001B[43m(\u001B[49m\n\u001B[1;32m   4907\u001B[0m \u001B[43m        \u001B[49m\u001B[43mlabels\u001B[49m\u001B[38;5;241;43m=\u001B[39;49m\u001B[43mlabels\u001B[49m\u001B[43m,\u001B[49m\n\u001B[1;32m   4908\u001B[0m \u001B[43m        \u001B[49m\u001B[43maxis\u001B[49m\u001B[38;5;241;43m=\u001B[39;49m\u001B[43maxis\u001B[49m\u001B[43m,\u001B[49m\n\u001B[1;32m   4909\u001B[0m \u001B[43m        \u001B[49m\u001B[43mindex\u001B[49m\u001B[38;5;241;43m=\u001B[39;49m\u001B[43mindex\u001B[49m\u001B[43m,\u001B[49m\n\u001B[1;32m   4910\u001B[0m \u001B[43m        \u001B[49m\u001B[43mcolumns\u001B[49m\u001B[38;5;241;43m=\u001B[39;49m\u001B[43mcolumns\u001B[49m\u001B[43m,\u001B[49m\n\u001B[1;32m   4911\u001B[0m \u001B[43m        \u001B[49m\u001B[43mlevel\u001B[49m\u001B[38;5;241;43m=\u001B[39;49m\u001B[43mlevel\u001B[49m\u001B[43m,\u001B[49m\n\u001B[1;32m   4912\u001B[0m \u001B[43m        \u001B[49m\u001B[43minplace\u001B[49m\u001B[38;5;241;43m=\u001B[39;49m\u001B[43minplace\u001B[49m\u001B[43m,\u001B[49m\n\u001B[1;32m   4913\u001B[0m \u001B[43m        \u001B[49m\u001B[43merrors\u001B[49m\u001B[38;5;241;43m=\u001B[39;49m\u001B[43merrors\u001B[49m\u001B[43m,\u001B[49m\n\u001B[1;32m   4914\u001B[0m \u001B[43m    \u001B[49m\u001B[43m)\u001B[49m\n",
      "File \u001B[0;32m~/Desktop/STAMP_2023/jesse/jesses_venvs/j_scgpt_2/lib/python3.9/site-packages/pandas/core/generic.py:4150\u001B[0m, in \u001B[0;36mNDFrame.drop\u001B[0;34m(self, labels, axis, index, columns, level, inplace, errors)\u001B[0m\n\u001B[1;32m   4148\u001B[0m \u001B[38;5;28;01mfor\u001B[39;00m axis, labels \u001B[38;5;129;01min\u001B[39;00m axes\u001B[38;5;241m.\u001B[39mitems():\n\u001B[1;32m   4149\u001B[0m     \u001B[38;5;28;01mif\u001B[39;00m labels \u001B[38;5;129;01mis\u001B[39;00m \u001B[38;5;129;01mnot\u001B[39;00m \u001B[38;5;28;01mNone\u001B[39;00m:\n\u001B[0;32m-> 4150\u001B[0m         obj \u001B[38;5;241m=\u001B[39m \u001B[43mobj\u001B[49m\u001B[38;5;241;43m.\u001B[39;49m\u001B[43m_drop_axis\u001B[49m\u001B[43m(\u001B[49m\u001B[43mlabels\u001B[49m\u001B[43m,\u001B[49m\u001B[43m \u001B[49m\u001B[43maxis\u001B[49m\u001B[43m,\u001B[49m\u001B[43m \u001B[49m\u001B[43mlevel\u001B[49m\u001B[38;5;241;43m=\u001B[39;49m\u001B[43mlevel\u001B[49m\u001B[43m,\u001B[49m\u001B[43m \u001B[49m\u001B[43merrors\u001B[49m\u001B[38;5;241;43m=\u001B[39;49m\u001B[43merrors\u001B[49m\u001B[43m)\u001B[49m\n\u001B[1;32m   4152\u001B[0m \u001B[38;5;28;01mif\u001B[39;00m inplace:\n\u001B[1;32m   4153\u001B[0m     \u001B[38;5;28mself\u001B[39m\u001B[38;5;241m.\u001B[39m_update_inplace(obj)\n",
      "File \u001B[0;32m~/Desktop/STAMP_2023/jesse/jesses_venvs/j_scgpt_2/lib/python3.9/site-packages/pandas/core/generic.py:4185\u001B[0m, in \u001B[0;36mNDFrame._drop_axis\u001B[0;34m(self, labels, axis, level, errors)\u001B[0m\n\u001B[1;32m   4183\u001B[0m         new_axis \u001B[38;5;241m=\u001B[39m axis\u001B[38;5;241m.\u001B[39mdrop(labels, level\u001B[38;5;241m=\u001B[39mlevel, errors\u001B[38;5;241m=\u001B[39merrors)\n\u001B[1;32m   4184\u001B[0m     \u001B[38;5;28;01melse\u001B[39;00m:\n\u001B[0;32m-> 4185\u001B[0m         new_axis \u001B[38;5;241m=\u001B[39m \u001B[43maxis\u001B[49m\u001B[38;5;241;43m.\u001B[39;49m\u001B[43mdrop\u001B[49m\u001B[43m(\u001B[49m\u001B[43mlabels\u001B[49m\u001B[43m,\u001B[49m\u001B[43m \u001B[49m\u001B[43merrors\u001B[49m\u001B[38;5;241;43m=\u001B[39;49m\u001B[43merrors\u001B[49m\u001B[43m)\u001B[49m\n\u001B[1;32m   4186\u001B[0m     result \u001B[38;5;241m=\u001B[39m \u001B[38;5;28mself\u001B[39m\u001B[38;5;241m.\u001B[39mreindex(\u001B[38;5;241m*\u001B[39m\u001B[38;5;241m*\u001B[39m{axis_name: new_axis})\n\u001B[1;32m   4188\u001B[0m \u001B[38;5;66;03m# Case for non-unique axis\u001B[39;00m\n\u001B[1;32m   4189\u001B[0m \u001B[38;5;28;01melse\u001B[39;00m:\n",
      "File \u001B[0;32m~/Desktop/STAMP_2023/jesse/jesses_venvs/j_scgpt_2/lib/python3.9/site-packages/pandas/core/indexes/base.py:6017\u001B[0m, in \u001B[0;36mIndex.drop\u001B[0;34m(self, labels, errors)\u001B[0m\n\u001B[1;32m   6015\u001B[0m \u001B[38;5;28;01mif\u001B[39;00m mask\u001B[38;5;241m.\u001B[39many():\n\u001B[1;32m   6016\u001B[0m     \u001B[38;5;28;01mif\u001B[39;00m errors \u001B[38;5;241m!=\u001B[39m \u001B[38;5;124m\"\u001B[39m\u001B[38;5;124mignore\u001B[39m\u001B[38;5;124m\"\u001B[39m:\n\u001B[0;32m-> 6017\u001B[0m         \u001B[38;5;28;01mraise\u001B[39;00m \u001B[38;5;167;01mKeyError\u001B[39;00m(\u001B[38;5;124mf\u001B[39m\u001B[38;5;124m\"\u001B[39m\u001B[38;5;132;01m{\u001B[39;00mlabels[mask]\u001B[38;5;132;01m}\u001B[39;00m\u001B[38;5;124m not found in axis\u001B[39m\u001B[38;5;124m\"\u001B[39m)\n\u001B[1;32m   6018\u001B[0m     indexer \u001B[38;5;241m=\u001B[39m indexer[\u001B[38;5;241m~\u001B[39mmask]\n\u001B[1;32m   6019\u001B[0m \u001B[38;5;28;01mreturn\u001B[39;00m \u001B[38;5;28mself\u001B[39m\u001B[38;5;241m.\u001B[39mdelete(indexer)\n",
      "\u001B[0;31mKeyError\u001B[0m: \"['AFATINIB'] not found in axis\""
     ]
    }
   ],
   "source": [],
   "metadata": {
    "collapsed": false
   }
  },
  {
   "cell_type": "code",
   "execution_count": 101,
   "outputs": [
    {
     "data": {
      "text/plain": "              AFATINIB\ncell_line_id          \nACH-000001    0.964208\nACH-000002    0.963948\nACH-000004    0.965114\nACH-000006    0.972685\nACH-000007    0.918839",
      "text/html": "<div>\n<style scoped>\n    .dataframe tbody tr th:only-of-type {\n        vertical-align: middle;\n    }\n\n    .dataframe tbody tr th {\n        vertical-align: top;\n    }\n\n    .dataframe thead th {\n        text-align: right;\n    }\n</style>\n<table border=\"1\" class=\"dataframe\">\n  <thead>\n    <tr style=\"text-align: right;\">\n      <th></th>\n      <th>AFATINIB</th>\n    </tr>\n    <tr>\n      <th>cell_line_id</th>\n      <th></th>\n    </tr>\n  </thead>\n  <tbody>\n    <tr>\n      <th>ACH-000001</th>\n      <td>0.964208</td>\n    </tr>\n    <tr>\n      <th>ACH-000002</th>\n      <td>0.963948</td>\n    </tr>\n    <tr>\n      <th>ACH-000004</th>\n      <td>0.965114</td>\n    </tr>\n    <tr>\n      <th>ACH-000006</th>\n      <td>0.972685</td>\n    </tr>\n    <tr>\n      <th>ACH-000007</th>\n      <td>0.918839</td>\n    </tr>\n  </tbody>\n</table>\n</div>"
     },
     "execution_count": 101,
     "metadata": {},
     "output_type": "execute_result"
    }
   ],
   "source": [
    "\n",
    "# Pivot the merged DataFrame\n",
    "pivot_df = merged_df.pivot(index='cell_line_id', columns='DRUG_NAME', values='AUC_PUBLISHED')\n",
    "pivot_df=pd.DataFrame(pivot_df.loc[:,'AFATINIB'])\n",
    "pivot_df.head()"
   ],
   "metadata": {
    "collapsed": false
   }
  },
  {
   "cell_type": "code",
   "execution_count": 102,
   "outputs": [],
   "source": [
    "#rename column 'AFATINIB_Z'\n",
    "pivot_df = pivot_df.rename(columns={'AFATINIB': \"AFATINIB_AUC\"})\n",
    "pivot_df.index.name = 'cell_line_id'"
   ],
   "metadata": {
    "collapsed": false
   }
  },
  {
   "cell_type": "code",
   "execution_count": 98,
   "outputs": [],
   "source": [
    "#rename cols 1:end in obs: add '_ic50' to the end\n",
    "# Assuming obs_df is your DataFrame\n",
    "# Select columns from index 1 to the end\n",
    "columns_to_rename = obs_df.columns[1:]\n",
    "\n",
    "# Rename these columns by appending '_ic50'\n",
    "new_column_names = [col + '_ic50' for col in columns_to_rename]\n",
    "\n",
    "# Update the DataFrame with new column names\n",
    "obs_df.columns = [obs_df.columns[0]] + new_column_names"
   ],
   "metadata": {
    "collapsed": false
   }
  },
  {
   "cell_type": "code",
   "execution_count": 103,
   "outputs": [],
   "source": [
    "temp_obs = obs_df.join(pivot_df, on='cell_line_id', how='left')\n",
    "obs_df = temp_obs.copy()"
   ],
   "metadata": {
    "collapsed": false
   }
  },
  {
   "cell_type": "code",
   "execution_count": 124,
   "outputs": [],
   "source": [
    "#assign obs_df to adata\n",
    "adata.obs = obs_df"
   ],
   "metadata": {
    "collapsed": false
   }
  },
  {
   "cell_type": "code",
   "execution_count": 125,
   "outputs": [
    {
     "data": {
      "text/plain": "PosixPath('/home/shair/Desktop/STAMP_2023/jesse/trans_stamp_curr/training_data/cell_lines/broad_CCLE/genexp/exp_protein_genes_tpml_logp1.h5ad')"
     },
     "execution_count": 125,
     "metadata": {},
     "output_type": "execute_result"
    }
   ],
   "source": [
    "save_path"
   ],
   "metadata": {
    "collapsed": false
   }
  },
  {
   "cell_type": "code",
   "execution_count": null,
   "outputs": [],
   "source": [
    "#save the anndata object\n"
   ],
   "metadata": {
    "collapsed": false
   }
  },
  {
   "cell_type": "markdown",
   "source": [
    "old session"
   ],
   "metadata": {
    "collapsed": false
   }
  },
  {
   "cell_type": "code",
   "execution_count": 47,
   "outputs": [],
   "source": [
    "cols = pd.Series(clin_df.columns)\n",
    "keep_cols = [0,1,2,3,5,6,19,21,28,29,30,33,34,36,38,40,41,46,49,50,51,56]\n",
    "#keep selected cols\n",
    "clin_df = clin_df.iloc[:,keep_cols]"
   ],
   "metadata": {
    "collapsed": false
   }
  },
  {
   "cell_type": "code",
   "execution_count": null,
   "outputs": [],
   "source": [],
   "metadata": {
    "collapsed": false
   }
  },
  {
   "cell_type": "code",
   "execution_count": 48,
   "outputs": [],
   "source": [
    "clin_df = clin_df.set_index(['Sample ID'])\n",
    "clin_df.index = clin_df.index.str.replace('-','.')\n"
   ],
   "metadata": {
    "collapsed": false
   }
  },
  {
   "cell_type": "code",
   "execution_count": 49,
   "outputs": [],
   "source": [
    "#keep only samples in my_adata.obs['Sample_ID']\n",
    "clin_df = clin_df.loc[my_adata.obs['Sample_ID'],:]"
   ],
   "metadata": {
    "collapsed": false
   }
  },
  {
   "cell_type": "code",
   "execution_count": 55,
   "outputs": [],
   "source": [
    "#add clinical data to adata by joining on sample id\n",
    "new_obs = pd.merge(my_adata.obs.copy(), clin_df, left_on='Sample_ID', right_on='Sample ID', how='left')"
   ],
   "metadata": {
    "collapsed": false
   }
  },
  {
   "cell_type": "code",
   "execution_count": 56,
   "outputs": [
    {
     "name": "stdout",
     "output_type": "stream",
     "text": [
      "Sample_ID 0\n",
      "oncosig_label_ERBB2 0\n",
      "cell_type 0\n",
      "Patient ID 0\n",
      "Diagnosis Age 0\n",
      "Neoplasm Disease Stage American Joint Committee on Cancer Code 5\n",
      "Aneuploidy Score 24\n",
      "Buffa Hypoxia Score 0\n",
      "Fraction Genome Altered 2\n",
      "Neoplasm Histologic Grade 949\n",
      "MSI MANTIS Score 34\n",
      "MSIsensor Score 0\n",
      "Mutation Count 0\n",
      "Overall Survival (Months) 0\n",
      "Overall Survival Status 0\n",
      "American Joint Committee on Cancer Metastasis Stage Code 0\n",
      "American Joint Committee on Cancer Tumor Stage Code 0\n",
      "Progress Free Survival (Months) 1\n",
      "Progression Free Status 0\n",
      "Ragnum Hypoxia Score 0\n",
      "Sex 0\n",
      "Somatic Status 0\n",
      "Subtype 0\n",
      "TMB (nonsynonymous) 0\n"
     ]
    }
   ],
   "source": [
    "#for each col, count na:\n",
    "for col in new_obs.columns:\n",
    "    print(col, new_obs[col].isna().sum())"
   ],
   "metadata": {
    "collapsed": false
   }
  },
  {
   "cell_type": "code",
   "execution_count": 58,
   "outputs": [],
   "source": [
    "\n",
    "new_obs = new_obs.drop(['Neoplasm Histologic Grade'], axis=1) if 'Neoplasm Histologic Grade' in new_obs.columns else new_obs"
   ],
   "metadata": {
    "collapsed": false
   }
  },
  {
   "cell_type": "code",
   "execution_count": 59,
   "outputs": [
    {
     "name": "stderr",
     "output_type": "stream",
     "text": [
      "/home/jesse/lab/venvs/scgpt_venv/lib/python3.9/site-packages/anndata/_core/anndata.py:850: UserWarning: \n",
      "AnnData expects .obs.index to contain strings, but got values like:\n",
      "    [0, 1, 2, 3, 4]\n",
      "\n",
      "    Inferred to be: integer\n",
      "\n",
      "  value_idx = self._prep_dim_index(value.index, attr)\n"
     ]
    }
   ],
   "source": [
    "#add the new obs to cell em\n",
    "cell_embbed.obs = new_obs"
   ],
   "metadata": {
    "collapsed": false
   }
  },
  {
   "cell_type": "code",
   "execution_count": 67,
   "outputs": [],
   "source": [
    "cell_embbed.write_h5ad(base_dir / 'scgpt/data/bulk_brca_erbb2/tcga_brca_erbb2_scgpt_emb_oncosig_sub_genes_clin.h5ad')"
   ],
   "metadata": {
    "collapsed": false
   }
  },
  {
   "cell_type": "code",
   "execution_count": 65,
   "outputs": [],
   "source": [
    "#add new obs to my adata and make smaple id the index\n",
    "my_adata.obs = new_obs\n",
    "my_adata.obs.set_index('Sample_ID', inplace=True)\n",
    "#full_adata = sc.read_h5ad(base_dir / 'scgpt/data/bulk_brca_erbb2/tcga_brca_erbb2_oncosig_sub_genes.h5ad')\n",
    "# save my_adata as 'tcga_brca_erbb2_oncosig_sub_genes_clin.h5ad'\n"
   ],
   "metadata": {
    "collapsed": false
   }
  },
  {
   "cell_type": "code",
   "execution_count": 127,
   "outputs": [],
   "source": [
    "#write adata\n",
    "adata.write(save_path)"
   ],
   "metadata": {
    "collapsed": false,
    "ExecuteTime": {
     "end_time": "2023-12-05T13:17:24.994730241Z",
     "start_time": "2023-12-05T13:17:24.943817911Z"
    }
   }
  },
  {
   "cell_type": "markdown",
   "source": [
    "! create meta data df"
   ],
   "metadata": {
    "collapsed": false
   }
  },
  {
   "cell_type": "code",
   "execution_count": null,
   "outputs": [],
   "source": [
    "'''\n",
    "def bulk_2_h5ad(bulk_genexp,tcga_cancer ='brca',metadata_cols = [],samples_metadata_path = '',\\\n",
    "        genes_meta_path = '', save_name = ''):\n",
    "'''\n",
    "args = { 'bulk_genexp' : bulk_genexp,\n",
    "        'tcga_cancer' : 'brca',\n",
    "        'metadata_cols' : meta_data_cols,\n",
    "        'samples_metadata_path' : '',\n",
    "        'genes_meta_path' : '',\n",
    "        'save_name' : save_name\n",
    "\n",
    "}\n",
    "bulk_2_h5ad(**args)"
   ],
   "metadata": {
    "collapsed": false
   }
  },
  {
   "cell_type": "markdown",
   "source": [
    "! create var and X df"
   ],
   "metadata": {
    "collapsed": false
   }
  }
 ],
 "metadata": {
  "kernelspec": {
   "display_name": "Python 3",
   "language": "python",
   "name": "python3"
  },
  "language_info": {
   "codemirror_mode": {
    "name": "ipython",
    "version": 2
   },
   "file_extension": ".py",
   "mimetype": "text/x-python",
   "name": "python",
   "nbconvert_exporter": "python",
   "pygments_lexer": "ipython2",
   "version": "2.7.6"
  }
 },
 "nbformat": 4,
 "nbformat_minor": 0
}
