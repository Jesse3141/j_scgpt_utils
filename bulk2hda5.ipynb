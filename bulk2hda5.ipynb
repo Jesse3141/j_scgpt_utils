{
 "cells": [
  {
   "cell_type": "markdown",
   "source": [
    "! description\n"
   ],
   "metadata": {
    "collapsed": false
   }
  },
  {
   "cell_type": "code",
   "execution_count": null,
   "outputs": [],
   "source": [],
   "metadata": {
    "collapsed": false,
    "ExecuteTime": {
     "end_time": "2023-12-05T12:57:33.082873156Z",
     "start_time": "2023-12-05T12:57:32.861745262Z"
    }
   }
  },
  {
   "cell_type": "markdown",
   "source": [
    "given a csv or such table, where rows are samples and columuns are genes.\n",
    "create a h5ad file where the count values are the .X matrix, the gene are in .var as \"gene_hgnc\" and the sample are in .obs as \"sample_id\""
   ],
   "metadata": {
    "collapsed": false
   }
  },
  {
   "cell_type": "code",
   "execution_count": null,
   "outputs": [],
   "source": [
    "# import\n",
    "import anndata\n",
    "import pandas as pd\n",
    "import os\n",
    "import short_utils\n",
    "from pathlib import Path"
   ],
   "metadata": {
    "collapsed": false,
    "ExecuteTime": {
     "end_time": "2023-12-05T12:57:34.185462118Z",
     "start_time": "2023-12-05T12:57:32.862017493Z"
    }
   }
  },
  {
   "cell_type": "code",
   "execution_count": null,
   "outputs": [],
   "source": [
    "# globals\n",
    "base_dir = short_utils.get_base_dir()\n",
    "base_dir"
   ],
   "metadata": {
    "collapsed": false,
    "ExecuteTime": {
     "end_time": "2023-12-05T12:57:34.201732257Z",
     "start_time": "2023-12-05T12:57:34.194694443Z"
    }
   }
  },
  {
   "cell_type": "code",
   "execution_count": null,
   "outputs": [],
   "source": [
    "#print working dir\n",
    "print(os.getcwd())"
   ],
   "metadata": {
    "collapsed": false,
    "ExecuteTime": {
     "end_time": "2023-12-05T12:57:34.225833916Z",
     "start_time": "2023-12-05T12:57:34.202751364Z"
    }
   }
  },
  {
   "cell_type": "code",
   "execution_count": null,
   "outputs": [],
   "source": [],
   "metadata": {
    "collapsed": false,
    "ExecuteTime": {
     "end_time": "2023-12-05T12:57:34.257323569Z",
     "start_time": "2023-12-05T12:57:34.253625077Z"
    }
   }
  },
  {
   "cell_type": "code",
   "execution_count": null,
   "outputs": [],
   "source": [
    "def preview_file(bulk_genexp, num_rows = 3):\n",
    "\n",
    "    #print first few elements of index, first column, colnames, and first 4x4\n",
    "    print(f\"first {num_rows}x{num_rows}: \\n\", bulk_genexp.iloc[0:num_rows, 0:num_rows])\n",
    "    #print first 4 elements of index\n",
    "    print(\"start of idx: \\n\", bulk_genexp.index[:(num_rows+1)])\n",
    "    #print start of colnames\n",
    "    print(\"start of colnames: \\n\", bulk_genexp.columns[:(num_rows+1)])"
   ],
   "metadata": {
    "collapsed": false,
    "ExecuteTime": {
     "end_time": "2023-12-05T12:57:34.257491009Z",
     "start_time": "2023-12-05T12:57:34.253821819Z"
    }
   }
  },
  {
   "cell_type": "code",
   "execution_count": null,
   "outputs": [],
   "source": [
    "def get_obs(bulk_genexp,meta_cols):\n",
    "    '''\n",
    "    create the obs df containng the meta data about the samples\n",
    "    :param bulk_genexp: the genexp data as a df\n",
    "    :param meta_cols: a list of colnames with sample metadata\n",
    "    :return: a df of the meta data\n",
    "    '''\n",
    "    obs_df = bulk_genexp[meta_cols]\n",
    "    return obs_df"
   ],
   "metadata": {
    "collapsed": false,
    "ExecuteTime": {
     "end_time": "2023-12-05T12:57:34.257560177Z",
     "start_time": "2023-12-05T12:57:34.253931354Z"
    }
   }
  },
  {
   "cell_type": "code",
   "execution_count": null,
   "outputs": [],
   "source": [
    "def add_cell_type(metadata_df,tcga_cancer):\n",
    "    '''\n",
    "\n",
    "    :param metadata: a df of sample meta data\n",
    "    :param tcga_cancer: the cancer type of the bulk genexp data\n",
    "    :return: add a 'cell_type\" col with the cancer type\n",
    "    '''\n",
    "    metadata_df[\"cell_type\"] = tcga_cancer\n",
    "    return metadata_df"
   ],
   "metadata": {
    "collapsed": false,
    "ExecuteTime": {
     "end_time": "2023-12-05T12:57:34.257612709Z",
     "start_time": "2023-12-05T12:57:34.254019255Z"
    }
   }
  },
  {
   "cell_type": "code",
   "execution_count": null,
   "outputs": [],
   "source": [
    "def add_metadata(file_path, metadata_df):\n",
    "    '''\n",
    "\n",
    "    :param file_path: path to table with additional metadata\n",
    "    :param metadata_df: the metadata df\n",
    "    :return: metadata_df with additional metadata\n",
    "    '''\n",
    "    pass"
   ],
   "metadata": {
    "collapsed": false,
    "ExecuteTime": {
     "end_time": "2023-12-05T12:57:34.301958191Z",
     "start_time": "2023-12-05T12:57:34.254102440Z"
    }
   }
  },
  {
   "cell_type": "code",
   "execution_count": null,
   "outputs": [],
   "source": [
    "def get_var(genexp,gene_cols,hgnc_col):\n",
    "    '''\n",
    "    create the var df containing data about the variables, usually genes\n",
    "    :param genexp: a df of genexp data\n",
    "    :param gene_cols: a list of colnames with gene names\n",
    "    :param hgnc_col: the colname with the hgnc gene names\n",
    "    :return: a df of genes with col 'gene_hgnc'\n",
    "    '''\n",
    "    #subset the df to only the gene cols\n",
    "    var_df = genexp[gene_cols]\n",
    "    #rename hgnc_col gene_hgnc\n",
    "    var_df = var_df.rename(columns={hgnc_col: \"gene_hgnc\"})\n",
    "    #reorder cols and make hgnc the first col\n",
    "    \n",
    "    # Reorder columns to make 'gene_hgnc' the first column\n",
    "    reordered_cols = ['gene_hgnc'] + [col for col in gene_cols if col != hgnc_col]\n",
    "    var_df = var_df[reordered_cols]\n",
    "\n",
    "    return var_df"
   ],
   "metadata": {
    "collapsed": false,
    "ExecuteTime": {
     "end_time": "2023-12-05T13:01:11.025728671Z",
     "start_time": "2023-12-05T13:01:10.985020918Z"
    }
   }
  },
  {
   "cell_type": "markdown",
   "source": [
    "# create an anndata object: .X is the counts, .var \"gene_hgnc\" is the genes, .obs \"sample_id\" is the sample_id and .obs \"oncosig_label_ERBB2\" is the oncosig_labels\n",
    "adata = anndata.AnnData(X=counts, var=pd.DataFrame(index=genes, data=genes, columns=[\"gene_hgnc\"]), obs=obs_df)\n"
   ],
   "metadata": {
    "collapsed": false
   }
  },
  {
   "cell_type": "code",
   "execution_count": null,
   "outputs": [],
   "source": [
    "def create_anndata(counts_df, var_df,obs_df):\n",
    "    '''\n",
    "    :param counts_df: a df of counts with no names\n",
    "    :param var_df: a df of genes with col 'gene_hgnc' as index\n",
    "    :param obs_df: a df of sample meta data\n",
    "    :return: an anndata object\n",
    "    '''\n",
    "    return anndata.AnnData(X=counts_df, var=var_df, obs=obs_df)\n"
   ],
   "metadata": {
    "collapsed": false,
    "ExecuteTime": {
     "end_time": "2023-12-05T12:57:34.302467131Z",
     "start_time": "2023-12-05T12:57:34.301890719Z"
    }
   }
  },
  {
   "cell_type": "code",
   "execution_count": null,
   "outputs": [],
   "source": [
    "# def bulk_2_h5ad(bulk_genexp,tcga_cancer ='brca',metadata_cols = [],samples_metadata_path = '',\\\n",
    "#         genes_meta_path = '', save_name = ''):\n",
    "#     #create the obs df: sample_id and oncosig_label_ERBB2 where the smaple id's are the idx\n",
    "#     obs_df = get_sample_meta(bulk_genexp,metadata_cols)\n",
    "#     #add a \"cell_type\" column to the obs_df with the value \"brca\"\n",
    "#     obs_df = add_cell_type(obs_df,\"brca\")\n",
    "#     #create the var and X df: gene_hgnc and the counts\n",
    "#     #take subset, excluding the meta_data_cols\n",
    "#     #drop meta_data_cols\n",
    "#     bulk_genexp.drop(metadata_cols, axis=1, inplace=True)\n",
    "# \n",
    "#     #save colnames to genes list\n",
    "#     genes_var = get_genes(bulk_genexp)\n",
    "#     #SAVE genexp counts to a counts df\n",
    "#     counts = bulk_genexp.values\n",
    "#     adata = create_anndata(counts, genes_var, obs_df)\n",
    "# \n",
    "#     #save the anndata object\n",
    "#     # raise err if no save name provided\n",
    "#     if not save_name:\n",
    "#         raise ValueError(\"no save name provided\")\n",
    "#     adata.write(base_dir + '/data/' +  save_name)\n",
    "\n"
   ],
   "metadata": {
    "collapsed": false,
    "ExecuteTime": {
     "end_time": "2023-12-05T12:57:34.304396391Z",
     "start_time": "2023-12-05T12:57:34.302118306Z"
    }
   }
  },
  {
   "cell_type": "markdown",
   "source": [],
   "metadata": {
    "collapsed": false
   }
  },
  {
   "cell_type": "markdown",
   "source": [
    "! run the script:\n",
    "read the data, identify metadate cols, then create the anndata object"
   ],
   "metadata": {
    "collapsed": false
   }
  },
  {
   "cell_type": "code",
   "execution_count": null,
   "outputs": [],
   "source": [
    "#set path to file\n",
    "data_path = Path(base_dir / 'training_data/tcga/genexp_data/Xena_pan_can_hi_seq')\n",
    "data_path"
   ],
   "metadata": {
    "collapsed": false,
    "ExecuteTime": {
     "end_time": "2023-12-05T12:57:34.304849671Z",
     "start_time": "2023-12-05T12:57:34.302226442Z"
    }
   }
  },
  {
   "cell_type": "code",
   "execution_count": null,
   "outputs": [],
   "source": [
    "#read file: tab sepereated\n",
    "bulk_genexp = pd.read_csv(data_path, sep='\\t')"
   ],
   "metadata": {
    "collapsed": false,
    "ExecuteTime": {
     "end_time": "2023-12-05T12:57:34.442889309Z",
     "start_time": "2023-12-05T12:57:34.345501671Z"
    }
   }
  },
  {
   "cell_type": "markdown",
   "source": [],
   "metadata": {
    "collapsed": false
   }
  },
  {
   "cell_type": "code",
   "execution_count": null,
   "outputs": [],
   "source": [
    "preview_file(bulk_genexp, 3)\n",
    "#pritn colnames\n",
    "print(bulk_genexp.columns)"
   ],
   "metadata": {
    "collapsed": false
   }
  },
  {
   "cell_type": "code",
   "execution_count": null,
   "outputs": [],
   "source": [
    "#drop any chosen cols\n",
    "bulk_genexp = bulk_genexp.drop(['DesignElementAccession'], axis=1)"
   ],
   "metadata": {
    "collapsed": false,
    "ExecuteTime": {
     "end_time": "2023-12-05T12:57:34.494289522Z",
     "start_time": "2023-12-05T12:57:34.493757788Z"
    }
   }
  },
  {
   "cell_type": "markdown",
   "source": [
    "create the obs df - containing sample names and any other metadata"
   ],
   "metadata": {
    "collapsed": false
   }
  },
  {
   "cell_type": "code",
   "execution_count": null,
   "outputs": [],
   "source": [
    "#rename first column as 'cell_line_id'\n",
    "#bulk_genexp = bulk_genexp.rename(columns={'Unnamed: 0': \"cell_line_id\"})\n",
    "\n",
    "#extract the col names starting from the second col\n",
    "samples = list(bulk_genexp.columns[1:])\n",
    "#create the obs df using creating a column 'sample_id' with the sample names\n",
    "obs_df = pd.DataFrame(samples, columns=['sample_id'])"
   ],
   "metadata": {
    "collapsed": false
   }
  },
  {
   "cell_type": "markdown",
   "source": [
    "create the var df - containing gene names and aliases"
   ],
   "metadata": {
    "collapsed": false
   }
  },
  {
   "cell_type": "code",
   "execution_count": null,
   "outputs": [],
   "source": [
    "#in this case the genes names are the colnames, starting from the second col\n",
    "#gene_names = list(bulk_genexp.columns[1:])\n",
    "gene_names = list(bulk_genexp.iloc[:,0])"
   ],
   "metadata": {
    "collapsed": false
   }
  },
  {
   "cell_type": "code",
   "execution_count": null,
   "outputs": [],
   "source": [
    "#process the egens into tuples of hgnc and ncbi_id\n",
    "\n",
    "# Using list comprehension to process each element\n",
    "#split_gene_names = [(gene.split(' (')[0], gene.split(' (')[1].replace(')', '')) for gene in gene_names]\n",
    "\n",
    "# Create a DataFrame from the list of tuples\n",
    "var_df = pd.DataFrame(gene_names, columns=['hgnc_gene'])\n"
   ],
   "metadata": {
    "collapsed": false
   }
  },
  {
   "cell_type": "markdown",
   "source": [
    "create the counts df - containing the counts. ensure samples are rows and cols are features (genes)"
   ],
   "metadata": {
    "collapsed": false
   }
  },
  {
   "cell_type": "code",
   "execution_count": null,
   "outputs": [],
   "source": [],
   "metadata": {
    "collapsed": false
   }
  },
  {
   "cell_type": "code",
   "execution_count": null,
   "outputs": [],
   "source": [
    "#create counts df by removing the var cols and no colnames\n",
    "counts_df = bulk_genexp.drop(['Sample'], axis=1).values.T"
   ],
   "metadata": {
    "collapsed": false,
    "ExecuteTime": {
     "end_time": "2023-12-05T13:13:22.974785677Z",
     "start_time": "2023-12-05T13:13:22.933395682Z"
    }
   }
  },
  {
   "cell_type": "code",
   "execution_count": null,
   "outputs": [],
   "source": [
    "#create anndata object\n",
    "adata = create_anndata(counts_df, var_df, obs_df)"
   ],
   "metadata": {
    "collapsed": false,
    "ExecuteTime": {
     "end_time": "2023-12-05T13:13:26.034633235Z",
     "start_time": "2023-12-05T13:13:25.987754526Z"
    }
   }
  },
  {
   "cell_type": "code",
   "execution_count": 83,
   "outputs": [
    {
     "data": {
      "text/plain": "PosixPath('/home/shair/Desktop/STAMP_2023/jesse/trans_stamp_curr/training_data/tcga/genexp_data/xena_pan_can_genexp_clin.h5ad')"
     },
     "execution_count": 83,
     "metadata": {},
     "output_type": "execute_result"
    }
   ],
   "source": [
    "#save the anndata object\n",
    "save_folder = Path(base_dir / 'training_data/tcga/genexp_data')\n",
    "save_name = 'xena_pan_can_genexp_clin.h5ad'\n",
    "save_path = Path(save_folder / save_name)\n",
    "save_path"
   ],
   "metadata": {
    "collapsed": false,
    "ExecuteTime": {
     "end_time": "2023-12-05T13:16:58.906342877Z",
     "start_time": "2023-12-05T13:16:58.890397147Z"
    }
   }
  },
  {
   "cell_type": "markdown",
   "source": [
    "#incoporate metadate from other files"
   ],
   "metadata": {
    "collapsed": false
   }
  },
  {
   "cell_type": "markdown",
   "source": [
    "# add clinical data to adata"
   ],
   "metadata": {
    "collapsed": false
   }
  },
  {
   "cell_type": "code",
   "execution_count": 77,
   "outputs": [],
   "source": [
    "#load clinical data\n",
    "clin_path = Path(base_dir / 'training_data/tcga/clinical/Subtype_Immune_Model_Based.txt')\n",
    "\n",
    "clin_df = pd.read_csv(clin_path, sep='\\t', index_col=0)"
   ],
   "metadata": {
    "collapsed": false
   }
  },
  {
   "cell_type": "code",
   "execution_count": 78,
   "outputs": [
    {
     "name": "stdout",
     "output_type": "stream",
     "text": [
      "(9126, 1)\n"
     ]
    },
    {
     "data": {
      "text/plain": "                        Subtype_Immune_Model_Based\nsample                                            \nTCGA-A5-A0GI-01          Wound Healing (Immune C1)\nTCGA-S9-A7J2-01  Immunologically Quiet (Immune C5)\nTCGA-EK-A2RE-01     IFN-gamma Dominant (Immune C2)\nTCGA-D5-5538-01     IFN-gamma Dominant (Immune C2)\nTCGA-F4-6854-01          Wound Healing (Immune C1)",
      "text/html": "<div>\n<style scoped>\n    .dataframe tbody tr th:only-of-type {\n        vertical-align: middle;\n    }\n\n    .dataframe tbody tr th {\n        vertical-align: top;\n    }\n\n    .dataframe thead th {\n        text-align: right;\n    }\n</style>\n<table border=\"1\" class=\"dataframe\">\n  <thead>\n    <tr style=\"text-align: right;\">\n      <th></th>\n      <th>Subtype_Immune_Model_Based</th>\n    </tr>\n    <tr>\n      <th>sample</th>\n      <th></th>\n    </tr>\n  </thead>\n  <tbody>\n    <tr>\n      <th>TCGA-A5-A0GI-01</th>\n      <td>Wound Healing (Immune C1)</td>\n    </tr>\n    <tr>\n      <th>TCGA-S9-A7J2-01</th>\n      <td>Immunologically Quiet (Immune C5)</td>\n    </tr>\n    <tr>\n      <th>TCGA-EK-A2RE-01</th>\n      <td>IFN-gamma Dominant (Immune C2)</td>\n    </tr>\n    <tr>\n      <th>TCGA-D5-5538-01</th>\n      <td>IFN-gamma Dominant (Immune C2)</td>\n    </tr>\n    <tr>\n      <th>TCGA-F4-6854-01</th>\n      <td>Wound Healing (Immune C1)</td>\n    </tr>\n  </tbody>\n</table>\n</div>"
     },
     "execution_count": 78,
     "metadata": {},
     "output_type": "execute_result"
    }
   ],
   "source": [
    "print(clin_df.shape)\n",
    "clin_df.iloc[0:5,:]"
   ],
   "metadata": {
    "collapsed": false
   }
  },
  {
   "cell_type": "markdown",
   "source": [
    "examine a data frame"
   ],
   "metadata": {
    "collapsed": false
   }
  },
  {
   "cell_type": "code",
   "execution_count": 79,
   "outputs": [
    {
     "data": {
      "text/plain": "'sample'"
     },
     "execution_count": 79,
     "metadata": {},
     "output_type": "execute_result"
    }
   ],
   "source": [
    "clin_df.index.name"
   ],
   "metadata": {
    "collapsed": false
   }
  },
  {
   "cell_type": "code",
   "execution_count": 80,
   "outputs": [],
   "source": [
    "#rename sample id col as 'sample_id'\n",
    "clin_df.index.rename('sample_id', inplace=True)"
   ],
   "metadata": {
    "collapsed": false
   }
  },
  {
   "cell_type": "code",
   "execution_count": null,
   "outputs": [],
   "source": [
    "#get the dtype, na count and unique values for each col in gdsc\n",
    "clin_df.info()\n",
    "clin_df.describe()"
   ],
   "metadata": {
    "collapsed": false
   }
  },
  {
   "cell_type": "markdown",
   "source": [
    "tcga clinical data"
   ],
   "metadata": {
    "collapsed": false
   }
  },
  {
   "cell_type": "code",
   "execution_count": 69,
   "outputs": [
    {
     "data": {
      "text/plain": "         sample_id tumor_type Subtype_mRNA Subtype_DNAmeth Subtype_protein  \\\n0  TCGA-S9-A7J2-01        LGG         LGr1            LGm2             NaN   \n1  TCGA-G3-A3CH-11        NaN          NaN             NaN             NaN   \n2  TCGA-EK-A2RE-01       CESC          NaN             NaN             NaN   \n3  TCGA-44-6778-01       LUAD          NaN             NaN             NaN   \n4  TCGA-VM-A8C8-01        LGG         LGr3            LGm2             NaN   \n\n  Subtype_miRNA Subtype_CNA Subtype_Integrative Subtype_other  \\\n0           NaN         NaN                 NaN         Codel   \n1           NaN         NaN                 NaN           NaN   \n2           NaN         NaN                 NaN           NaN   \n3           NaN         NaN                 NaN           NaN   \n4           NaN         NaN                 NaN   G-CIMP-high   \n\n      Subtype_Selected  \n0        GBM_LGG.Codel  \n1                  NaN  \n2                  NaN  \n3                  NaN  \n4  GBM_LGG.G-CIMP-high  ",
      "text/html": "<div>\n<style scoped>\n    .dataframe tbody tr th:only-of-type {\n        vertical-align: middle;\n    }\n\n    .dataframe tbody tr th {\n        vertical-align: top;\n    }\n\n    .dataframe thead th {\n        text-align: right;\n    }\n</style>\n<table border=\"1\" class=\"dataframe\">\n  <thead>\n    <tr style=\"text-align: right;\">\n      <th></th>\n      <th>sample_id</th>\n      <th>tumor_type</th>\n      <th>Subtype_mRNA</th>\n      <th>Subtype_DNAmeth</th>\n      <th>Subtype_protein</th>\n      <th>Subtype_miRNA</th>\n      <th>Subtype_CNA</th>\n      <th>Subtype_Integrative</th>\n      <th>Subtype_other</th>\n      <th>Subtype_Selected</th>\n    </tr>\n  </thead>\n  <tbody>\n    <tr>\n      <th>0</th>\n      <td>TCGA-S9-A7J2-01</td>\n      <td>LGG</td>\n      <td>LGr1</td>\n      <td>LGm2</td>\n      <td>NaN</td>\n      <td>NaN</td>\n      <td>NaN</td>\n      <td>NaN</td>\n      <td>Codel</td>\n      <td>GBM_LGG.Codel</td>\n    </tr>\n    <tr>\n      <th>1</th>\n      <td>TCGA-G3-A3CH-11</td>\n      <td>NaN</td>\n      <td>NaN</td>\n      <td>NaN</td>\n      <td>NaN</td>\n      <td>NaN</td>\n      <td>NaN</td>\n      <td>NaN</td>\n      <td>NaN</td>\n      <td>NaN</td>\n    </tr>\n    <tr>\n      <th>2</th>\n      <td>TCGA-EK-A2RE-01</td>\n      <td>CESC</td>\n      <td>NaN</td>\n      <td>NaN</td>\n      <td>NaN</td>\n      <td>NaN</td>\n      <td>NaN</td>\n      <td>NaN</td>\n      <td>NaN</td>\n      <td>NaN</td>\n    </tr>\n    <tr>\n      <th>3</th>\n      <td>TCGA-44-6778-01</td>\n      <td>LUAD</td>\n      <td>NaN</td>\n      <td>NaN</td>\n      <td>NaN</td>\n      <td>NaN</td>\n      <td>NaN</td>\n      <td>NaN</td>\n      <td>NaN</td>\n      <td>NaN</td>\n    </tr>\n    <tr>\n      <th>4</th>\n      <td>TCGA-VM-A8C8-01</td>\n      <td>LGG</td>\n      <td>LGr3</td>\n      <td>LGm2</td>\n      <td>NaN</td>\n      <td>NaN</td>\n      <td>NaN</td>\n      <td>NaN</td>\n      <td>G-CIMP-high</td>\n      <td>GBM_LGG.G-CIMP-high</td>\n    </tr>\n  </tbody>\n</table>\n</div>"
     },
     "execution_count": 69,
     "metadata": {},
     "output_type": "execute_result"
    }
   ],
   "source": [
    "adata.obs.head()"
   ],
   "metadata": {
    "collapsed": false
   }
  },
  {
   "cell_type": "code",
   "execution_count": 68,
   "outputs": [
    {
     "data": {
      "text/plain": "                cancer type abbreviation   OS  OS.time  gender\nsample                                                        \nTCGA-OR-A5J1-01                      ACC  1.0   1355.0    MALE\nTCGA-OR-A5J2-01                      ACC  1.0   1677.0  FEMALE\nTCGA-OR-A5J3-01                      ACC  0.0   2091.0  FEMALE\nTCGA-OR-A5J4-01                      ACC  1.0    423.0  FEMALE\nTCGA-OR-A5J5-01                      ACC  1.0    365.0    MALE",
      "text/html": "<div>\n<style scoped>\n    .dataframe tbody tr th:only-of-type {\n        vertical-align: middle;\n    }\n\n    .dataframe tbody tr th {\n        vertical-align: top;\n    }\n\n    .dataframe thead th {\n        text-align: right;\n    }\n</style>\n<table border=\"1\" class=\"dataframe\">\n  <thead>\n    <tr style=\"text-align: right;\">\n      <th></th>\n      <th>cancer type abbreviation</th>\n      <th>OS</th>\n      <th>OS.time</th>\n      <th>gender</th>\n    </tr>\n    <tr>\n      <th>sample</th>\n      <th></th>\n      <th></th>\n      <th></th>\n      <th></th>\n    </tr>\n  </thead>\n  <tbody>\n    <tr>\n      <th>TCGA-OR-A5J1-01</th>\n      <td>ACC</td>\n      <td>1.0</td>\n      <td>1355.0</td>\n      <td>MALE</td>\n    </tr>\n    <tr>\n      <th>TCGA-OR-A5J2-01</th>\n      <td>ACC</td>\n      <td>1.0</td>\n      <td>1677.0</td>\n      <td>FEMALE</td>\n    </tr>\n    <tr>\n      <th>TCGA-OR-A5J3-01</th>\n      <td>ACC</td>\n      <td>0.0</td>\n      <td>2091.0</td>\n      <td>FEMALE</td>\n    </tr>\n    <tr>\n      <th>TCGA-OR-A5J4-01</th>\n      <td>ACC</td>\n      <td>1.0</td>\n      <td>423.0</td>\n      <td>FEMALE</td>\n    </tr>\n    <tr>\n      <th>TCGA-OR-A5J5-01</th>\n      <td>ACC</td>\n      <td>1.0</td>\n      <td>365.0</td>\n      <td>MALE</td>\n    </tr>\n  </tbody>\n</table>\n</div>"
     },
     "execution_count": 68,
     "metadata": {},
     "output_type": "execute_result"
    }
   ],
   "source": [
    "#clin_df = clin_df.iloc[:,:2]\n",
    "clin_df = clin_df.loc[:,['cancer type abbreviation','OS','OS.time','gender']]\n",
    "clin_df.head()"
   ],
   "metadata": {
    "collapsed": false
   }
  },
  {
   "cell_type": "code",
   "execution_count": 54,
   "outputs": [
    {
     "name": "stderr",
     "output_type": "stream",
     "text": [
      "/tmp/ipykernel_13230/2835950829.py:2: FutureWarning: The default value of regex will change from True to False in a future version. In addition, single character regular expressions will *not* be treated as literal strings when regex=True.\n",
      "  clin_df.index = clin_df.index.str.replace('.','-')\n"
     ]
    }
   ],
   "source": [
    "#replace '.' with '-' in index col\n",
    "clin_df.index = clin_df.index.str.replace('.','-')"
   ],
   "metadata": {
    "collapsed": false
   }
  },
  {
   "cell_type": "code",
   "execution_count": 81,
   "outputs": [],
   "source": [
    "#join on to adata.obs: in obs join on sample_id and on SampleID in clin df\n",
    "adata.obs = adata.obs.join(clin_df, on='sample_id', how='left')"
   ],
   "metadata": {
    "collapsed": false
   }
  },
  {
   "cell_type": "code",
   "execution_count": null,
   "outputs": [],
   "source": [],
   "metadata": {
    "collapsed": false
   }
  },
  {
   "cell_type": "code",
   "execution_count": 82,
   "outputs": [
    {
     "data": {
      "text/plain": "         sample_id tumor_type Subtype_mRNA Subtype_DNAmeth Subtype_protein  \\\n0  TCGA-S9-A7J2-01        LGG         LGr1            LGm2             NaN   \n1  TCGA-G3-A3CH-11       LIHC          NaN             NaN             NaN   \n2  TCGA-EK-A2RE-01       CESC          NaN             NaN             NaN   \n3  TCGA-44-6778-01       LUAD          NaN             NaN             NaN   \n4  TCGA-VM-A8C8-01        LGG         LGr3            LGm2             NaN   \n\n  Subtype_miRNA Subtype_CNA Subtype_Integrative Subtype_other  \\\n0           NaN         NaN                 NaN         Codel   \n1           NaN         NaN                 NaN           NaN   \n2           NaN         NaN                 NaN           NaN   \n3           NaN         NaN                 NaN           NaN   \n4           NaN         NaN                 NaN   G-CIMP-high   \n\n      Subtype_Selected   OS  OS.time  gender  \\\n0        GBM_LGG.Codel  0.0     62.0    MALE   \n1                  NaN  0.0    780.0    MALE   \n2                  NaN  0.0     57.0  FEMALE   \n3                  NaN  0.0   1864.0    MALE   \n4  GBM_LGG.G-CIMP-high  0.0   1397.0  FEMALE   \n\n          Subtype_Immune_Model_Based  \n0  Immunologically Quiet (Immune C5)  \n1                                NaN  \n2     IFN-gamma Dominant (Immune C2)  \n3                                NaN  \n4  Immunologically Quiet (Immune C5)  ",
      "text/html": "<div>\n<style scoped>\n    .dataframe tbody tr th:only-of-type {\n        vertical-align: middle;\n    }\n\n    .dataframe tbody tr th {\n        vertical-align: top;\n    }\n\n    .dataframe thead th {\n        text-align: right;\n    }\n</style>\n<table border=\"1\" class=\"dataframe\">\n  <thead>\n    <tr style=\"text-align: right;\">\n      <th></th>\n      <th>sample_id</th>\n      <th>tumor_type</th>\n      <th>Subtype_mRNA</th>\n      <th>Subtype_DNAmeth</th>\n      <th>Subtype_protein</th>\n      <th>Subtype_miRNA</th>\n      <th>Subtype_CNA</th>\n      <th>Subtype_Integrative</th>\n      <th>Subtype_other</th>\n      <th>Subtype_Selected</th>\n      <th>OS</th>\n      <th>OS.time</th>\n      <th>gender</th>\n      <th>Subtype_Immune_Model_Based</th>\n    </tr>\n  </thead>\n  <tbody>\n    <tr>\n      <th>0</th>\n      <td>TCGA-S9-A7J2-01</td>\n      <td>LGG</td>\n      <td>LGr1</td>\n      <td>LGm2</td>\n      <td>NaN</td>\n      <td>NaN</td>\n      <td>NaN</td>\n      <td>NaN</td>\n      <td>Codel</td>\n      <td>GBM_LGG.Codel</td>\n      <td>0.0</td>\n      <td>62.0</td>\n      <td>MALE</td>\n      <td>Immunologically Quiet (Immune C5)</td>\n    </tr>\n    <tr>\n      <th>1</th>\n      <td>TCGA-G3-A3CH-11</td>\n      <td>LIHC</td>\n      <td>NaN</td>\n      <td>NaN</td>\n      <td>NaN</td>\n      <td>NaN</td>\n      <td>NaN</td>\n      <td>NaN</td>\n      <td>NaN</td>\n      <td>NaN</td>\n      <td>0.0</td>\n      <td>780.0</td>\n      <td>MALE</td>\n      <td>NaN</td>\n    </tr>\n    <tr>\n      <th>2</th>\n      <td>TCGA-EK-A2RE-01</td>\n      <td>CESC</td>\n      <td>NaN</td>\n      <td>NaN</td>\n      <td>NaN</td>\n      <td>NaN</td>\n      <td>NaN</td>\n      <td>NaN</td>\n      <td>NaN</td>\n      <td>NaN</td>\n      <td>0.0</td>\n      <td>57.0</td>\n      <td>FEMALE</td>\n      <td>IFN-gamma Dominant (Immune C2)</td>\n    </tr>\n    <tr>\n      <th>3</th>\n      <td>TCGA-44-6778-01</td>\n      <td>LUAD</td>\n      <td>NaN</td>\n      <td>NaN</td>\n      <td>NaN</td>\n      <td>NaN</td>\n      <td>NaN</td>\n      <td>NaN</td>\n      <td>NaN</td>\n      <td>NaN</td>\n      <td>0.0</td>\n      <td>1864.0</td>\n      <td>MALE</td>\n      <td>NaN</td>\n    </tr>\n    <tr>\n      <th>4</th>\n      <td>TCGA-VM-A8C8-01</td>\n      <td>LGG</td>\n      <td>LGr3</td>\n      <td>LGm2</td>\n      <td>NaN</td>\n      <td>NaN</td>\n      <td>NaN</td>\n      <td>NaN</td>\n      <td>G-CIMP-high</td>\n      <td>GBM_LGG.G-CIMP-high</td>\n      <td>0.0</td>\n      <td>1397.0</td>\n      <td>FEMALE</td>\n      <td>Immunologically Quiet (Immune C5)</td>\n    </tr>\n  </tbody>\n</table>\n</div>"
     },
     "execution_count": 82,
     "metadata": {},
     "output_type": "execute_result"
    }
   ],
   "source": [
    "adata.obs.head()"
   ],
   "metadata": {
    "collapsed": false
   }
  },
  {
   "cell_type": "code",
   "execution_count": 57,
   "outputs": [],
   "source": [
    "adata.obs = adata.obs.drop(['CCND1'], axis=1)"
   ],
   "metadata": {
    "collapsed": false
   }
  },
  {
   "cell_type": "code",
   "execution_count": null,
   "outputs": [],
   "source": [
    "cols = pd.Series(clin_df.columns)\n",
    "cols"
   ],
   "metadata": {
    "collapsed": false,
    "pycharm": {
     "is_executing": true
    }
   }
  },
  {
   "cell_type": "code",
   "execution_count": 28,
   "outputs": [],
   "source": [
    "\n",
    "keep_cols = [0,1,2,5,6,8,19,22,30,33,34,45,46,49,50,51,56,60]\n",
    "#keep selected cols\n",
    "clin_df = clin_df.iloc[:,keep_cols]"
   ],
   "metadata": {
    "collapsed": false
   }
  },
  {
   "cell_type": "code",
   "execution_count": null,
   "outputs": [],
   "source": [],
   "metadata": {
    "collapsed": false
   }
  },
  {
   "cell_type": "code",
   "execution_count": null,
   "outputs": [],
   "source": [
    "clin_df = clin_df.set_index(['Sample ID'])\n",
    "clin_df.index = clin_df.index.str.replace('-','.')\n"
   ],
   "metadata": {
    "collapsed": false
   }
  },
  {
   "cell_type": "code",
   "execution_count": null,
   "outputs": [],
   "source": [
    "#keep only samples in my_adata.obs['Sample_ID']\n",
    "clin_df = clin_df.loc[my_adata.obs['Sample_ID'],:]"
   ],
   "metadata": {
    "collapsed": false
   }
  },
  {
   "cell_type": "code",
   "execution_count": null,
   "outputs": [],
   "source": [
    "#add clinical data to adata by joining on sample id\n",
    "new_obs = pd.merge(my_adata.obs.copy(), clin_df, left_on='Sample_ID', right_on='Sample ID', how='left')"
   ],
   "metadata": {
    "collapsed": false
   }
  },
  {
   "cell_type": "code",
   "execution_count": null,
   "outputs": [],
   "source": [
    "#for each col, count na:\n",
    "for col in new_obs.columns:\n",
    "    print(col, new_obs[col].isna().sum())"
   ],
   "metadata": {
    "collapsed": false
   }
  },
  {
   "cell_type": "code",
   "execution_count": null,
   "outputs": [],
   "source": [
    "\n",
    "new_obs = new_obs.drop(['Neoplasm Histologic Grade'], axis=1) if 'Neoplasm Histologic Grade' in new_obs.columns else new_obs"
   ],
   "metadata": {
    "collapsed": false
   }
  },
  {
   "cell_type": "code",
   "execution_count": null,
   "outputs": [],
   "source": [
    "#add the new obs to cell em\n",
    "cell_embbed.obs = new_obs"
   ],
   "metadata": {
    "collapsed": false
   }
  },
  {
   "cell_type": "code",
   "execution_count": null,
   "outputs": [],
   "source": [
    "cell_embbed.write_h5ad(base_dir / 'scgpt/data/bulk_brca_erbb2/tcga_brca_erbb2_scgpt_emb_oncosig_sub_genes_clin.h5ad')"
   ],
   "metadata": {
    "collapsed": false
   }
  },
  {
   "cell_type": "code",
   "execution_count": null,
   "outputs": [],
   "source": [
    "#add new obs to my adata and make smaple id the index\n",
    "my_adata.obs = new_obs\n",
    "my_adata.obs.set_index('Sample_ID', inplace=True)\n",
    "#full_adata = sc.read_h5ad(base_dir / 'scgpt/data/bulk_brca_erbb2/tcga_brca_erbb2_oncosig_sub_genes.h5ad')\n",
    "# save my_adata as 'tcga_brca_erbb2_oncosig_sub_genes_clin.h5ad'\n"
   ],
   "metadata": {
    "collapsed": false
   }
  },
  {
   "cell_type": "code",
   "execution_count": 84,
   "outputs": [],
   "source": [
    "#write adata\n",
    "adata.write(save_path)"
   ],
   "metadata": {
    "collapsed": false,
    "ExecuteTime": {
     "end_time": "2023-12-05T13:17:24.994730241Z",
     "start_time": "2023-12-05T13:17:24.943817911Z"
    }
   }
  },
  {
   "cell_type": "markdown",
   "source": [
    "tcga data"
   ],
   "metadata": {
    "collapsed": false
   }
  },
  {
   "cell_type": "code",
   "execution_count": null,
   "outputs": [],
   "source": [],
   "metadata": {
    "collapsed": false
   }
  },
  {
   "cell_type": "markdown",
   "source": [
    "cell line data"
   ],
   "metadata": {
    "collapsed": false
   }
  },
  {
   "cell_type": "markdown",
   "source": [
    "possibly relevant drugs with their gdsc id:\n",
    "1032\tAfatinib\n",
    "1032\tAfatinib\n",
    "119\tLapatinib\n",
    "1377\tAfatinib\n",
    "1416\tAZD8931\n",
    "1549\tSapitinib\n",
    "1558\tLapatinib\n",
    "255\tCP724714\n",
    "273\tCUDC-101\n"
   ],
   "metadata": {
    "collapsed": false
   }
  },
  {
   "cell_type": "markdown",
   "source": [
    "drug_ids = [1032, 119, 1377, 1416, 1549, 1558, 255, 273]\n",
    "#filter gdsc to only these drugs\n",
    "gdsc_cell_drug = gdsc_cell_drug[gdsc_cell_drug['DRUG_ID'].isin(drug_ids)]\n",
    "gdsc_selcted = gdsc_cell_drug.loc[:,['COSMIC_ID','DRUG_ID','DRUG_NAME','ARXSPAN_ID','IC50_PUBLISHED','Z_SCORE_PUBLISHED','AUC_PUBLISHED']]\n",
    "\n"
   ],
   "metadata": {
    "collapsed": false
   }
  },
  {
   "cell_type": "markdown",
   "source": [
    "#find the cell lines that are in obs_df that are in gdsc selected\n",
    "cell_lines_both = list(set(obs_df.cell_line_id).intersection(set(gdsc_selcted['ARXSPAN_ID'])))\n",
    "cell_lines_both.__len__()"
   ],
   "metadata": {
    "collapsed": false
   }
  },
  {
   "cell_type": "code",
   "execution_count": null,
   "outputs": [],
   "source": [
    "#filter clin df\n",
    "clin_df_filtered = pd.DataFrame(clin_df.loc[:,'ERBB2'])\n",
    "print(clin_df_filtered.shape)\n",
    "clin_df_filtered.info()"
   ],
   "metadata": {
    "collapsed": false
   }
  },
  {
   "cell_type": "code",
   "execution_count": null,
   "outputs": [],
   "source": [
    "#for each unique drug in selected, add to the obs a col with the ic50_pulished using the drug as colname\n"
   ],
   "metadata": {
    "collapsed": false
   }
  },
  {
   "cell_type": "code",
   "execution_count": null,
   "outputs": [],
   "source": [
    "#set the index column to have the right name\n",
    "clin_df_filtered.index.name = 'cell_line_id'\n",
    "#rename col ERBB2 as ERBB2_CRISPR\n",
    "clin_df_filtered = clin_df_filtered.rename(columns={'ERBB2': \"ERBB2_CRISPR\"})\n",
    "# First, merge the DataFrames on ARXSPAN_ID and cell_line_id\n",
    "merged_df = pd.merge(obs_df, clin_df_filtered, on='cell_line_id', how='left')\n",
    "merged_df.head()"
   ],
   "metadata": {
    "collapsed": false
   }
  },
  {
   "cell_type": "code",
   "execution_count": null,
   "outputs": [],
   "source": [
    "#if no prcosseing required, join\n",
    "obs_df=obs_df.join(clin_df_filtered, on='cell_line_id', how='left')\n",
    "obs_df.head()"
   ],
   "metadata": {
    "collapsed": false
   }
  },
  {
   "cell_type": "code",
   "execution_count": null,
   "outputs": [],
   "source": [
    "\n",
    "#rename col ERBB2 as ERBB2_RNAi\n",
    "obs_df = obs_df.rename(columns={'ERBB2': \"ERBB2_RNAi\"})\n",
    "obs_df.head()"
   ],
   "metadata": {
    "collapsed": false
   }
  },
  {
   "cell_type": "code",
   "execution_count": null,
   "outputs": [],
   "source": [
    "\n",
    "#remove dupliactes of cell_line_id and drug name, by keeping the first appearence\n",
    "merged_df = merged_df.drop_duplicates(subset=['cell_line_id', 'DRUG_NAME'], keep='first')\n"
   ],
   "metadata": {
    "collapsed": false
   }
  },
  {
   "cell_type": "code",
   "execution_count": null,
   "outputs": [],
   "source": [],
   "metadata": {
    "collapsed": false
   }
  },
  {
   "cell_type": "code",
   "execution_count": null,
   "outputs": [],
   "source": [
    "\n",
    "# Pivot the merged DataFrame\n",
    "pivot_df = merged_df.pivot(index='cell_line_id', columns='DRUG_NAME', values='AUC_PUBLISHED')\n",
    "pivot_df=pd.DataFrame(pivot_df.loc[:,'AFATINIB'])\n",
    "pivot_df.head()"
   ],
   "metadata": {
    "collapsed": false
   }
  },
  {
   "cell_type": "code",
   "execution_count": null,
   "outputs": [],
   "source": [
    "#rename column 'AFATINIB_Z'\n",
    "pivot_df = pivot_df.rename(columns={'AFATINIB': \"AFATINIB_AUC\"})\n",
    "pivot_df.index.name = 'cell_line_id'"
   ],
   "metadata": {
    "collapsed": false
   }
  },
  {
   "cell_type": "code",
   "execution_count": null,
   "outputs": [],
   "source": [
    "#rename cols 1:end in obs: add '_ic50' to the end\n",
    "# Assuming obs_df is your DataFrame\n",
    "# Select columns from index 1 to the end\n",
    "columns_to_rename = obs_df.columns[1:]\n",
    "\n",
    "# Rename these columns by appending '_ic50'\n",
    "new_column_names = [col + '_ic50' for col in columns_to_rename]\n",
    "\n",
    "# Update the DataFrame with new column names\n",
    "obs_df.columns = [obs_df.columns[0]] + new_column_names"
   ],
   "metadata": {
    "collapsed": false
   }
  },
  {
   "cell_type": "code",
   "execution_count": null,
   "outputs": [],
   "source": [
    "temp_obs = obs_df.join(pivot_df, on='cell_line_id', how='left')\n",
    "obs_df = temp_obs.copy()"
   ],
   "metadata": {
    "collapsed": false
   }
  },
  {
   "cell_type": "code",
   "execution_count": null,
   "outputs": [],
   "source": [
    "#assign obs_df to adata\n",
    "adata.obs = obs_df"
   ],
   "metadata": {
    "collapsed": false
   }
  },
  {
   "cell_type": "code",
   "execution_count": null,
   "outputs": [],
   "source": [
    "save_path"
   ],
   "metadata": {
    "collapsed": false
   }
  },
  {
   "cell_type": "code",
   "execution_count": null,
   "outputs": [],
   "source": [
    "#save the anndata object\n"
   ],
   "metadata": {
    "collapsed": false
   }
  },
  {
   "cell_type": "markdown",
   "source": [
    "! create meta data df"
   ],
   "metadata": {
    "collapsed": false
   }
  },
  {
   "cell_type": "code",
   "execution_count": null,
   "outputs": [],
   "source": [
    "'''\n",
    "def bulk_2_h5ad(bulk_genexp,tcga_cancer ='brca',metadata_cols = [],samples_metadata_path = '',\\\n",
    "        genes_meta_path = '', save_name = ''):\n",
    "'''\n",
    "args = { 'bulk_genexp' : bulk_genexp,\n",
    "        'tcga_cancer' : 'brca',\n",
    "        'metadata_cols' : meta_data_cols,\n",
    "        'samples_metadata_path' : '',\n",
    "        'genes_meta_path' : '',\n",
    "        'save_name' : save_name\n",
    "\n",
    "}\n",
    "bulk_2_h5ad(**args)"
   ],
   "metadata": {
    "collapsed": false
   }
  },
  {
   "cell_type": "markdown",
   "source": [
    "! create var and X df"
   ],
   "metadata": {
    "collapsed": false
   }
  }
 ],
 "metadata": {
  "kernelspec": {
   "display_name": "Python 3",
   "language": "python",
   "name": "python3"
  },
  "language_info": {
   "codemirror_mode": {
    "name": "ipython",
    "version": 2
   },
   "file_extension": ".py",
   "mimetype": "text/x-python",
   "name": "python",
   "nbconvert_exporter": "python",
   "pygments_lexer": "ipython2",
   "version": "2.7.6"
  }
 },
 "nbformat": 4,
 "nbformat_minor": 0
}
