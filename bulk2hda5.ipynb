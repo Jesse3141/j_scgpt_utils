{
 "cells": [
  {
   "cell_type": "markdown",
   "source": [
    "! description\n"
   ],
   "metadata": {
    "collapsed": false
   }
  },
  {
   "cell_type": "code",
   "execution_count": 25,
   "outputs": [],
   "source": [],
   "metadata": {
    "collapsed": false,
    "ExecuteTime": {
     "end_time": "2023-12-05T12:57:33.082873156Z",
     "start_time": "2023-12-05T12:57:32.861745262Z"
    }
   }
  },
  {
   "cell_type": "markdown",
   "source": [
    "given a csv or such table, where rows are samples and columuns are genes.\n",
    "create a h5ad file where the count values are the .X matrix, the gene are in .var as \"gene_hgnc\" and the sample are in .obs as \"sample_id\""
   ],
   "metadata": {
    "collapsed": false
   }
  },
  {
   "cell_type": "code",
   "execution_count": 1,
   "outputs": [],
   "source": [
    "# import\n",
    "import anndata\n",
    "import pandas as pd\n",
    "import os\n",
    "import short_utils\n",
    "from pathlib import Path"
   ],
   "metadata": {
    "collapsed": false,
    "ExecuteTime": {
     "end_time": "2023-12-07T09:55:09.767778007Z",
     "start_time": "2023-12-07T09:55:08.386279893Z"
    }
   }
  },
  {
   "cell_type": "code",
   "execution_count": 2,
   "outputs": [
    {
     "data": {
      "text/plain": "PosixPath('~/lab/trans_stamp')"
     },
     "execution_count": 2,
     "metadata": {},
     "output_type": "execute_result"
    }
   ],
   "source": [
    "# globals\n",
    "base_dir = short_utils.get_base_dir()\n",
    "base_dir"
   ],
   "metadata": {
    "collapsed": false,
    "ExecuteTime": {
     "end_time": "2023-12-07T09:55:09.768674576Z",
     "start_time": "2023-12-07T09:55:09.762909004Z"
    }
   }
  },
  {
   "cell_type": "code",
   "execution_count": 28,
   "outputs": [
    {
     "name": "stdout",
     "output_type": "stream",
     "text": [
      "/home/shair/Desktop/STAMP_2023/jesse/trans_stamp_curr/scgpt/jesse_utils\n"
     ]
    }
   ],
   "source": [
    "#print working dir\n",
    "print(os.getcwd())"
   ],
   "metadata": {
    "collapsed": false,
    "ExecuteTime": {
     "end_time": "2023-12-05T12:57:34.225833916Z",
     "start_time": "2023-12-05T12:57:34.202751364Z"
    }
   }
  },
  {
   "cell_type": "code",
   "execution_count": 28,
   "outputs": [],
   "source": [],
   "metadata": {
    "collapsed": false,
    "ExecuteTime": {
     "end_time": "2023-12-05T12:57:34.257323569Z",
     "start_time": "2023-12-05T12:57:34.253625077Z"
    }
   }
  },
  {
   "cell_type": "code",
   "execution_count": 3,
   "outputs": [],
   "source": [
    "def preview_file(bulk_genexp, num_rows = 3):\n",
    "\n",
    "    #print first few elements of index, first column, colnames, and first 4x4\n",
    "    print(f\"first {num_rows}x{num_rows}: \\n\", bulk_genexp.iloc[0:num_rows, 0:num_rows])\n",
    "    #print first 4 elements of index\n",
    "    print(\"start of idx: \\n\", bulk_genexp.index[:(num_rows+1)])\n",
    "    #print start of colnames\n",
    "    print(\"start of colnames: \\n\", bulk_genexp.columns[:(num_rows+1)])"
   ],
   "metadata": {
    "collapsed": false,
    "ExecuteTime": {
     "end_time": "2023-12-07T09:55:15.021320099Z",
     "start_time": "2023-12-07T09:55:15.015185847Z"
    }
   }
  },
  {
   "cell_type": "code",
   "execution_count": 4,
   "outputs": [],
   "source": [
    "def get_obs(bulk_genexp,meta_cols):\n",
    "    '''\n",
    "    create the obs df containng the meta data about the samples\n",
    "    :param bulk_genexp: the genexp data as a df\n",
    "    :param meta_cols: a list of colnames with sample metadata\n",
    "    :return: a df of the meta data\n",
    "    '''\n",
    "    obs_df = bulk_genexp[meta_cols]\n",
    "    return obs_df"
   ],
   "metadata": {
    "collapsed": false,
    "ExecuteTime": {
     "end_time": "2023-12-07T09:55:16.189353779Z",
     "start_time": "2023-12-07T09:55:16.176146031Z"
    }
   }
  },
  {
   "cell_type": "code",
   "execution_count": 5,
   "outputs": [],
   "source": [
    "def add_cell_type(metadata_df,tcga_cancer):\n",
    "    '''\n",
    "\n",
    "    :param metadata: a df of sample meta data\n",
    "    :param tcga_cancer: the cancer type of the bulk genexp data\n",
    "    :return: add a 'cell_type\" col with the cancer type\n",
    "    '''\n",
    "    metadata_df[\"cell_type\"] = tcga_cancer\n",
    "    return metadata_df"
   ],
   "metadata": {
    "collapsed": false,
    "ExecuteTime": {
     "end_time": "2023-12-07T09:55:17.316157586Z",
     "start_time": "2023-12-07T09:55:17.300209643Z"
    }
   }
  },
  {
   "cell_type": "code",
   "execution_count": 6,
   "outputs": [],
   "source": [
    "def add_metadata(file_path, metadata_df):\n",
    "    '''\n",
    "\n",
    "    :param file_path: path to table with additional metadata\n",
    "    :param metadata_df: the metadata df\n",
    "    :return: metadata_df with additional metadata\n",
    "    '''\n",
    "    pass"
   ],
   "metadata": {
    "collapsed": false,
    "ExecuteTime": {
     "end_time": "2023-12-07T09:55:18.177029235Z",
     "start_time": "2023-12-07T09:55:18.165530630Z"
    }
   }
  },
  {
   "cell_type": "code",
   "execution_count": 8,
   "outputs": [],
   "source": [
    "def get_var(genexp,gene_cols,hgnc_col):\n",
    "    '''\n",
    "    create the var df containing data about the variables, usually genes\n",
    "    :param genexp: a df of genexp data\n",
    "    :param gene_cols: a list of colnames with gene names\n",
    "    :param hgnc_col: the colname with the hgnc gene names\n",
    "    :return: a df of genes with col 'gene_hgnc'\n",
    "    '''\n",
    "    #subset the df to only the gene cols\n",
    "    var_df = genexp[gene_cols]\n",
    "    #rename hgnc_col gene_hgnc\n",
    "    var_df = var_df.rename(columns={hgnc_col: \"gene_hgnc\"})\n",
    "    #reorder cols and make hgnc the first col\n",
    "    \n",
    "    # Reorder columns to make 'gene_hgnc' the first column\n",
    "    reordered_cols = ['gene_hgnc'] + [col for col in gene_cols if col != hgnc_col]\n",
    "    var_df = var_df[reordered_cols]\n",
    "\n",
    "    return var_df"
   ],
   "metadata": {
    "collapsed": false,
    "ExecuteTime": {
     "end_time": "2023-12-07T09:55:21.060327650Z",
     "start_time": "2023-12-07T09:55:21.051063588Z"
    }
   }
  },
  {
   "cell_type": "markdown",
   "source": [
    "# create an anndata object: .X is the counts, .var \"gene_hgnc\" is the genes, .obs \"sample_id\" is the sample_id and .obs \"oncosig_label_ERBB2\" is the oncosig_labels\n",
    "adata = anndata.AnnData(X=counts, var=pd.DataFrame(index=genes, data=genes, columns=[\"gene_hgnc\"]), obs=obs_df)\n"
   ],
   "metadata": {
    "collapsed": false
   }
  },
  {
   "cell_type": "code",
   "execution_count": 9,
   "outputs": [],
   "source": [
    "def create_anndata(counts_df, var_df,obs_df):\n",
    "    '''\n",
    "    :param counts_df: a df of counts with no names\n",
    "    :param var_df: a df of genes with col 'gene_hgnc' as index\n",
    "    :param obs_df: a df of sample meta data\n",
    "    :return: an anndata object\n",
    "    '''\n",
    "    return anndata.AnnData(X=counts_df, var=var_df, obs=obs_df)\n"
   ],
   "metadata": {
    "collapsed": false,
    "ExecuteTime": {
     "end_time": "2023-12-07T09:55:23.653804416Z",
     "start_time": "2023-12-07T09:55:23.645991655Z"
    }
   }
  },
  {
   "cell_type": "code",
   "execution_count": 35,
   "outputs": [],
   "source": [
    "# def bulk_2_h5ad(bulk_genexp,tcga_cancer ='brca',metadata_cols = [],samples_metadata_path = '',\\\n",
    "#         genes_meta_path = '', save_name = ''):\n",
    "#     #create the obs df: sample_id and oncosig_label_ERBB2 where the smaple id's are the idx\n",
    "#     obs_df = get_sample_meta(bulk_genexp,metadata_cols)\n",
    "#     #add a \"cell_type\" column to the obs_df with the value \"brca\"\n",
    "#     obs_df = add_cell_type(obs_df,\"brca\")\n",
    "#     #create the var and X df: gene_hgnc and the counts\n",
    "#     #take subset, excluding the meta_data_cols\n",
    "#     #drop meta_data_cols\n",
    "#     bulk_genexp.drop(metadata_cols, axis=1, inplace=True)\n",
    "# \n",
    "#     #save colnames to genes list\n",
    "#     genes_var = get_genes(bulk_genexp)\n",
    "#     #SAVE genexp counts to a counts df\n",
    "#     counts = bulk_genexp.values\n",
    "#     adata = create_anndata(counts, genes_var, obs_df)\n",
    "# \n",
    "#     #save the anndata object\n",
    "#     # raise err if no save name provided\n",
    "#     if not save_name:\n",
    "#         raise ValueError(\"no save name provided\")\n",
    "#     adata.write(base_dir + '/data/' +  save_name)\n",
    "\n"
   ],
   "metadata": {
    "collapsed": false,
    "ExecuteTime": {
     "end_time": "2023-12-05T12:57:34.304396391Z",
     "start_time": "2023-12-05T12:57:34.302118306Z"
    }
   }
  },
  {
   "cell_type": "markdown",
   "source": [],
   "metadata": {
    "collapsed": false
   }
  },
  {
   "cell_type": "markdown",
   "source": [
    "! run the script:\n",
    "read the data, identify metadate cols, then create the anndata object"
   ],
   "metadata": {
    "collapsed": false
   }
  },
  {
   "cell_type": "code",
   "execution_count": 10,
   "outputs": [
    {
     "data": {
      "text/plain": "PosixPath('~/lab/trans_stamp/training_data/cell_lines/cell_line_states/hypoxia_acidosis_PMID_19057672/E-GEOD-9649-A-AFFY-44-normalized-expressions.tsv')"
     },
     "execution_count": 10,
     "metadata": {},
     "output_type": "execute_result"
    }
   ],
   "source": [
    "#set path to file\n",
    "data_path = Path(base_dir / 'training_data/cell_lines/cell_line_states/hypoxia_acidosis_PMID_19057672/E-GEOD-9649-A-AFFY-44-normalized-expressions.tsv')\n",
    "data_path"
   ],
   "metadata": {
    "collapsed": false,
    "ExecuteTime": {
     "end_time": "2023-12-07T09:55:27.277598782Z",
     "start_time": "2023-12-07T09:55:27.262135062Z"
    }
   }
  },
  {
   "cell_type": "code",
   "execution_count": 37,
   "outputs": [],
   "source": [
    "#read file: tab sepereated\n",
    "bulk_genexp = pd.read_csv(data_path, sep='\\t')"
   ],
   "metadata": {
    "collapsed": false,
    "ExecuteTime": {
     "end_time": "2023-12-05T12:57:34.442889309Z",
     "start_time": "2023-12-05T12:57:34.345501671Z"
    }
   }
  },
  {
   "cell_type": "markdown",
   "source": [],
   "metadata": {
    "collapsed": false
   }
  },
  {
   "cell_type": "code",
   "execution_count": 38,
   "outputs": [
    {
     "name": "stdout",
     "output_type": "stream",
     "text": [
      "first 5x5: \n",
      "    Unnamed: 0  TSPAN6 (7105)  TNMD (64102)  DPM1 (8813)  SCYL3 (57147)\n",
      "0  ACH-001113       4.331992      0.000000     7.364660       2.792855\n",
      "1  ACH-001289       4.567424      0.584963     7.106641       2.543496\n",
      "2  ACH-001339       3.150560      0.000000     7.379118       2.333424\n",
      "3  ACH-001538       5.085340      0.000000     7.154211       2.545968\n",
      "4  ACH-000242       6.729417      0.000000     6.537917       2.456806\n",
      "start of idx: \n",
      " RangeIndex(start=0, stop=6, step=1)\n",
      "start of colnames: \n",
      " Index(['Unnamed: 0', 'TSPAN6 (7105)', 'TNMD (64102)', 'DPM1 (8813)',\n",
      "       'SCYL3 (57147)', 'C1orf112 (55732)'],\n",
      "      dtype='object')\n",
      "Index(['Unnamed: 0', 'TSPAN6 (7105)', 'TNMD (64102)', 'DPM1 (8813)',\n",
      "       'SCYL3 (57147)', 'C1orf112 (55732)', 'FGR (2268)', 'CFH (3075)',\n",
      "       'FUCA2 (2519)', 'GCLC (2729)',\n",
      "       ...\n",
      "       'H3C2 (8358)', 'H3C3 (8352)', 'AC098582.1 (8916)',\n",
      "       'DUS4L-BCAP29 (115253422)', 'C8orf44-SGK3 (100533105)',\n",
      "       'ELOA3B (728929)', 'NPBWR1 (2831)', 'ELOA3D (100506888)',\n",
      "       'ELOA3 (162699)', 'CDR1 (1038)'],\n",
      "      dtype='object', length=19194)\n"
     ]
    }
   ],
   "source": [
    "preview_file(bulk_genexp, 5)\n",
    "#pritn colnames\n",
    "print(bulk_genexp.columns)"
   ],
   "metadata": {
    "collapsed": false
   }
  },
  {
   "cell_type": "code",
   "execution_count": 39,
   "outputs": [],
   "source": [
    "#drop any chosen cols\n",
    "bulk_genexp = bulk_genexp.drop(['DesignElementAccession'], axis=1)"
   ],
   "metadata": {
    "collapsed": false,
    "ExecuteTime": {
     "end_time": "2023-12-05T12:57:34.494289522Z",
     "start_time": "2023-12-05T12:57:34.493757788Z"
    }
   }
  },
  {
   "cell_type": "code",
   "execution_count": 40,
   "outputs": [],
   "source": [
    "#make necessary adjustments to the data\n",
    "meta_data_cols = ['Gene ID', 'Gene Name']\n",
    "save_name = \"hypoxia_acidosis_PMID_19057672.h5ad\""
   ],
   "metadata": {
    "collapsed": false,
    "ExecuteTime": {
     "end_time": "2023-12-05T13:15:21.367323984Z",
     "start_time": "2023-12-05T13:15:21.357925468Z"
    }
   }
  },
  {
   "cell_type": "code",
   "execution_count": 41,
   "outputs": [],
   "source": [
    "#var_df \n",
    "var_df = get_var(bulk_genexp, ['Gene ID', 'Gene Name'], 'Gene Name')"
   ],
   "metadata": {
    "collapsed": false,
    "ExecuteTime": {
     "start_time": "2023-12-05T13:01:15.972950261Z"
    }
   }
  },
  {
   "cell_type": "code",
   "execution_count": 42,
   "outputs": [
    {
     "ename": "SyntaxError",
     "evalue": "invalid syntax (2913958980.py, line 1)",
     "output_type": "error",
     "traceback": [
      "\u001B[0;36m  Cell \u001B[0;32mIn[42], line 1\u001B[0;36m\u001B[0m\n\u001B[0;31m    create var df\u001B[0m\n\u001B[0m           ^\u001B[0m\n\u001B[0;31mSyntaxError\u001B[0m\u001B[0;31m:\u001B[0m invalid syntax\n"
     ]
    }
   ],
   "source": [
    "#manually create obs_df\n",
    "sample_ID = list(bulk_genexp.columns[2:])\n",
    "#set cell type to be the string between first and last white space of each element in sample_ID:\n",
    "#example: 'HMEC Lactic Acidosis plus hypoxia 2', 'HMEC Ctrl 1',\n",
    "\n",
    "# Extracting cell type from each sample ID\n",
    "cell_type = [' '.join(sample.split()[1:-1]) if len(sample.split()) > 2 else '' for sample in sample_ID]\n",
    "#replcae Control with Ctrl\n",
    "cell_type = [cell.replace('Control', 'Ctrl') for cell in cell_type]\n",
    "obs_dic = {\"sample_ID\": sample_ID, \"cell_type\": cell_type}\n",
    "obs_df = pd.DataFrame(obs_dic)\n"
   ],
   "metadata": {
    "collapsed": false,
    "ExecuteTime": {
     "end_time": "2023-12-05T13:09:12.549916992Z",
     "start_time": "2023-12-05T13:09:12.509164689Z"
    }
   }
  },
  {
   "cell_type": "code",
   "execution_count": null,
   "outputs": [],
   "source": [
    "#create counts df by removing the var cols and no colnames\n",
    "counts_df = bulk_genexp.drop(['Gene ID', 'Gene Name'], axis=1).values.T"
   ],
   "metadata": {
    "collapsed": false,
    "ExecuteTime": {
     "end_time": "2023-12-05T13:13:22.974785677Z",
     "start_time": "2023-12-05T13:13:22.933395682Z"
    }
   }
  },
  {
   "cell_type": "code",
   "execution_count": null,
   "outputs": [],
   "source": [
    "#create anndata object\n",
    "adata = create_anndata(counts_df, var_df, obs_df)"
   ],
   "metadata": {
    "collapsed": false,
    "ExecuteTime": {
     "end_time": "2023-12-05T13:13:26.034633235Z",
     "start_time": "2023-12-05T13:13:25.987754526Z"
    }
   }
  },
  {
   "cell_type": "code",
   "execution_count": null,
   "outputs": [],
   "source": [
    "#save the anndata object\n",
    "save_path  = Path('/home/jesse/lab/trans_stamp/scgpt/data/trans_stamp_data/cell_lines/cell_line_states/hypoxia_acidosis_PMID_19057672/',  save_name)\n",
    "save_path"
   ],
   "metadata": {
    "collapsed": false,
    "ExecuteTime": {
     "end_time": "2023-12-05T13:16:58.906342877Z",
     "start_time": "2023-12-05T13:16:58.890397147Z"
    }
   }
  },
  {
   "cell_type": "code",
   "execution_count": null,
   "outputs": [],
   "source": [
    "#write adata\n",
    "adata.write(save_path)"
   ],
   "metadata": {
    "collapsed": false,
    "ExecuteTime": {
     "end_time": "2023-12-05T13:17:24.994730241Z",
     "start_time": "2023-12-05T13:17:24.943817911Z"
    }
   }
  },
  {
   "cell_type": "markdown",
   "source": [
    "! create meta data df"
   ],
   "metadata": {
    "collapsed": false
   }
  },
  {
   "cell_type": "code",
   "execution_count": null,
   "outputs": [],
   "source": [
    "'''\n",
    "def bulk_2_h5ad(bulk_genexp,tcga_cancer ='brca',metadata_cols = [],samples_metadata_path = '',\\\n",
    "        genes_meta_path = '', save_name = ''):\n",
    "'''\n",
    "args = { 'bulk_genexp' : bulk_genexp,\n",
    "        'tcga_cancer' : 'brca',\n",
    "        'metadata_cols' : meta_data_cols,\n",
    "        'samples_metadata_path' : '',\n",
    "        'genes_meta_path' : '',\n",
    "        'save_name' : save_name\n",
    "\n",
    "}\n",
    "bulk_2_h5ad(**args)"
   ],
   "metadata": {
    "collapsed": false
   }
  },
  {
   "cell_type": "markdown",
   "source": [
    "! create var and X df"
   ],
   "metadata": {
    "collapsed": false
   }
  }
 ],
 "metadata": {
  "kernelspec": {
   "display_name": "Python 3",
   "language": "python",
   "name": "python3"
  },
  "language_info": {
   "codemirror_mode": {
    "name": "ipython",
    "version": 2
   },
   "file_extension": ".py",
   "mimetype": "text/x-python",
   "name": "python",
   "nbconvert_exporter": "python",
   "pygments_lexer": "ipython2",
   "version": "2.7.6"
  }
 },
 "nbformat": 4,
 "nbformat_minor": 0
}
