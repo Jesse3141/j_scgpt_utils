{
 "cells": [
  {
   "cell_type": "code",
   "execution_count": 19,
   "metadata": {
    "ExecuteTime": {
     "end_time": "2023-11-29T11:17:18.469892746Z",
     "start_time": "2023-11-29T11:17:18.171473763Z"
    }
   },
   "outputs": [],
   "source": [
    "import os\n",
    "from fastai.vision.all import *\n",
    "import torch\n",
    "from fastai.layers import Lambda\n",
    "from fastai.tabular.all import *\n",
    "import pandas as pd\n",
    "from sklearn.model_selection import train_test_split\n",
    "from sklearn.ensemble import RandomForestClassifier\n",
    "from sklearn.linear_model import ElasticNet\n",
    "from sklearn.metrics import classification_report, confusion_matrix\n",
    "import seaborn as sns\n",
    "import matplotlib.pyplot as plt\n",
    "import socket\n",
    "from sklearn.preprocessing import RobustScaler\n",
    "from torch.utils.data import WeightedRandomSampler\n",
    "\n"
   ]
  },
  {
   "cell_type": "code",
   "execution_count": 20,
   "metadata": {
    "collapsed": false,
    "ExecuteTime": {
     "end_time": "2023-11-29T11:17:18.574265434Z",
     "start_time": "2023-11-29T11:17:18.180573033Z"
    }
   },
   "outputs": [],
   "source": [
    "# globlas\n",
    "#print computer name:\n",
    "comp_name = str(socket.gethostname())\n",
    "base_path = str('')\n",
    "if (comp_name == 'shairlab.upper.2080'):\n",
    "    base_dir = Path('/home/jesse/lab/trans_stamp/')\n"
   ]
  },
  {
   "cell_type": "code",
   "execution_count": 21,
   "metadata": {
    "collapsed": false,
    "ExecuteTime": {
     "end_time": "2023-11-29T11:17:18.574611310Z",
     "start_time": "2023-11-29T11:17:18.225957400Z"
    }
   },
   "outputs": [
    {
     "name": "stdout",
     "output_type": "stream",
     "text": [
      "/home/jesse/lab/trans_stamp/scgpt/jesse_utils\n"
     ]
    }
   ],
   "source": [
    "print(os.getcwd())"
   ]
  },
  {
   "cell_type": "code",
   "execution_count": 22,
   "metadata": {
    "collapsed": false,
    "ExecuteTime": {
     "end_time": "2023-11-29T11:17:18.574705093Z",
     "start_time": "2023-11-29T11:17:18.226196632Z"
    }
   },
   "outputs": [],
   "source": [
    "#function for running analysis\n",
    "def regression_baseline(genexp, y_col, non_score_cols):\n",
    "    '''\n",
    "\n",
    "    :param genexp: a df of genexp\n",
    "    :param y_col: the name of the label col\n",
    "    :param non_score_cols: name of cols to drop for X as a list\n",
    "    :return: nome\n",
    "    '''\n",
    "\n",
    "\n",
    "    # Preprocess the data (Assuming 'label' is your target variable)\n",
    "    X = genexp .drop(non_score_cols, axis=1)\n",
    "    y = genexp [y_col]\n",
    "\n",
    "    # Split the data\n",
    "    X_train, X_test, y_train, y_test = train_test_split(X, y, test_size=0.2, random_state=42)\n",
    "\n",
    "\n",
    "    # Train Random Forest\n",
    "    rf = RandomForestClassifier()\n",
    "    rf.fit(X_train, y_train)\n",
    "\n",
    "    # Predictions and Evaluation for Random Forest\n",
    "    rf_predictions = rf.predict(X_test)\n",
    "    print('random forests:\\n',classification_report(y_test, rf_predictions))\n",
    "\n",
    "\n",
    "    # Train Elastic Net\n",
    "    en = ElasticNet()\n",
    "    en.fit(X_train, y_train)\n",
    "\n",
    "    # Predictions and Evaluation for Elastic Net\n",
    "    # Note: Elastic Net is a regression model; you might need to convert its predictions to a binary format for classification\n",
    "    en_predictions = en.predict(X_test)\n",
    "    en_predictions = [1 if p > 0.5 else 0 for p in en_predictions]  # Example threshold\n",
    "    print('elsatic net:\\n',classification_report(y_test, en_predictions))\n",
    "\n"
   ]
  },
  {
   "cell_type": "code",
   "execution_count": 23,
   "metadata": {
    "collapsed": false,
    "ExecuteTime": {
     "end_time": "2023-11-29T11:17:18.574770623Z",
     "start_time": "2023-11-29T11:17:18.226363109Z"
    }
   },
   "outputs": [],
   "source": [
    "def create_sample_weights(target_data):\n",
    "    class_sample_counts = target_data.value_counts()\n",
    "    weight = 1. / class_sample_counts\n",
    "    samples_weight = weight[target_data].values\n",
    "    return torch.DoubleTensor(samples_weight)"
   ]
  },
  {
   "cell_type": "code",
   "execution_count": 24,
   "metadata": {
    "ExecuteTime": {
     "end_time": "2023-11-29T11:17:18.574877144Z",
     "start_time": "2023-11-29T11:17:18.226491272Z"
    }
   },
   "outputs": [],
   "source": [
    "def create_dls(data,scale=True,scale_cols =2, regression = False, weighted = True):\n",
    "    \n",
    "    #apply scaling\n",
    "    if scale:\n",
    "        scaler = RobustScaler()\n",
    "        data[data.columns[scale_cols:]] = scaler.fit_transform(data[data.columns[scale_cols:]])\n",
    "\n",
    "    #get name of cols\n",
    "    #find col with 'labal'\n",
    "    label_col = [col for col in data.columns if 'label' in col]\n",
    "    #print warning if more than one label col\n",
    "    if len(label_col) > 1:\n",
    "        print('more than one label col')\n",
    "        print(label_col)\n",
    "        print('using first label col')\n",
    "        label_col = label_col[0]\n",
    "    else:\n",
    "        label_col = label_col[0]\n",
    "\n",
    "    #get metadata cols: cols with label or sample_id\n",
    "    metadata_cols = [col for col in data.columns if 'label' in col or 'Sample' in col]\n",
    "\n",
    "    #print regression baseline:\n",
    "    if regression:\n",
    "        regression_baseline(data, label_col, metadata_cols)\n",
    "\n",
    "    \n",
    "    #create data loaders\n",
    "\n",
    "    # Preprocess the data (Assuming 'label' is your target variable)\n",
    "    #split scgpt_df into val and train\n",
    "    train_df = data.sample(frac=0.8,random_state=200) #random state is a seed value\n",
    "    val_df = data.drop(train_df.index)\n",
    "\n",
    "    # create stacked tensor of sample vectors. each row is a sample, each col is a dim\n",
    "    train_x = train_df.drop(metadata_cols, axis=1)\n",
    "    train_x = torch.stack([tensor(row) for row in train_x.values], dim=0)\n",
    "    train_y = tensor(train_df[label_col].values).float()\n",
    "    \n",
    "    val_x = val_df.drop(metadata_cols, axis=1)\n",
    "    val_x = torch.stack([tensor(row) for row in val_x.values], dim =0)\n",
    "    val_y = tensor(val_df[label_col].values).float()\n",
    "\n",
    "    #create data sets from train and val x and y\n",
    "    train_dset = list(zip(train_x,train_y))\n",
    "    val_dset = list(zip(val_x,val_y))\n",
    "    \n",
    "    #create weighted sampler\n",
    "    if weighted:\n",
    "        train_sample_weights = create_sample_weights(train_df[label_col])\n",
    "        train_sampler = WeightedRandomSampler(train_sample_weights, len(train_sample_weights))\n",
    "        dl_train = DataLoader(train_dset, batch_size=64, sampler=train_sampler)\n",
    "    #if not weighted, create dl without sampler\n",
    "    if not weighted:\n",
    "        dl_train = DataLoader(train_dset, batch_size=64)\n",
    "    \n",
    "    #create data loaders\n",
    "    dl_val = DataLoader(val_dset, batch_size=64)\n",
    "\n",
    "    #return dls\n",
    "    return (dl_train, dl_val)"
   ]
  },
  {
   "cell_type": "markdown",
   "metadata": {
    "collapsed": false
   },
   "source": []
  },
  {
   "cell_type": "markdown",
   "metadata": {
    "collapsed": false
   },
   "source": [
    "# create a simple neural net\n",
    "\n",
    "now that we've fixed the gradiants and have proper learning"
   ]
  },
  {
   "cell_type": "code",
   "execution_count": 25,
   "metadata": {
    "collapsed": false,
    "ExecuteTime": {
     "end_time": "2023-11-29T11:17:18.577122171Z",
     "start_time": "2023-11-29T11:17:18.238573354Z"
    }
   },
   "outputs": [],
   "source": [
    "def stamp_loss(preds, targs):\n",
    "    preds = preds.sigmoid()\n",
    "    return torch.where(targs==1, 1-preds, preds).mean()"
   ]
  },
  {
   "cell_type": "code",
   "execution_count": 26,
   "metadata": {
    "collapsed": false,
    "ExecuteTime": {
     "end_time": "2023-11-29T11:17:18.577224634Z",
     "start_time": "2023-11-29T11:17:18.281951191Z"
    }
   },
   "outputs": [],
   "source": [
    "\n",
    "def batch_accuracy(xb, yb):\n",
    "    preds = xb.sigmoid()\n",
    "    correct = (preds>0.5) == yb\n",
    "    return correct.float().mean()"
   ]
  },
  {
   "cell_type": "code",
   "execution_count": 27,
   "metadata": {
    "ExecuteTime": {
     "end_time": "2023-11-29T11:17:18.577336580Z",
     "start_time": "2023-11-29T11:17:18.282198183Z"
    }
   },
   "outputs": [],
   "source": [
    "def first_nn(input_dim):\n",
    "    nn_model = nn.Sequential(\n",
    "    nn.Linear(input_dim, 50),\n",
    "    nn.ReLU(),\n",
    "    nn.Linear(50, 50),\n",
    "    nn.ReLU(),\n",
    "    nn.Linear(50, 1),\n",
    "    Lambda(lambda x: x.squeeze(-1))\n",
    "    )\n",
    "    return nn_model"
   ]
  },
  {
   "cell_type": "code",
   "execution_count": 35,
   "metadata": {
    "ExecuteTime": {
     "end_time": "2023-11-29T11:18:50.187200158Z",
     "start_time": "2023-11-29T11:18:50.103606630Z"
    }
   },
   "outputs": [],
   "source": [
    "def run_nn(dl_train, dl_val, input_dim, epochs = 10, lr =0.1, find_lr = False, report = True):\n",
    "    #having creted dataloadrs from data sets for train and cal, create a dls \n",
    "    dls = DataLoaders(dl_train, dl_val)\n",
    "\n",
    "    model = first_nn(input_dim)\n",
    "    \n",
    "    #optimisers: Adam, AdamW, RMSProp, SGD\n",
    "    #loss:nn.CrossEntropyLoss, nn.BCEWithLogitsLoss,\n",
    "    # nn.CrossEntropyLoss(weight=class_weights)\n",
    "    \n",
    "    # Create your learner\n",
    "    learn = Learner(dls, model, opt_func = Adam, loss_func=SGD, metrics=error_rate)\n",
    "\n",
    "    #find suggested lr\n",
    "    if find_lr:\n",
    "        lr_suggestion = learn.lr_find()\n",
    "        # Accessing the suggested learning rate\n",
    "        lr = lr_suggestion.lr_min\n",
    "    #train\n",
    "    learn.fit(epochs, lr)\n",
    "\n",
    "    # create classification report\n",
    "    if report:\n",
    "        '''# Get predictions\n",
    "        preds, targets = learn.get_preds(dl=dls.valid)\n",
    "        predictions = preds.argmax(dim=1)\n",
    "    \n",
    "        # Convert tensors to numpy arrays for compatibility with scikit-learn\n",
    "        predictions_np = predictions.numpy()\n",
    "        targets_np = targets.numpy()\n",
    "    \n",
    "        # Generate classification report\n",
    "        print('Neural Network:\\n', classification_report(targets_np, predictions_np))'''\n",
    "        interp = ClassificationInterpretation.from_learner(learn)\n",
    "        interp.plot_confusion_matrix()\n",
    "        plt.show()\n",
    "        # Get top losses\n",
    "        top_losses = interp.top_losses()\n",
    "        "
   ]
  },
  {
   "cell_type": "code",
   "execution_count": 28,
   "metadata": {
    "collapsed": false,
    "ExecuteTime": {
     "end_time": "2023-11-29T11:17:18.577659736Z",
     "start_time": "2023-11-29T11:17:18.325818665Z"
    }
   },
   "outputs": [],
   "source": []
  },
  {
   "cell_type": "markdown",
   "metadata": {
    "collapsed": false
   },
   "source": [
    "# load, examine and normalise data"
   ]
  },
  {
   "cell_type": "code",
   "execution_count": 29,
   "metadata": {
    "collapsed": false,
    "ExecuteTime": {
     "end_time": "2023-11-29T11:17:18.577877818Z",
     "start_time": "2023-11-29T11:17:18.326049830Z"
    }
   },
   "outputs": [],
   "source": [
    "# Load the data\n",
    "data_path =Path(base_dir / 'scgpt/data/scgpt_embeddings/brca_sub_scgpt_emb.csv') \n",
    "scgpt_df = pd.read_csv(data_path)\n"
   ]
  },
  {
   "cell_type": "code",
   "execution_count": 30,
   "metadata": {
    "collapsed": false,
    "ExecuteTime": {
     "end_time": "2023-11-29T11:17:18.630428235Z",
     "start_time": "2023-11-29T11:17:18.401203176Z"
    }
   },
   "outputs": [],
   "source": [
    "# load raw genexp data\n",
    "raw_genxp_path = Path(base_dir / 'scgpt/data/bulk_brca_erbb2/brca_ERBB2_genexp_oncosig_labels_gene_map.csv') \n",
    "raw_genexp = pd.read_csv(raw_genxp_path)"
   ]
  },
  {
   "cell_type": "code",
   "execution_count": 31,
   "metadata": {
    "collapsed": false,
    "ExecuteTime": {
     "end_time": "2023-11-29T11:17:20.872544031Z",
     "start_time": "2023-11-29T11:17:20.633218495Z"
    }
   },
   "outputs": [],
   "source": [
    "data = raw_genexp\n",
    "\n",
    "#get dls\n",
    "dl_train, dl_val = create_dls(data, weighted = True)"
   ]
  },
  {
   "cell_type": "code",
   "execution_count": 67,
   "metadata": {
    "collapsed": false,
    "ExecuteTime": {
     "end_time": "2023-11-29T11:06:38.194969407Z",
     "start_time": "2023-11-29T11:06:38.193865003Z"
    }
   },
   "outputs": [
    {
     "name": "stdout",
     "output_type": "stream",
     "text": [
      "Train_x shape: torch.Size([64, 855])\n",
      "Train_y shape: torch.Size([64])\n",
      "Output shape: torch.Size([64])\n",
      "Train_y data type: torch.float32\n",
      "Loss: tensor(0.7101, grad_fn=<BinaryCrossEntropyWithLogitsBackward0>)\n"
     ]
    }
   ],
   "source": [
    "#trouble shoot dim problem with training\n",
    "\n",
    "# Example check before the training loop\n",
    "train_x, train_y = next(iter(dl_train))  # Fetch a batch from the training DataLoader\n",
    "\n",
    "# Check shapes\n",
    "print(\"Train_x shape:\", train_x.shape)\n",
    "print(\"Train_y shape:\", train_y.shape)\n",
    "\n",
    "# Assuming you have defined 'first_nn'\n",
    "input_dim = 855  # Set this to the correct input dimension\n",
    "model = first_nn(input_dim)\n",
    "\n",
    "# Create a sample input tensor with the correct shape\n",
    "# For example, if your input data is a vector per sample, you can create a dummy batch like this:\n",
    "# Use a batch of data instead of a single sample\n",
    "batch_input = torch.randn(64, input_dim)  # Mock batch with 64 samples\n",
    "\n",
    "# Pass the sample input through the model\n",
    "# Adjust the shape of the model's output\n",
    "output = model(train_x)\n",
    "\n",
    "# Print the output shape\n",
    "print(\"Output shape:\", output.shape)\n",
    "\n",
    "# Check data types\n",
    "print(\"Train_y data type:\", train_y.dtype)\n",
    "\n",
    "\n",
    "# If using BCEWithLogitsLoss\n",
    "loss_func = nn.BCEWithLogitsLoss()\n",
    "loss = loss_func(output, train_y.float())  # Convert labels to float\n",
    "print(\"Loss:\", loss)\n"
   ]
  },
  {
   "cell_type": "code",
   "execution_count": 36,
   "metadata": {
    "ExecuteTime": {
     "end_time": "2023-11-29T11:18:53.806880590Z",
     "start_time": "2023-11-29T11:18:53.674497303Z"
    }
   },
   "outputs": [
    {
     "data": {
      "text/plain": "<IPython.core.display.HTML object>",
      "text/html": "\n<style>\n    /* Turns off some styling */\n    progress {\n        /* gets rid of default border in Firefox and Opera. */\n        border: none;\n        /* Needs to be in here for Safari polyfill so background images work as expected. */\n        background-size: auto;\n    }\n    progress:not([value]), progress:not([value])::-webkit-progress-bar {\n        background: repeating-linear-gradient(45deg, #7e7e7e, #7e7e7e 10px, #5c5c5c 10px, #5c5c5c 20px);\n    }\n    .progress-bar-interrupted, .progress-bar-interrupted::-webkit-progress-bar {\n        background: #F44336;\n    }\n</style>\n"
     },
     "metadata": {},
     "output_type": "display_data"
    },
    {
     "data": {
      "text/plain": "<IPython.core.display.HTML object>",
      "text/html": "\n    <div>\n      <progress value='0' class='' max='10' style='width:300px; height:20px; vertical-align: middle;'></progress>\n      \n    </div>\n    \n"
     },
     "metadata": {},
     "output_type": "display_data"
    },
    {
     "ename": "AssertionError",
     "evalue": "Trying to set 64 values for lr but there are 1 parameter groups.",
     "output_type": "error",
     "traceback": [
      "\u001B[0;31m---------------------------------------------------------------------------\u001B[0m",
      "\u001B[0;31mAssertionError\u001B[0m                            Traceback (most recent call last)",
      "Cell \u001B[0;32mIn[36], line 2\u001B[0m\n\u001B[1;32m      1\u001B[0m \u001B[38;5;66;03m# Usage\u001B[39;00m\n\u001B[0;32m----> 2\u001B[0m \u001B[43mrun_nn\u001B[49m\u001B[43m(\u001B[49m\u001B[43mdl_train\u001B[49m\u001B[43m,\u001B[49m\u001B[43m \u001B[49m\u001B[43mdl_val\u001B[49m\u001B[43m,\u001B[49m\u001B[43m \u001B[49m\u001B[43minput_dim\u001B[49m\u001B[38;5;241;43m=\u001B[39;49m\u001B[38;5;241;43m855\u001B[39;49m\u001B[43m,\u001B[49m\u001B[43m \u001B[49m\u001B[43mepochs\u001B[49m\u001B[38;5;241;43m=\u001B[39;49m\u001B[38;5;241;43m10\u001B[39;49m\u001B[43m,\u001B[49m\u001B[43m \u001B[49m\u001B[43mlr\u001B[49m\u001B[38;5;241;43m=\u001B[39;49m\u001B[38;5;241;43m0.1\u001B[39;49m\u001B[43m,\u001B[49m\u001B[43m \u001B[49m\u001B[43mfind_lr\u001B[49m\u001B[38;5;241;43m=\u001B[39;49m\u001B[38;5;28;43;01mFalse\u001B[39;49;00m\u001B[43m,\u001B[49m\u001B[43m \u001B[49m\u001B[43mreport\u001B[49m\u001B[43m \u001B[49m\u001B[38;5;241;43m=\u001B[39;49m\u001B[43m \u001B[49m\u001B[38;5;28;43;01mFalse\u001B[39;49;00m\u001B[43m)\u001B[49m\n",
      "Cell \u001B[0;32mIn[35], line 20\u001B[0m, in \u001B[0;36mrun_nn\u001B[0;34m(dl_train, dl_val, input_dim, epochs, lr, find_lr, report)\u001B[0m\n\u001B[1;32m     18\u001B[0m     lr \u001B[38;5;241m=\u001B[39m lr_suggestion\u001B[38;5;241m.\u001B[39mlr_min\n\u001B[1;32m     19\u001B[0m \u001B[38;5;66;03m#train\u001B[39;00m\n\u001B[0;32m---> 20\u001B[0m \u001B[43mlearn\u001B[49m\u001B[38;5;241;43m.\u001B[39;49m\u001B[43mfit\u001B[49m\u001B[43m(\u001B[49m\u001B[43mepochs\u001B[49m\u001B[43m,\u001B[49m\u001B[43m \u001B[49m\u001B[43mlr\u001B[49m\u001B[43m)\u001B[49m\n\u001B[1;32m     22\u001B[0m \u001B[38;5;66;03m# create classification report\u001B[39;00m\n\u001B[1;32m     23\u001B[0m \u001B[38;5;28;01mif\u001B[39;00m report:\n",
      "File \u001B[0;32m~/mambaforge/envs/fastai_env/lib/python3.10/site-packages/fastai/learner.py:264\u001B[0m, in \u001B[0;36mLearner.fit\u001B[0;34m(self, n_epoch, lr, wd, cbs, reset_opt, start_epoch)\u001B[0m\n\u001B[1;32m    262\u001B[0m \u001B[38;5;28mself\u001B[39m\u001B[38;5;241m.\u001B[39mopt\u001B[38;5;241m.\u001B[39mset_hypers(lr\u001B[38;5;241m=\u001B[39m\u001B[38;5;28mself\u001B[39m\u001B[38;5;241m.\u001B[39mlr \u001B[38;5;28;01mif\u001B[39;00m lr \u001B[38;5;129;01mis\u001B[39;00m \u001B[38;5;28;01mNone\u001B[39;00m \u001B[38;5;28;01melse\u001B[39;00m lr)\n\u001B[1;32m    263\u001B[0m \u001B[38;5;28mself\u001B[39m\u001B[38;5;241m.\u001B[39mn_epoch \u001B[38;5;241m=\u001B[39m n_epoch\n\u001B[0;32m--> 264\u001B[0m \u001B[38;5;28;43mself\u001B[39;49m\u001B[38;5;241;43m.\u001B[39;49m\u001B[43m_with_events\u001B[49m\u001B[43m(\u001B[49m\u001B[38;5;28;43mself\u001B[39;49m\u001B[38;5;241;43m.\u001B[39;49m\u001B[43m_do_fit\u001B[49m\u001B[43m,\u001B[49m\u001B[43m \u001B[49m\u001B[38;5;124;43m'\u001B[39;49m\u001B[38;5;124;43mfit\u001B[39;49m\u001B[38;5;124;43m'\u001B[39;49m\u001B[43m,\u001B[49m\u001B[43m \u001B[49m\u001B[43mCancelFitException\u001B[49m\u001B[43m,\u001B[49m\u001B[43m \u001B[49m\u001B[38;5;28;43mself\u001B[39;49m\u001B[38;5;241;43m.\u001B[39;49m\u001B[43m_end_cleanup\u001B[49m\u001B[43m)\u001B[49m\n",
      "File \u001B[0;32m~/mambaforge/envs/fastai_env/lib/python3.10/site-packages/fastai/learner.py:199\u001B[0m, in \u001B[0;36mLearner._with_events\u001B[0;34m(self, f, event_type, ex, final)\u001B[0m\n\u001B[1;32m    198\u001B[0m \u001B[38;5;28;01mdef\u001B[39;00m \u001B[38;5;21m_with_events\u001B[39m(\u001B[38;5;28mself\u001B[39m, f, event_type, ex, final\u001B[38;5;241m=\u001B[39mnoop):\n\u001B[0;32m--> 199\u001B[0m     \u001B[38;5;28;01mtry\u001B[39;00m: \u001B[38;5;28mself\u001B[39m(\u001B[38;5;124mf\u001B[39m\u001B[38;5;124m'\u001B[39m\u001B[38;5;124mbefore_\u001B[39m\u001B[38;5;132;01m{\u001B[39;00mevent_type\u001B[38;5;132;01m}\u001B[39;00m\u001B[38;5;124m'\u001B[39m);  \u001B[43mf\u001B[49m\u001B[43m(\u001B[49m\u001B[43m)\u001B[49m\n\u001B[1;32m    200\u001B[0m     \u001B[38;5;28;01mexcept\u001B[39;00m ex: \u001B[38;5;28mself\u001B[39m(\u001B[38;5;124mf\u001B[39m\u001B[38;5;124m'\u001B[39m\u001B[38;5;124mafter_cancel_\u001B[39m\u001B[38;5;132;01m{\u001B[39;00mevent_type\u001B[38;5;132;01m}\u001B[39;00m\u001B[38;5;124m'\u001B[39m)\n\u001B[1;32m    201\u001B[0m     \u001B[38;5;28mself\u001B[39m(\u001B[38;5;124mf\u001B[39m\u001B[38;5;124m'\u001B[39m\u001B[38;5;124mafter_\u001B[39m\u001B[38;5;132;01m{\u001B[39;00mevent_type\u001B[38;5;132;01m}\u001B[39;00m\u001B[38;5;124m'\u001B[39m);  final()\n",
      "File \u001B[0;32m~/mambaforge/envs/fastai_env/lib/python3.10/site-packages/fastai/learner.py:253\u001B[0m, in \u001B[0;36mLearner._do_fit\u001B[0;34m(self)\u001B[0m\n\u001B[1;32m    251\u001B[0m \u001B[38;5;28;01mfor\u001B[39;00m epoch \u001B[38;5;129;01min\u001B[39;00m \u001B[38;5;28mrange\u001B[39m(\u001B[38;5;28mself\u001B[39m\u001B[38;5;241m.\u001B[39mn_epoch):\n\u001B[1;32m    252\u001B[0m     \u001B[38;5;28mself\u001B[39m\u001B[38;5;241m.\u001B[39mepoch\u001B[38;5;241m=\u001B[39mepoch\n\u001B[0;32m--> 253\u001B[0m     \u001B[38;5;28;43mself\u001B[39;49m\u001B[38;5;241;43m.\u001B[39;49m\u001B[43m_with_events\u001B[49m\u001B[43m(\u001B[49m\u001B[38;5;28;43mself\u001B[39;49m\u001B[38;5;241;43m.\u001B[39;49m\u001B[43m_do_epoch\u001B[49m\u001B[43m,\u001B[49m\u001B[43m \u001B[49m\u001B[38;5;124;43m'\u001B[39;49m\u001B[38;5;124;43mepoch\u001B[39;49m\u001B[38;5;124;43m'\u001B[39;49m\u001B[43m,\u001B[49m\u001B[43m \u001B[49m\u001B[43mCancelEpochException\u001B[49m\u001B[43m)\u001B[49m\n",
      "File \u001B[0;32m~/mambaforge/envs/fastai_env/lib/python3.10/site-packages/fastai/learner.py:199\u001B[0m, in \u001B[0;36mLearner._with_events\u001B[0;34m(self, f, event_type, ex, final)\u001B[0m\n\u001B[1;32m    198\u001B[0m \u001B[38;5;28;01mdef\u001B[39;00m \u001B[38;5;21m_with_events\u001B[39m(\u001B[38;5;28mself\u001B[39m, f, event_type, ex, final\u001B[38;5;241m=\u001B[39mnoop):\n\u001B[0;32m--> 199\u001B[0m     \u001B[38;5;28;01mtry\u001B[39;00m: \u001B[38;5;28mself\u001B[39m(\u001B[38;5;124mf\u001B[39m\u001B[38;5;124m'\u001B[39m\u001B[38;5;124mbefore_\u001B[39m\u001B[38;5;132;01m{\u001B[39;00mevent_type\u001B[38;5;132;01m}\u001B[39;00m\u001B[38;5;124m'\u001B[39m);  \u001B[43mf\u001B[49m\u001B[43m(\u001B[49m\u001B[43m)\u001B[49m\n\u001B[1;32m    200\u001B[0m     \u001B[38;5;28;01mexcept\u001B[39;00m ex: \u001B[38;5;28mself\u001B[39m(\u001B[38;5;124mf\u001B[39m\u001B[38;5;124m'\u001B[39m\u001B[38;5;124mafter_cancel_\u001B[39m\u001B[38;5;132;01m{\u001B[39;00mevent_type\u001B[38;5;132;01m}\u001B[39;00m\u001B[38;5;124m'\u001B[39m)\n\u001B[1;32m    201\u001B[0m     \u001B[38;5;28mself\u001B[39m(\u001B[38;5;124mf\u001B[39m\u001B[38;5;124m'\u001B[39m\u001B[38;5;124mafter_\u001B[39m\u001B[38;5;132;01m{\u001B[39;00mevent_type\u001B[38;5;132;01m}\u001B[39;00m\u001B[38;5;124m'\u001B[39m);  final()\n",
      "File \u001B[0;32m~/mambaforge/envs/fastai_env/lib/python3.10/site-packages/fastai/learner.py:247\u001B[0m, in \u001B[0;36mLearner._do_epoch\u001B[0;34m(self)\u001B[0m\n\u001B[1;32m    246\u001B[0m \u001B[38;5;28;01mdef\u001B[39;00m \u001B[38;5;21m_do_epoch\u001B[39m(\u001B[38;5;28mself\u001B[39m):\n\u001B[0;32m--> 247\u001B[0m     \u001B[38;5;28;43mself\u001B[39;49m\u001B[38;5;241;43m.\u001B[39;49m\u001B[43m_do_epoch_train\u001B[49m\u001B[43m(\u001B[49m\u001B[43m)\u001B[49m\n\u001B[1;32m    248\u001B[0m     \u001B[38;5;28mself\u001B[39m\u001B[38;5;241m.\u001B[39m_do_epoch_validate()\n",
      "File \u001B[0;32m~/mambaforge/envs/fastai_env/lib/python3.10/site-packages/fastai/learner.py:239\u001B[0m, in \u001B[0;36mLearner._do_epoch_train\u001B[0;34m(self)\u001B[0m\n\u001B[1;32m    237\u001B[0m \u001B[38;5;28;01mdef\u001B[39;00m \u001B[38;5;21m_do_epoch_train\u001B[39m(\u001B[38;5;28mself\u001B[39m):\n\u001B[1;32m    238\u001B[0m     \u001B[38;5;28mself\u001B[39m\u001B[38;5;241m.\u001B[39mdl \u001B[38;5;241m=\u001B[39m \u001B[38;5;28mself\u001B[39m\u001B[38;5;241m.\u001B[39mdls\u001B[38;5;241m.\u001B[39mtrain\n\u001B[0;32m--> 239\u001B[0m     \u001B[38;5;28;43mself\u001B[39;49m\u001B[38;5;241;43m.\u001B[39;49m\u001B[43m_with_events\u001B[49m\u001B[43m(\u001B[49m\u001B[38;5;28;43mself\u001B[39;49m\u001B[38;5;241;43m.\u001B[39;49m\u001B[43mall_batches\u001B[49m\u001B[43m,\u001B[49m\u001B[43m \u001B[49m\u001B[38;5;124;43m'\u001B[39;49m\u001B[38;5;124;43mtrain\u001B[39;49m\u001B[38;5;124;43m'\u001B[39;49m\u001B[43m,\u001B[49m\u001B[43m \u001B[49m\u001B[43mCancelTrainException\u001B[49m\u001B[43m)\u001B[49m\n",
      "File \u001B[0;32m~/mambaforge/envs/fastai_env/lib/python3.10/site-packages/fastai/learner.py:199\u001B[0m, in \u001B[0;36mLearner._with_events\u001B[0;34m(self, f, event_type, ex, final)\u001B[0m\n\u001B[1;32m    198\u001B[0m \u001B[38;5;28;01mdef\u001B[39;00m \u001B[38;5;21m_with_events\u001B[39m(\u001B[38;5;28mself\u001B[39m, f, event_type, ex, final\u001B[38;5;241m=\u001B[39mnoop):\n\u001B[0;32m--> 199\u001B[0m     \u001B[38;5;28;01mtry\u001B[39;00m: \u001B[38;5;28mself\u001B[39m(\u001B[38;5;124mf\u001B[39m\u001B[38;5;124m'\u001B[39m\u001B[38;5;124mbefore_\u001B[39m\u001B[38;5;132;01m{\u001B[39;00mevent_type\u001B[38;5;132;01m}\u001B[39;00m\u001B[38;5;124m'\u001B[39m);  \u001B[43mf\u001B[49m\u001B[43m(\u001B[49m\u001B[43m)\u001B[49m\n\u001B[1;32m    200\u001B[0m     \u001B[38;5;28;01mexcept\u001B[39;00m ex: \u001B[38;5;28mself\u001B[39m(\u001B[38;5;124mf\u001B[39m\u001B[38;5;124m'\u001B[39m\u001B[38;5;124mafter_cancel_\u001B[39m\u001B[38;5;132;01m{\u001B[39;00mevent_type\u001B[38;5;132;01m}\u001B[39;00m\u001B[38;5;124m'\u001B[39m)\n\u001B[1;32m    201\u001B[0m     \u001B[38;5;28mself\u001B[39m(\u001B[38;5;124mf\u001B[39m\u001B[38;5;124m'\u001B[39m\u001B[38;5;124mafter_\u001B[39m\u001B[38;5;132;01m{\u001B[39;00mevent_type\u001B[38;5;132;01m}\u001B[39;00m\u001B[38;5;124m'\u001B[39m);  final()\n",
      "File \u001B[0;32m~/mambaforge/envs/fastai_env/lib/python3.10/site-packages/fastai/learner.py:205\u001B[0m, in \u001B[0;36mLearner.all_batches\u001B[0;34m(self)\u001B[0m\n\u001B[1;32m    203\u001B[0m \u001B[38;5;28;01mdef\u001B[39;00m \u001B[38;5;21mall_batches\u001B[39m(\u001B[38;5;28mself\u001B[39m):\n\u001B[1;32m    204\u001B[0m     \u001B[38;5;28mself\u001B[39m\u001B[38;5;241m.\u001B[39mn_iter \u001B[38;5;241m=\u001B[39m \u001B[38;5;28mlen\u001B[39m(\u001B[38;5;28mself\u001B[39m\u001B[38;5;241m.\u001B[39mdl)\n\u001B[0;32m--> 205\u001B[0m     \u001B[38;5;28;01mfor\u001B[39;00m o \u001B[38;5;129;01min\u001B[39;00m \u001B[38;5;28menumerate\u001B[39m(\u001B[38;5;28mself\u001B[39m\u001B[38;5;241m.\u001B[39mdl): \u001B[38;5;28;43mself\u001B[39;49m\u001B[38;5;241;43m.\u001B[39;49m\u001B[43mone_batch\u001B[49m\u001B[43m(\u001B[49m\u001B[38;5;241;43m*\u001B[39;49m\u001B[43mo\u001B[49m\u001B[43m)\u001B[49m\n",
      "File \u001B[0;32m~/mambaforge/envs/fastai_env/lib/python3.10/site-packages/fastai/learner.py:235\u001B[0m, in \u001B[0;36mLearner.one_batch\u001B[0;34m(self, i, b)\u001B[0m\n\u001B[1;32m    233\u001B[0m b \u001B[38;5;241m=\u001B[39m \u001B[38;5;28mself\u001B[39m\u001B[38;5;241m.\u001B[39m_set_device(b)\n\u001B[1;32m    234\u001B[0m \u001B[38;5;28mself\u001B[39m\u001B[38;5;241m.\u001B[39m_split(b)\n\u001B[0;32m--> 235\u001B[0m \u001B[38;5;28;43mself\u001B[39;49m\u001B[38;5;241;43m.\u001B[39;49m\u001B[43m_with_events\u001B[49m\u001B[43m(\u001B[49m\u001B[38;5;28;43mself\u001B[39;49m\u001B[38;5;241;43m.\u001B[39;49m\u001B[43m_do_one_batch\u001B[49m\u001B[43m,\u001B[49m\u001B[43m \u001B[49m\u001B[38;5;124;43m'\u001B[39;49m\u001B[38;5;124;43mbatch\u001B[39;49m\u001B[38;5;124;43m'\u001B[39;49m\u001B[43m,\u001B[49m\u001B[43m \u001B[49m\u001B[43mCancelBatchException\u001B[49m\u001B[43m)\u001B[49m\n",
      "File \u001B[0;32m~/mambaforge/envs/fastai_env/lib/python3.10/site-packages/fastai/learner.py:199\u001B[0m, in \u001B[0;36mLearner._with_events\u001B[0;34m(self, f, event_type, ex, final)\u001B[0m\n\u001B[1;32m    198\u001B[0m \u001B[38;5;28;01mdef\u001B[39;00m \u001B[38;5;21m_with_events\u001B[39m(\u001B[38;5;28mself\u001B[39m, f, event_type, ex, final\u001B[38;5;241m=\u001B[39mnoop):\n\u001B[0;32m--> 199\u001B[0m     \u001B[38;5;28;01mtry\u001B[39;00m: \u001B[38;5;28mself\u001B[39m(\u001B[38;5;124mf\u001B[39m\u001B[38;5;124m'\u001B[39m\u001B[38;5;124mbefore_\u001B[39m\u001B[38;5;132;01m{\u001B[39;00mevent_type\u001B[38;5;132;01m}\u001B[39;00m\u001B[38;5;124m'\u001B[39m);  \u001B[43mf\u001B[49m\u001B[43m(\u001B[49m\u001B[43m)\u001B[49m\n\u001B[1;32m    200\u001B[0m     \u001B[38;5;28;01mexcept\u001B[39;00m ex: \u001B[38;5;28mself\u001B[39m(\u001B[38;5;124mf\u001B[39m\u001B[38;5;124m'\u001B[39m\u001B[38;5;124mafter_cancel_\u001B[39m\u001B[38;5;132;01m{\u001B[39;00mevent_type\u001B[38;5;132;01m}\u001B[39;00m\u001B[38;5;124m'\u001B[39m)\n\u001B[1;32m    201\u001B[0m     \u001B[38;5;28mself\u001B[39m(\u001B[38;5;124mf\u001B[39m\u001B[38;5;124m'\u001B[39m\u001B[38;5;124mafter_\u001B[39m\u001B[38;5;132;01m{\u001B[39;00mevent_type\u001B[38;5;132;01m}\u001B[39;00m\u001B[38;5;124m'\u001B[39m);  final()\n",
      "File \u001B[0;32m~/mambaforge/envs/fastai_env/lib/python3.10/site-packages/fastai/learner.py:219\u001B[0m, in \u001B[0;36mLearner._do_one_batch\u001B[0;34m(self)\u001B[0m\n\u001B[1;32m    217\u001B[0m \u001B[38;5;28mself\u001B[39m(\u001B[38;5;124m'\u001B[39m\u001B[38;5;124mafter_pred\u001B[39m\u001B[38;5;124m'\u001B[39m)\n\u001B[1;32m    218\u001B[0m \u001B[38;5;28;01mif\u001B[39;00m \u001B[38;5;28mlen\u001B[39m(\u001B[38;5;28mself\u001B[39m\u001B[38;5;241m.\u001B[39myb):\n\u001B[0;32m--> 219\u001B[0m     \u001B[38;5;28mself\u001B[39m\u001B[38;5;241m.\u001B[39mloss_grad \u001B[38;5;241m=\u001B[39m \u001B[38;5;28;43mself\u001B[39;49m\u001B[38;5;241;43m.\u001B[39;49m\u001B[43mloss_func\u001B[49m\u001B[43m(\u001B[49m\u001B[38;5;28;43mself\u001B[39;49m\u001B[38;5;241;43m.\u001B[39;49m\u001B[43mpred\u001B[49m\u001B[43m,\u001B[49m\u001B[43m \u001B[49m\u001B[38;5;241;43m*\u001B[39;49m\u001B[38;5;28;43mself\u001B[39;49m\u001B[38;5;241;43m.\u001B[39;49m\u001B[43myb\u001B[49m\u001B[43m)\u001B[49m\n\u001B[1;32m    220\u001B[0m     \u001B[38;5;28mself\u001B[39m\u001B[38;5;241m.\u001B[39mloss \u001B[38;5;241m=\u001B[39m \u001B[38;5;28mself\u001B[39m\u001B[38;5;241m.\u001B[39mloss_grad\u001B[38;5;241m.\u001B[39mclone()\n\u001B[1;32m    221\u001B[0m \u001B[38;5;28mself\u001B[39m(\u001B[38;5;124m'\u001B[39m\u001B[38;5;124mafter_loss\u001B[39m\u001B[38;5;124m'\u001B[39m)\n",
      "File \u001B[0;32m~/mambaforge/envs/fastai_env/lib/python3.10/site-packages/fastai/optimizer.py:184\u001B[0m, in \u001B[0;36mSGD\u001B[0;34m(params, lr, mom, wd, decouple_wd)\u001B[0m\n\u001B[1;32m    182\u001B[0m \u001B[38;5;28;01mif\u001B[39;00m mom \u001B[38;5;241m!=\u001B[39m \u001B[38;5;241m0\u001B[39m: cbs\u001B[38;5;241m.\u001B[39mappend(average_grad)\n\u001B[1;32m    183\u001B[0m cbs\u001B[38;5;241m.\u001B[39mappend(sgd_step \u001B[38;5;28;01mif\u001B[39;00m mom\u001B[38;5;241m==\u001B[39m\u001B[38;5;241m0\u001B[39m \u001B[38;5;28;01melse\u001B[39;00m momentum_step)\n\u001B[0;32m--> 184\u001B[0m \u001B[38;5;28;01mreturn\u001B[39;00m \u001B[43mOptimizer\u001B[49m\u001B[43m(\u001B[49m\u001B[43mparams\u001B[49m\u001B[43m,\u001B[49m\u001B[43m \u001B[49m\u001B[43mcbs\u001B[49m\u001B[43m,\u001B[49m\u001B[43m \u001B[49m\u001B[43mlr\u001B[49m\u001B[38;5;241;43m=\u001B[39;49m\u001B[43mlr\u001B[49m\u001B[43m,\u001B[49m\u001B[43m \u001B[49m\u001B[43mmom\u001B[49m\u001B[38;5;241;43m=\u001B[39;49m\u001B[43mmom\u001B[49m\u001B[43m,\u001B[49m\u001B[43m \u001B[49m\u001B[43mwd\u001B[49m\u001B[38;5;241;43m=\u001B[39;49m\u001B[43mwd\u001B[49m\u001B[43m)\u001B[49m\n",
      "File \u001B[0;32m~/mambaforge/envs/fastai_env/lib/python3.10/site-packages/fastai/optimizer.py:100\u001B[0m, in \u001B[0;36mOptimizer.__init__\u001B[0;34m(self, params, cbs, **defaults)\u001B[0m\n\u001B[1;32m     98\u001B[0m \u001B[38;5;28mself\u001B[39m\u001B[38;5;241m.\u001B[39mparam_lists \u001B[38;5;241m=\u001B[39m L(L(p) \u001B[38;5;28;01mfor\u001B[39;00m p \u001B[38;5;129;01min\u001B[39;00m params) \u001B[38;5;28;01mif\u001B[39;00m \u001B[38;5;28misinstance\u001B[39m(params[\u001B[38;5;241m0\u001B[39m], (L,\u001B[38;5;28mlist\u001B[39m)) \u001B[38;5;28;01melse\u001B[39;00m L([params])\n\u001B[1;32m     99\u001B[0m \u001B[38;5;28mself\u001B[39m\u001B[38;5;241m.\u001B[39mhypers \u001B[38;5;241m=\u001B[39m L({} \u001B[38;5;28;01mfor\u001B[39;00m _ \u001B[38;5;129;01min\u001B[39;00m range_of(\u001B[38;5;28mself\u001B[39m\u001B[38;5;241m.\u001B[39mparam_lists))\n\u001B[0;32m--> 100\u001B[0m \u001B[38;5;28;43mself\u001B[39;49m\u001B[38;5;241;43m.\u001B[39;49m\u001B[43mset_hypers\u001B[49m\u001B[43m(\u001B[49m\u001B[38;5;241;43m*\u001B[39;49m\u001B[38;5;241;43m*\u001B[39;49m\u001B[43mdefaults\u001B[49m\u001B[43m)\u001B[49m\n\u001B[1;32m    101\u001B[0m \u001B[38;5;28mself\u001B[39m\u001B[38;5;241m.\u001B[39mfrozen_idx \u001B[38;5;241m=\u001B[39m \u001B[38;5;241m0\u001B[39m\n",
      "File \u001B[0;32m~/mambaforge/envs/fastai_env/lib/python3.10/site-packages/fastai/optimizer.py:44\u001B[0m, in \u001B[0;36m_BaseOptimizer.set_hypers\u001B[0;34m(self, **kwargs)\u001B[0m\n\u001B[0;32m---> 44\u001B[0m \u001B[38;5;28;01mdef\u001B[39;00m \u001B[38;5;21mset_hypers\u001B[39m(\u001B[38;5;28mself\u001B[39m, \u001B[38;5;241m*\u001B[39m\u001B[38;5;241m*\u001B[39mkwargs): \u001B[43mL\u001B[49m\u001B[43m(\u001B[49m\u001B[43mkwargs\u001B[49m\u001B[38;5;241;43m.\u001B[39;49m\u001B[43mitems\u001B[49m\u001B[43m(\u001B[49m\u001B[43m)\u001B[49m\u001B[43m)\u001B[49m\u001B[38;5;241;43m.\u001B[39;49m\u001B[43mstarmap\u001B[49m\u001B[43m(\u001B[49m\u001B[38;5;28;43mself\u001B[39;49m\u001B[38;5;241;43m.\u001B[39;49m\u001B[43mset_hyper\u001B[49m\u001B[43m)\u001B[49m\n",
      "File \u001B[0;32m~/mambaforge/envs/fastai_env/lib/python3.10/site-packages/fastcore/foundation.py:180\u001B[0m, in \u001B[0;36mL.starmap\u001B[0;34m(self, f, *args, **kwargs)\u001B[0m\n\u001B[0;32m--> 180\u001B[0m \u001B[38;5;28;01mdef\u001B[39;00m \u001B[38;5;21mstarmap\u001B[39m(\u001B[38;5;28mself\u001B[39m, f, \u001B[38;5;241m*\u001B[39margs, \u001B[38;5;241m*\u001B[39m\u001B[38;5;241m*\u001B[39mkwargs): \u001B[38;5;28;01mreturn\u001B[39;00m \u001B[38;5;28;43mself\u001B[39;49m\u001B[38;5;241;43m.\u001B[39;49m\u001B[43m_new\u001B[49m\u001B[43m(\u001B[49m\u001B[43mitertools\u001B[49m\u001B[38;5;241;43m.\u001B[39;49m\u001B[43mstarmap\u001B[49m\u001B[43m(\u001B[49m\u001B[43mpartial\u001B[49m\u001B[43m(\u001B[49m\u001B[43mf\u001B[49m\u001B[43m,\u001B[49m\u001B[38;5;241;43m*\u001B[39;49m\u001B[43margs\u001B[49m\u001B[43m,\u001B[49m\u001B[38;5;241;43m*\u001B[39;49m\u001B[38;5;241;43m*\u001B[39;49m\u001B[43mkwargs\u001B[49m\u001B[43m)\u001B[49m\u001B[43m,\u001B[49m\u001B[43m \u001B[49m\u001B[38;5;28;43mself\u001B[39;49m\u001B[43m)\u001B[49m\u001B[43m)\u001B[49m\n",
      "File \u001B[0;32m~/mambaforge/envs/fastai_env/lib/python3.10/site-packages/fastcore/foundation.py:111\u001B[0m, in \u001B[0;36mL._new\u001B[0;34m(self, items, *args, **kwargs)\u001B[0m\n\u001B[0;32m--> 111\u001B[0m \u001B[38;5;28;01mdef\u001B[39;00m \u001B[38;5;21m_new\u001B[39m(\u001B[38;5;28mself\u001B[39m, items, \u001B[38;5;241m*\u001B[39margs, \u001B[38;5;241m*\u001B[39m\u001B[38;5;241m*\u001B[39mkwargs): \u001B[38;5;28;01mreturn\u001B[39;00m \u001B[38;5;28;43mtype\u001B[39;49m\u001B[43m(\u001B[49m\u001B[38;5;28;43mself\u001B[39;49m\u001B[43m)\u001B[49m\u001B[43m(\u001B[49m\u001B[43mitems\u001B[49m\u001B[43m,\u001B[49m\u001B[43m \u001B[49m\u001B[38;5;241;43m*\u001B[39;49m\u001B[43margs\u001B[49m\u001B[43m,\u001B[49m\u001B[43m \u001B[49m\u001B[43muse_list\u001B[49m\u001B[38;5;241;43m=\u001B[39;49m\u001B[38;5;28;43;01mNone\u001B[39;49;00m\u001B[43m,\u001B[49m\u001B[43m \u001B[49m\u001B[38;5;241;43m*\u001B[39;49m\u001B[38;5;241;43m*\u001B[39;49m\u001B[43mkwargs\u001B[49m\u001B[43m)\u001B[49m\n",
      "File \u001B[0;32m~/mambaforge/envs/fastai_env/lib/python3.10/site-packages/fastcore/foundation.py:98\u001B[0m, in \u001B[0;36m_L_Meta.__call__\u001B[0;34m(cls, x, *args, **kwargs)\u001B[0m\n\u001B[1;32m     96\u001B[0m \u001B[38;5;28;01mdef\u001B[39;00m \u001B[38;5;21m__call__\u001B[39m(\u001B[38;5;28mcls\u001B[39m, x\u001B[38;5;241m=\u001B[39m\u001B[38;5;28;01mNone\u001B[39;00m, \u001B[38;5;241m*\u001B[39margs, \u001B[38;5;241m*\u001B[39m\u001B[38;5;241m*\u001B[39mkwargs):\n\u001B[1;32m     97\u001B[0m     \u001B[38;5;28;01mif\u001B[39;00m \u001B[38;5;129;01mnot\u001B[39;00m args \u001B[38;5;129;01mand\u001B[39;00m \u001B[38;5;129;01mnot\u001B[39;00m kwargs \u001B[38;5;129;01mand\u001B[39;00m x \u001B[38;5;129;01mis\u001B[39;00m \u001B[38;5;129;01mnot\u001B[39;00m \u001B[38;5;28;01mNone\u001B[39;00m \u001B[38;5;129;01mand\u001B[39;00m \u001B[38;5;28misinstance\u001B[39m(x,\u001B[38;5;28mcls\u001B[39m): \u001B[38;5;28;01mreturn\u001B[39;00m x\n\u001B[0;32m---> 98\u001B[0m     \u001B[38;5;28;01mreturn\u001B[39;00m \u001B[38;5;28;43msuper\u001B[39;49m\u001B[43m(\u001B[49m\u001B[43m)\u001B[49m\u001B[38;5;241;43m.\u001B[39;49m\u001B[38;5;21;43m__call__\u001B[39;49m\u001B[43m(\u001B[49m\u001B[43mx\u001B[49m\u001B[43m,\u001B[49m\u001B[43m \u001B[49m\u001B[38;5;241;43m*\u001B[39;49m\u001B[43margs\u001B[49m\u001B[43m,\u001B[49m\u001B[43m \u001B[49m\u001B[38;5;241;43m*\u001B[39;49m\u001B[38;5;241;43m*\u001B[39;49m\u001B[43mkwargs\u001B[49m\u001B[43m)\u001B[49m\n",
      "File \u001B[0;32m~/mambaforge/envs/fastai_env/lib/python3.10/site-packages/fastcore/foundation.py:106\u001B[0m, in \u001B[0;36mL.__init__\u001B[0;34m(self, items, use_list, match, *rest)\u001B[0m\n\u001B[1;32m    104\u001B[0m \u001B[38;5;28;01mdef\u001B[39;00m \u001B[38;5;21m__init__\u001B[39m(\u001B[38;5;28mself\u001B[39m, items\u001B[38;5;241m=\u001B[39m\u001B[38;5;28;01mNone\u001B[39;00m, \u001B[38;5;241m*\u001B[39mrest, use_list\u001B[38;5;241m=\u001B[39m\u001B[38;5;28;01mFalse\u001B[39;00m, match\u001B[38;5;241m=\u001B[39m\u001B[38;5;28;01mNone\u001B[39;00m):\n\u001B[1;32m    105\u001B[0m     \u001B[38;5;28;01mif\u001B[39;00m (use_list \u001B[38;5;129;01mis\u001B[39;00m \u001B[38;5;129;01mnot\u001B[39;00m \u001B[38;5;28;01mNone\u001B[39;00m) \u001B[38;5;129;01mor\u001B[39;00m \u001B[38;5;129;01mnot\u001B[39;00m is_array(items):\n\u001B[0;32m--> 106\u001B[0m         items \u001B[38;5;241m=\u001B[39m \u001B[43mlistify\u001B[49m\u001B[43m(\u001B[49m\u001B[43mitems\u001B[49m\u001B[43m,\u001B[49m\u001B[43m \u001B[49m\u001B[38;5;241;43m*\u001B[39;49m\u001B[43mrest\u001B[49m\u001B[43m,\u001B[49m\u001B[43m \u001B[49m\u001B[43muse_list\u001B[49m\u001B[38;5;241;43m=\u001B[39;49m\u001B[43muse_list\u001B[49m\u001B[43m,\u001B[49m\u001B[43m \u001B[49m\u001B[43mmatch\u001B[49m\u001B[38;5;241;43m=\u001B[39;49m\u001B[43mmatch\u001B[49m\u001B[43m)\u001B[49m\n\u001B[1;32m    107\u001B[0m     \u001B[38;5;28msuper\u001B[39m()\u001B[38;5;241m.\u001B[39m\u001B[38;5;21m__init__\u001B[39m(items)\n",
      "File \u001B[0;32m~/mambaforge/envs/fastai_env/lib/python3.10/site-packages/fastcore/basics.py:66\u001B[0m, in \u001B[0;36mlistify\u001B[0;34m(o, use_list, match, *rest)\u001B[0m\n\u001B[1;32m     64\u001B[0m \u001B[38;5;28;01melif\u001B[39;00m \u001B[38;5;28misinstance\u001B[39m(o, \u001B[38;5;28mlist\u001B[39m): res \u001B[38;5;241m=\u001B[39m o\n\u001B[1;32m     65\u001B[0m \u001B[38;5;28;01melif\u001B[39;00m \u001B[38;5;28misinstance\u001B[39m(o, \u001B[38;5;28mstr\u001B[39m) \u001B[38;5;129;01mor\u001B[39;00m is_array(o): res \u001B[38;5;241m=\u001B[39m [o]\n\u001B[0;32m---> 66\u001B[0m \u001B[38;5;28;01melif\u001B[39;00m is_iter(o): res \u001B[38;5;241m=\u001B[39m \u001B[38;5;28;43mlist\u001B[39;49m\u001B[43m(\u001B[49m\u001B[43mo\u001B[49m\u001B[43m)\u001B[49m\n\u001B[1;32m     67\u001B[0m \u001B[38;5;28;01melse\u001B[39;00m: res \u001B[38;5;241m=\u001B[39m [o]\n\u001B[1;32m     68\u001B[0m \u001B[38;5;28;01mif\u001B[39;00m match \u001B[38;5;129;01mis\u001B[39;00m \u001B[38;5;129;01mnot\u001B[39;00m \u001B[38;5;28;01mNone\u001B[39;00m:\n",
      "File \u001B[0;32m~/mambaforge/envs/fastai_env/lib/python3.10/site-packages/fastai/optimizer.py:59\u001B[0m, in \u001B[0;36m_BaseOptimizer.set_hyper\u001B[0;34m(self, k, v)\u001B[0m\n\u001B[1;32m     57\u001B[0m v \u001B[38;5;241m=\u001B[39m L(v, use_list\u001B[38;5;241m=\u001B[39m\u001B[38;5;28;01mNone\u001B[39;00m)\n\u001B[1;32m     58\u001B[0m \u001B[38;5;28;01mif\u001B[39;00m \u001B[38;5;28mlen\u001B[39m(v)\u001B[38;5;241m==\u001B[39m\u001B[38;5;241m1\u001B[39m: v \u001B[38;5;241m=\u001B[39m v\u001B[38;5;241m*\u001B[39m\u001B[38;5;28mlen\u001B[39m(\u001B[38;5;28mself\u001B[39m\u001B[38;5;241m.\u001B[39mparam_lists)\n\u001B[0;32m---> 59\u001B[0m \u001B[38;5;28;01massert\u001B[39;00m \u001B[38;5;28mlen\u001B[39m(v) \u001B[38;5;241m==\u001B[39m \u001B[38;5;28mlen\u001B[39m(\u001B[38;5;28mself\u001B[39m\u001B[38;5;241m.\u001B[39mhypers), \u001B[38;5;124mf\u001B[39m\u001B[38;5;124m\"\u001B[39m\u001B[38;5;124mTrying to set \u001B[39m\u001B[38;5;132;01m{\u001B[39;00m\u001B[38;5;28mlen\u001B[39m(v)\u001B[38;5;132;01m}\u001B[39;00m\u001B[38;5;124m values for \u001B[39m\u001B[38;5;132;01m{\u001B[39;00mk\u001B[38;5;132;01m}\u001B[39;00m\u001B[38;5;124m but there are \u001B[39m\u001B[38;5;132;01m{\u001B[39;00m\u001B[38;5;28mlen\u001B[39m(\u001B[38;5;28mself\u001B[39m\u001B[38;5;241m.\u001B[39mparam_lists)\u001B[38;5;132;01m}\u001B[39;00m\u001B[38;5;124m parameter groups.\u001B[39m\u001B[38;5;124m\"\u001B[39m\n\u001B[1;32m     60\u001B[0m \u001B[38;5;28mself\u001B[39m\u001B[38;5;241m.\u001B[39m_set_hyper(k, v)\n",
      "\u001B[0;31mAssertionError\u001B[0m: Trying to set 64 values for lr but there are 1 parameter groups."
     ]
    }
   ],
   "source": [
    "# Usage\n",
    "run_nn(dl_train, dl_val, input_dim=855, epochs=10, lr=0.1, find_lr=False, report = False)"
   ]
  },
  {
   "cell_type": "code",
   "execution_count": null,
   "outputs": [],
   "source": [],
   "metadata": {
    "collapsed": false
   }
  },
  {
   "cell_type": "markdown",
   "metadata": {
    "collapsed": false
   },
   "source": []
  },
  {
   "cell_type": "markdown",
   "metadata": {
    "collapsed": false
   },
   "source": [
    "# old dev cells"
   ]
  },
  {
   "cell_type": "markdown",
   "metadata": {
    "collapsed": false
   },
   "source": [
    "# Assuming 'dls' is your DataLoaders object and 'train' is the training DataLoader\n",
    "batch = dls.train.one_batch()\n"
   ]
  },
  {
   "cell_type": "code",
   "execution_count": 7,
   "metadata": {
    "ExecuteTime": {
     "end_time": "2023-11-29T08:14:39.609898503Z",
     "start_time": "2023-11-29T08:14:39.557845058Z"
    },
    "collapsed": false
   },
   "outputs": [
    {
     "name": "stdout",
     "output_type": "stream",
     "text": [
      "Mean of entire DataFrame: 8.752375429106664\n",
      "Standard Deviation of entire DataFrame: 3.019593388750879\n"
     ]
    }
   ],
   "source": [
    "#check data variation. each row is a sample, each col is a dim\n",
    "curr_data =data\n",
    "value_df = curr_data.drop(['Sample_ID','oncosig_label_ERBB2'], axis=1)\n",
    "# Flatten the DataFrame to a single series and calculate mean and std\n",
    "all_values = value_df.values.flatten()\n",
    "overall_mean = all_values.mean()\n",
    "overall_std = all_values.std()\n",
    "\n",
    "print(f\"Mean of entire DataFrame: {overall_mean}\")\n",
    "print(f\"Standard Deviation of entire DataFrame: {overall_std}\")\n",
    "\n"
   ]
  },
  {
   "cell_type": "code",
   "execution_count": 8,
   "metadata": {
    "ExecuteTime": {
     "end_time": "2023-11-29T08:15:28.825902453Z",
     "start_time": "2023-11-29T08:15:28.769219146Z"
    },
    "collapsed": false
   },
   "outputs": [],
   "source": [
    "#get name of cols\n",
    "#find col with 'labal'\n",
    "label_col = [col for col in curr_data.columns if 'label' in col]\n",
    "#print warning if more than one label col\n",
    "if len(label_col) > 1:\n",
    "    print('more than one label col')\n",
    "    print(label_col)\n",
    "    print('using first label col')\n",
    "    label_col = label_col[0]\n",
    "else:\n",
    "    label_col = label_col[0]"
   ]
  },
  {
   "cell_type": "code",
   "execution_count": 9,
   "metadata": {
    "ExecuteTime": {
     "end_time": "2023-11-29T08:15:44.032940293Z",
     "start_time": "2023-11-29T08:15:43.987537371Z"
    },
    "collapsed": false
   },
   "outputs": [],
   "source": [
    "#get metadata cols: cols with label or sample_id\n",
    "metadata_cols = [col for col in curr_data.columns if 'label' in col or 'Sample' in col]"
   ]
  },
  {
   "cell_type": "code",
   "execution_count": 98,
   "metadata": {
    "ExecuteTime": {
     "end_time": "2023-11-29T08:14:27.613317202Z",
     "start_time": "2023-11-29T08:14:27.434198323Z"
    },
    "collapsed": false
   },
   "outputs": [],
   "source": []
  },
  {
   "cell_type": "markdown",
   "metadata": {
    "collapsed": false
   },
   "source": [
    "# examine data mean and std"
   ]
  },
  {
   "cell_type": "code",
   "execution_count": null,
   "metadata": {
    "collapsed": false
   },
   "outputs": [],
   "source": []
  },
  {
   "cell_type": "markdown",
   "metadata": {
    "collapsed": false
   },
   "source": [
    "# create Neural net"
   ]
  },
  {
   "cell_type": "code",
   "execution_count": 10,
   "metadata": {
    "ExecuteTime": {
     "end_time": "2023-11-29T08:16:29.264446654Z",
     "start_time": "2023-11-29T08:16:29.213095147Z"
    },
    "collapsed": false
   },
   "outputs": [],
   "source": [
    "# Preprocess the data (Assuming 'label' is your target variable)\n",
    "#split scgpt_df into val and train\n",
    "train_df = curr_data.sample(frac=0.8,random_state=200) #random state is a seed value\n",
    "val_df = curr_data.drop(train_df.index)\n",
    "\n"
   ]
  },
  {
   "cell_type": "code",
   "execution_count": 13,
   "metadata": {
    "ExecuteTime": {
     "end_time": "2023-11-28T13:46:14.369642404Z",
     "start_time": "2023-11-28T13:46:14.314091142Z"
    },
    "collapsed": false
   },
   "outputs": [],
   "source": []
  },
  {
   "cell_type": "code",
   "execution_count": 11,
   "metadata": {
    "ExecuteTime": {
     "end_time": "2023-11-29T08:16:36.762395464Z",
     "start_time": "2023-11-29T08:16:36.735263517Z"
    },
    "collapsed": false
   },
   "outputs": [
    {
     "name": "stdout",
     "output_type": "stream",
     "text": [
      "STARD3     9.5088\n",
      "SPP1      12.7887\n",
      "DST       11.2423\n",
      "DCDC2      5.4384\n",
      "ERBB3     11.7830\n",
      "ERBB4      9.1595\n",
      "GJB2      10.8425\n",
      "KIF18A     6.2226\n",
      "KIF18B     6.4233\n",
      "4-Mar      5.9467\n",
      "STYK1      6.7230\n",
      "CDKN2B     9.4294\n",
      "Name: 776, dtype: float64\n"
     ]
    },
    {
     "data": {
      "text/plain": [
       "torch.Size([759, 855])"
      ]
     },
     "execution_count": 11,
     "metadata": {},
     "output_type": "execute_result"
    }
   ],
   "source": [
    "# create stacked tensor of sample vectors. each row is a sample, each col is a dim\n",
    "train_x = train_df.drop(metadata_cols, axis=1)\n",
    "print(train_x.iloc[0,500:512])\n",
    "# Convert each row of the DataFrame to a tensor and stack them\n",
    "train_x = torch.stack([tensor(row) for row in train_x.values], dim=0)\n",
    "train_x.shape"
   ]
  },
  {
   "cell_type": "code",
   "execution_count": 106,
   "metadata": {
    "ExecuteTime": {
     "end_time": "2023-11-29T08:18:25.868522980Z",
     "start_time": "2023-11-29T08:18:25.811408719Z"
    },
    "collapsed": false
   },
   "outputs": [
    {
     "data": {
      "text/plain": [
       "(tensor([-0.2387,  0.4856, -0.2119, -0.1877, -0.9208, -0.0629,  0.7216, -0.5838, -0.5149,  1.9146,  0.1509,  0.5064]),\n",
       " torch.Size([759, 855]))"
      ]
     },
     "execution_count": 106,
     "metadata": {},
     "output_type": "execute_result"
    }
   ],
   "source": [
    "train_x[0,500:512],train_x.shape"
   ]
  },
  {
   "cell_type": "code",
   "execution_count": 12,
   "metadata": {
    "ExecuteTime": {
     "end_time": "2023-11-29T08:18:29.554050759Z",
     "start_time": "2023-11-29T08:18:29.539382778Z"
    },
    "collapsed": false
   },
   "outputs": [
    {
     "data": {
      "text/plain": [
       "(torch.Size([759]), tensor([0, 0, 0, 0, 0, 1, 0, 1, 0, 0]))"
      ]
     },
     "execution_count": 12,
     "metadata": {},
     "output_type": "execute_result"
    }
   ],
   "source": [
    "train_y = tensor(train_df[label_col].values)\n",
    "train_y.shape,train_y[0:10]\n"
   ]
  },
  {
   "cell_type": "code",
   "execution_count": 13,
   "metadata": {
    "ExecuteTime": {
     "end_time": "2023-11-29T08:18:31.270768875Z",
     "start_time": "2023-11-29T08:18:31.250129598Z"
    },
    "collapsed": false
   },
   "outputs": [
    {
     "data": {
      "text/plain": [
       "(torch.Size([190]), tensor(0), torch.Size([190, 855]))"
      ]
     },
     "execution_count": 13,
     "metadata": {},
     "output_type": "execute_result"
    }
   ],
   "source": [
    "val_x = val_df.drop(metadata_cols, axis=1)\n",
    "val_x = torch.stack([tensor(row) for row in val_x.values], dim =0)\n",
    "\n",
    "val_y = tensor(val_df[label_col].values)\n",
    "val_y.shape,val_y[0],val_x.shape"
   ]
  },
  {
   "cell_type": "code",
   "execution_count": 16,
   "metadata": {
    "ExecuteTime": {
     "end_time": "2023-11-28T13:46:14.478150987Z",
     "start_time": "2023-11-28T13:46:14.391271929Z"
    },
    "collapsed": false
   },
   "outputs": [],
   "source": []
  },
  {
   "cell_type": "code",
   "execution_count": 14,
   "metadata": {
    "ExecuteTime": {
     "end_time": "2023-11-29T08:18:32.940052174Z",
     "start_time": "2023-11-29T08:18:32.921431841Z"
    },
    "collapsed": false
   },
   "outputs": [],
   "source": [
    "#create data sets from train and val x and y\n",
    "train_dset = list(zip(train_x,train_y))\n",
    "val_dset = list(zip(val_x,val_y))"
   ]
  },
  {
   "cell_type": "code",
   "execution_count": 16,
   "metadata": {},
   "outputs": [],
   "source": [
    "#create data loaders\n",
    "dl_train = DataLoader(train_dset, batch_size=64)\n",
    "dl_val = DataLoader(val_dset, batch_size=64)"
   ]
  },
  {
   "cell_type": "code",
   "execution_count": null,
   "metadata": {
    "collapsed": false
   },
   "outputs": [],
   "source": [
    "#examine the the first few rows and cols\n",
    "print(data.iloc[:5,:5])"
   ]
  },
  {
   "cell_type": "markdown",
   "metadata": {
    "collapsed": false
   },
   "source": [
    "# manual model"
   ]
  },
  {
   "cell_type": "code",
   "execution_count": null,
   "metadata": {},
   "outputs": [],
   "source": []
  },
  {
   "cell_type": "code",
   "execution_count": 15,
   "metadata": {
    "ExecuteTime": {
     "end_time": "2023-11-29T08:18:45.174165764Z",
     "start_time": "2023-11-29T08:18:45.152862092Z"
    },
    "collapsed": false
   },
   "outputs": [],
   "source": [
    "def stamp_loss(preds, targs):\n",
    "    preds = preds.sigmoid()\n",
    "    return torch.where(targs==1, 1-preds, preds).mean()"
   ]
  },
  {
   "cell_type": "code",
   "execution_count": 110,
   "metadata": {
    "ExecuteTime": {
     "end_time": "2023-11-29T08:18:35.248177865Z",
     "start_time": "2023-11-29T08:18:35.224764505Z"
    },
    "collapsed": false
   },
   "outputs": [],
   "source": [
    "def init_params(size, std=1.0): return (torch.randn(size)*std).requires_grad_()\n"
   ]
  },
  {
   "cell_type": "code",
   "execution_count": 123,
   "metadata": {
    "ExecuteTime": {
     "end_time": "2023-11-29T08:20:15.640770842Z",
     "start_time": "2023-11-29T08:20:15.574201858Z"
    },
    "collapsed": false
   },
   "outputs": [],
   "source": [
    "# init weights\n",
    "weights_1 = init_params(855,1)\n",
    "\n",
    "\n",
    "bias_1 = init_params(1,1)"
   ]
  },
  {
   "cell_type": "code",
   "execution_count": 114,
   "metadata": {
    "ExecuteTime": {
     "end_time": "2023-11-29T08:18:47.378373412Z",
     "start_time": "2023-11-29T08:18:47.353102957Z"
    },
    "collapsed": false
   },
   "outputs": [
    {
     "data": {
      "text/plain": [
       "(torch.Size([855]), tensor(0))"
      ]
     },
     "execution_count": 114,
     "metadata": {},
     "output_type": "execute_result"
    }
   ],
   "source": [
    "\n",
    "x,y= train_dset[0]\n",
    "x.shape, y"
   ]
  },
  {
   "cell_type": "code",
   "execution_count": 112,
   "metadata": {
    "ExecuteTime": {
     "end_time": "2023-11-29T08:18:43.258784643Z",
     "start_time": "2023-11-29T08:18:43.243147105Z"
    },
    "collapsed": false
   },
   "outputs": [],
   "source": [
    "#simple linear layer\n",
    "\n",
    "def linear1(xb): return xb@weights_1 + bias_1"
   ]
  },
  {
   "cell_type": "code",
   "execution_count": 115,
   "metadata": {
    "ExecuteTime": {
     "end_time": "2023-11-29T08:18:49.672043216Z",
     "start_time": "2023-11-29T08:18:49.659307910Z"
    },
    "collapsed": false
   },
   "outputs": [
    {
     "data": {
      "text/plain": [
       "(torch.Size([64, 855]), torch.Size([64]))"
      ]
     },
     "execution_count": 115,
     "metadata": {},
     "output_type": "execute_result"
    }
   ],
   "source": [
    "\n",
    "xb,yb = first(dl_train)\n",
    "xb.shape, yb.shape"
   ]
  },
  {
   "cell_type": "code",
   "execution_count": 24,
   "metadata": {
    "ExecuteTime": {
     "end_time": "2023-11-28T13:46:14.536899071Z",
     "start_time": "2023-11-28T13:46:14.478097664Z"
    },
    "collapsed": false
   },
   "outputs": [
    {
     "data": {
      "text/plain": [
       "torch.Size([100, 512])"
      ]
     },
     "execution_count": 24,
     "metadata": {},
     "output_type": "execute_result"
    }
   ],
   "source": [
    "#test mini batch\n",
    "batch = train_x[:100]\n",
    "batch.shape"
   ]
  },
  {
   "cell_type": "code",
   "execution_count": null,
   "metadata": {
    "collapsed": false
   },
   "outputs": [],
   "source": [
    "preds = linear1(batch)\n",
    "preds"
   ]
  },
  {
   "cell_type": "code",
   "execution_count": 26,
   "metadata": {
    "ExecuteTime": {
     "end_time": "2023-11-28T13:46:14.678324438Z",
     "start_time": "2023-11-28T13:46:14.489635955Z"
    },
    "collapsed": false
   },
   "outputs": [
    {
     "data": {
      "text/plain": [
       "tensor(0.5076, grad_fn=<MeanBackward0>)"
      ]
     },
     "execution_count": 26,
     "metadata": {},
     "output_type": "execute_result"
    }
   ],
   "source": [
    "loss = stamp_loss(preds, train_y[:100])\n",
    "loss"
   ]
  },
  {
   "cell_type": "code",
   "execution_count": null,
   "metadata": {
    "collapsed": false
   },
   "outputs": [],
   "source": [
    "#for each sample in batch (tensor of 100 x 512) create a tensor of mean and sd, and then plot\n",
    "batch_means = batch.mean(dim=1)\n",
    "batch_stds = batch.std(dim=1)\n",
    "#create hist of mean\n",
    "plt.hist(batch_means.cpu().numpy(), bins=20)\n",
    "plt.show()\n",
    "plt.hist(batch_stds.cpu().numpy(), bins=20)\n",
    "plt.show()"
   ]
  },
  {
   "cell_type": "code",
   "execution_count": 28,
   "metadata": {
    "ExecuteTime": {
     "end_time": "2023-11-28T13:46:15.048258968Z",
     "start_time": "2023-11-28T13:46:15.016676443Z"
    },
    "collapsed": false
   },
   "outputs": [
    {
     "data": {
      "text/plain": [
       "(torch.Size([512]),\n",
       " tensor(1.4028e-05),\n",
       " tensor([0.1365]),\n",
       " tensor([-2.4886e-02,  1.4720e-02,  2.4593e-02,  2.0982e-02,  5.7275e-02,  3.2034e-02,  1.9298e-02,  4.5949e-02, -5.9231e-02,  9.0581e-05,  4.3937e-02, -4.5054e-03,  4.8138e-03,  8.5608e-03,\n",
       "         -3.6844e-02, -6.6057e-02,  3.2865e-02,  2.8748e-02, -8.5472e-03,  9.2744e-03]))"
      ]
     },
     "execution_count": 28,
     "metadata": {},
     "output_type": "execute_result"
    }
   ],
   "source": [
    "#get grad\n",
    "loss.backward()\n",
    "weights_1.grad.shape, weights_1.grad.mean(), bias_1.grad, weights_1.grad[:20]"
   ]
  },
  {
   "cell_type": "code",
   "execution_count": 116,
   "metadata": {
    "ExecuteTime": {
     "end_time": "2023-11-29T08:18:59.145194375Z",
     "start_time": "2023-11-29T08:18:59.116624498Z"
    },
    "collapsed": false
   },
   "outputs": [],
   "source": [
    "def calc_grad(xb, yb, model):\n",
    "    preds = model(xb)\n",
    "    loss = stamp_loss(preds, yb)\n",
    "    loss.backward()\n",
    "    #print stat of grad: mean weights grad and 0:5 of weights grad\n",
    "    print('mean grad:\\n', weights_1.grad.mean(),'\\n first 5 grad', weights_1.grad[:5])"
   ]
  },
  {
   "cell_type": "code",
   "execution_count": 117,
   "metadata": {
    "ExecuteTime": {
     "end_time": "2023-11-29T08:19:02.797361132Z",
     "start_time": "2023-11-29T08:19:02.778411855Z"
    },
    "collapsed": false
   },
   "outputs": [],
   "source": [
    "def train_epoch(model, lr, params):\n",
    "    for xb,yb in dl_train:\n",
    "        calc_grad(xb, yb, model)\n",
    "        for p in params:\n",
    "            p.data -= p.grad*lr\n",
    "            #print first 5 weights\n",
    "            #print('params:\\n', p.data[:5])\n",
    "            p.grad.zero_()"
   ]
  },
  {
   "cell_type": "code",
   "execution_count": 118,
   "metadata": {
    "ExecuteTime": {
     "end_time": "2023-11-29T08:19:04.308983695Z",
     "start_time": "2023-11-29T08:19:04.308387052Z"
    },
    "collapsed": false
   },
   "outputs": [],
   "source": [
    "\n",
    "def batch_accuracy(xb, yb):\n",
    "    preds = xb.sigmoid()\n",
    "    correct = (preds>0.5) == yb\n",
    "    return correct.float().mean()"
   ]
  },
  {
   "cell_type": "code",
   "execution_count": 32,
   "metadata": {
    "ExecuteTime": {
     "end_time": "2023-11-28T13:46:15.269708930Z",
     "start_time": "2023-11-28T13:46:15.074112678Z"
    },
    "collapsed": false
   },
   "outputs": [
    {
     "data": {
      "text/plain": [
       "tensor(0.4800)"
      ]
     },
     "execution_count": 32,
     "metadata": {},
     "output_type": "execute_result"
    }
   ],
   "source": [
    "batch_accuracy(linear1(batch), train_y[:100])\n"
   ]
  },
  {
   "cell_type": "code",
   "execution_count": 119,
   "metadata": {
    "ExecuteTime": {
     "end_time": "2023-11-29T08:19:06.044686445Z",
     "start_time": "2023-11-29T08:19:06.031565047Z"
    },
    "collapsed": false
   },
   "outputs": [],
   "source": [
    "def validate_epoch(model):\n",
    "    accs = [batch_accuracy(model(xb), yb) for xb,yb in dl_val]\n",
    "    return round(torch.stack(accs).mean().item(), 4)"
   ]
  },
  {
   "cell_type": "code",
   "execution_count": 125,
   "metadata": {
    "ExecuteTime": {
     "end_time": "2023-11-29T08:20:28.603999629Z",
     "start_time": "2023-11-29T08:20:27.583800729Z"
    },
    "collapsed": false
   },
   "outputs": [
    {
     "name": "stdout",
     "output_type": "stream",
     "text": [
      "mean grad:\n",
      " tensor(0.0001) \n",
      " first 5 grad tensor([0.0070, 0.0000, 0.0074, 0.0009, 0.0056])\n",
      "mean grad:\n",
      " tensor(-0.0003) \n",
      " first 5 grad tensor([ 0.0059,  0.0000, -0.0007,  0.0022, -0.0048])\n",
      "mean grad:\n",
      " tensor(-0.0031) \n",
      " first 5 grad tensor([ 0.0095,  0.0000, -0.0082, -0.0065,  0.0017])\n",
      "mean grad:\n",
      " tensor(0.0020) \n",
      " first 5 grad tensor([0.0032, 0.0000, 0.0061, 0.0007, 0.0031])\n",
      "mean grad:\n",
      " tensor(0.0003) \n",
      " first 5 grad tensor([-0.0029,  0.0000,  0.0057, -0.0052, -0.0062])\n",
      "mean grad:\n",
      " tensor(0.0003) \n",
      " first 5 grad tensor([0.0011, 0.0000, 0.0020, 0.0014, 0.0067])\n",
      "mean grad:\n",
      " tensor(-7.0838e-05) \n",
      " first 5 grad tensor([-0.0023,  0.0000, -0.0003, -0.0011,  0.0013])\n",
      "mean grad:\n",
      " tensor(-0.0009) \n",
      " first 5 grad tensor([-0.0024,  0.0000, -0.0077, -0.0003, -0.0025])\n",
      "mean grad:\n",
      " tensor(-0.0015) \n",
      " first 5 grad tensor([ 0.0008,  0.0000, -0.0059, -0.0020, -0.0056])\n",
      "mean grad:\n",
      " tensor(-0.0003) \n",
      " first 5 grad tensor([ 0.0143,  0.0000, -0.0026,  0.0080,  0.0052])\n",
      "mean grad:\n",
      " tensor(0.0010) \n",
      " first 5 grad tensor([-0.0015,  0.0000,  0.0040,  0.0007,  0.0022])\n",
      "mean grad:\n",
      " tensor(-0.0012) \n",
      " first 5 grad tensor([0.0112, 0.0000, 0.0058, 0.0077, 0.0059])\n",
      "0.4635 mean grad:\n",
      " tensor(-0.0002) \n",
      " first 5 grad tensor([8.7112e-03, 0.0000e+00, 5.6944e-03, 5.5294e-05, 4.9586e-03])\n",
      "mean grad:\n",
      " tensor(-0.0003) \n",
      " first 5 grad tensor([ 0.0057,  0.0000, -0.0011,  0.0020, -0.0047])\n",
      "mean grad:\n",
      " tensor(-0.0031) \n",
      " first 5 grad tensor([ 0.0091,  0.0000, -0.0083, -0.0085, -0.0005])\n",
      "mean grad:\n",
      " tensor(0.0020) \n",
      " first 5 grad tensor([0.0034, 0.0000, 0.0062, 0.0009, 0.0030])\n",
      "mean grad:\n",
      " tensor(0.0004) \n",
      " first 5 grad tensor([-0.0027,  0.0000,  0.0050, -0.0039, -0.0042])\n",
      "mean grad:\n",
      " tensor(0.0002) \n",
      " first 5 grad tensor([0.0018, 0.0000, 0.0022, 0.0005, 0.0077])\n",
      "mean grad:\n",
      " tensor(-5.8044e-05) \n",
      " first 5 grad tensor([-0.0025,  0.0000, -0.0002, -0.0012,  0.0018])\n",
      "mean grad:\n",
      " tensor(-0.0009) \n",
      " first 5 grad tensor([-0.0022,  0.0000, -0.0074,  0.0002, -0.0020])\n",
      "mean grad:\n",
      " tensor(-0.0014) \n",
      " first 5 grad tensor([ 0.0013,  0.0000, -0.0061, -0.0009, -0.0048])\n",
      "mean grad:\n",
      " tensor(-0.0005) \n",
      " first 5 grad tensor([ 0.0129,  0.0000, -0.0030,  0.0073,  0.0047])\n",
      "mean grad:\n",
      " tensor(0.0010) \n",
      " first 5 grad tensor([7.1290e-05, 0.0000e+00, 4.5545e-03, 1.7435e-04, 1.8517e-03])\n",
      "mean grad:\n",
      " tensor(-0.0006) \n",
      " first 5 grad tensor([ 0.0068,  0.0000,  0.0019,  0.0052, -0.0008])\n",
      "0.4635 mean grad:\n",
      " tensor(-0.0004) \n",
      " first 5 grad tensor([ 0.0100,  0.0000,  0.0045, -0.0013,  0.0046])\n",
      "mean grad:\n",
      " tensor(-0.0004) \n",
      " first 5 grad tensor([ 0.0054,  0.0000, -0.0014,  0.0013, -0.0049])\n",
      "mean grad:\n",
      " tensor(-0.0029) \n",
      " first 5 grad tensor([ 0.0088,  0.0000, -0.0083, -0.0109, -0.0043])\n",
      "mean grad:\n",
      " tensor(0.0019) \n",
      " first 5 grad tensor([0.0035, 0.0000, 0.0058, 0.0011, 0.0028])\n",
      "mean grad:\n",
      " tensor(0.0004) \n",
      " first 5 grad tensor([-0.0023,  0.0000,  0.0044, -0.0028, -0.0025])\n",
      "mean grad:\n",
      " tensor(1.7828e-05) \n",
      " first 5 grad tensor([ 0.0031,  0.0000,  0.0023, -0.0012,  0.0094])\n",
      "mean grad:\n",
      " tensor(-7.3614e-05) \n",
      " first 5 grad tensor([-2.8423e-03,  0.0000e+00, -3.4963e-05, -1.5581e-03,  2.1243e-03])\n",
      "mean grad:\n",
      " tensor(-0.0009) \n",
      " first 5 grad tensor([-0.0020,  0.0000, -0.0072,  0.0005, -0.0016])\n",
      "mean grad:\n",
      " tensor(-0.0011) \n",
      " first 5 grad tensor([ 0.0024,  0.0000, -0.0059,  0.0010, -0.0034])\n",
      "mean grad:\n",
      " tensor(-0.0005) \n",
      " first 5 grad tensor([ 0.0119,  0.0000, -0.0031,  0.0070,  0.0046])\n",
      "mean grad:\n",
      " tensor(0.0011) \n",
      " first 5 grad tensor([ 0.0023,  0.0000,  0.0051, -0.0004,  0.0012])\n",
      "mean grad:\n",
      " tensor(-0.0005) \n",
      " first 5 grad tensor([ 0.0051,  0.0000,  0.0004,  0.0036, -0.0032])\n",
      "0.4635 mean grad:\n",
      " tensor(-0.0006) \n",
      " first 5 grad tensor([ 0.0102,  0.0000,  0.0030, -0.0016,  0.0038])\n",
      "mean grad:\n",
      " tensor(-0.0005) \n",
      " first 5 grad tensor([ 0.0053,  0.0000, -0.0015,  0.0002, -0.0054])\n",
      "mean grad:\n",
      " tensor(-0.0026) \n",
      " first 5 grad tensor([ 0.0081,  0.0000, -0.0082, -0.0120, -0.0060])\n",
      "mean grad:\n",
      " tensor(0.0017) \n",
      " first 5 grad tensor([0.0038, 0.0000, 0.0052, 0.0014, 0.0027])\n",
      "mean grad:\n",
      " tensor(0.0004) \n",
      " first 5 grad tensor([-0.0020,  0.0000,  0.0037, -0.0018, -0.0010])\n",
      "mean grad:\n",
      " tensor(-0.0003) \n",
      " first 5 grad tensor([ 0.0046,  0.0000,  0.0023, -0.0029,  0.0112])\n",
      "mean grad:\n",
      " tensor(-0.0001) \n",
      " first 5 grad tensor([-3.2407e-03,  0.0000e+00,  7.5743e-05, -2.1331e-03,  2.4508e-03])\n",
      "mean grad:\n",
      " tensor(-0.0009) \n",
      " first 5 grad tensor([-0.0016,  0.0000, -0.0070,  0.0008, -0.0010])\n",
      "mean grad:\n",
      " tensor(-0.0007) \n",
      " first 5 grad tensor([ 0.0037,  0.0000, -0.0055,  0.0029, -0.0019])\n",
      "mean grad:\n",
      " tensor(-0.0005) \n",
      " first 5 grad tensor([ 0.0110,  0.0000, -0.0033,  0.0070,  0.0050])\n",
      "mean grad:\n",
      " tensor(0.0011) \n",
      " first 5 grad tensor([ 0.0051,  0.0000,  0.0059, -0.0011,  0.0004])\n",
      "mean grad:\n",
      " tensor(-0.0006) \n",
      " first 5 grad tensor([ 0.0043,  0.0000, -0.0004,  0.0023, -0.0046])\n",
      "0.4635 mean grad:\n",
      " tensor(-0.0006) \n",
      " first 5 grad tensor([8.4927e-03, 0.0000e+00, 6.3430e-04, 5.1016e-05, 2.3198e-03])\n",
      "mean grad:\n",
      " tensor(-0.0005) \n",
      " first 5 grad tensor([ 0.0053,  0.0000, -0.0014, -0.0009, -0.0057])\n",
      "mean grad:\n",
      " tensor(-0.0022) \n",
      " first 5 grad tensor([ 0.0071,  0.0000, -0.0081, -0.0118, -0.0062])\n",
      "mean grad:\n",
      " tensor(0.0014) \n",
      " first 5 grad tensor([0.0045, 0.0000, 0.0044, 0.0019, 0.0029])\n",
      "mean grad:\n",
      " tensor(0.0005) \n",
      " first 5 grad tensor([-0.0016,  0.0000,  0.0032, -0.0010,  0.0003])\n",
      "mean grad:\n",
      " tensor(-0.0002) \n",
      " first 5 grad tensor([ 0.0045,  0.0000,  0.0017, -0.0013,  0.0099])\n",
      "mean grad:\n",
      " tensor(-0.0001) \n",
      " first 5 grad tensor([-0.0036,  0.0000,  0.0002, -0.0026,  0.0027])\n",
      "mean grad:\n",
      " tensor(-0.0009) \n",
      " first 5 grad tensor([-0.0011,  0.0000, -0.0066,  0.0009, -0.0003])\n",
      "mean grad:\n",
      " tensor(-0.0005) \n",
      " first 5 grad tensor([ 0.0047,  0.0000, -0.0053,  0.0043, -0.0008])\n",
      "mean grad:\n",
      " tensor(-0.0003) \n",
      " first 5 grad tensor([ 0.0104,  0.0000, -0.0033,  0.0073,  0.0056])\n",
      "mean grad:\n",
      " tensor(0.0011) \n",
      " first 5 grad tensor([ 0.0078,  0.0000,  0.0066, -0.0019, -0.0003])\n",
      "mean grad:\n",
      " tensor(-0.0008) \n",
      " first 5 grad tensor([ 0.0038,  0.0000, -0.0011,  0.0014, -0.0056])\n",
      "0.4634 mean grad:\n",
      " tensor(-0.0006) \n",
      " first 5 grad tensor([ 0.0069,  0.0000, -0.0005,  0.0013,  0.0011])\n",
      "mean grad:\n",
      " tensor(-0.0005) \n",
      " first 5 grad tensor([ 0.0052,  0.0000, -0.0011, -0.0017, -0.0057])\n",
      "mean grad:\n",
      " tensor(-0.0018) \n",
      " first 5 grad tensor([ 0.0063,  0.0000, -0.0083, -0.0109, -0.0059])\n",
      "mean grad:\n",
      " tensor(0.0010) \n",
      " first 5 grad tensor([0.0058, 0.0000, 0.0034, 0.0027, 0.0034])\n",
      "mean grad:\n",
      " tensor(0.0005) \n",
      " first 5 grad tensor([-0.0014,  0.0000,  0.0028, -0.0004,  0.0014])\n",
      "mean grad:\n",
      " tensor(-0.0002) \n",
      " first 5 grad tensor([0.0045, 0.0000, 0.0005, 0.0016, 0.0076])\n",
      "mean grad:\n",
      " tensor(-0.0001) \n",
      " first 5 grad tensor([-0.0040,  0.0000,  0.0002, -0.0030,  0.0030])\n",
      "mean grad:\n",
      " tensor(-0.0009) \n",
      " first 5 grad tensor([-0.0002,  0.0000, -0.0060,  0.0009,  0.0008])\n",
      "mean grad:\n",
      " tensor(-0.0004) \n",
      " first 5 grad tensor([ 0.0053,  0.0000, -0.0052,  0.0051, -0.0002])\n",
      "mean grad:\n",
      " tensor(-0.0002) \n",
      " first 5 grad tensor([ 0.0102,  0.0000, -0.0033,  0.0080,  0.0062])\n",
      "mean grad:\n",
      " tensor(0.0012) \n",
      " first 5 grad tensor([ 0.0098,  0.0000,  0.0071, -0.0023, -0.0004])\n",
      "mean grad:\n",
      " tensor(-0.0009) \n",
      " first 5 grad tensor([ 0.0036,  0.0000, -0.0017,  0.0006, -0.0065])\n",
      "0.4635 mean grad:\n",
      " tensor(-0.0004) \n",
      " first 5 grad tensor([ 0.0060,  0.0000, -0.0002,  0.0017,  0.0003])\n",
      "mean grad:\n",
      " tensor(-0.0005) \n",
      " first 5 grad tensor([ 0.0050,  0.0000, -0.0006, -0.0021, -0.0054])\n",
      "mean grad:\n",
      " tensor(-0.0015) \n",
      " first 5 grad tensor([ 0.0057,  0.0000, -0.0087, -0.0099, -0.0055])\n",
      "mean grad:\n",
      " tensor(0.0006) \n",
      " first 5 grad tensor([0.0076, 0.0000, 0.0023, 0.0038, 0.0044])\n",
      "mean grad:\n",
      " tensor(0.0006) \n",
      " first 5 grad tensor([-1.1739e-03,  0.0000e+00,  2.4457e-03, -1.9912e-05,  2.0193e-03])\n",
      "mean grad:\n",
      " tensor(-0.0005) \n",
      " first 5 grad tensor([ 0.0060,  0.0000, -0.0014,  0.0037,  0.0067])\n",
      "mean grad:\n",
      " tensor(-0.0001) \n",
      " first 5 grad tensor([-0.0043,  0.0000,  0.0003, -0.0033,  0.0032])\n",
      "mean grad:\n",
      " tensor(-0.0008) \n",
      " first 5 grad tensor([ 0.0012,  0.0000, -0.0047,  0.0009,  0.0025])\n",
      "mean grad:\n",
      " tensor(-0.0004) \n",
      " first 5 grad tensor([ 0.0056,  0.0000, -0.0049,  0.0055,  0.0001])\n",
      "mean grad:\n",
      " tensor(-2.5668e-05) \n",
      " first 5 grad tensor([ 0.0106,  0.0000, -0.0032,  0.0089,  0.0067])\n",
      "mean grad:\n",
      " tensor(0.0012) \n",
      " first 5 grad tensor([ 0.0115,  0.0000,  0.0078, -0.0027,  0.0001])\n",
      "mean grad:\n",
      " tensor(-0.0011) \n",
      " first 5 grad tensor([ 0.0035,  0.0000, -0.0023, -0.0001, -0.0073])\n",
      "0.4635 mean grad:\n",
      " tensor(-0.0001) \n",
      " first 5 grad tensor([ 0.0055,  0.0000,  0.0006,  0.0017, -0.0004])\n",
      "mean grad:\n",
      " tensor(-0.0004) \n",
      " first 5 grad tensor([ 4.8071e-03,  0.0000e+00, -4.5133e-05, -2.0964e-03, -4.7162e-03])\n",
      "mean grad:\n",
      " tensor(-0.0013) \n",
      " first 5 grad tensor([ 0.0049,  0.0000, -0.0086, -0.0089, -0.0050])\n",
      "mean grad:\n",
      " tensor(0.0003) \n",
      " first 5 grad tensor([0.0097, 0.0000, 0.0017, 0.0049, 0.0054])\n",
      "mean grad:\n",
      " tensor(0.0006) \n",
      " first 5 grad tensor([-0.0010,  0.0000,  0.0021,  0.0003,  0.0023])\n",
      "mean grad:\n",
      " tensor(-0.0011) \n",
      " first 5 grad tensor([ 0.0090,  0.0000, -0.0043,  0.0053,  0.0065])\n",
      "mean grad:\n",
      " tensor(-0.0001) \n",
      " first 5 grad tensor([-0.0047,  0.0000,  0.0003, -0.0036,  0.0034])\n",
      "mean grad:\n",
      " tensor(-0.0007) \n",
      " first 5 grad tensor([ 0.0036,  0.0000, -0.0026,  0.0009,  0.0053])\n",
      "mean grad:\n",
      " tensor(-0.0003) \n",
      " first 5 grad tensor([ 0.0054,  0.0000, -0.0042,  0.0054,  0.0002])\n",
      "mean grad:\n",
      " tensor(7.4304e-05) \n",
      " first 5 grad tensor([ 0.0114,  0.0000, -0.0029,  0.0100,  0.0070])\n",
      "mean grad:\n",
      " tensor(0.0013) \n",
      " first 5 grad tensor([ 0.0135,  0.0000,  0.0089, -0.0034,  0.0007])\n",
      "mean grad:\n",
      " tensor(-0.0012) \n",
      " first 5 grad tensor([ 0.0033,  0.0000, -0.0027, -0.0007, -0.0076])\n",
      "0.474 mean grad:\n",
      " tensor(6.9103e-05) \n",
      " first 5 grad tensor([ 0.0052,  0.0000,  0.0013,  0.0016, -0.0009])\n",
      "mean grad:\n",
      " tensor(-0.0003) \n",
      " first 5 grad tensor([ 0.0051,  0.0000,  0.0001, -0.0018, -0.0042])\n",
      "mean grad:\n",
      " tensor(-0.0010) \n",
      " first 5 grad tensor([ 0.0039,  0.0000, -0.0078, -0.0080, -0.0045])\n",
      "mean grad:\n",
      " tensor(0.0003) \n",
      " first 5 grad tensor([0.0101, 0.0000, 0.0021, 0.0050, 0.0052])\n",
      "mean grad:\n",
      " tensor(0.0006) \n",
      " first 5 grad tensor([-0.0010,  0.0000,  0.0018,  0.0004,  0.0021])\n",
      "mean grad:\n",
      " tensor(-0.0018) \n",
      " first 5 grad tensor([ 0.0118,  0.0000, -0.0071,  0.0064,  0.0068])\n",
      "mean grad:\n",
      " tensor(-0.0001) \n",
      " first 5 grad tensor([-0.0052,  0.0000,  0.0003, -0.0039,  0.0034])\n",
      "mean grad:\n",
      " tensor(-0.0006) \n",
      " first 5 grad tensor([ 0.0060,  0.0000, -0.0009,  0.0013,  0.0077])\n",
      "mean grad:\n",
      " tensor(-0.0002) \n",
      " first 5 grad tensor([ 0.0051,  0.0000, -0.0031,  0.0050,  0.0001])\n",
      "mean grad:\n",
      " tensor(0.0001) \n",
      " first 5 grad tensor([ 0.0125,  0.0000, -0.0019,  0.0111,  0.0070])\n",
      "mean grad:\n",
      " tensor(0.0014) \n",
      " first 5 grad tensor([ 0.0144,  0.0000,  0.0099, -0.0042,  0.0010])\n",
      "mean grad:\n",
      " tensor(-0.0012) \n",
      " first 5 grad tensor([ 0.0030,  0.0000, -0.0028, -0.0010, -0.0076])\n",
      "0.4795 mean grad:\n",
      " tensor(0.0002) \n",
      " first 5 grad tensor([ 0.0044,  0.0000,  0.0010,  0.0017, -0.0007])\n",
      "mean grad:\n",
      " tensor(-0.0002) \n",
      " first 5 grad tensor([ 0.0060,  0.0000, -0.0002, -0.0016, -0.0040])\n",
      "mean grad:\n",
      " tensor(-0.0008) \n",
      " first 5 grad tensor([ 0.0028,  0.0000, -0.0066, -0.0073, -0.0039])\n",
      "mean grad:\n",
      " tensor(0.0005) \n",
      " first 5 grad tensor([0.0078, 0.0000, 0.0025, 0.0038, 0.0032])\n",
      "mean grad:\n",
      " tensor(0.0006) \n",
      " first 5 grad tensor([-0.0011,  0.0000,  0.0015,  0.0002,  0.0014])\n",
      "mean grad:\n",
      " tensor(-0.0019) \n",
      " first 5 grad tensor([ 0.0118,  0.0000, -0.0084,  0.0066,  0.0069])\n",
      "mean grad:\n",
      " tensor(-0.0001) \n",
      " first 5 grad tensor([-0.0056,  0.0000,  0.0003, -0.0042,  0.0033])\n",
      "mean grad:\n",
      " tensor(-0.0007) \n",
      " first 5 grad tensor([ 0.0065,  0.0000, -0.0012,  0.0026,  0.0074])\n",
      "mean grad:\n",
      " tensor(-0.0001) \n",
      " first 5 grad tensor([ 4.9038e-03,  0.0000e+00, -1.4840e-03,  4.5856e-03, -3.3367e-05])\n",
      "mean grad:\n",
      " tensor(0.0002) \n",
      " first 5 grad tensor([0.0137, 0.0000, 0.0002, 0.0118, 0.0068])\n",
      "mean grad:\n",
      " tensor(0.0013) \n",
      " first 5 grad tensor([ 0.0094,  0.0000,  0.0088, -0.0027,  0.0016])\n",
      "mean grad:\n",
      " tensor(-0.0011) \n",
      " first 5 grad tensor([ 0.0027,  0.0000, -0.0028, -0.0010, -0.0072])\n",
      "0.4795 mean grad:\n",
      " tensor(0.0002) \n",
      " first 5 grad tensor([ 0.0039,  0.0000,  0.0006,  0.0017, -0.0003])\n",
      "mean grad:\n",
      " tensor(-0.0002) \n",
      " first 5 grad tensor([ 0.0064,  0.0000, -0.0006, -0.0019, -0.0039])\n",
      "mean grad:\n",
      " tensor(-0.0007) \n",
      " first 5 grad tensor([ 0.0020,  0.0000, -0.0058, -0.0069, -0.0035])\n",
      "mean grad:\n",
      " tensor(0.0006) \n",
      " first 5 grad tensor([0.0060, 0.0000, 0.0026, 0.0030, 0.0017])\n",
      "mean grad:\n",
      " tensor(0.0006) \n",
      " first 5 grad tensor([-1.1531e-03,  0.0000e+00,  1.2887e-03,  7.1765e-06,  6.4721e-04])\n",
      "mean grad:\n",
      " tensor(-0.0018) \n",
      " first 5 grad tensor([ 0.0103,  0.0000, -0.0084,  0.0063,  0.0070])\n",
      "mean grad:\n",
      " tensor(-0.0002) \n",
      " first 5 grad tensor([-0.0059,  0.0000,  0.0003, -0.0046,  0.0030])\n",
      "mean grad:\n",
      " tensor(-0.0008) \n",
      " first 5 grad tensor([ 0.0070,  0.0000, -0.0019,  0.0047,  0.0067])\n",
      "mean grad:\n",
      " tensor(-2.8081e-05) \n",
      " first 5 grad tensor([ 0.0050,  0.0000,  0.0007,  0.0044, -0.0003])\n",
      "mean grad:\n",
      " tensor(0.0002) \n",
      " first 5 grad tensor([0.0150, 0.0000, 0.0031, 0.0118, 0.0064])\n",
      "mean grad:\n",
      " tensor(0.0013) \n",
      " first 5 grad tensor([ 0.0040,  0.0000,  0.0072, -0.0010,  0.0021])\n",
      "mean grad:\n",
      " tensor(-0.0011) \n",
      " first 5 grad tensor([ 0.0025,  0.0000, -0.0027, -0.0011, -0.0068])\n",
      "0.4795 mean grad:\n",
      " tensor(0.0003) \n",
      " first 5 grad tensor([4.2083e-03, 0.0000e+00, 8.1593e-04, 1.3926e-03, 2.2688e-05])\n",
      "mean grad:\n",
      " tensor(-0.0002) \n",
      " first 5 grad tensor([ 0.0055,  0.0000, -0.0011, -0.0023, -0.0042])\n",
      "mean grad:\n",
      " tensor(-0.0006) \n",
      " first 5 grad tensor([ 0.0015,  0.0000, -0.0056, -0.0068, -0.0034])\n",
      "mean grad:\n",
      " tensor(0.0008) \n",
      " first 5 grad tensor([0.0052, 0.0000, 0.0027, 0.0029, 0.0007])\n",
      "mean grad:\n",
      " tensor(0.0005) \n",
      " first 5 grad tensor([-0.0012,  0.0000,  0.0011, -0.0003, -0.0002])\n",
      "mean grad:\n",
      " tensor(-0.0016) \n",
      " first 5 grad tensor([ 0.0089,  0.0000, -0.0080,  0.0057,  0.0069])\n",
      "mean grad:\n",
      " tensor(-0.0002) \n",
      " first 5 grad tensor([-0.0062,  0.0000,  0.0004, -0.0050,  0.0024])\n",
      "mean grad:\n",
      " tensor(-0.0009) \n",
      " first 5 grad tensor([ 0.0087,  0.0000, -0.0017,  0.0074,  0.0070])\n",
      "mean grad:\n",
      " tensor(0.0001) \n",
      " first 5 grad tensor([ 0.0059,  0.0000,  0.0035,  0.0041, -0.0003])\n",
      "mean grad:\n",
      " tensor(0.0004) \n",
      " first 5 grad tensor([0.0160, 0.0000, 0.0047, 0.0098, 0.0050])\n",
      "mean grad:\n",
      " tensor(0.0012) \n",
      " first 5 grad tensor([ 0.0023,  0.0000,  0.0067, -0.0004,  0.0022])\n",
      "mean grad:\n",
      " tensor(-0.0010) \n",
      " first 5 grad tensor([ 0.0023,  0.0000, -0.0027, -0.0011, -0.0065])\n",
      "0.4793 mean grad:\n",
      " tensor(0.0004) \n",
      " first 5 grad tensor([0.0056, 0.0000, 0.0017, 0.0008, 0.0003])\n",
      "mean grad:\n",
      " tensor(-0.0004) \n",
      " first 5 grad tensor([ 0.0028,  0.0000, -0.0021, -0.0024, -0.0053])\n",
      "mean grad:\n",
      " tensor(-0.0007) \n",
      " first 5 grad tensor([ 0.0013,  0.0000, -0.0058, -0.0069, -0.0035])\n",
      "mean grad:\n",
      " tensor(0.0009) \n",
      " first 5 grad tensor([0.0049, 0.0000, 0.0029, 0.0033, 0.0002])\n",
      "mean grad:\n",
      " tensor(0.0005) \n",
      " first 5 grad tensor([-0.0013,  0.0000,  0.0009, -0.0005, -0.0010])\n",
      "mean grad:\n",
      " tensor(-0.0014) \n",
      " first 5 grad tensor([ 0.0079,  0.0000, -0.0070,  0.0051,  0.0066])\n",
      "mean grad:\n",
      " tensor(-0.0003) \n",
      " first 5 grad tensor([-0.0064,  0.0000,  0.0006, -0.0054,  0.0015])\n",
      "mean grad:\n",
      " tensor(-0.0009) \n",
      " first 5 grad tensor([ 0.0092,  0.0000, -0.0016,  0.0086,  0.0067])\n",
      "mean grad:\n",
      " tensor(0.0004) \n",
      " first 5 grad tensor([0.0071, 0.0000, 0.0060, 0.0027, 0.0004])\n",
      "mean grad:\n",
      " tensor(0.0004) \n",
      " first 5 grad tensor([0.0160, 0.0000, 0.0032, 0.0069, 0.0033])\n",
      "mean grad:\n",
      " tensor(0.0013) \n",
      " first 5 grad tensor([ 0.0038,  0.0000,  0.0071, -0.0004,  0.0023])\n",
      "mean grad:\n",
      " tensor(-0.0010) \n",
      " first 5 grad tensor([ 0.0022,  0.0000, -0.0026, -0.0011, -0.0063])\n",
      "0.4899 mean grad:\n",
      " tensor(0.0006) \n",
      " first 5 grad tensor([0.0071, 0.0000, 0.0026, 0.0002, 0.0004])\n",
      "mean grad:\n",
      " tensor(-0.0005) \n",
      " first 5 grad tensor([ 0.0003,  0.0000, -0.0029, -0.0025, -0.0063])\n",
      "mean grad:\n",
      " tensor(-0.0009) \n",
      " first 5 grad tensor([ 0.0013,  0.0000, -0.0062, -0.0070, -0.0037])\n",
      "mean grad:\n",
      " tensor(0.0009) \n",
      " first 5 grad tensor([ 0.0049,  0.0000,  0.0030,  0.0040, -0.0002])\n",
      "mean grad:\n",
      " tensor(0.0005) \n",
      " first 5 grad tensor([-0.0013,  0.0000,  0.0008, -0.0006, -0.0015])\n",
      "mean grad:\n",
      " tensor(-0.0012) \n",
      " first 5 grad tensor([ 0.0072,  0.0000, -0.0060,  0.0048,  0.0063])\n",
      "mean grad:\n",
      " tensor(-0.0003) \n",
      " first 5 grad tensor([-0.0063,  0.0000,  0.0005, -0.0055,  0.0009])\n",
      "mean grad:\n",
      " tensor(-0.0008) \n",
      " first 5 grad tensor([ 0.0064,  0.0000, -0.0025,  0.0071,  0.0048])\n",
      "mean grad:\n",
      " tensor(0.0006) \n",
      " first 5 grad tensor([0.0071, 0.0000, 0.0067, 0.0012, 0.0010])\n",
      "mean grad:\n",
      " tensor(0.0003) \n",
      " first 5 grad tensor([1.3542e-02, 0.0000e+00, 6.2076e-05, 6.3995e-03, 3.3540e-03])\n",
      "mean grad:\n",
      " tensor(0.0013) \n",
      " first 5 grad tensor([ 0.0062,  0.0000,  0.0074, -0.0006,  0.0021])\n",
      "mean grad:\n",
      " tensor(-0.0010) \n",
      " first 5 grad tensor([ 0.0022,  0.0000, -0.0026, -0.0011, -0.0061])\n",
      "0.4899 mean grad:\n",
      " tensor(0.0006) \n",
      " first 5 grad tensor([0.0074, 0.0000, 0.0029, 0.0001, 0.0005])\n",
      "mean grad:\n",
      " tensor(-0.0006) \n",
      " first 5 grad tensor([-0.0009,  0.0000, -0.0032, -0.0026, -0.0066])\n",
      "mean grad:\n",
      " tensor(-0.0010) \n",
      " first 5 grad tensor([ 0.0013,  0.0000, -0.0064, -0.0068, -0.0037])\n",
      "mean grad:\n",
      " tensor(0.0010) \n",
      " first 5 grad tensor([ 0.0049,  0.0000,  0.0031,  0.0048, -0.0003])\n",
      "mean grad:\n",
      " tensor(0.0004) \n",
      " first 5 grad tensor([-0.0013,  0.0000,  0.0007, -0.0006, -0.0017])\n",
      "mean grad:\n",
      " tensor(-0.0010) \n",
      " first 5 grad tensor([ 0.0064,  0.0000, -0.0049,  0.0044,  0.0061])\n",
      "mean grad:\n",
      " tensor(-0.0003) \n",
      " first 5 grad tensor([-0.0059,  0.0000,  0.0004, -0.0053,  0.0008])\n",
      "mean grad:\n",
      " tensor(-0.0007) \n",
      " first 5 grad tensor([ 0.0036,  0.0000, -0.0031,  0.0053,  0.0033])\n",
      "mean grad:\n",
      " tensor(0.0006) \n",
      " first 5 grad tensor([0.0055, 0.0000, 0.0057, 0.0007, 0.0009])\n",
      "mean grad:\n",
      " tensor(0.0001) \n",
      " first 5 grad tensor([ 0.0113,  0.0000, -0.0018,  0.0065,  0.0037])\n",
      "mean grad:\n",
      " tensor(0.0014) \n",
      " first 5 grad tensor([ 0.0080,  0.0000,  0.0075, -0.0008,  0.0015])\n",
      "mean grad:\n",
      " tensor(-0.0009) \n",
      " first 5 grad tensor([ 0.0020,  0.0000, -0.0025, -0.0011, -0.0058])\n",
      "0.4953 mean grad:\n",
      " tensor(0.0006) \n",
      " first 5 grad tensor([0.0069, 0.0000, 0.0028, 0.0004, 0.0006])\n",
      "mean grad:\n",
      " tensor(-0.0006) \n",
      " first 5 grad tensor([-0.0015,  0.0000, -0.0031, -0.0026, -0.0064])\n",
      "mean grad:\n",
      " tensor(-0.0010) \n",
      " first 5 grad tensor([ 0.0012,  0.0000, -0.0064, -0.0065, -0.0034])\n",
      "mean grad:\n",
      " tensor(0.0009) \n",
      " first 5 grad tensor([ 0.0048,  0.0000,  0.0031,  0.0055, -0.0003])\n",
      "mean grad:\n",
      " tensor(0.0004) \n",
      " first 5 grad tensor([-0.0012,  0.0000,  0.0007, -0.0005, -0.0018])\n",
      "mean grad:\n",
      " tensor(-0.0009) \n",
      " first 5 grad tensor([ 0.0055,  0.0000, -0.0039,  0.0038,  0.0059])\n",
      "mean grad:\n",
      " tensor(-0.0002) \n",
      " first 5 grad tensor([-0.0055,  0.0000,  0.0003, -0.0050,  0.0008])\n",
      "mean grad:\n",
      " tensor(-0.0006) \n",
      " first 5 grad tensor([ 0.0019,  0.0000, -0.0034,  0.0041,  0.0024])\n",
      "mean grad:\n",
      " tensor(0.0006) \n",
      " first 5 grad tensor([0.0040, 0.0000, 0.0047, 0.0004, 0.0007])\n",
      "mean grad:\n",
      " tensor(9.9448e-05) \n",
      " first 5 grad tensor([ 0.0098,  0.0000, -0.0025,  0.0063,  0.0038])\n",
      "mean grad:\n",
      " tensor(0.0013) \n",
      " first 5 grad tensor([ 0.0091,  0.0000,  0.0074, -0.0011,  0.0008])\n",
      "mean grad:\n",
      " tensor(-0.0009) \n",
      " first 5 grad tensor([ 0.0018,  0.0000, -0.0024, -0.0012, -0.0053])\n",
      "0.4953 mean grad:\n",
      " tensor(0.0005) \n",
      " first 5 grad tensor([0.0063, 0.0000, 0.0025, 0.0007, 0.0007])\n",
      "mean grad:\n",
      " tensor(-0.0006) \n",
      " first 5 grad tensor([-0.0019,  0.0000, -0.0030, -0.0024, -0.0061])\n",
      "mean grad:\n",
      " tensor(-0.0009) \n",
      " first 5 grad tensor([ 0.0011,  0.0000, -0.0063, -0.0062, -0.0031])\n",
      "mean grad:\n",
      " tensor(0.0009) \n",
      " first 5 grad tensor([ 0.0046,  0.0000,  0.0031,  0.0060, -0.0001])\n",
      "mean grad:\n",
      " tensor(0.0004) \n",
      " first 5 grad tensor([-0.0012,  0.0000,  0.0006, -0.0005, -0.0018])\n",
      "mean grad:\n",
      " tensor(-0.0007) \n",
      " first 5 grad tensor([ 0.0046,  0.0000, -0.0029,  0.0032,  0.0057])\n",
      "mean grad:\n",
      " tensor(-0.0002) \n",
      " first 5 grad tensor([-0.0052,  0.0000,  0.0002, -0.0048,  0.0009])\n",
      "mean grad:\n",
      " tensor(-0.0005) \n",
      " first 5 grad tensor([ 0.0009,  0.0000, -0.0035,  0.0034,  0.0020])\n",
      "mean grad:\n",
      " tensor(0.0006) \n",
      " first 5 grad tensor([0.0029, 0.0000, 0.0041, 0.0003, 0.0006])\n",
      "mean grad:\n",
      " tensor(8.7991e-05) \n",
      " first 5 grad tensor([ 0.0087,  0.0000, -0.0028,  0.0059,  0.0037])\n",
      "mean grad:\n",
      " tensor(0.0013) \n",
      " first 5 grad tensor([ 9.7889e-03,  0.0000e+00,  7.1072e-03, -1.5113e-03, -4.3563e-05])\n",
      "mean grad:\n",
      " tensor(-0.0009) \n",
      " first 5 grad tensor([ 0.0017,  0.0000, -0.0022, -0.0012, -0.0048])\n",
      "0.5005 mean grad:\n",
      " tensor(0.0005) \n",
      " first 5 grad tensor([0.0057, 0.0000, 0.0023, 0.0011, 0.0007])\n",
      "mean grad:\n",
      " tensor(-0.0006) \n",
      " first 5 grad tensor([-0.0022,  0.0000, -0.0027, -0.0022, -0.0057])\n",
      "mean grad:\n",
      " tensor(-0.0008) \n",
      " first 5 grad tensor([ 0.0010,  0.0000, -0.0062, -0.0059, -0.0029])\n",
      "mean grad:\n",
      " tensor(0.0008) \n",
      " first 5 grad tensor([4.1762e-03, 0.0000e+00, 2.9375e-03, 6.4577e-03, 9.2912e-05])\n",
      "mean grad:\n",
      " tensor(0.0004) \n",
      " first 5 grad tensor([-0.0011,  0.0000,  0.0006, -0.0004, -0.0018])\n",
      "mean grad:\n",
      " tensor(-0.0005) \n",
      " first 5 grad tensor([ 0.0038,  0.0000, -0.0020,  0.0026,  0.0055])\n",
      "mean grad:\n",
      " tensor(-0.0002) \n",
      " first 5 grad tensor([-0.0049,  0.0000,  0.0002, -0.0047,  0.0010])\n",
      "mean grad:\n",
      " tensor(-0.0004) \n",
      " first 5 grad tensor([ 0.0002,  0.0000, -0.0034,  0.0029,  0.0017])\n",
      "mean grad:\n",
      " tensor(0.0006) \n",
      " first 5 grad tensor([0.0021, 0.0000, 0.0037, 0.0001, 0.0005])\n",
      "mean grad:\n",
      " tensor(9.1317e-05) \n",
      " first 5 grad tensor([ 0.0077,  0.0000, -0.0028,  0.0055,  0.0036])\n",
      "mean grad:\n",
      " tensor(0.0012) \n",
      " first 5 grad tensor([ 0.0100,  0.0000,  0.0067, -0.0019, -0.0008])\n",
      "mean grad:\n",
      " tensor(-0.0008) \n",
      " first 5 grad tensor([ 0.0015,  0.0000, -0.0021, -0.0013, -0.0043])\n",
      "0.5057 mean grad:\n",
      " tensor(0.0004) \n",
      " first 5 grad tensor([0.0052, 0.0000, 0.0022, 0.0013, 0.0008])\n",
      "mean grad:\n",
      " tensor(-0.0006) \n",
      " first 5 grad tensor([-0.0024,  0.0000, -0.0025, -0.0020, -0.0054])\n",
      "mean grad:\n",
      " tensor(-0.0008) \n",
      " first 5 grad tensor([ 0.0010,  0.0000, -0.0061, -0.0056, -0.0026])\n",
      "mean grad:\n",
      " tensor(0.0008) \n",
      " first 5 grad tensor([0.0038, 0.0000, 0.0028, 0.0068, 0.0004])\n",
      "mean grad:\n",
      " tensor(0.0003) \n",
      " first 5 grad tensor([-0.0010,  0.0000,  0.0005, -0.0004, -0.0018])\n",
      "mean grad:\n",
      " tensor(-0.0004) \n",
      " first 5 grad tensor([ 0.0031,  0.0000, -0.0012,  0.0020,  0.0054])\n",
      "mean grad:\n",
      " tensor(-0.0002) \n",
      " first 5 grad tensor([-0.0046,  0.0000,  0.0002, -0.0046,  0.0011])\n",
      "mean grad:\n",
      " tensor(-0.0004) \n",
      " first 5 grad tensor([-0.0003,  0.0000, -0.0034,  0.0026,  0.0016])\n",
      "mean grad:\n",
      " tensor(0.0006) \n",
      " first 5 grad tensor([1.4264e-03, 0.0000e+00, 3.4486e-03, 3.1149e-05, 3.8946e-04])\n",
      "mean grad:\n",
      " tensor(0.0001) \n",
      " first 5 grad tensor([ 0.0069,  0.0000, -0.0028,  0.0051,  0.0034])\n",
      "mean grad:\n",
      " tensor(0.0012) \n",
      " first 5 grad tensor([ 0.0098,  0.0000,  0.0063, -0.0021, -0.0013])\n",
      "mean grad:\n",
      " tensor(-0.0007) \n",
      " first 5 grad tensor([ 0.0013,  0.0000, -0.0020, -0.0014, -0.0038])\n",
      "0.5161 mean grad:\n",
      " tensor(0.0004) \n",
      " first 5 grad tensor([0.0049, 0.0000, 0.0021, 0.0016, 0.0008])\n",
      "mean grad:\n",
      " tensor(-0.0006) \n",
      " first 5 grad tensor([-0.0026,  0.0000, -0.0023, -0.0018, -0.0050])\n",
      "mean grad:\n",
      " tensor(-0.0007) \n",
      " first 5 grad tensor([ 0.0009,  0.0000, -0.0060, -0.0053, -0.0024])\n",
      "mean grad:\n",
      " tensor(0.0007) \n",
      " first 5 grad tensor([0.0033, 0.0000, 0.0026, 0.0072, 0.0006])\n",
      "mean grad:\n",
      " tensor(0.0003) \n",
      " first 5 grad tensor([-0.0009,  0.0000,  0.0005, -0.0003, -0.0017])\n",
      "mean grad:\n",
      " tensor(-0.0003) \n",
      " first 5 grad tensor([ 0.0025,  0.0000, -0.0005,  0.0016,  0.0053])\n",
      "mean grad:\n",
      " tensor(-0.0003) \n",
      " first 5 grad tensor([-0.0044,  0.0000,  0.0002, -0.0045,  0.0012])\n",
      "mean grad:\n",
      " tensor(-0.0003) \n",
      " first 5 grad tensor([-0.0006,  0.0000, -0.0033,  0.0023,  0.0015])\n",
      "mean grad:\n",
      " tensor(0.0006) \n",
      " first 5 grad tensor([ 9.4691e-04,  0.0000e+00,  3.2714e-03, -6.3030e-05,  3.1624e-04])\n",
      "mean grad:\n",
      " tensor(0.0001) \n",
      " first 5 grad tensor([ 0.0063,  0.0000, -0.0028,  0.0048,  0.0033])\n",
      "mean grad:\n",
      " tensor(0.0011) \n",
      " first 5 grad tensor([ 0.0089,  0.0000,  0.0058, -0.0020, -0.0015])\n",
      "mean grad:\n",
      " tensor(-0.0007) \n",
      " first 5 grad tensor([ 0.0011,  0.0000, -0.0019, -0.0015, -0.0033])\n",
      "0.5213 percent change in weights:\n",
      " tensor([-0.0935,  0.0000,  0.0077, -0.0104, -0.0110]) \n",
      " first init weights:\n",
      " tensor([-0.3243,  0.9756,  0.8768, -0.6417,  0.9659]) \n",
      " first end weights:\n",
      " tensor([-0.4177,  0.9756,  0.8846, -0.6521,  0.9550])\n"
     ]
    }
   ],
   "source": [
    "for i in range(20):\n",
    "    #save initail weights and bias\n",
    "    if i == 0:\n",
    "        init_weights = weights_1.clone().detach()\n",
    "        init_bias = bias_1.clone().detach()\n",
    "    train_epoch(linear1, lr, params)\n",
    "    print(validate_epoch(linear1), end=' ')\n",
    "    #save ends weights and bias\n",
    "    if i == 19:\n",
    "        end_weights = weights_1.clone().detach()\n",
    "        end_bias = bias_1.clone().detach()\n",
    "        #calc percent change in weights and bias\n",
    "        print('percent change in weights:\\n', ((end_weights[:5] - init_weights[:5])),\n",
    "              '\\n first init weights:\\n', init_weights[:5],\n",
    "                '\\n first end weights:\\n', end_weights[:5])\n",
    "    "
   ]
  },
  {
   "cell_type": "code",
   "execution_count": 124,
   "metadata": {
    "ExecuteTime": {
     "end_time": "2023-11-29T08:20:23.873071257Z",
     "start_time": "2023-11-29T08:20:23.855436864Z"
    },
    "collapsed": false
   },
   "outputs": [],
   "source": [
    "#manual training\n",
    "lr = 0.5\n",
    "params = weights_1, bias_1\n"
   ]
  },
  {
   "cell_type": "code",
   "execution_count": 121,
   "metadata": {
    "ExecuteTime": {
     "end_time": "2023-11-29T08:19:11.307848016Z",
     "start_time": "2023-11-29T08:19:11.207585312Z"
    },
    "collapsed": false
   },
   "outputs": [
    {
     "name": "stdout",
     "output_type": "stream",
     "text": [
      "mean grad:\n",
      " tensor(-3.1388e-05) \n",
      " first 5 grad tensor([ 0.0102,  0.0000,  0.0042, -0.0033,  0.0039])\n",
      "mean grad:\n",
      " tensor(-0.0009) \n",
      " first 5 grad tensor([-0.0047,  0.0000, -0.0034, -0.0021,  0.0017])\n",
      "mean grad:\n",
      " tensor(-0.0006) \n",
      " first 5 grad tensor([ 0.0017,  0.0000,  0.0041, -0.0127, -0.0035])\n",
      "mean grad:\n",
      " tensor(-0.0002) \n",
      " first 5 grad tensor([ 0.0049,  0.0000,  0.0049, -0.0081, -0.0131])\n",
      "mean grad:\n",
      " tensor(0.0003) \n",
      " first 5 grad tensor([-0.0019,  0.0000,  0.0001, -0.0065, -0.0056])\n",
      "mean grad:\n",
      " tensor(-0.0009) \n",
      " first 5 grad tensor([ 0.0009,  0.0000, -0.0061,  0.0024,  0.0066])\n",
      "mean grad:\n",
      " tensor(0.0003) \n",
      " first 5 grad tensor([ 0.0002,  0.0000,  0.0005, -0.0004,  0.0006])\n",
      "mean grad:\n",
      " tensor(-0.0012) \n",
      " first 5 grad tensor([-0.0030,  0.0000, -0.0097, -0.0068,  0.0012])\n",
      "mean grad:\n",
      " tensor(-0.0012) \n",
      " first 5 grad tensor([-0.0012,  0.0000, -0.0054,  0.0025,  0.0050])\n",
      "mean grad:\n",
      " tensor(0.0002) \n",
      " first 5 grad tensor([ 0.0168,  0.0000, -0.0071,  0.0074,  0.0073])\n",
      "mean grad:\n",
      " tensor(-0.0006) \n",
      " first 5 grad tensor([ 0.0159,  0.0000, -0.0043,  0.0054,  0.0005])\n",
      "mean grad:\n",
      " tensor(0.0008) \n",
      " first 5 grad tensor([ 0.0033,  0.0000,  0.0055,  0.0029, -0.0031])\n"
     ]
    },
    {
     "data": {
      "text/plain": [
       "0.4153"
      ]
     },
     "execution_count": 121,
     "metadata": {},
     "output_type": "execute_result"
    }
   ],
   "source": [
    "train_epoch(linear1, lr, params)\n",
    "validate_epoch(linear1)"
   ]
  },
  {
   "cell_type": "code",
   "execution_count": 23,
   "metadata": {
    "ExecuteTime": {
     "end_time": "2023-11-29T08:21:38.184800245Z",
     "start_time": "2023-11-29T08:21:38.127987588Z"
    },
    "collapsed": false
   },
   "outputs": [],
   "source": [
    "# Create a simple neural network\n",
    "\n",
    "# input size is 512\n",
    "nn_model = nn.Sequential(\n",
    "    nn.Linear(855, 20),\n",
    "    nn.ReLU(),\n",
    "    nn.Linear(20, 1),\n",
    "    nn.ReLU()\n",
    ")"
   ]
  },
  {
   "cell_type": "code",
   "execution_count": 21,
   "metadata": {
    "ExecuteTime": {
     "end_time": "2023-11-28T13:46:15.618648730Z",
     "start_time": "2023-11-28T13:46:15.423282180Z"
    },
    "collapsed": false
   },
   "outputs": [
    {
     "data": {
      "text/plain": [
       "(torch.Size([256, 512]), torch.Size([256]))"
      ]
     },
     "execution_count": 21,
     "metadata": {},
     "output_type": "execute_result"
    }
   ],
   "source": [
    "w,b = nn_model[0].parameters()\n",
    "w.shape,b.shape\n"
   ]
  },
  {
   "cell_type": "code",
   "execution_count": 18,
   "metadata": {
    "ExecuteTime": {
     "end_time": "2023-11-29T08:21:42.953943622Z",
     "start_time": "2023-11-29T08:21:42.913116929Z"
    },
    "collapsed": false
   },
   "outputs": [],
   "source": [
    "#having creted dataloadrs from data sets for train and cal, create a dls \n",
    "dls = DataLoaders(dl_train, dl_val)"
   ]
  },
  {
   "cell_type": "code",
   "execution_count": 24,
   "metadata": {
    "ExecuteTime": {
     "end_time": "2023-11-29T08:21:45.542063044Z",
     "start_time": "2023-11-29T08:21:45.522877628Z"
    },
    "collapsed": false
   },
   "outputs": [],
   "source": [
    "\n",
    "# Create your learner\n",
    "learn = Learner(dls, nn_model, opt_func = SGD, loss_func=stamp_loss, metrics=error_rate)\n"
   ]
  },
  {
   "cell_type": "code",
   "execution_count": 27,
   "metadata": {
    "ExecuteTime": {
     "end_time": "2023-11-29T08:21:57.452468249Z",
     "start_time": "2023-11-29T08:21:55.692920475Z"
    },
    "collapsed": false
   },
   "outputs": [
    {
     "data": {
      "text/html": [
       "\n",
       "<style>\n",
       "    /* Turns off some styling */\n",
       "    progress {\n",
       "        /* gets rid of default border in Firefox and Opera. */\n",
       "        border: none;\n",
       "        /* Needs to be in here for Safari polyfill so background images work as expected. */\n",
       "        background-size: auto;\n",
       "    }\n",
       "    progress:not([value]), progress:not([value])::-webkit-progress-bar {\n",
       "        background: repeating-linear-gradient(45deg, #7e7e7e, #7e7e7e 10px, #5c5c5c 10px, #5c5c5c 20px);\n",
       "    }\n",
       "    .progress-bar-interrupted, .progress-bar-interrupted::-webkit-progress-bar {\n",
       "        background: #F44336;\n",
       "    }\n",
       "</style>\n"
      ],
      "text/plain": [
       "<IPython.core.display.HTML object>"
      ]
     },
     "metadata": {},
     "output_type": "display_data"
    },
    {
     "data": {
      "text/html": [],
      "text/plain": [
       "<IPython.core.display.HTML object>"
      ]
     },
     "metadata": {},
     "output_type": "display_data"
    },
    {
     "data": {
      "text/plain": [
       "SuggestedLRs(valley=1.5848931980144698e-06)"
      ]
     },
     "execution_count": 27,
     "metadata": {},
     "output_type": "execute_result"
    },
    {
     "data": {
      "image/png": "[encoded data removed]",
      "text/plain": [
       "<Figure size 640x480 with 1 Axes>"
      ]
     },
     "metadata": {},
     "output_type": "display_data"
    }
   ],
   "source": [
    "#find lr\n",
    "learn.lr_find()\n"
   ]
  },
  {
   "cell_type": "code",
   "execution_count": 28,
   "metadata": {
    "ExecuteTime": {
     "end_time": "2023-11-28T13:46:17.119022493Z",
     "start_time": "2023-11-28T13:46:17.117936678Z"
    },
    "collapsed": false
   },
   "outputs": [
    {
     "data": {
      "text/plain": [
       "SuggestedLRs(valley=1.5848931980144698e-06)"
      ]
     },
     "execution_count": 28,
     "metadata": {},
     "output_type": "execute_result"
    }
   ],
   "source": [
    "man_lr."
   ]
  },
  {
   "cell_type": "code",
   "execution_count": 25,
   "metadata": {
    "ExecuteTime": {
     "end_time": "2023-11-29T08:22:09.845161014Z",
     "start_time": "2023-11-29T08:22:08.501866552Z"
    },
    "collapsed": false
   },
   "outputs": [
    {
     "data": {
      "text/html": [
       "\n",
       "<style>\n",
       "    /* Turns off some styling */\n",
       "    progress {\n",
       "        /* gets rid of default border in Firefox and Opera. */\n",
       "        border: none;\n",
       "        /* Needs to be in here for Safari polyfill so background images work as expected. */\n",
       "        background-size: auto;\n",
       "    }\n",
       "    progress:not([value]), progress:not([value])::-webkit-progress-bar {\n",
       "        background: repeating-linear-gradient(45deg, #7e7e7e, #7e7e7e 10px, #5c5c5c 10px, #5c5c5c 20px);\n",
       "    }\n",
       "    .progress-bar-interrupted, .progress-bar-interrupted::-webkit-progress-bar {\n",
       "        background: #F44336;\n",
       "    }\n",
       "</style>\n"
      ],
      "text/plain": [
       "<IPython.core.display.HTML object>"
      ]
     },
     "metadata": {},
     "output_type": "display_data"
    },
    {
     "data": {
      "text/html": [
       "<table border=\"1\" class=\"dataframe\">\n",
       "  <thead>\n",
       "    <tr style=\"text-align: left;\">\n",
       "      <th>epoch</th>\n",
       "      <th>train_loss</th>\n",
       "      <th>valid_loss</th>\n",
       "      <th>error_rate</th>\n",
       "      <th>time</th>\n",
       "    </tr>\n",
       "  </thead>\n",
       "  <tbody>\n",
       "    <tr>\n",
       "      <td>0</td>\n",
       "      <td>0.528741</td>\n",
       "      <td>0.500000</td>\n",
       "      <td>0.105263</td>\n",
       "      <td>00:00</td>\n",
       "    </tr>\n",
       "    <tr>\n",
       "      <td>1</td>\n",
       "      <td>0.512637</td>\n",
       "      <td>0.500000</td>\n",
       "      <td>0.105263</td>\n",
       "      <td>00:00</td>\n",
       "    </tr>\n",
       "    <tr>\n",
       "      <td>2</td>\n",
       "      <td>0.507372</td>\n",
       "      <td>0.500000</td>\n",
       "      <td>0.105263</td>\n",
       "      <td>00:00</td>\n",
       "    </tr>\n",
       "    <tr>\n",
       "      <td>3</td>\n",
       "      <td>0.504816</td>\n",
       "      <td>0.500000</td>\n",
       "      <td>0.105263</td>\n",
       "      <td>00:00</td>\n",
       "    </tr>\n",
       "    <tr>\n",
       "      <td>4</td>\n",
       "      <td>0.503340</td>\n",
       "      <td>0.500000</td>\n",
       "      <td>0.105263</td>\n",
       "      <td>00:00</td>\n",
       "    </tr>\n",
       "    <tr>\n",
       "      <td>5</td>\n",
       "      <td>0.502402</td>\n",
       "      <td>0.500000</td>\n",
       "      <td>0.105263</td>\n",
       "      <td>00:00</td>\n",
       "    </tr>\n",
       "    <tr>\n",
       "      <td>6</td>\n",
       "      <td>0.501769</td>\n",
       "      <td>0.500000</td>\n",
       "      <td>0.105263</td>\n",
       "      <td>00:00</td>\n",
       "    </tr>\n",
       "    <tr>\n",
       "      <td>7</td>\n",
       "      <td>0.501324</td>\n",
       "      <td>0.500000</td>\n",
       "      <td>0.105263</td>\n",
       "      <td>00:00</td>\n",
       "    </tr>\n",
       "    <tr>\n",
       "      <td>8</td>\n",
       "      <td>0.501003</td>\n",
       "      <td>0.500000</td>\n",
       "      <td>0.105263</td>\n",
       "      <td>00:00</td>\n",
       "    </tr>\n",
       "    <tr>\n",
       "      <td>9</td>\n",
       "      <td>0.500766</td>\n",
       "      <td>0.500000</td>\n",
       "      <td>0.105263</td>\n",
       "      <td>00:00</td>\n",
       "    </tr>\n",
       "  </tbody>\n",
       "</table>"
      ],
      "text/plain": [
       "<IPython.core.display.HTML object>"
      ]
     },
     "metadata": {},
     "output_type": "display_data"
    }
   ],
   "source": [
    "learn.fit(10, 0.5)"
   ]
  },
  {
   "cell_type": "code",
   "execution_count": 131,
   "metadata": {
    "ExecuteTime": {
     "end_time": "2023-11-29T08:22:23.558207687Z",
     "start_time": "2023-11-29T08:22:23.547218910Z"
    },
    "collapsed": false
   },
   "outputs": [],
   "source": [
    "# Assuming 'learn' is your Learner object and you have 'accuracy' as one of the metrics\n",
    "last_epoch_metrics = learn.recorder.metrics[-1]\n",
    "\n"
   ]
  },
  {
   "cell_type": "code",
   "execution_count": 25,
   "metadata": {
    "ExecuteTime": {
     "end_time": "2023-11-24T11:15:58.852931Z",
     "start_time": "2023-11-24T11:15:58.542507800Z"
    },
    "collapsed": false
   },
   "outputs": [],
   "source": [
    "\n",
    "# Preprocess the data (Assuming 'label' is your target variable)\n",
    "X = data .drop(['oncosig_label_ERBB2', 'Sample_ID'], axis=1)\n",
    "y = data ['oncosig_label_ERBB2']\n",
    "\n",
    "# Split the data\n",
    "X_train, X_test, y_train, y_test = train_test_split(X, y, test_size=0.2, random_state=42)\n"
   ]
  },
  {
   "cell_type": "code",
   "execution_count": 26,
   "metadata": {
    "ExecuteTime": {
     "end_time": "2023-11-24T11:17:33.671676200Z",
     "start_time": "2023-11-24T11:17:05.530515800Z"
    },
    "collapsed": false
   },
   "outputs": [
    {
     "name": "stdout",
     "output_type": "stream",
     "text": [
      "              precision    recall  f1-score   support\n",
      "\n",
      "           0       0.93      0.99      0.96       166\n",
      "           1       0.92      0.50      0.65        24\n",
      "\n",
      "    accuracy                           0.93       190\n",
      "   macro avg       0.93      0.75      0.81       190\n",
      "weighted avg       0.93      0.93      0.92       190\n"
     ]
    },
    {
     "data": {
      "image/png": "[encoded data removed]",
      "text/plain": [
       "<Figure size 640x480 with 2 Axes>"
      ]
     },
     "metadata": {},
     "output_type": "display_data"
    }
   ],
   "source": [
    "\n",
    "# Train Random Forest\n",
    "rf = RandomForestClassifier()\n",
    "rf.fit(X_train, y_train)\n",
    "\n",
    "# Predictions and Evaluation for Random Forest\n",
    "rf_predictions = rf.predict(X_test)\n",
    "print(classification_report(y_test, rf_predictions))\n",
    "sns.heatmap(confusion_matrix(y_test, rf_predictions), annot=True)\n",
    "plt.show()\n"
   ]
  },
  {
   "cell_type": "code",
   "execution_count": 27,
   "metadata": {
    "ExecuteTime": {
     "end_time": "2023-11-24T11:18:07.261974200Z",
     "start_time": "2023-11-24T11:18:06.469657300Z"
    },
    "collapsed": false
   },
   "outputs": [
    {
     "name": "stderr",
     "output_type": "stream",
     "text": [
      "C:\\Users\\Jesse\\Google Drive\\Learning\\shair lab\\STAMP\\laptop_venvs\\gene_map_venv\\lib\\site-packages\\sklearn\\metrics\\_classification.py:1471: UndefinedMetricWarning: Precision and F-score are ill-defined and being set to 0.0 in labels with no predicted samples. Use `zero_division` parameter to control this behavior.\n",
      "  _warn_prf(average, modifier, msg_start, len(result))\n",
      "C:\\Users\\Jesse\\Google Drive\\Learning\\shair lab\\STAMP\\laptop_venvs\\gene_map_venv\\lib\\site-packages\\sklearn\\metrics\\_classification.py:1471: UndefinedMetricWarning: Precision and F-score are ill-defined and being set to 0.0 in labels with no predicted samples. Use `zero_division` parameter to control this behavior.\n",
      "  _warn_prf(average, modifier, msg_start, len(result))\n",
      "C:\\Users\\Jesse\\Google Drive\\Learning\\shair lab\\STAMP\\laptop_venvs\\gene_map_venv\\lib\\site-packages\\sklearn\\metrics\\_classification.py:1471: UndefinedMetricWarning: Precision and F-score are ill-defined and being set to 0.0 in labels with no predicted samples. Use `zero_division` parameter to control this behavior.\n",
      "  _warn_prf(average, modifier, msg_start, len(result))\n"
     ]
    },
    {
     "name": "stdout",
     "output_type": "stream",
     "text": [
      "              precision    recall  f1-score   support\n",
      "\n",
      "           0       0.87      1.00      0.93       166\n",
      "           1       0.00      0.00      0.00        24\n",
      "\n",
      "    accuracy                           0.87       190\n",
      "   macro avg       0.44      0.50      0.47       190\n",
      "weighted avg       0.76      0.87      0.81       190\n"
     ]
    },
    {
     "data": {
      "image/png": "[encoded data removed]",
      "text/plain": [
       "<Figure size 640x480 with 2 Axes>"
      ]
     },
     "metadata": {},
     "output_type": "display_data"
    }
   ],
   "source": [
    "\n",
    "# Train Elastic Net\n",
    "en = ElasticNet()\n",
    "en.fit(X_train, y_train)\n",
    "\n",
    "# Predictions and Evaluation for Elastic Net\n",
    "# Note: Elastic Net is a regression model; you might need to convert its predictions to a binary format for classification\n",
    "en_predictions = en.predict(X_test)\n",
    "en_predictions = [1 if p > 0.5 else 0 for p in en_predictions]  # Example threshold\n",
    "print(classification_report(y_test, en_predictions))\n",
    "sns.heatmap(confusion_matrix(y_test, en_predictions), annot=True)\n",
    "plt.show()\n"
   ]
  }
 ],
 "metadata": {
  "kernelspec": {
   "display_name": "Python 3 (ipykernel)",
   "language": "python",
   "name": "python3"
  },
  "language_info": {
   "codemirror_mode": {
    "name": "ipython",
    "version": 3
   },
   "file_extension": ".py",
   "mimetype": "text/x-python",
   "name": "python",
   "nbconvert_exporter": "python",
   "pygments_lexer": "ipython3",
   "version": "3.10.13"
  }
 },
 "nbformat": 4,
 "nbformat_minor": 4
}
